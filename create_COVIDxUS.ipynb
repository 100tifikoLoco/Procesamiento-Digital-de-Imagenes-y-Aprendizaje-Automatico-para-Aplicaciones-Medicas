{
 "cells": [
  {
   "cell_type": "markdown",
   "metadata": {},
   "source": [
    "## Copyright\n",
    "Copyright (c) 2021, Her Majesty in Right of Canada as represented by the National Research Council Canada. Rights provided under GNU GENERAL PUBLIC LICENSE, Version 3. Full text of the license accessible at the [LICENSE](LICENSE) file.\n",
    "\n",
    "---"
   ]
  },
  {
   "cell_type": "markdown",
   "metadata": {},
   "source": [
    "Los datos se recopilan automaticamente de las siguientes fuentes, se procesan, seleeccionan y almacenan directamente en el dispositivo.\n",
    "\n",
    "* ButterflyNetwork\n",
    "* GrepMed\n",
    "* LITFL\n",
    "* The PocusAtlas\n",
    "* Radiopaedia\n",
    "* CoreUltrasound\n",
    "* University of Florida (UF)\n",
    "* Scientific Publications\n",
    "* Clarius\n",
    "\n",
    "También se extraen imagenes a partir de los videos recopilados, de igual manera se procesan, seleccionan y almacenan en el dispositivo.\n",
    "\n",
    "__Nota:__ No se almacenan datos en el repositorio NRC-COVIDx-US y solo contiene scripts para recopilar, seleccionar e integrar datos sistematicamente en el dispositivo."
   ]
  },
  {
   "cell_type": "markdown",
   "metadata": {},
   "source": [
    "---"
   ]
  },
  {
   "cell_type": "markdown",
   "metadata": {},
   "source": [
    "#### Librerias"
   ]
  },
  {
   "cell_type": "code",
   "execution_count": 1,
   "metadata": {},
   "outputs": [],
   "source": [
    "import pandas as pd #Manipulación y analisis de datos\n",
    "import numpy as np #Calculos numericos y manejo de arreglos\n",
    "import os #Creación y eliminación de directorios\n",
    "import re #Limpiar nombres de archivos y extrae información de cadenas\n",
    "import shutil #Copiar y mover archivos - organizar imagenes\n",
    "import random #Dividir datos en conjuntos de entrenamiento y prueba - aleatoriamente\n",
    "\n",
    "import cv2 #Para procesamiento de imagenes - Cargar, transformar y realizar operaciones de preprocesamiento\n",
    "from PIL import Image #Complementa a OpenCV - operaciones basicas de manipulación de imágenes \n",
    "\n",
    "import zipfile #Permite trabajar con arhivos Zip - descomprimirlos\n",
    "from selenium import webdriver #Automatizar navegadores web - descargar imágenes\n",
    "from selenium.webdriver.chrome.options import Options \n",
    "from selenium.webdriver.common.by import By\n",
    "from selenium.webdriver.support.ui import WebDriverWait\n",
    "from selenium.webdriver.support import expected_conditions as EC\n",
    "from selenium.webdriver.common.action_chains import ActionChains\n",
    "import requests #Hacer solicitudes HTTP - para descarga de imágenes\n",
    "from vimeo_downloader import Vimeo # Descargar videos de Vimeo - análisis de imágenes en movimiento \n",
    "import urllib.request # Opción para solicitudes HTTP - complementa a requests\n",
    "from selenium.webdriver.chrome.service import Service\n",
    "from webdriver_manager.chrome import ChromeDriverManager \n",
    "\n",
    "from progressbar import ProgressBar # Mostrar barras de progreso en la consola - para descargas o procesamientos\n",
    "\n",
    "import time # Medir rendimiento del codigo o implementar pausas\n",
    "#from image_data import extract_images # Modulo personalizado - contiene la función de extracción de imágenes\n",
    "\n",
    "import matplotlib.pyplot as plt # Visualización de datos - mostrar imágenes y gráficos de rendimiento\n",
    "\n",
    "import subprocess # Ejecutar comandos del sistema \n",
    "import glob # Facilita busqueda de archivos mediante patrones - util para cargar imágenes de un directorio \n",
    "\n"
   ]
  },
  {
   "cell_type": "code",
   "execution_count": 2,
   "metadata": {},
   "outputs": [
    {
     "name": "stdout",
     "output_type": "stream",
     "text": [
      "Pandas 2.2.3\n",
      "selenium 4.25.0\n",
      "requests 2.32.3\n"
     ]
    }
   ],
   "source": [
    "# Se imprimen las versiones de las librerias - Pandas, Selenium y Requests\n",
    "print(\"Pandas\", pd.__version__)\n",
    "import selenium\n",
    "print(\"selenium\", selenium.__version__)\n",
    "print(\"requests\", requests.__version__)"
   ]
  },
  {
   "cell_type": "markdown",
   "metadata": {},
   "source": [
    "#### Funciones"
   ]
  },
  {
   "cell_type": "code",
   "execution_count": 3,
   "metadata": {},
   "outputs": [],
   "source": [
    "def get_download_path():\n",
    "    \"\"\"Devuelve la ruta de descarga predeterminada de Windows o Linux\"\"\"\n",
    "    if os.name == 'nt': #Sistema Operativo Windows\n",
    "        import winreg\n",
    "        sub_key = r'SOFTWARE\\Microsoft\\Windows\\CurrentVersion\\Explorer\\Shell Folders'\n",
    "        downloads_guid = '{374DE290-123F-4565-9164-39C4925E467B}'\n",
    "        ####  Control de errores\n",
    "        try:\n",
    "            with winreg.OpenKey(winreg.HKEY_CURRENT_USER, sub_key) as key:\n",
    "                location = winreg.QueryValueEx(key, downloads_guid)[0]\n",
    "            return location\n",
    "        except FileNotFoundError:\n",
    "            print(\"No se encontró la clave de registro para la carpeta de descargas\")\n",
    "            return None\n",
    "    else: #Sistema Operativo Linux\n",
    "        return os.path.join(os.path.expanduser('~'), 'downloads')   \n",
    "\n",
    "def remove_html_tags(text):\n",
    "    \"\"\"Función para eliminar etiquetas html en cadena\"\"\"\n",
    "    import re\n",
    "    clean = re.compile('<.*?>')\n",
    "    return re.sub(clean, '', text)\n"
   ]
  },
  {
   "cell_type": "code",
   "execution_count": 4,
   "metadata": {},
   "outputs": [],
   "source": [
    "# Código para descargar archivos zip de google drive, en caso de ser necesario\n",
    "def download_file_from_google_drive(id, destination):\n",
    "    URL = \"https://docs.google.com/uc?export=download\"\n",
    "\n",
    "    session = requests.Session()\n",
    "\n",
    "    #Manejo de errores\n",
    "    try:\n",
    "        response = session.get(URL, params = { 'id' : id }, stream = True)\n",
    "        print(f\"Accediendo a: {response.url}\")\n",
    "        response.raise_for_status()\n",
    "    except requests.exceptions.RequestException as e:\n",
    "        print(f\"Error intentando conectarse con Google Drive: {e}\")\n",
    "        return False\n",
    "    \n",
    "    token = get_confirm_token(response)\n",
    "\n",
    "    if token:\n",
    "        response = session.get(URL, params = { 'id' : id, 'confirm' : token }, stream = True)\n",
    "\n",
    "    #Verificación de la respuesta ...\n",
    "    if response.status_code == 200:\n",
    "        save_response_content(response, destination)\n",
    "        print(\"Descarga completa\")\n",
    "        return True\n",
    "    else:\n",
    "        print(f\"Error en la descarga: {response.status_code}\")\n",
    "        return False\n",
    "\n",
    "        \n",
    "\n",
    "    save_response_content(response, destination)    \n",
    "\n",
    "#Busca advertencias de Google Drive, indica si sera necesaria una confirmación extra para la descarga de un archivo \n",
    "def get_confirm_token(response):\n",
    "    for key, value in response.cookies.items():\n",
    "        if key.startswith('download_warning'):\n",
    "            return value\n",
    "\n",
    "    return None\n",
    "\n",
    "#Guarda el contenido de la respuesta en el archivo destino, descargando en chunks\n",
    "def save_response_content(response, destination):\n",
    "    CHUNK_SIZE = 32768\n",
    "    progress = ProgressBar() \n",
    "    \n",
    "    with open(destination, \"wb\") as f:\n",
    "        for chunk in progress(response.iter_content(CHUNK_SIZE)):\n",
    "            if chunk: # Filtrar nuevos chunks de salida que se mantengan-activos\n",
    "                f.write(chunk)"
   ]
  },
  {
   "cell_type": "markdown",
   "metadata": {},
   "source": [
    "#### Parámetros"
   ]
  },
  {
   "cell_type": "code",
   "execution_count": 5,
   "metadata": {},
   "outputs": [],
   "source": [
    "# Establecer un directorio de ruta de guardado\n",
    "SAVE_PATH = 'data' #Indica el directorio de guardado\n",
    "\n",
    "# Crear carpetas de datos, videos e imagenes, en el caso de que no existan\n",
    "directories = ['data', 'data/video', 'data/image']\n",
    "for directory in directories:\n",
    "    if not os.path.exists(directory):\n",
    "        os.makedirs(directory)\n",
    "    \n",
    "# Configuración del ChromeDriver\n",
    "if os.name == 'nt': # Windows\n",
    "    chromedriver = \"utils/chromedriver.exe\" \n",
    "else: #Linux\n",
    "    chromedriver = \"utils/chromedriver\"\n",
    "os.environ[\"webdriver.chrome.driver\"] = chromedriver #Define el path a chromedriver.exe\n",
    "chrome_options = Options()\n",
    "chrome_options.add_argument(\"--headless\") #Asegura la ejecución de Chrome en modo Headless (Sin abrir una ventana grafica)\n",
    "\n",
    "# Configuración de variables globales - Son variables que apuntan a las carpetas de videos e imagenes respectivamente\n",
    "VIDEO_PATH = 'data/video/'\n",
    "IMAGE_PATH = 'data/image/'"
   ]
  },
  {
   "cell_type": "markdown",
   "metadata": {},
   "source": [
    "#### Leer los Archivos de Metadatos"
   ]
  },
  {
   "cell_type": "code",
   "execution_count": 6,
   "metadata": {},
   "outputs": [
    {
     "name": "stdout",
     "output_type": "stream",
     "text": [
      "(244, 21)\n"
     ]
    },
    {
     "data": {
      "text/html": [
       "<div>\n",
       "<style scoped>\n",
       "    .dataframe tbody tr th:only-of-type {\n",
       "        vertical-align: middle;\n",
       "    }\n",
       "\n",
       "    .dataframe tbody tr th {\n",
       "        vertical-align: top;\n",
       "    }\n",
       "\n",
       "    .dataframe thead th {\n",
       "        text-align: right;\n",
       "    }\n",
       "</style>\n",
       "<table border=\"1\" class=\"dataframe\">\n",
       "  <thead>\n",
       "    <tr style=\"text-align: right;\">\n",
       "      <th></th>\n",
       "      <th>id</th>\n",
       "      <th>filename</th>\n",
       "      <th>filetype</th>\n",
       "      <th>folder</th>\n",
       "      <th>source</th>\n",
       "      <th>url</th>\n",
       "      <th>probe</th>\n",
       "      <th>class</th>\n",
       "      <th>class_on_website</th>\n",
       "      <th>version</th>\n",
       "      <th>...</th>\n",
       "      <th>type</th>\n",
       "      <th>patient</th>\n",
       "      <th>case_no</th>\n",
       "      <th>gender</th>\n",
       "      <th>age</th>\n",
       "      <th>comment</th>\n",
       "      <th>paper_link</th>\n",
       "      <th>paper_doi</th>\n",
       "      <th>license</th>\n",
       "      <th>link</th>\n",
       "    </tr>\n",
       "  </thead>\n",
       "  <tbody>\n",
       "    <tr>\n",
       "      <th>0</th>\n",
       "      <td>1_butterfly_covid</td>\n",
       "      <td>Coalescing B lines.mp4</td>\n",
       "      <td>mp4</td>\n",
       "      <td>data\\tmp\\Butterfly\\B lines</td>\n",
       "      <td>Butterfly</td>\n",
       "      <td>https://butterflynetwork.getbynder.com/transfe...</td>\n",
       "      <td>Convex</td>\n",
       "      <td>COVID</td>\n",
       "      <td>NaN</td>\n",
       "      <td>1.0</td>\n",
       "      <td>...</td>\n",
       "      <td>lung</td>\n",
       "      <td>NaN</td>\n",
       "      <td>NaN</td>\n",
       "      <td>NaN</td>\n",
       "      <td>NaN</td>\n",
       "      <td>NaN</td>\n",
       "      <td>NaN</td>\n",
       "      <td>NaN</td>\n",
       "      <td>NaN</td>\n",
       "      <td>NaN</td>\n",
       "    </tr>\n",
       "    <tr>\n",
       "      <th>1</th>\n",
       "      <td>2_butterfly_covid</td>\n",
       "      <td>Confluent B lines.mp4</td>\n",
       "      <td>mp4</td>\n",
       "      <td>data\\tmp\\Butterfly\\B lines</td>\n",
       "      <td>Butterfly</td>\n",
       "      <td>https://butterflynetwork.getbynder.com/transfe...</td>\n",
       "      <td>Convex</td>\n",
       "      <td>COVID</td>\n",
       "      <td>NaN</td>\n",
       "      <td>1.0</td>\n",
       "      <td>...</td>\n",
       "      <td>lung</td>\n",
       "      <td>NaN</td>\n",
       "      <td>NaN</td>\n",
       "      <td>NaN</td>\n",
       "      <td>NaN</td>\n",
       "      <td>NaN</td>\n",
       "      <td>NaN</td>\n",
       "      <td>NaN</td>\n",
       "      <td>NaN</td>\n",
       "      <td>NaN</td>\n",
       "    </tr>\n",
       "  </tbody>\n",
       "</table>\n",
       "<p>2 rows × 21 columns</p>\n",
       "</div>"
      ],
      "text/plain": [
       "                  id                filename filetype  \\\n",
       "0  1_butterfly_covid  Coalescing B lines.mp4      mp4   \n",
       "1  2_butterfly_covid   Confluent B lines.mp4      mp4   \n",
       "\n",
       "                       folder     source  \\\n",
       "0  data\\tmp\\Butterfly\\B lines  Butterfly   \n",
       "1  data\\tmp\\Butterfly\\B lines  Butterfly   \n",
       "\n",
       "                                                 url   probe  class  \\\n",
       "0  https://butterflynetwork.getbynder.com/transfe...  Convex  COVID   \n",
       "1  https://butterflynetwork.getbynder.com/transfe...  Convex  COVID   \n",
       "\n",
       "  class_on_website  version  ...  type patient case_no  gender age  comment  \\\n",
       "0              NaN      1.0  ...  lung     NaN     NaN     NaN NaN      NaN   \n",
       "1              NaN      1.0  ...  lung     NaN     NaN     NaN NaN      NaN   \n",
       "\n",
       "  paper_link paper_doi license link  \n",
       "0        NaN       NaN     NaN  NaN  \n",
       "1        NaN       NaN     NaN  NaN  \n",
       "\n",
       "[2 rows x 21 columns]"
      ]
     },
     "execution_count": 6,
     "metadata": {},
     "output_type": "execute_result"
    }
   ],
   "source": [
    "#Lee un archivo CSV que contiene metadatos de video \n",
    "try:\n",
    "    metadata = pd.read_csv('utils/video_metadata.csv', sep=',', encoding='latin1')\n",
    "except FileNotFoundError:\n",
    "    print(\"Error: No se encuentra el archivo 'video_metadata.csv'. \")\n",
    "except pd.errors.ParserError:\n",
    "    print(\"Error: El archivo 'video_metadate.csv' tiene un formato incorrecto. \")\n",
    "print(metadata.shape)\n",
    "metadata.head(2)"
   ]
  },
  {
   "cell_type": "markdown",
   "metadata": {},
   "source": [
    "# 1. Obtención de Videos de Ultrasonido"
   ]
  },
  {
   "cell_type": "markdown",
   "metadata": {},
   "source": [
    "## 1.1. ButterflyNetwork"
   ]
  },
  {
   "cell_type": "markdown",
   "metadata": {},
   "source": [
    "__Nota 1:__ Leer el archivo de metadatos, dependiendo de la configuración del sistema, puede que el boton de descarga no se muestre y si se llega a recibir un error, se puede aumentar el tiempo de suspension con el siguiente codigo...\n",
    "\n",
    "```python\n",
    "time.sleep(5)\n",
    "```"
   ]
  },
  {
   "cell_type": "markdown",
   "metadata": {},
   "source": [
    "__Nota 2:__ El siquiente bloque de codigo funciona con el navegador web \"Chrome\" y con la version 88 de ChromeDriver-incluido en la carpeta utils. Y puede haber algun error de la version de ChromeDriver se deba a la version que se posee del navegador Chrome. Si llega a ocurrir, se debe descargar la version correcta de ChromeDriver segun su version en el siguiente enlace (https://chromedriver.chromium.org/downloads) - Copiarla en la carpeta Utils"
   ]
  },
  {
   "cell_type": "code",
   "execution_count": 12,
   "metadata": {},
   "outputs": [],
   "source": [
    "## URL del archivo Zip\n",
    "#butterfly_url = metadata[(metadata.source == 'Butterfly') & (metadata.date_added == 'Mar_2021')].url.unique()[0]\n",
    "#print('... Descargando archivo Zip de ButterflyNetwork ...')\n",
    "#print(butterfly_url)\n",
    "##Inicializar chrome_options\n",
    "#chrome_options = Options()\n",
    "#chrome_options.add_argument(\"__headless\")\n",
    "\n",
    "#browser=None #Inicializar browser\n",
    "\n",
    "#try:\n",
    "#    # Definir la ruta de Chrome driver \n",
    "#    service = Service(\"utils/chromedriver.exe\")\n",
    "#    browser = webdriver.Chrome(service=service, options=chrome_options)\n",
    "    \n",
    "#    #Funcón para esperar hasta que el botón sea interactuable\n",
    "#    browser.get(butterfly_url)\n",
    "#    WebDriverWait(browser, 20).until(EC.element_to_be_clickable((By.CLASS_NAME, 'btn-primary'))).click()\n",
    "    \n",
    "#    # Ruta del archivo Zip descargado\n",
    "#    zip_file_path = os.path.join(get_download_path(), 'Published -20210112T164653Z-001.zip')  # Nueva version - checked March 9, 2021\n",
    "\n",
    "#    # Esperar hasta que se descargue el archivo Zip \n",
    "#    while not os.path.exists(zip_file_path):\n",
    "#        time.sleep(1)\n",
    "\n",
    "#    # Crear una carpeta Butterfly debajo de la carpeta de videos, solo si no existe\n",
    "#    if not os.path.exists('data/tmp/Butterfly'):\n",
    "#        os.makedirs('data/tmp/Butterfly')\n",
    "#    time.sleep(2)\n",
    "\n",
    "#    print('...Extrayendo archivos de video...')\n",
    "\n",
    "#    # Extraer el archivo Zip descargado y se elimina el archivo zip tras completar la extracción\n",
    "#    os.rename(zip_file_path, zip_file_path.replace(' ', ''))\n",
    "#    process=subprocess.Popen(\"utils/7z.exe\" +' x ' + zip_file_path.replace(' ', '') + ' -o' + 'data/tmp/Butterfly',stdout=subprocess.PIPE)\n",
    "#    process.wait()\n",
    "    \n",
    "#    # Copiar archivos de subcarpetas a la carpeta de video - copia los archivos que no son imagenes a las carpetas de videos\n",
    "#    for root, dirs, files in os.walk('data/tmp/Butterfly/Published_'):  \n",
    "#        for file in files:\n",
    "#            if file.endswith(\".png\"):\n",
    "#                continue\n",
    "#            path_file = os.path.join(root,file)\n",
    "#            shutil.copy2(path_file, 'data/video') \n",
    "\n",
    "#    # Renombrar los archivos extraidos a sus identificadores\n",
    "#    progress = ProgressBar() \n",
    "#    for root, dirs, files in os.walk('data/video'):  \n",
    "#        for file in progress(files):\n",
    "#            if file.endswith(\".png\"):\n",
    "#                continue\n",
    "#            path_file = os.path.join(root,file)\n",
    "#            file_id = metadata[metadata.filename == file].id.values[0] + '.mp4'\n",
    "#            # Renombrar el archivo a su id\n",
    "#            os.rename(path_file, os.path.join(root,file_id))\n",
    "\n",
    "#    print('=== Extracción de archivos de video ButterflyNetwork exitosa! ===')        \n",
    "        \n",
    "#    # Eliminar la carpeta tmp y su contenido\n",
    "#    shutil.rmtree('data/tmp')\n",
    "\n",
    "#    # Eliminar el archivo Zip\n",
    "#    os.remove(zip_file_path.replace(' ', ''))\n",
    "#except Exception as e:\n",
    "#    print(f\"Ocurrio un error durante el proceso de descarga: {e}\")\n",
    "#finally:\n",
    "#    if browser: #Verifica si browser se inicializo\n",
    "#        browser.quit()"
   ]
  },
  {
   "cell_type": "markdown",
   "metadata": {},
   "source": [
    "**Nota :** Si se tiene un error al ejecutar la celda anterior, la siguiente celda se debe descomentar y ejecutar la siguiente celda en su lugar"
   ]
  },
  {
   "cell_type": "code",
   "execution_count": 48,
   "metadata": {},
   "outputs": [
    {
     "name": "stdout",
     "output_type": "stream",
     "text": [
      "Descargando archivos de video de ButterflyNetwork en formato Zip\n"
     ]
    },
    {
     "name": "stderr",
     "output_type": "stream",
     "text": [
      "/ |#                                                  | 0 Elapsed Time: 0:00:00\n",
      "| |#                                                  | 0 Elapsed Time: 0:00:00\n"
     ]
    },
    {
     "name": "stdout",
     "output_type": "stream",
     "text": [
      "Accediendo a: https://drive.usercontent.google.com/download?id=18I4N6lWdcUW618Qwr6Krsd1Rkn946Ag0&export=download\n",
      "Descarga completa\n",
      "Download complete\n",
      "Extracting video files\n",
      "Error durante la extracción: 'NoneType' object has no attribute 'decode'\n"
     ]
    }
   ],
   "source": [
    "import requests\n",
    "\n",
    "print('Descargando archivos de video de ButterflyNetwork en formato Zip')\n",
    "file_id = '18I4N6lWdcUW618Qwr6Krsd1Rkn946Ag0' # ID de enlace para drive\n",
    "\n",
    "zip_file_path = os.path.join(get_download_path(), 'butterfly.zip')\n",
    "download_file_from_google_drive(file_id, zip_file_path)  #Descarga del archivo con la función antes definida\n",
    "\n",
    "#Verificar estado del archivo descargado\n",
    "if os.path.exists(zip_file_path):\n",
    "    print('Download complete\\nExtracting video files')\n",
    "    try:\n",
    "        #Descomprimir archivos Zip \n",
    "        open_file = subprocess.Popen(\"utils/7z.exe\" +' x ' + zip_file_path + ' -o' + 'data/video',stdout=subprocess.PIPE)\n",
    "        stdout, stderr = open_file.communicate() # Ejecuta y captura la salida y errores de un proceso\n",
    "        if open_file.returncode == 0:\n",
    "            print('Extracción de archivos completa')\n",
    "        else:\n",
    "            print(f\"Error durante el proceso de extracción: {stderr.decode()}\")\n",
    "    except Exception as e:\n",
    "        print(f\"Error durante la extracción: {e}\")\n",
    "else:\n",
    "    print(\"El archivo no esta disponible para la descompresión\")    "
   ]
  },
  {
   "cell_type": "markdown",
   "metadata": {},
   "source": [
    "## 1.2. GrepMed"
   ]
  },
  {
   "cell_type": "code",
   "execution_count": 49,
   "metadata": {},
   "outputs": [
    {
     "name": "stderr",
     "output_type": "stream",
     "text": [
      "  0% (0 of 20) |                         | Elapsed Time: 0:00:00 ETA:  --:--:--\n"
     ]
    },
    {
     "name": "stdout",
     "output_type": "stream",
     "text": [
      "...Extrayendo archivos de video de GrepMed...\n"
     ]
    },
    {
     "name": "stderr",
     "output_type": "stream",
     "text": [
      "  5% (1 of 20) |#                        | Elapsed Time: 0:00:00 ETA:   0:00:11\n"
     ]
    },
    {
     "name": "stdout",
     "output_type": "stream",
     "text": [
      "=== Archivo de video 23_grepmed_pneumonia.mp4 extraido correctamente! ===\n"
     ]
    },
    {
     "name": "stderr",
     "output_type": "stream",
     "text": [
      " 10% (2 of 20) |##                       | Elapsed Time: 0:00:01 ETA:   0:00:10\n"
     ]
    },
    {
     "name": "stdout",
     "output_type": "stream",
     "text": [
      "=== Archivo de video 24_grepmed_covid.mp4 extraido correctamente! ===\n"
     ]
    },
    {
     "name": "stderr",
     "output_type": "stream",
     "text": [
      " 15% (3 of 20) |###                      | Elapsed Time: 0:00:01 ETA:   0:00:10\n"
     ]
    },
    {
     "name": "stdout",
     "output_type": "stream",
     "text": [
      "=== Archivo de video 25_grepmed_pneumonia.mp4 extraido correctamente! ===\n"
     ]
    },
    {
     "name": "stderr",
     "output_type": "stream",
     "text": [
      " 20% (4 of 20) |#####                    | Elapsed Time: 0:00:02 ETA:   0:00:08\n"
     ]
    },
    {
     "name": "stdout",
     "output_type": "stream",
     "text": [
      "=== Archivo de video 26_grepmed_covid.mp4 extraido correctamente! ===\n"
     ]
    },
    {
     "name": "stderr",
     "output_type": "stream",
     "text": [
      " 25% (5 of 20) |######                   | Elapsed Time: 0:00:02 ETA:   0:00:08\n"
     ]
    },
    {
     "name": "stdout",
     "output_type": "stream",
     "text": [
      "=== Archivo de video 27_grepmed_pneumonia.mp4 extraido correctamente! ===\n"
     ]
    },
    {
     "name": "stderr",
     "output_type": "stream",
     "text": [
      " 30% (6 of 20) |#######                  | Elapsed Time: 0:00:03 ETA:   0:00:07\n"
     ]
    },
    {
     "name": "stdout",
     "output_type": "stream",
     "text": [
      "=== Archivo de video 28_grepmed_normal.mp4 extraido correctamente! ===\n"
     ]
    },
    {
     "name": "stderr",
     "output_type": "stream",
     "text": [
      " 35% (7 of 20) |########                 | Elapsed Time: 0:00:03 ETA:   0:00:06\n"
     ]
    },
    {
     "name": "stdout",
     "output_type": "stream",
     "text": [
      "=== Archivo de video 29_grepmed_covid.mp4 extraido correctamente! ===\n"
     ]
    },
    {
     "name": "stderr",
     "output_type": "stream",
     "text": [
      " 40% (8 of 20) |##########               | Elapsed Time: 0:00:04 ETA:   0:00:06\n"
     ]
    },
    {
     "name": "stdout",
     "output_type": "stream",
     "text": [
      "=== Archivo de video 30_grepmed_covid.mp4 extraido correctamente! ===\n"
     ]
    },
    {
     "name": "stderr",
     "output_type": "stream",
     "text": [
      " 45% (9 of 20) |###########              | Elapsed Time: 0:00:04 ETA:   0:00:05\n"
     ]
    },
    {
     "name": "stdout",
     "output_type": "stream",
     "text": [
      "=== Archivo de video 31_grepmed_covid.mp4 extraido correctamente! ===\n"
     ]
    },
    {
     "name": "stderr",
     "output_type": "stream",
     "text": [
      " 50% (10 of 20) |############            | Elapsed Time: 0:00:05 ETA:   0:00:05\n"
     ]
    },
    {
     "name": "stdout",
     "output_type": "stream",
     "text": [
      "=== Archivo de video 32_grepmed_pneumonia.mp4 extraido correctamente! ===\n"
     ]
    },
    {
     "name": "stderr",
     "output_type": "stream",
     "text": [
      " 55% (11 of 20) |#############           | Elapsed Time: 0:00:05 ETA:   0:00:04\n"
     ]
    },
    {
     "name": "stdout",
     "output_type": "stream",
     "text": [
      "=== Archivo de video 33_grepmed_covid.mp4 extraido correctamente! ===\n"
     ]
    },
    {
     "name": "stderr",
     "output_type": "stream",
     "text": [
      " 60% (12 of 20) |##############          | Elapsed Time: 0:00:06 ETA:   0:00:04\n"
     ]
    },
    {
     "name": "stdout",
     "output_type": "stream",
     "text": [
      "=== Archivo de video 34_grepmed_pneumonia.mp4 extraido correctamente! ===\n"
     ]
    },
    {
     "name": "stderr",
     "output_type": "stream",
     "text": [
      " 65% (13 of 20) |###############         | Elapsed Time: 0:00:06 ETA:   0:00:03\n"
     ]
    },
    {
     "name": "stdout",
     "output_type": "stream",
     "text": [
      "=== Archivo de video 35_grepmed_covid.mp4 extraido correctamente! ===\n"
     ]
    },
    {
     "name": "stderr",
     "output_type": "stream",
     "text": [
      " 70% (14 of 20) |################        | Elapsed Time: 0:00:07 ETA:   0:00:03\n"
     ]
    },
    {
     "name": "stdout",
     "output_type": "stream",
     "text": [
      "=== Archivo de video 36_grepmed_normal.mp4 extraido correctamente! ===\n"
     ]
    },
    {
     "name": "stderr",
     "output_type": "stream",
     "text": [
      " 75% (15 of 20) |##################      | Elapsed Time: 0:00:07 ETA:   0:00:02\n"
     ]
    },
    {
     "name": "stdout",
     "output_type": "stream",
     "text": [
      "=== Archivo de video 37_grepmed_pneumonia.mp4 extraido correctamente! ===\n"
     ]
    },
    {
     "name": "stderr",
     "output_type": "stream",
     "text": [
      " 80% (16 of 20) |###################     | Elapsed Time: 0:00:08 ETA:   0:00:02\n"
     ]
    },
    {
     "name": "stdout",
     "output_type": "stream",
     "text": [
      "=== Archivo de video 38_grepmed_pneumonia.mp4 extraido correctamente! ===\n"
     ]
    },
    {
     "name": "stderr",
     "output_type": "stream",
     "text": [
      " 85% (17 of 20) |####################    | Elapsed Time: 0:00:08 ETA:   0:00:01\n"
     ]
    },
    {
     "name": "stdout",
     "output_type": "stream",
     "text": [
      "=== Archivo de video 39_grepmed_normal.mp4 extraido correctamente! ===\n"
     ]
    },
    {
     "name": "stderr",
     "output_type": "stream",
     "text": [
      " 90% (18 of 20) |#####################   | Elapsed Time: 0:00:09 ETA:   0:00:01\n"
     ]
    },
    {
     "name": "stdout",
     "output_type": "stream",
     "text": [
      "=== Archivo de video 40_grepmed_pneumonia.mp4 extraido correctamente! ===\n"
     ]
    },
    {
     "name": "stderr",
     "output_type": "stream",
     "text": [
      " 95% (19 of 20) |######################  | Elapsed Time: 0:00:09 ETA:   0:00:00\n"
     ]
    },
    {
     "name": "stdout",
     "output_type": "stream",
     "text": [
      "=== Archivo de video 41_grepmed_pneumonia.mp4 extraido correctamente! ===\n"
     ]
    },
    {
     "name": "stderr",
     "output_type": "stream",
     "text": [
      "100% (20 of 20) |########################| Elapsed Time: 0:00:10 Time:  0:00:10\n"
     ]
    },
    {
     "name": "stdout",
     "output_type": "stream",
     "text": [
      "=== Archivo de video 42_grepmed_covid.mp4 extraido correctamente! ===\n",
      "=== Todos los archivos de video de GrepMed se descargaron correctamente ===\n",
      " 20 archivos descargados\n"
     ]
    }
   ],
   "source": [
    "print('...Extrayendo archivos de video de GrepMed...')\n",
    "\n",
    "NumDes = 0\n",
    "NumT = 0\n",
    "\n",
    "#Se seleccionan las filas de \"metadata\" donde la fuente es GrepMed\n",
    "grepmed_df = metadata[metadata.source == 'GrepMed']\n",
    "\n",
    "#Avance de descarga\n",
    "progress = ProgressBar(max_value=grepmed_df.shape[0]) \n",
    "\n",
    "for idx, row in progress(grepmed_df.iterrows()):\n",
    "    filename = row.id + '.' + row.filetype\n",
    "    NumT = NumT + 1\n",
    "    try:\n",
    "        #Descarga el archivo de video desde la URL\n",
    "        vid = requests.get(row.url).content\n",
    "        #Guarda el archivo en el directorio que se especifica\n",
    "        with open(os.path.join('data/video/', filename), 'wb') as handler:\n",
    "            handler.write(vid)\n",
    "            NumDes = NumDes + 1\n",
    "            print(f'=== Archivo de video {filename} extraido correctamente! ===')    \n",
    "    except Exception as e:\n",
    "        print(f\"Error durante la descarga del archivo:{filename} {e}\")   \n",
    "\n",
    "if NumDes == NumT:\n",
    "    print(\"=== Todos los archivos de video de GrepMed se descargaron correctamente ===\")\n",
    "    print(f\" {NumT} archivos descargados\")\n",
    "elif NumDes > 0:\n",
    "    print(\"=== No se descargaron todos los archivos de video ===\")\n",
    "    print(f\" {NumDes} videos descargados de {NumT}\")\n",
    "else:\n",
    "    print(f\"=== No se descargo ningun archivo de video de {NumT}===\")\n",
    "    \n",
    "\n"
   ]
  },
  {
   "cell_type": "markdown",
   "metadata": {},
   "source": [
    "## 1.3. LITFL"
   ]
  },
  {
   "cell_type": "code",
   "execution_count": 50,
   "metadata": {},
   "outputs": [
    {
     "name": "stderr",
     "output_type": "stream",
     "text": [
      "  0% (0 of 63) |                         | Elapsed Time: 0:00:00 ETA:  --:--:--\n"
     ]
    },
    {
     "name": "stdout",
     "output_type": "stream",
     "text": [
      "...Extrayendo los archivos de video de LITFL...\n",
      "=== Archivo 43_litfl_pneumonia.mp4 descargado y guardado correctamente! ===\n"
     ]
    },
    {
     "name": "stderr",
     "output_type": "stream",
     "text": [
      "  1% (1 of 63) |                         | Elapsed Time: 0:00:12 ETA:   0:13:01\n"
     ]
    },
    {
     "name": "stdout",
     "output_type": "stream",
     "text": [
      "=== Archivo 44_litfl_pneumonia.mp4 descargado y guardado correctamente! ===\n"
     ]
    },
    {
     "name": "stderr",
     "output_type": "stream",
     "text": [
      "  3% (2 of 63) |                         | Elapsed Time: 0:00:13 ETA:   0:07:03\n"
     ]
    },
    {
     "name": "stdout",
     "output_type": "stream",
     "text": [
      "=== Archivo 45_litfl_pneumonia.mp4 descargado y guardado correctamente! ===\n"
     ]
    },
    {
     "name": "stderr",
     "output_type": "stream",
     "text": [
      "  4% (3 of 63) |#                        | Elapsed Time: 0:00:15 ETA:   0:05:01\n"
     ]
    },
    {
     "name": "stdout",
     "output_type": "stream",
     "text": [
      "=== Archivo 46_litfl_pneumonia.mp4 descargado y guardado correctamente! ===\n"
     ]
    },
    {
     "name": "stderr",
     "output_type": "stream",
     "text": [
      "  6% (4 of 63) |#                        | Elapsed Time: 0:00:16 ETA:   0:04:05\n"
     ]
    },
    {
     "name": "stdout",
     "output_type": "stream",
     "text": [
      "=== Archivo 47_litfl_pneumonia.mp4 descargado y guardado correctamente! ===\n"
     ]
    },
    {
     "name": "stderr",
     "output_type": "stream",
     "text": [
      "  7% (5 of 63) |#                        | Elapsed Time: 0:00:18 ETA:   0:03:29\n"
     ]
    },
    {
     "name": "stdout",
     "output_type": "stream",
     "text": [
      "=== Archivo 48_litfl_pneumonia.mp4 descargado y guardado correctamente! ===\n"
     ]
    },
    {
     "name": "stderr",
     "output_type": "stream",
     "text": [
      "  9% (6 of 63) |##                       | Elapsed Time: 0:00:19 ETA:   0:03:04\n"
     ]
    },
    {
     "name": "stdout",
     "output_type": "stream",
     "text": [
      "=== Archivo 95_litfl_other.mp4 descargado y guardado correctamente! ===\n"
     ]
    },
    {
     "name": "stderr",
     "output_type": "stream",
     "text": [
      " 11% (7 of 63) |##                       | Elapsed Time: 0:00:20 ETA:   0:02:45\n"
     ]
    },
    {
     "name": "stdout",
     "output_type": "stream",
     "text": [
      "=== Archivo 96_litfl_other.mp4 descargado y guardado correctamente! ===\n"
     ]
    },
    {
     "name": "stderr",
     "output_type": "stream",
     "text": [
      " 12% (8 of 63) |###                      | Elapsed Time: 0:00:22 ETA:   0:02:32\n"
     ]
    },
    {
     "name": "stdout",
     "output_type": "stream",
     "text": [
      "=== Archivo 97_litfl_other.mp4 descargado y guardado correctamente! ===\n"
     ]
    },
    {
     "name": "stderr",
     "output_type": "stream",
     "text": [
      " 14% (9 of 63) |###                      | Elapsed Time: 0:00:23 ETA:   0:02:22\n"
     ]
    },
    {
     "name": "stdout",
     "output_type": "stream",
     "text": [
      "=== Archivo 98_litfl_other.mp4 descargado y guardado correctamente! ===\n"
     ]
    },
    {
     "name": "stderr",
     "output_type": "stream",
     "text": [
      " 15% (10 of 63) |###                     | Elapsed Time: 0:00:25 ETA:   0:02:14\n"
     ]
    },
    {
     "name": "stdout",
     "output_type": "stream",
     "text": [
      "=== Archivo 99_litfl_other.mp4 descargado y guardado correctamente! ===\n"
     ]
    },
    {
     "name": "stderr",
     "output_type": "stream",
     "text": [
      " 17% (11 of 63) |####                    | Elapsed Time: 0:00:26 ETA:   0:02:05\n"
     ]
    },
    {
     "name": "stdout",
     "output_type": "stream",
     "text": [
      "=== Archivo 100_litfl_other.mp4 descargado y guardado correctamente! ===\n"
     ]
    },
    {
     "name": "stderr",
     "output_type": "stream",
     "text": [
      " 19% (12 of 63) |####                    | Elapsed Time: 0:00:28 ETA:   0:01:59\n"
     ]
    },
    {
     "name": "stdout",
     "output_type": "stream",
     "text": [
      "=== Archivo 101_litfl_other.mp4 descargado y guardado correctamente! ===\n"
     ]
    },
    {
     "name": "stderr",
     "output_type": "stream",
     "text": [
      " 20% (13 of 63) |####                    | Elapsed Time: 0:00:29 ETA:   0:01:52\n"
     ]
    },
    {
     "name": "stdout",
     "output_type": "stream",
     "text": [
      "=== Archivo 102_litfl_other.mp4 descargado y guardado correctamente! ===\n"
     ]
    },
    {
     "name": "stderr",
     "output_type": "stream",
     "text": [
      " 22% (14 of 63) |#####                   | Elapsed Time: 0:00:30 ETA:   0:01:47\n"
     ]
    },
    {
     "name": "stdout",
     "output_type": "stream",
     "text": [
      "=== Archivo 103_litfl_other.mp4 descargado y guardado correctamente! ===\n"
     ]
    },
    {
     "name": "stderr",
     "output_type": "stream",
     "text": [
      " 23% (15 of 63) |#####                   | Elapsed Time: 0:00:32 ETA:   0:01:43\n"
     ]
    },
    {
     "name": "stdout",
     "output_type": "stream",
     "text": [
      "=== Archivo 104_litfl_other.mp4 descargado y guardado correctamente! ===\n"
     ]
    },
    {
     "name": "stderr",
     "output_type": "stream",
     "text": [
      " 25% (16 of 63) |######                  | Elapsed Time: 0:00:33 ETA:   0:01:39\n"
     ]
    },
    {
     "name": "stdout",
     "output_type": "stream",
     "text": [
      "=== Archivo 105_litfl_other.mp4 descargado y guardado correctamente! ===\n"
     ]
    },
    {
     "name": "stderr",
     "output_type": "stream",
     "text": [
      " 26% (17 of 63) |######                  | Elapsed Time: 0:00:35 ETA:   0:01:35\n"
     ]
    },
    {
     "name": "stdout",
     "output_type": "stream",
     "text": [
      "=== Archivo 106_litfl_other.mp4 descargado y guardado correctamente! ===\n"
     ]
    },
    {
     "name": "stderr",
     "output_type": "stream",
     "text": [
      " 28% (18 of 63) |######                  | Elapsed Time: 0:00:36 ETA:   0:01:31\n"
     ]
    },
    {
     "name": "stdout",
     "output_type": "stream",
     "text": [
      "=== Archivo 107_litfl_other.mp4 descargado y guardado correctamente! ===\n"
     ]
    },
    {
     "name": "stderr",
     "output_type": "stream",
     "text": [
      " 30% (19 of 63) |#######                 | Elapsed Time: 0:00:37 ETA:   0:01:27\n"
     ]
    },
    {
     "name": "stdout",
     "output_type": "stream",
     "text": [
      "=== Archivo 108_litfl_other.mp4 descargado y guardado correctamente! ===\n"
     ]
    },
    {
     "name": "stderr",
     "output_type": "stream",
     "text": [
      " 31% (20 of 63) |#######                 | Elapsed Time: 0:00:39 ETA:   0:01:24\n"
     ]
    },
    {
     "name": "stdout",
     "output_type": "stream",
     "text": [
      "=== Archivo 109_litfl_other.mp4 descargado y guardado correctamente! ===\n"
     ]
    },
    {
     "name": "stderr",
     "output_type": "stream",
     "text": [
      " 33% (21 of 63) |########                | Elapsed Time: 0:00:40 ETA:   0:01:21\n"
     ]
    },
    {
     "name": "stdout",
     "output_type": "stream",
     "text": [
      "=== Archivo 110_litfl_other.mp4 descargado y guardado correctamente! ===\n"
     ]
    },
    {
     "name": "stderr",
     "output_type": "stream",
     "text": [
      " 34% (22 of 63) |########                | Elapsed Time: 0:00:41 ETA:   0:01:17\n"
     ]
    },
    {
     "name": "stdout",
     "output_type": "stream",
     "text": [
      "=== Archivo 111_litfl_other.mp4 descargado y guardado correctamente! ===\n"
     ]
    },
    {
     "name": "stderr",
     "output_type": "stream",
     "text": [
      " 36% (23 of 63) |########                | Elapsed Time: 0:00:43 ETA:   0:01:15\n"
     ]
    },
    {
     "name": "stdout",
     "output_type": "stream",
     "text": [
      "=== Archivo 112_litfl_other.mp4 descargado y guardado correctamente! ===\n"
     ]
    },
    {
     "name": "stderr",
     "output_type": "stream",
     "text": [
      " 38% (24 of 63) |#########               | Elapsed Time: 0:00:44 ETA:   0:01:12\n"
     ]
    },
    {
     "name": "stdout",
     "output_type": "stream",
     "text": [
      "=== Archivo 113_litfl_other.mp4 descargado y guardado correctamente! ===\n"
     ]
    },
    {
     "name": "stderr",
     "output_type": "stream",
     "text": [
      " 39% (25 of 63) |#########               | Elapsed Time: 0:00:45 ETA:   0:01:09\n"
     ]
    },
    {
     "name": "stdout",
     "output_type": "stream",
     "text": [
      "=== Archivo 114_litfl_other.mp4 descargado y guardado correctamente! ===\n"
     ]
    },
    {
     "name": "stderr",
     "output_type": "stream",
     "text": [
      " 41% (26 of 63) |#########               | Elapsed Time: 0:00:47 ETA:   0:01:07\n"
     ]
    },
    {
     "name": "stdout",
     "output_type": "stream",
     "text": [
      "=== Archivo 115_litfl_other.mp4 descargado y guardado correctamente! ===\n"
     ]
    },
    {
     "name": "stderr",
     "output_type": "stream",
     "text": [
      " 42% (27 of 63) |##########              | Elapsed Time: 0:00:48 ETA:   0:01:05\n"
     ]
    },
    {
     "name": "stdout",
     "output_type": "stream",
     "text": [
      "=== Archivo 116_litfl_other.mp4 descargado y guardado correctamente! ===\n"
     ]
    },
    {
     "name": "stderr",
     "output_type": "stream",
     "text": [
      " 44% (28 of 63) |##########              | Elapsed Time: 0:00:50 ETA:   0:01:02\n"
     ]
    },
    {
     "name": "stdout",
     "output_type": "stream",
     "text": [
      "=== Archivo 117_litfl_other.mp4 descargado y guardado correctamente! ===\n"
     ]
    },
    {
     "name": "stderr",
     "output_type": "stream",
     "text": [
      " 46% (29 of 63) |###########             | Elapsed Time: 0:00:51 ETA:   0:01:00\n"
     ]
    },
    {
     "name": "stdout",
     "output_type": "stream",
     "text": [
      "=== Archivo 118_litfl_other.mp4 descargado y guardado correctamente! ===\n"
     ]
    },
    {
     "name": "stderr",
     "output_type": "stream",
     "text": [
      " 47% (30 of 63) |###########             | Elapsed Time: 0:00:53 ETA:   0:00:58\n"
     ]
    },
    {
     "name": "stdout",
     "output_type": "stream",
     "text": [
      "=== Archivo 119_litfl_other.mp4 descargado y guardado correctamente! ===\n"
     ]
    },
    {
     "name": "stderr",
     "output_type": "stream",
     "text": [
      " 49% (31 of 63) |###########             | Elapsed Time: 0:00:54 ETA:   0:00:56\n"
     ]
    },
    {
     "name": "stdout",
     "output_type": "stream",
     "text": [
      "=== Archivo 120_litfl_other.mp4 descargado y guardado correctamente! ===\n"
     ]
    },
    {
     "name": "stderr",
     "output_type": "stream",
     "text": [
      " 50% (32 of 63) |############            | Elapsed Time: 0:00:56 ETA:   0:00:54\n"
     ]
    },
    {
     "name": "stdout",
     "output_type": "stream",
     "text": [
      "=== Archivo 121_litfl_pneumonia.mp4 descargado y guardado correctamente! ===\n"
     ]
    },
    {
     "name": "stderr",
     "output_type": "stream",
     "text": [
      " 52% (33 of 63) |############            | Elapsed Time: 0:00:57 ETA:   0:00:52\n"
     ]
    },
    {
     "name": "stdout",
     "output_type": "stream",
     "text": [
      "=== Archivo 122_litfl_pneumonia.mp4 descargado y guardado correctamente! ===\n"
     ]
    },
    {
     "name": "stderr",
     "output_type": "stream",
     "text": [
      " 53% (34 of 63) |############            | Elapsed Time: 0:00:58 ETA:   0:00:50\n"
     ]
    },
    {
     "name": "stdout",
     "output_type": "stream",
     "text": [
      "=== Archivo 123_litfl_pneumonia.mp4 descargado y guardado correctamente! ===\n"
     ]
    },
    {
     "name": "stderr",
     "output_type": "stream",
     "text": [
      " 55% (35 of 63) |#############           | Elapsed Time: 0:01:00 ETA:   0:00:48\n"
     ]
    },
    {
     "name": "stdout",
     "output_type": "stream",
     "text": [
      "=== Archivo 124_litfl_pneumonia.mp4 descargado y guardado correctamente! ===\n"
     ]
    },
    {
     "name": "stderr",
     "output_type": "stream",
     "text": [
      " 57% (36 of 63) |#############           | Elapsed Time: 0:01:01 ETA:   0:00:46\n"
     ]
    },
    {
     "name": "stdout",
     "output_type": "stream",
     "text": [
      "=== Archivo 125_litfl_pneumonia.mp4 descargado y guardado correctamente! ===\n"
     ]
    },
    {
     "name": "stderr",
     "output_type": "stream",
     "text": [
      " 58% (37 of 63) |##############          | Elapsed Time: 0:01:03 ETA:   0:00:44\n"
     ]
    },
    {
     "name": "stdout",
     "output_type": "stream",
     "text": [
      "=== Archivo 126_litfl_pneumonia.mp4 descargado y guardado correctamente! ===\n"
     ]
    },
    {
     "name": "stderr",
     "output_type": "stream",
     "text": [
      " 60% (38 of 63) |##############          | Elapsed Time: 0:01:04 ETA:   0:00:42\n"
     ]
    },
    {
     "name": "stdout",
     "output_type": "stream",
     "text": [
      "=== Archivo 127_litfl_pneumonia.mp4 descargado y guardado correctamente! ===\n"
     ]
    },
    {
     "name": "stderr",
     "output_type": "stream",
     "text": [
      " 61% (39 of 63) |##############          | Elapsed Time: 0:01:05 ETA:   0:00:40\n"
     ]
    },
    {
     "name": "stdout",
     "output_type": "stream",
     "text": [
      "=== Archivo 128_litfl_pneumonia.mp4 descargado y guardado correctamente! ===\n"
     ]
    },
    {
     "name": "stderr",
     "output_type": "stream",
     "text": [
      " 63% (40 of 63) |###############         | Elapsed Time: 0:01:07 ETA:   0:00:38\n"
     ]
    },
    {
     "name": "stdout",
     "output_type": "stream",
     "text": [
      "=== Archivo 129_litfl_pneumonia.mp4 descargado y guardado correctamente! ===\n"
     ]
    },
    {
     "name": "stderr",
     "output_type": "stream",
     "text": [
      " 65% (41 of 63) |###############         | Elapsed Time: 0:01:08 ETA:   0:00:36\n"
     ]
    },
    {
     "name": "stdout",
     "output_type": "stream",
     "text": [
      "=== Archivo 130_litfl_pneumonia.mp4 descargado y guardado correctamente! ===\n"
     ]
    },
    {
     "name": "stderr",
     "output_type": "stream",
     "text": [
      " 66% (42 of 63) |################        | Elapsed Time: 0:01:09 ETA:   0:00:34\n"
     ]
    },
    {
     "name": "stdout",
     "output_type": "stream",
     "text": [
      "=== Archivo 131_litfl_pneumonia.mp4 descargado y guardado correctamente! ===\n"
     ]
    },
    {
     "name": "stderr",
     "output_type": "stream",
     "text": [
      " 68% (43 of 63) |################        | Elapsed Time: 0:01:11 ETA:   0:00:33\n"
     ]
    },
    {
     "name": "stdout",
     "output_type": "stream",
     "text": [
      "=== Archivo 132_litfl_pneumonia.mp4 descargado y guardado correctamente! ===\n"
     ]
    },
    {
     "name": "stderr",
     "output_type": "stream",
     "text": [
      " 69% (44 of 63) |################        | Elapsed Time: 0:01:12 ETA:   0:00:31\n"
     ]
    },
    {
     "name": "stdout",
     "output_type": "stream",
     "text": [
      "=== Archivo 133_litfl_other.mp4 descargado y guardado correctamente! ===\n"
     ]
    },
    {
     "name": "stderr",
     "output_type": "stream",
     "text": [
      " 71% (45 of 63) |#################       | Elapsed Time: 0:01:13 ETA:   0:00:29\n"
     ]
    },
    {
     "name": "stdout",
     "output_type": "stream",
     "text": [
      "=== Archivo 134_litfl_other.mp4 descargado y guardado correctamente! ===\n"
     ]
    },
    {
     "name": "stderr",
     "output_type": "stream",
     "text": [
      " 73% (46 of 63) |#################       | Elapsed Time: 0:01:15 ETA:   0:00:27\n"
     ]
    },
    {
     "name": "stdout",
     "output_type": "stream",
     "text": [
      "=== Archivo 135_litfl_normal.mp4 descargado y guardado correctamente! ===\n"
     ]
    },
    {
     "name": "stderr",
     "output_type": "stream",
     "text": [
      " 74% (47 of 63) |#################       | Elapsed Time: 0:01:16 ETA:   0:00:26\n"
     ]
    },
    {
     "name": "stdout",
     "output_type": "stream",
     "text": [
      "=== Archivo 136_litfl_other.mp4 descargado y guardado correctamente! ===\n"
     ]
    },
    {
     "name": "stderr",
     "output_type": "stream",
     "text": [
      " 76% (48 of 63) |##################      | Elapsed Time: 0:01:18 ETA:   0:00:24\n"
     ]
    },
    {
     "name": "stdout",
     "output_type": "stream",
     "text": [
      "=== Archivo 137_litfl_other.mp4 descargado y guardado correctamente! ===\n"
     ]
    },
    {
     "name": "stderr",
     "output_type": "stream",
     "text": [
      " 77% (49 of 63) |##################      | Elapsed Time: 0:01:19 ETA:   0:00:22\n"
     ]
    },
    {
     "name": "stdout",
     "output_type": "stream",
     "text": [
      "=== Archivo 138_litfl_normal.mp4 descargado y guardado correctamente! ===\n"
     ]
    },
    {
     "name": "stderr",
     "output_type": "stream",
     "text": [
      " 79% (50 of 63) |###################     | Elapsed Time: 0:01:20 ETA:   0:00:21\n"
     ]
    },
    {
     "name": "stdout",
     "output_type": "stream",
     "text": [
      "=== Archivo 139_litfl_normal.mp4 descargado y guardado correctamente! ===\n"
     ]
    },
    {
     "name": "stderr",
     "output_type": "stream",
     "text": [
      " 80% (51 of 63) |###################     | Elapsed Time: 0:01:22 ETA:   0:00:19\n"
     ]
    },
    {
     "name": "stdout",
     "output_type": "stream",
     "text": [
      "=== Archivo 140_litfl_other.mp4 descargado y guardado correctamente! ===\n"
     ]
    },
    {
     "name": "stderr",
     "output_type": "stream",
     "text": [
      " 82% (52 of 63) |###################     | Elapsed Time: 0:01:23 ETA:   0:00:17\n"
     ]
    },
    {
     "name": "stdout",
     "output_type": "stream",
     "text": [
      "=== Archivo 141_litfl_other.mp4 descargado y guardado correctamente! ===\n"
     ]
    },
    {
     "name": "stderr",
     "output_type": "stream",
     "text": [
      " 84% (53 of 63) |####################    | Elapsed Time: 0:01:25 ETA:   0:00:16\n"
     ]
    },
    {
     "name": "stdout",
     "output_type": "stream",
     "text": [
      "=== Archivo 142_litfl_other.mp4 descargado y guardado correctamente! ===\n"
     ]
    },
    {
     "name": "stderr",
     "output_type": "stream",
     "text": [
      " 85% (54 of 63) |####################    | Elapsed Time: 0:01:26 ETA:   0:00:14\n"
     ]
    },
    {
     "name": "stdout",
     "output_type": "stream",
     "text": [
      "=== Archivo 143_litfl_other.mp4 descargado y guardado correctamente! ===\n"
     ]
    },
    {
     "name": "stderr",
     "output_type": "stream",
     "text": [
      " 87% (55 of 63) |####################    | Elapsed Time: 0:01:27 ETA:   0:00:12\n"
     ]
    },
    {
     "name": "stdout",
     "output_type": "stream",
     "text": [
      "=== Archivo 144_litfl_other.mp4 descargado y guardado correctamente! ===\n"
     ]
    },
    {
     "name": "stderr",
     "output_type": "stream",
     "text": [
      " 88% (56 of 63) |#####################   | Elapsed Time: 0:01:29 ETA:   0:00:11\n"
     ]
    },
    {
     "name": "stdout",
     "output_type": "stream",
     "text": [
      "=== Archivo 145_litfl_other.mp4 descargado y guardado correctamente! ===\n"
     ]
    },
    {
     "name": "stderr",
     "output_type": "stream",
     "text": [
      " 90% (57 of 63) |#####################   | Elapsed Time: 0:01:30 ETA:   0:00:09\n"
     ]
    },
    {
     "name": "stdout",
     "output_type": "stream",
     "text": [
      "=== Archivo 146_litfl_other.mp4 descargado y guardado correctamente! ===\n"
     ]
    },
    {
     "name": "stderr",
     "output_type": "stream",
     "text": [
      " 92% (58 of 63) |######################  | Elapsed Time: 0:01:32 ETA:   0:00:07\n"
     ]
    },
    {
     "name": "stdout",
     "output_type": "stream",
     "text": [
      "=== Archivo 147_litfl_other.mp4 descargado y guardado correctamente! ===\n"
     ]
    },
    {
     "name": "stderr",
     "output_type": "stream",
     "text": [
      " 93% (59 of 63) |######################  | Elapsed Time: 0:01:33 ETA:   0:00:06\n"
     ]
    },
    {
     "name": "stdout",
     "output_type": "stream",
     "text": [
      "=== Archivo 148_litfl_other.mp4 descargado y guardado correctamente! ===\n"
     ]
    },
    {
     "name": "stderr",
     "output_type": "stream",
     "text": [
      " 95% (60 of 63) |######################  | Elapsed Time: 0:01:35 ETA:   0:00:04\n"
     ]
    },
    {
     "name": "stdout",
     "output_type": "stream",
     "text": [
      "=== Archivo 149_litfl_other.mp4 descargado y guardado correctamente! ===\n"
     ]
    },
    {
     "name": "stderr",
     "output_type": "stream",
     "text": [
      " 96% (61 of 63) |####################### | Elapsed Time: 0:01:36 ETA:   0:00:03\n"
     ]
    },
    {
     "name": "stdout",
     "output_type": "stream",
     "text": [
      "=== Archivo 150_litfl_other.mp4 descargado y guardado correctamente! ===\n"
     ]
    },
    {
     "name": "stderr",
     "output_type": "stream",
     "text": [
      " 98% (62 of 63) |####################### | Elapsed Time: 0:01:38 ETA:   0:00:01\n"
     ]
    },
    {
     "name": "stdout",
     "output_type": "stream",
     "text": [
      "=== Archivo 151_litfl_pneumonia.mp4 descargado y guardado correctamente! ===\n"
     ]
    },
    {
     "name": "stderr",
     "output_type": "stream",
     "text": [
      "100% (63 of 63) |########################| Elapsed Time: 0:01:39 Time:  0:01:39\n"
     ]
    },
    {
     "name": "stdout",
     "output_type": "stream",
     "text": [
      "=== Todos los archivos de video de LITFL se descargaron correctamente ===\n",
      " 63 archivos descargados\n"
     ]
    }
   ],
   "source": [
    "print('...Extrayendo los archivos de video de LITFL...')\n",
    "litfl_df = metadata[metadata.source == 'Litfl'] #Seleccionar fila de metadatos con fuente LITFL\n",
    "NumDes = 0\n",
    "NumT = 0\n",
    "\n",
    "progress = ProgressBar(max_value=litfl_df.shape[0]) \n",
    "for idx, row in progress(litfl_df.iterrows()):\n",
    "    filename = row.id + '.' + row.filetype\n",
    "    NumT = NumT + 1\n",
    "    \n",
    "    # Descarga el archivo de vídeo desde \"row.url\"\n",
    "    try:\n",
    "        #Solicitud con tiempo de espera de 10 segundos \n",
    "        vid = requests.get(row.url, timeout=10) #.content\n",
    "        vid.raise_for_status() #Verificar posibles errores\n",
    "        #Guarda el archivo en el disco\n",
    "        with open(os.path.join('data/video/', filename), 'wb') as handler:\n",
    "            handler.write(vid.content)\n",
    "            print(f'=== Archivo {filename} descargado y guardado correctamente! ===')    \n",
    "            NumDes = NumDes + 1    \n",
    "        time.sleep(1) #tiempo de espera adicional para evitar sobrecargas\n",
    "    except requests.exceptions.Timeout:\n",
    "        print(f\"Error: El tiempo de espera se agoto mientras se intentaba la descarga {filename}.\")\n",
    "    except requests.exceptions.RequestException as e:\n",
    "        print(f\"Error al descargar {filename}: {e}\")\n",
    "    except Exception as e:\n",
    "        print(f\"Error inesperado en {filename}: {e}\")\n",
    "\n",
    "if NumDes == NumT:\n",
    "    print(\"=== Todos los archivos de video de LITFL se descargaron correctamente ===\")\n",
    "    print(f\" {NumT} archivos descargados\")\n",
    "elif NumDes > 0:\n",
    "    print(\"=== No se descargaron todos los archivos de video ===\")\n",
    "    print(f\" {NumDes} videos descargados de {NumT}\")\n",
    "else:\n",
    "    print(f\"=== No se descargo ningun archivo de video de {NumT}===\")\n",
    "    "
   ]
  },
  {
   "cell_type": "markdown",
   "metadata": {},
   "source": [
    "## 1.4. The POCUS Atlas"
   ]
  },
  {
   "cell_type": "code",
   "execution_count": 51,
   "metadata": {},
   "outputs": [
    {
     "name": "stderr",
     "output_type": "stream",
     "text": [
      "  0% (0 of 32) |                         | Elapsed Time: 0:00:00 ETA:  --:--:--\n"
     ]
    },
    {
     "name": "stdout",
     "output_type": "stream",
     "text": [
      "...Extrayendo archivos de video de The POCUS Atlas...\n",
      "Archivo 49_pocusatlas_covid.gif descargado exitosamente\n"
     ]
    },
    {
     "name": "stderr",
     "output_type": "stream",
     "text": [
      "  3% (1 of 32) |                         | Elapsed Time: 0:00:01 ETA:   0:00:53\n"
     ]
    },
    {
     "name": "stdout",
     "output_type": "stream",
     "text": [
      "Archivo 50_pocusatlas_covid.gif descargado exitosamente\n"
     ]
    },
    {
     "name": "stderr",
     "output_type": "stream",
     "text": [
      "  6% (2 of 32) |#                        | Elapsed Time: 0:00:14 ETA:   0:03:31\n"
     ]
    },
    {
     "name": "stdout",
     "output_type": "stream",
     "text": [
      "Archivo 51_pocusatlas_covid.gif descargado exitosamente\n"
     ]
    },
    {
     "name": "stderr",
     "output_type": "stream",
     "text": [
      "  9% (3 of 32) |##                       | Elapsed Time: 0:00:15 ETA:   0:02:30\n"
     ]
    },
    {
     "name": "stdout",
     "output_type": "stream",
     "text": [
      "Archivo 52_pocusatlas_covid.gif descargado exitosamente\n"
     ]
    },
    {
     "name": "stderr",
     "output_type": "stream",
     "text": [
      " 12% (4 of 32) |###                      | Elapsed Time: 0:00:16 ETA:   0:01:57\n"
     ]
    },
    {
     "name": "stdout",
     "output_type": "stream",
     "text": [
      "Archivo 53_pocusatlas_covid.gif descargado exitosamente\n"
     ]
    },
    {
     "name": "stderr",
     "output_type": "stream",
     "text": [
      " 15% (5 of 32) |###                      | Elapsed Time: 0:00:18 ETA:   0:01:37\n"
     ]
    },
    {
     "name": "stdout",
     "output_type": "stream",
     "text": [
      "Archivo 54_pocusatlas_covid.gif descargado exitosamente\n"
     ]
    },
    {
     "name": "stderr",
     "output_type": "stream",
     "text": [
      " 18% (6 of 32) |####                     | Elapsed Time: 0:00:19 ETA:   0:01:23\n"
     ]
    },
    {
     "name": "stdout",
     "output_type": "stream",
     "text": [
      "Archivo 55_pocusatlas_covid.gif descargado exitosamente\n"
     ]
    },
    {
     "name": "stderr",
     "output_type": "stream",
     "text": [
      " 21% (7 of 32) |#####                    | Elapsed Time: 0:00:20 ETA:   0:01:13\n"
     ]
    },
    {
     "name": "stdout",
     "output_type": "stream",
     "text": [
      "Archivo 56_pocusatlas_covid.gif descargado exitosamente\n"
     ]
    },
    {
     "name": "stderr",
     "output_type": "stream",
     "text": [
      " 25% (8 of 32) |######                   | Elapsed Time: 0:00:21 ETA:   0:01:05\n"
     ]
    },
    {
     "name": "stdout",
     "output_type": "stream",
     "text": [
      "Archivo 57_pocusatlas_covid.gif descargado exitosamente\n"
     ]
    },
    {
     "name": "stderr",
     "output_type": "stream",
     "text": [
      " 28% (9 of 32) |#######                  | Elapsed Time: 0:00:23 ETA:   0:00:59\n"
     ]
    },
    {
     "name": "stdout",
     "output_type": "stream",
     "text": [
      "Archivo 58_pocusatlas_covid.gif descargado exitosamente\n"
     ]
    },
    {
     "name": "stderr",
     "output_type": "stream",
     "text": [
      " 31% (10 of 32) |#######                 | Elapsed Time: 0:00:24 ETA:   0:00:54\n"
     ]
    },
    {
     "name": "stdout",
     "output_type": "stream",
     "text": [
      "Archivo 59_pocusatlas_covid.gif descargado exitosamente\n"
     ]
    },
    {
     "name": "stderr",
     "output_type": "stream",
     "text": [
      " 34% (11 of 32) |########                | Elapsed Time: 0:00:25 ETA:   0:00:49\n"
     ]
    },
    {
     "name": "stdout",
     "output_type": "stream",
     "text": [
      "Archivo 60_pocusatlas_covid.gif descargado exitosamente\n"
     ]
    },
    {
     "name": "stderr",
     "output_type": "stream",
     "text": [
      " 37% (12 of 32) |#########               | Elapsed Time: 0:00:27 ETA:   0:00:45\n"
     ]
    },
    {
     "name": "stdout",
     "output_type": "stream",
     "text": [
      "Archivo 61_pocusatlas_covid.gif descargado exitosamente\n"
     ]
    },
    {
     "name": "stderr",
     "output_type": "stream",
     "text": [
      " 40% (13 of 32) |#########               | Elapsed Time: 0:00:28 ETA:   0:00:41\n"
     ]
    },
    {
     "name": "stdout",
     "output_type": "stream",
     "text": [
      "Archivo 62_pocusatlas_normal.gif descargado exitosamente\n"
     ]
    },
    {
     "name": "stderr",
     "output_type": "stream",
     "text": [
      " 43% (14 of 32) |##########              | Elapsed Time: 0:00:29 ETA:   0:00:38\n"
     ]
    },
    {
     "name": "stdout",
     "output_type": "stream",
     "text": [
      "Archivo 63_pocusatlas_covid.gif descargado exitosamente\n"
     ]
    },
    {
     "name": "stderr",
     "output_type": "stream",
     "text": [
      " 46% (15 of 32) |###########             | Elapsed Time: 0:00:31 ETA:   0:00:35\n"
     ]
    },
    {
     "name": "stdout",
     "output_type": "stream",
     "text": [
      "Archivo 64_pocusatlas_pneumonia.gif descargado exitosamente\n"
     ]
    },
    {
     "name": "stderr",
     "output_type": "stream",
     "text": [
      " 50% (16 of 32) |############            | Elapsed Time: 0:00:32 ETA:   0:00:32\n"
     ]
    },
    {
     "name": "stdout",
     "output_type": "stream",
     "text": [
      "Archivo 65_pocusatlas_pneumonia.gif descargado exitosamente\n"
     ]
    },
    {
     "name": "stderr",
     "output_type": "stream",
     "text": [
      " 53% (17 of 32) |############            | Elapsed Time: 0:00:34 ETA:   0:00:30\n"
     ]
    },
    {
     "name": "stdout",
     "output_type": "stream",
     "text": [
      "Archivo 66_pocusatlas_covid.gif descargado exitosamente\n"
     ]
    },
    {
     "name": "stderr",
     "output_type": "stream",
     "text": [
      " 56% (18 of 32) |#############           | Elapsed Time: 0:00:35 ETA:   0:00:27\n"
     ]
    },
    {
     "name": "stdout",
     "output_type": "stream",
     "text": [
      "Archivo 67_pocusatlas_covid.gif descargado exitosamente\n"
     ]
    },
    {
     "name": "stderr",
     "output_type": "stream",
     "text": [
      " 59% (19 of 32) |##############          | Elapsed Time: 0:00:37 ETA:   0:00:25\n"
     ]
    },
    {
     "name": "stdout",
     "output_type": "stream",
     "text": [
      "Archivo 68_pocusatlas_pneumonia.gif descargado exitosamente\n"
     ]
    },
    {
     "name": "stderr",
     "output_type": "stream",
     "text": [
      " 62% (20 of 32) |###############         | Elapsed Time: 0:00:38 ETA:   0:00:23\n"
     ]
    },
    {
     "name": "stdout",
     "output_type": "stream",
     "text": [
      "Archivo 69_pocusatlas_pneumonia.gif descargado exitosamente\n"
     ]
    },
    {
     "name": "stderr",
     "output_type": "stream",
     "text": [
      " 65% (21 of 32) |###############         | Elapsed Time: 0:00:40 ETA:   0:00:20\n"
     ]
    },
    {
     "name": "stdout",
     "output_type": "stream",
     "text": [
      "Archivo 70_pocusatlas_pneumonia.gif descargado exitosamente\n"
     ]
    },
    {
     "name": "stderr",
     "output_type": "stream",
     "text": [
      " 68% (22 of 32) |################        | Elapsed Time: 0:00:41 ETA:   0:00:18\n"
     ]
    },
    {
     "name": "stdout",
     "output_type": "stream",
     "text": [
      "Archivo 71_pocusatlas_normal.gif descargado exitosamente\n"
     ]
    },
    {
     "name": "stderr",
     "output_type": "stream",
     "text": [
      " 71% (23 of 32) |#################       | Elapsed Time: 0:00:42 ETA:   0:00:16\n"
     ]
    },
    {
     "name": "stdout",
     "output_type": "stream",
     "text": [
      "Archivo 72_pocusatlas_pneumonia.gif descargado exitosamente\n"
     ]
    },
    {
     "name": "stderr",
     "output_type": "stream",
     "text": [
      " 75% (24 of 32) |##################      | Elapsed Time: 0:00:44 ETA:   0:00:14\n"
     ]
    },
    {
     "name": "stdout",
     "output_type": "stream",
     "text": [
      "Archivo 73_pocusatlas_covid.gif descargado exitosamente\n"
     ]
    },
    {
     "name": "stderr",
     "output_type": "stream",
     "text": [
      " 78% (25 of 32) |##################      | Elapsed Time: 0:00:46 ETA:   0:00:12\n"
     ]
    },
    {
     "name": "stdout",
     "output_type": "stream",
     "text": [
      "Archivo 74_pocusatlas_covid.gif descargado exitosamente\n"
     ]
    },
    {
     "name": "stderr",
     "output_type": "stream",
     "text": [
      " 81% (26 of 32) |###################     | Elapsed Time: 0:00:47 ETA:   0:00:11\n"
     ]
    },
    {
     "name": "stdout",
     "output_type": "stream",
     "text": [
      "Archivo 75_pocusatlas_pneumonia.gif descargado exitosamente\n"
     ]
    },
    {
     "name": "stderr",
     "output_type": "stream",
     "text": [
      " 84% (27 of 32) |####################    | Elapsed Time: 0:00:49 ETA:   0:00:09\n"
     ]
    },
    {
     "name": "stdout",
     "output_type": "stream",
     "text": [
      "Archivo 76_pocusatlas_normal.gif descargado exitosamente\n"
     ]
    },
    {
     "name": "stderr",
     "output_type": "stream",
     "text": [
      " 87% (28 of 32) |#####################   | Elapsed Time: 0:00:51 ETA:   0:00:07\n"
     ]
    },
    {
     "name": "stdout",
     "output_type": "stream",
     "text": [
      "Archivo 77_pocusatlas_normal.gif descargado exitosamente\n"
     ]
    },
    {
     "name": "stderr",
     "output_type": "stream",
     "text": [
      " 90% (29 of 32) |#####################   | Elapsed Time: 0:00:53 ETA:   0:00:05\n"
     ]
    },
    {
     "name": "stdout",
     "output_type": "stream",
     "text": [
      "Archivo 78_pocusatlas_normal.gif descargado exitosamente\n"
     ]
    },
    {
     "name": "stderr",
     "output_type": "stream",
     "text": [
      " 93% (30 of 32) |######################  | Elapsed Time: 0:00:56 ETA:   0:00:03\n"
     ]
    },
    {
     "name": "stdout",
     "output_type": "stream",
     "text": [
      "Archivo 79_pocusatlas_pneumonia.gif descargado exitosamente\n"
     ]
    },
    {
     "name": "stderr",
     "output_type": "stream",
     "text": [
      " 96% (31 of 32) |####################### | Elapsed Time: 0:00:58 ETA:   0:00:01\n"
     ]
    },
    {
     "name": "stdout",
     "output_type": "stream",
     "text": [
      "Archivo 80_pocusatlas_pneumonia.gif descargado exitosamente\n"
     ]
    },
    {
     "name": "stderr",
     "output_type": "stream",
     "text": [
      "100% (32 of 32) |########################| Elapsed Time: 0:01:00 Time:  0:01:00\n"
     ]
    },
    {
     "name": "stdout",
     "output_type": "stream",
     "text": [
      "=== Todos los archivos de video de ThePocusAtlas se descargaron correctamente ===\n",
      " 32 archivos descargados\n"
     ]
    }
   ],
   "source": [
    "print('...Extrayendo archivos de video de The POCUS Atlas...')\n",
    "pocus_df = metadata[metadata.source == 'PocusAtlas']\n",
    "progress = ProgressBar(max_value=pocus_df.shape[0]) #Barra de progreso\n",
    "NumDes = 0\n",
    "NumT = 0\n",
    "\n",
    "for idx, row in progress(pocus_df.iterrows()):\n",
    "    filename = row.id + '.' + row.filetype\n",
    "    NumT = NumT + 1\n",
    "    try:\n",
    "        #Solicitud para descarga de archivos\n",
    "        vid = requests.get(row.url, timeout=10) #.content\n",
    "        vid.raise_for_status() #Verificación de errores en la solicitud\n",
    "        with open(os.path.join('data/video/', filename), 'wb') as handler:\n",
    "            handler.write(vid.content)\n",
    "            print(f\"Archivo {filename} descargado exitosamente\")\n",
    "            NumDes = NumDes + 1\n",
    "        time.sleep(1) #Tiempo de espera para evitar sobrecargas\n",
    "    except requests.exceptions.Timeout:\n",
    "        print(f\"Error - Se agoto el tiempo de espera intentando descargar el archivo: {filename}.\")\n",
    "    except requests.exceptions.RequestException as e:\n",
    "        print(f\"Error mientras se descarga {filename}: {e}\")    \n",
    "    except Exception as e:\n",
    "        print(f\"Error inesperado descargando {filename}: {e}\")\n",
    "\n",
    "if NumDes == NumT:\n",
    "    print(\"=== Todos los archivos de video de ThePocusAtlas se descargaron correctamente ===\")\n",
    "    print(f\" {NumT} archivos descargados\")\n",
    "elif NumDes > 0:\n",
    "    print(\"=== No se descargaron todos los archivos de video ===\")\n",
    "    print(f\" {NumDes} videos descargados de {NumT}\")\n",
    "else:\n",
    "    print(f\"=== No se descargo ningun archivo de video de {NumT}===\")  "
   ]
  },
  {
   "cell_type": "markdown",
   "metadata": {},
   "source": [
    "## 1.5. Radiopaedia"
   ]
  },
  {
   "cell_type": "code",
   "execution_count": 52,
   "metadata": {},
   "outputs": [
    {
     "name": "stderr",
     "output_type": "stream",
     "text": [
      "  0% (0 of 5) |                          | Elapsed Time: 0:00:00 ETA:  --:--:--\n"
     ]
    },
    {
     "name": "stdout",
     "output_type": "stream",
     "text": [
      "...Extrayendo archivos de vídeo de Radiopaedia...\n",
      "Archivo 152_radio_normal.mp4 descargado y guardado\n"
     ]
    },
    {
     "name": "stderr",
     "output_type": "stream",
     "text": [
      " 20% (1 of 5) |#####                     | Elapsed Time: 0:00:01 ETA:   0:00:05\n"
     ]
    },
    {
     "name": "stdout",
     "output_type": "stream",
     "text": [
      "Archivo 153_radio_pneumonia.mp4 descargado y guardado\n"
     ]
    },
    {
     "name": "stderr",
     "output_type": "stream",
     "text": [
      " 40% (2 of 5) |##########                | Elapsed Time: 0:00:03 ETA:   0:00:05\n"
     ]
    },
    {
     "name": "stdout",
     "output_type": "stream",
     "text": [
      "Archivo 154_radio_other.mp4 descargado y guardado\n"
     ]
    },
    {
     "name": "stderr",
     "output_type": "stream",
     "text": [
      " 60% (3 of 5) |###############           | Elapsed Time: 0:00:06 ETA:   0:00:04\n"
     ]
    },
    {
     "name": "stdout",
     "output_type": "stream",
     "text": [
      "Archivo 155_radio_other.mp4 descargado y guardado\n"
     ]
    },
    {
     "name": "stderr",
     "output_type": "stream",
     "text": [
      " 80% (4 of 5) |####################      | Elapsed Time: 0:00:08 ETA:   0:00:02\n"
     ]
    },
    {
     "name": "stdout",
     "output_type": "stream",
     "text": [
      "Archivo 156_radio_other.mp4 descargado y guardado\n"
     ]
    },
    {
     "name": "stderr",
     "output_type": "stream",
     "text": [
      "100% (5 of 5) |##########################| Elapsed Time: 0:00:10 Time:  0:00:10\n"
     ]
    },
    {
     "name": "stdout",
     "output_type": "stream",
     "text": [
      "=== Todos los archivos de video de Radiopaedia se descargaron correctamente ===\n",
      " 5 archivos descargados\n"
     ]
    }
   ],
   "source": [
    "print('...Extrayendo archivos de vídeo de Radiopaedia...')\n",
    "radio_df = metadata[metadata.source == 'Radiopaedia']\n",
    "progress = ProgressBar(max_value=radio_df.shape[0]) # Barra de progreso\n",
    "NumDes = 0\n",
    "NumT = 0\n",
    "\n",
    "for idx, row in progress(radio_df.iterrows()):\n",
    "    filename = row.id + '.' + row.filetype\n",
    "    NumT = NumT + 1\n",
    "    try:\n",
    "        # Escribiendo los archivos de vídeo en el disco\n",
    "        vid = requests.get(row.url, timeout=10)   #.content\n",
    "        vid.raise_for_status() #Verificación de errores en la solicitud\n",
    "        with open(os.path.join('data/video/', filename), 'wb') as handler:\n",
    "            handler.write(vid.content)\n",
    "            print(f\"Archivo {filename} descargado y guardado\")\n",
    "            NumDes = NumDes + 1\n",
    "        time.sleep(1) #Tiempo de espera para evitar sobrecargas\n",
    "    except requests.exceptions.Timeout:\n",
    "        print(f\"Error - Se agoto el tiempo de espera de la descarga de: {filename}\")\n",
    "    except requests.exceptions.RequestException as e:\n",
    "        print(f\"Error al descargar {filename}: {e}\")\n",
    "    except Exception as e:\n",
    "        print(f\"Error inesperado descargando {filename}\")\n",
    "\n",
    "if NumDes == NumT:\n",
    "    print(\"=== Todos los archivos de video de Radiopaedia se descargaron correctamente ===\")\n",
    "    print(f\" {NumT} archivos descargados\")\n",
    "elif NumDes > 0:\n",
    "    print(\"=== No se descargaron todos los archivos de video ===\")\n",
    "    print(f\" {NumDes} videos descargados de {NumT}\")\n",
    "else:\n",
    "    print(f\"=== No se descargo ningun archivo de video de {NumT}===\")"
   ]
  },
  {
   "cell_type": "markdown",
   "metadata": {},
   "source": [
    "## 1.6. CoreUltrasound"
   ]
  },
  {
   "cell_type": "code",
   "execution_count": 54,
   "metadata": {},
   "outputs": [
    {
     "name": "stderr",
     "output_type": "stream",
     "text": [
      "  0% (0 of 18) |                         | Elapsed Time: 0:00:00 ETA:  --:--:--\n",
      "  5% (1 of 18) |#                        | Elapsed Time: 0:00:00 ETA:   0:00:01\n"
     ]
    },
    {
     "name": "stdout",
     "output_type": "stream",
     "text": [
      "...Extrayendo archivos de vídeo de CoreUltrasound...\n",
      "Utilizando el enlace de descarga: https://vimeo.com/501985162\n",
      "Ha ocurrido un error inesperado durante la descarga de 157_core_other.mp4: ('Connection aborted.', ConnectionResetError(10054, 'Se ha forzado la interrupción de una conexión existente por el host remoto', None, 10054, None))\n",
      "Utilizando el enlace de descarga: https://vimeo.com/472743963\n",
      "Ha ocurrido un error inesperado durante la descarga de 158_core_pneumonia.mp4: ('Connection aborted.', ConnectionResetError(10054, 'Se ha forzado la interrupción de una conexión existente por el host remoto', None, 10054, None))\n",
      "Utilizando el enlace de descarga: https://vimeo.com/428684785\n"
     ]
    },
    {
     "name": "stderr",
     "output_type": "stream",
     "text": [
      " 16% (3 of 18) |####                     | Elapsed Time: 0:00:20 ETA:   0:01:40\n",
      " 22% (4 of 18) |#####                    | Elapsed Time: 0:00:20 ETA:   0:01:10\n",
      " 33% (6 of 18) |########                 | Elapsed Time: 0:00:20 ETA:   0:00:40\n"
     ]
    },
    {
     "name": "stdout",
     "output_type": "stream",
     "text": [
      "Ha ocurrido un error inesperado durante la descarga de 159_core_other.mp4: HTTPSConnectionPool(host='player.vimeo.com', port=443): Read timed out. (read timeout=None)\n",
      "Utilizando el enlace de descarga: https://vimeo.com/428684785\n",
      "Ha ocurrido un error inesperado durante la descarga de 160_core_other.mp4: ('Connection aborted.', ConnectionResetError(10054, 'Se ha forzado la interrupción de una conexión existente por el host remoto', None, 10054, None))\n",
      "Utilizando el enlace de descarga: https://vimeo.com/395474090\n",
      "Ha ocurrido un error inesperado durante la descarga de 161_core_other.mp4: ('Connection aborted.', ConnectionResetError(10054, 'Se ha forzado la interrupción de una conexión existente por el host remoto', None, 10054, None))\n",
      "Utilizando el enlace de descarga: https://vimeo.com/395474090\n",
      "Ha ocurrido un error inesperado durante la descarga de 162_core_other.mp4: ('Connection aborted.', ConnectionResetError(10054, 'Se ha forzado la interrupción de una conexión existente por el host remoto', None, 10054, None))\n",
      "Utilizando el enlace de descarga: https://d25ixnv6uinqzi.cloudfront.net/year2/uotw69.5.mp4\n",
      "Archivo 163_core_other.mp4 descargado correctamente\n"
     ]
    },
    {
     "name": "stderr",
     "output_type": "stream",
     "text": [
      " 38% (7 of 18) |#########                | Elapsed Time: 0:00:23 ETA:   0:00:36\n"
     ]
    },
    {
     "name": "stdout",
     "output_type": "stream",
     "text": [
      "Utilizando el enlace de descarga: https://d25ixnv6uinqzi.cloudfront.net/year2/uotw62.1.mp4\n",
      "Archivo 164_core_normal.mp4 descargado correctamente\n"
     ]
    },
    {
     "name": "stderr",
     "output_type": "stream",
     "text": [
      " 44% (8 of 18) |###########              | Elapsed Time: 0:00:26 ETA:   0:00:33\n"
     ]
    },
    {
     "name": "stdout",
     "output_type": "stream",
     "text": [
      "Utilizando el enlace de descarga: https://d25ixnv6uinqzi.cloudfront.net/post_files/uotw52.1.mp4\n",
      "Archivo 165_core_other.mp4 descargado correctamente\n"
     ]
    },
    {
     "name": "stderr",
     "output_type": "stream",
     "text": [
      " 50% (9 of 18) |############             | Elapsed Time: 0:00:40 ETA:   0:00:40\n"
     ]
    },
    {
     "name": "stdout",
     "output_type": "stream",
     "text": [
      "Utilizando el enlace de descarga: https://d25ixnv6uinqzi.cloudfront.net/post_files/uotw48.5.mp4\n",
      "Archivo 166_core_other.mp4 descargado correctamente\n"
     ]
    },
    {
     "name": "stderr",
     "output_type": "stream",
     "text": [
      " 55% (10 of 18) |#############           | Elapsed Time: 0:00:43 ETA:   0:00:35\n"
     ]
    },
    {
     "name": "stdout",
     "output_type": "stream",
     "text": [
      "Utilizando el enlace de descarga: https://d25ixnv6uinqzi.cloudfront.net/post_files/uotw38.2.mp4\n",
      "Archivo 167_core_other.mp4 descargado correctamente\n"
     ]
    },
    {
     "name": "stderr",
     "output_type": "stream",
     "text": [
      " 61% (11 of 18) |##############          | Elapsed Time: 0:00:46 ETA:   0:00:29\n"
     ]
    },
    {
     "name": "stdout",
     "output_type": "stream",
     "text": [
      "Utilizando el enlace de descarga: https://d25ixnv6uinqzi.cloudfront.net/post_files/uotw38.3.mp4\n",
      "Archivo 168_core_other.mp4 descargado correctamente\n"
     ]
    },
    {
     "name": "stderr",
     "output_type": "stream",
     "text": [
      " 66% (12 of 18) |################        | Elapsed Time: 0:00:50 ETA:   0:00:25\n"
     ]
    },
    {
     "name": "stdout",
     "output_type": "stream",
     "text": [
      "Utilizando el enlace de descarga: https://d25ixnv6uinqzi.cloudfront.net/post_files/uotw36.2.mp4\n",
      "Archivo 169_core_other.mp4 descargado correctamente\n"
     ]
    },
    {
     "name": "stderr",
     "output_type": "stream",
     "text": [
      " 72% (13 of 18) |#################       | Elapsed Time: 0:00:53 ETA:   0:00:20\n"
     ]
    },
    {
     "name": "stdout",
     "output_type": "stream",
     "text": [
      "Utilizando el enlace de descarga: https://d25ixnv6uinqzi.cloudfront.net/post_files/uotw34.1.mp4\n",
      "Archivo 170_core_pneumonia.mp4 descargado correctamente\n"
     ]
    },
    {
     "name": "stderr",
     "output_type": "stream",
     "text": [
      " 77% (14 of 18) |##################      | Elapsed Time: 0:00:56 ETA:   0:00:16\n"
     ]
    },
    {
     "name": "stdout",
     "output_type": "stream",
     "text": [
      "Utilizando el enlace de descarga: https://d25ixnv6uinqzi.cloudfront.net/post_files/uotw34.2.mp4\n",
      "Archivo 171_core_pneumonia.mp4 descargado correctamente\n"
     ]
    },
    {
     "name": "stderr",
     "output_type": "stream",
     "text": [
      " 83% (15 of 18) |####################    | Elapsed Time: 0:00:59 ETA:   0:00:11\n"
     ]
    },
    {
     "name": "stdout",
     "output_type": "stream",
     "text": [
      "Utilizando el enlace de descarga: https://d25ixnv6uinqzi.cloudfront.net/post_files/uotw7.2.mp4\n",
      "Archivo 172_core_other.mp4 descargado correctamente\n"
     ]
    },
    {
     "name": "stderr",
     "output_type": "stream",
     "text": [
      " 88% (16 of 18) |#####################   | Elapsed Time: 0:01:02 ETA:   0:00:07\n"
     ]
    },
    {
     "name": "stdout",
     "output_type": "stream",
     "text": [
      "Utilizando el enlace de descarga: https://d25ixnv6uinqzi.cloudfront.net/post_files/uotw6.1.mp4\n",
      "Archivo 173_core_other.mp4 descargado correctamente\n"
     ]
    },
    {
     "name": "stderr",
     "output_type": "stream",
     "text": [
      " 94% (17 of 18) |######################  | Elapsed Time: 0:01:05 ETA:   0:00:03\n",
      "100% (18 of 18) |########################| Elapsed Time: 0:01:05 Time:  0:01:05\n"
     ]
    },
    {
     "name": "stdout",
     "output_type": "stream",
     "text": [
      "Utilizando el enlace de descarga: https://vimeo.com/419341838\n",
      "Ha ocurrido un error inesperado durante la descarga de 174_core_covid.mp4: ('Connection aborted.', ConnectionResetError(10054, 'Se ha forzado la interrupción de una conexión existente por el host remoto', None, 10054, None))\n",
      "=== No se descargaron todos los archivos de video ===\n",
      " 11 videos descargados de 18\n"
     ]
    }
   ],
   "source": [
    "print('...Extrayendo archivos de vídeo de CoreUltrasound...')\n",
    "core_df = metadata[metadata.source == 'CoreUltrasound']\n",
    "progress = ProgressBar(max_value=core_df.shape[0]) # Barra de progreso\n",
    "NumDes = 0\n",
    "NumT = 0\n",
    "\n",
    "for idx, row in progress(core_df.iterrows()):\n",
    "    filename = row.id + '.' + row.filetype\n",
    "    NumT = NumT + 1\n",
    "    try:\n",
    "        # Extraer video de Vimeo\n",
    "        if 'vimeo' in row.url:\n",
    "            v = Vimeo(row.url)\n",
    "            print(f\"Utilizando el enlace de descarga: {row.url}\") #Imprimir el enlace de descarga\n",
    "            stream = v.streams # Lista de transmisiones disponibles de diferente calidad\n",
    "            highest_quality_available = stream[-1]\n",
    "            print(f\"Archivo {filename} descargado correctamente\")\n",
    "            highest_quality_available.download(download_directory = 'data/video/', filename = filename.split('.')[0])\n",
    "            NumDes = NumDes + 1\n",
    "        # Extraer videos mp4 de otros enlaces \n",
    "        else:\n",
    "            # Escribir archivos de video en el disco \n",
    "            print(f\"Utilizando el enlace de descarga: {row.url}\") #Imprimir el enlace de descarga\n",
    "            vid = requests.get(row.url, timeout=10) #.content\n",
    "            vid.raise_for_status()\n",
    "            with open(os.path.join('data/video/', filename), 'wb') as handler:\n",
    "                handler.write(vid.content)\n",
    "            print(f\"Archivo {filename} descargado correctamente\")\n",
    "            NumDes = NumDes + 1\n",
    "            time.sleep(3)\n",
    "    except Exception as e:\n",
    "        print(f\"Ha ocurrido un error inesperado durante la descarga de {filename}: {e}\")\n",
    "     \n",
    "if NumDes == NumT:\n",
    "    print(\"=== Todos los archivos de video de CoreUltrasound se descargaron correctamente ===\")\n",
    "    print(f\" {NumT} archivos descargados\")\n",
    "elif NumDes > 0:\n",
    "    print(\"=== No se descargaron todos los archivos de video ===\")\n",
    "    print(f\" {NumDes} videos descargados de {NumT}\")\n",
    "else:\n",
    "    print(f\"=== No se descargo ningun archivo de video de {NumT}===\")\n",
    " "
   ]
  },
  {
   "cell_type": "markdown",
   "metadata": {},
   "source": [
    "## 1.7. UF"
   ]
  },
  {
   "cell_type": "code",
   "execution_count": 21,
   "metadata": {},
   "outputs": [
    {
     "name": "stdout",
     "output_type": "stream",
     "text": [
      "=== Descargando Archivos de video de UF ===\n",
      "Descarga de data/video/uog22034-sup-0001-VideoS1.mp4 terminada\n",
      "Descarga de data/video/uog22034-sup-0002-VideoS2.avi terminada\n",
      "=== Todos los archivos de video de la primera parte de UF se descargaron correctamente ===\n",
      " 2 archivos descargados\n"
     ]
    }
   ],
   "source": [
    "#paper_df = metadata[(metadata.source == 'Paper') & ((metadata['id'].str.contains('199', na=False)) | (metadata['id'].str.contains('200', na=False)))] \n",
    "\n",
    "print(\"=== Descargando Archivos de video de UF ===\")\n",
    "NumDes = 0\n",
    "NumT = 0\n",
    "\n",
    "#Configuración de Selenium\n",
    "download_dir = r'C:\\Users\\ldiaz\\Desktop\\4 - CON CAMBIOS COVID-US-main\\data\\video'\n",
    "chrome_options = Options()\n",
    "chrome_options.add_argument(\"--headless\") #Modo sin interfaz\n",
    "chrome_options.add_argument(\"user-agent=Mozilla/5.0 (Windows NT 10.0; Win64; x64) AppleWebKit/537.36 (KHTML, like Gecko) Chrome/91.0.4472.124 Safari/537.36 Edg/91.0.864.59\")\n",
    "chrome_options.add_experimental_option(\"prefs\", {\"download.default_directory\": download_dir,\"download.prompt_for_download\": False,\"download.directory_upgrade\": True,\"safebrowsing.enabled\": True})\n",
    "\n",
    "#Ruta al driver de Chrome\n",
    "service = Service(\"utils/chromedriver.exe\")\n",
    "driver = webdriver.Chrome(service=service, options=chrome_options)\n",
    "\n",
    "#URLS a usar\n",
    "urls = {\"https://obgyn.onlinelibrary.wiley.com/action/downloadSupplement?doi=10.1002%2Fuog.22034&file=uog22034-sup-0001-VideoS1.mp4\", \"https://obgyn.onlinelibrary.wiley.com/action/downloadSupplement?doi=10.1002%2Fuog.22034&file=uog22034-sup-0002-VideoS2.avi\"}\n",
    "\n",
    "#Acceder al enlace para la descarga\n",
    "for url in urls:\n",
    "    NumT += 1\n",
    "    filename = row.id + '.' + row.filetype\n",
    "    driver.get(url) #Accede al enlace de descarga directamente\n",
    "    driver.execute_script(\"window.scrollBy(0, 300);\")\n",
    "    time.sleep(10) #Tiempo de espera para las cookies  \n",
    "driver.quit()\n",
    "\n",
    "#Revisar la correcta descarga del archivo\n",
    "for url in urls:    \n",
    "    filename = os.path.join(VIDEO_PATH, url.split(\"file=\")[-1])\n",
    "    if os.path.exists(filename):\n",
    "        print(f\"Descarga de {filename} terminada\")\n",
    "        NumDes += 1\n",
    "    else:\n",
    "        print(f\"Ocurrio un error durante la descarga de {filename}\")\n",
    "\n",
    "if NumDes == NumT:\n",
    "    print(\"=== Todos los archivos de video de la primera parte de UF se descargaron correctamente ===\")\n",
    "    print(f\" {NumT} archivos descargados\")\n",
    "elif NumDes > 0:\n",
    "    print(\"=== No se descargaron todos los archivos de video ===\")\n",
    "    print(f\" {NumDes} videos descargados de {NumT}\")\n",
    "else:\n",
    "    print(f\"=== No se descargo ningun archivo de video de {NumT} ===\")\n"
   ]
  },
  {
   "cell_type": "code",
   "execution_count": null,
   "metadata": {},
   "outputs": [],
   "source": [
    "\"\"\"\n",
    "#Diccionario de encabezados para el dominio utilizado\n",
    "headers_dict = {'obgyn.onlinelibrary.wiley.com': {'User-Agent': 'Mozilla/5.0 (Windows NT 10.0; Win64; x64) AppleWebKit/537.36 (KHTML, like Gecko) Chrome/110.0.0.0 Safari/537.36','Referer': 'https://obgyn.onlinelibrary.wiley.com/action/downloadSupplement?doi=10.1002%2Fuog.22034', 'Accept': 'text/html,application/xhtml+xml,application/xml;q=0.9,image/avif,image/webp,image/apng,*/*;q=0.8', 'Accept-Language': 'en-US,en;q=0.9', 'Connection': 'keep-alive'}}\n",
    "\n",
    "\n",
    "#URLs a utilizar\n",
    "urls = {\"https://obgyn.onlinelibrary.wiley.com/action/downloadSupplement?doi=10.1002%2Fuog.22034&file=uog22034-sup-0001-VideoS1.mp4\", \"https://obgyn.onlinelibrary.wiley.com/action/downloadSupplement?doi=10.1002%2Fuog.22034&file=uog22034-sup-0002-VideoS2.avi\"}\n",
    "\n",
    "session = requests.Session()\n",
    "#Para saber si todas las descargas se realizaron correctamente  \n",
    "Control = 0\n",
    "\n",
    "for url in urls:\n",
    "    filename = os.path.join(VIDEO_PATH, url.split(\"file=\")[-1])\n",
    "    domain = url.split(\"/\")[2]\n",
    "    \n",
    "    #Asignar un Header dinamico\n",
    "    headers = headers_dict.get(domain, {}).copy()\n",
    "    headers['Referer'] = url #Cambia el referer a la URL completa\n",
    "    \n",
    "    try:\n",
    "        \n",
    "        #Ciclo para hacer 3 intentos en caso de errores\n",
    "        for attempt in range(3):\n",
    "            response = session.get(url, headers=headers, stream=True)\n",
    "            print(f\"Para el archivo {filename} ...\")\n",
    "            if response.status_code == 200:\n",
    "                with open(filename, 'wb') as f:\n",
    "                    shutil.copyfileobj(response.raw, f)\n",
    "                print(f'Descarga de {filename} completada')\n",
    "                Control = Control + 1\n",
    "                break\n",
    "            elif response.status_code == 403:\n",
    "                print(f\"Error 403 en intento {attempt + 1}. Reintentando...\")\n",
    "                time.sleep(random.randint(5, 10)) #Tiempo de espera aleatorio entre intentos\n",
    "            else:\n",
    "                print(f'Error al descargar {filename} - Estado : {response.status_code}')\n",
    "                break\n",
    "            #Delay aleatorio para evitar que el servidor bloquee solicitudes\n",
    "            time.sleep(random.randint(3, 5))\n",
    "    except requests.exceptions.RequestException as e:\n",
    "        print(f\"Error inesperado durante la descarga de {filename}: {e}\")\n",
    "if Control == len(urls):\n",
    "    print(\"=== Archivos Descargados correctamente ===\")\n",
    "else:\n",
    "    print(f\"No se pudieron descargar todos los archivos - N° de archivos descargados: {Control}\")\n",
    "\"\"\"\n",
    "    \n",
    "#############################################################################################################   \n",
    "    \n",
    "\"\"\"paper_df = metadata[(metadata.source == 'Paper') & ((metadata['id'].str.contains('199', na=False)) | (metadata['id'].str.contains('200', na=False)))] \n",
    "progress = ProgressBar(max_value=paper_df.shape[0]) \n",
    "\n",
    "#Encabezados de los 2 dominios\n",
    "headers_dict = {'obgyn.onlinelibrary.wiley.com':{'User-Agent':'Mozilla/5.0 (Windows NT 10.0; Win64; x64) AppleWebKit/537.36 (KHTML, like Gecko) Chrome/110.0.0.0 Safari/537.36', 'refer':'https://obgyn.onlinelibrary.wiley.com/action/downloadSupplement?doi=10.1002%2Fuog.22034&file=uog22034-sup-0001-VideoS1.mp4'}}\n",
    "\n",
    "for idx, row in progress(paper_df.iterrows()):\n",
    "    \n",
    "    filename = row.id + '.' + row.filetype\n",
    "    print(f\"Para el video correspondiente el enlace de descarga es: {row.url}\")\n",
    "    # Descarga de archivos \n",
    "    try:\n",
    "        session = requests.Session()\n",
    "        session.headers.update({'User-Agent': 'Mozilla/5.0 (Windows NT 10.0; Win64; x64) AppleWebKit/537.36 (KHTML, like Gecko) Chrome/110.0.0.0 Safari/537.36', 'refer': ''})\n",
    "        r = session.get(row.url, stream=True, timeout=10)\n",
    "        #r = requests.get(row.url, stream=True, headers=headers, timeout=10)\n",
    "        if r.status_code == 200:\n",
    "            with open(os.path.join('data/video/', filename), 'wb') as f:\n",
    "                r.raw.decode_content = True\n",
    "                shutil.copyfileobj(r.raw, f) #Copia el contenido directamente al archivo local en modo binario \n",
    "            print(f\"Archivo {filename} correctamente descargado\")\n",
    "        else:\n",
    "            print(f\"Error al descargar: Estado - {r.status_code}\")\n",
    "    except Exception as e:\n",
    "        print(f\"Error inesperado al descargar {filename}: {e}\")\n",
    "    \n",
    "    # Estableciendo un delay aleatorio, de lo contrario la conexión se cerrara \n",
    "    delay = random.randint(3, 5)\n",
    "    time.sleep(delay)\n",
    "    \n",
    "print('=== 2 archivos de video extra descargados! ===')        \n",
    "\"\"\""
   ]
  },
  {
   "cell_type": "code",
   "execution_count": 57,
   "metadata": {},
   "outputs": [
    {
     "name": "stderr",
     "output_type": "stream",
     "text": [
      "  0% (0 of 24) |                         | Elapsed Time: 0:00:00 ETA:  --:--:--\n"
     ]
    },
    {
     "name": "stdout",
     "output_type": "stream",
     "text": [
      "...Extrayendo archivos de video de UF...\n",
      "Archivo 175_uf_normal.mp4 correctamente descargado\n"
     ]
    },
    {
     "name": "stderr",
     "output_type": "stream",
     "text": [
      "  4% (1 of 24) |#                        | Elapsed Time: 0:00:03 ETA:   0:01:25\n"
     ]
    },
    {
     "name": "stdout",
     "output_type": "stream",
     "text": [
      "Archivo 176_uf_normal.wmv correctamente descargado\n"
     ]
    },
    {
     "name": "stderr",
     "output_type": "stream",
     "text": [
      "  8% (2 of 24) |##                       | Elapsed Time: 0:00:08 ETA:   0:01:35\n"
     ]
    },
    {
     "name": "stdout",
     "output_type": "stream",
     "text": [
      "Archivo 177_uf_normal.wmv correctamente descargado\n"
     ]
    },
    {
     "name": "stderr",
     "output_type": "stream",
     "text": [
      " 12% (3 of 24) |###                      | Elapsed Time: 0:00:13 ETA:   0:01:35\n"
     ]
    },
    {
     "name": "stdout",
     "output_type": "stream",
     "text": [
      "Archivo 178_uf_other.mp4 correctamente descargado\n"
     ]
    },
    {
     "name": "stderr",
     "output_type": "stream",
     "text": [
      " 16% (4 of 24) |####                     | Elapsed Time: 0:00:21 ETA:   0:01:46\n"
     ]
    },
    {
     "name": "stdout",
     "output_type": "stream",
     "text": [
      "Archivo 179_uf_other.wmv correctamente descargado\n"
     ]
    },
    {
     "name": "stderr",
     "output_type": "stream",
     "text": [
      " 20% (5 of 24) |#####                    | Elapsed Time: 0:00:37 ETA:   0:02:21\n"
     ]
    },
    {
     "name": "stdout",
     "output_type": "stream",
     "text": [
      "Archivo 180_uf_normal.wmv correctamente descargado\n"
     ]
    },
    {
     "name": "stderr",
     "output_type": "stream",
     "text": [
      " 25% (6 of 24) |######                   | Elapsed Time: 0:00:43 ETA:   0:02:10\n"
     ]
    },
    {
     "name": "stdout",
     "output_type": "stream",
     "text": [
      "Archivo 181_uf_other.wmv correctamente descargado\n"
     ]
    },
    {
     "name": "stderr",
     "output_type": "stream",
     "text": [
      " 29% (7 of 24) |#######                  | Elapsed Time: 0:00:49 ETA:   0:01:59\n"
     ]
    },
    {
     "name": "stdout",
     "output_type": "stream",
     "text": [
      "Archivo 182_uf_other.wmv correctamente descargado\n"
     ]
    },
    {
     "name": "stderr",
     "output_type": "stream",
     "text": [
      " 33% (8 of 24) |########                 | Elapsed Time: 0:00:55 ETA:   0:01:50\n"
     ]
    },
    {
     "name": "stdout",
     "output_type": "stream",
     "text": [
      "Archivo 183_uf_other.mp4 correctamente descargado\n"
     ]
    },
    {
     "name": "stderr",
     "output_type": "stream",
     "text": [
      " 37% (9 of 24) |#########                | Elapsed Time: 0:01:01 ETA:   0:01:41\n"
     ]
    },
    {
     "name": "stdout",
     "output_type": "stream",
     "text": [
      "Archivo 184_uf_pneumonia.mp4 correctamente descargado\n"
     ]
    },
    {
     "name": "stderr",
     "output_type": "stream",
     "text": [
      " 41% (10 of 24) |##########              | Elapsed Time: 0:01:07 ETA:   0:01:34\n"
     ]
    },
    {
     "name": "stdout",
     "output_type": "stream",
     "text": [
      "Archivo 185_uf_other.mp4 correctamente descargado\n"
     ]
    },
    {
     "name": "stderr",
     "output_type": "stream",
     "text": [
      " 45% (11 of 24) |###########             | Elapsed Time: 0:01:24 ETA:   0:01:39\n"
     ]
    },
    {
     "name": "stdout",
     "output_type": "stream",
     "text": [
      "Archivo 186_uf_other.wmv correctamente descargado\n"
     ]
    },
    {
     "name": "stderr",
     "output_type": "stream",
     "text": [
      " 50% (12 of 24) |############            | Elapsed Time: 0:01:43 ETA:   0:01:43\n"
     ]
    },
    {
     "name": "stdout",
     "output_type": "stream",
     "text": [
      "Archivo 187_uf_other.mp4 correctamente descargado\n"
     ]
    },
    {
     "name": "stderr",
     "output_type": "stream",
     "text": [
      " 54% (13 of 24) |#############           | Elapsed Time: 0:01:49 ETA:   0:01:32\n"
     ]
    },
    {
     "name": "stdout",
     "output_type": "stream",
     "text": [
      "Archivo 188_uf_other.wmv correctamente descargado\n"
     ]
    },
    {
     "name": "stderr",
     "output_type": "stream",
     "text": [
      " 58% (14 of 24) |##############          | Elapsed Time: 0:01:56 ETA:   0:01:22\n"
     ]
    },
    {
     "name": "stdout",
     "output_type": "stream",
     "text": [
      "Archivo 189_uf_other.wmv correctamente descargado\n"
     ]
    },
    {
     "name": "stderr",
     "output_type": "stream",
     "text": [
      " 62% (15 of 24) |###############         | Elapsed Time: 0:02:02 ETA:   0:01:13\n"
     ]
    },
    {
     "name": "stdout",
     "output_type": "stream",
     "text": [
      "Archivo 190_uf_normal.wmv correctamente descargado\n"
     ]
    },
    {
     "name": "stderr",
     "output_type": "stream",
     "text": [
      " 66% (16 of 24) |################        | Elapsed Time: 0:02:07 ETA:   0:01:03\n"
     ]
    },
    {
     "name": "stdout",
     "output_type": "stream",
     "text": [
      "Archivo 191_uf_normal.wmv correctamente descargado\n"
     ]
    },
    {
     "name": "stderr",
     "output_type": "stream",
     "text": [
      " 70% (17 of 24) |#################       | Elapsed Time: 0:02:13 ETA:   0:00:55\n"
     ]
    },
    {
     "name": "stdout",
     "output_type": "stream",
     "text": [
      "Archivo 192_uf_other.mp4 correctamente descargado\n"
     ]
    },
    {
     "name": "stderr",
     "output_type": "stream",
     "text": [
      " 75% (18 of 24) |##################      | Elapsed Time: 0:02:28 ETA:   0:00:49\n"
     ]
    },
    {
     "name": "stdout",
     "output_type": "stream",
     "text": [
      "Archivo 193_uf_other.wmv correctamente descargado\n"
     ]
    },
    {
     "name": "stderr",
     "output_type": "stream",
     "text": [
      " 79% (19 of 24) |###################     | Elapsed Time: 0:02:33 ETA:   0:00:40\n"
     ]
    },
    {
     "name": "stdout",
     "output_type": "stream",
     "text": [
      "Archivo 194_uf_other.mov correctamente descargado\n"
     ]
    },
    {
     "name": "stderr",
     "output_type": "stream",
     "text": [
      " 83% (20 of 24) |####################    | Elapsed Time: 0:02:39 ETA:   0:00:31\n"
     ]
    },
    {
     "name": "stdout",
     "output_type": "stream",
     "text": [
      "Archivo 195_uf_other.mov correctamente descargado\n"
     ]
    },
    {
     "name": "stderr",
     "output_type": "stream",
     "text": [
      " 87% (21 of 24) |#####################   | Elapsed Time: 0:02:43 ETA:   0:00:23\n"
     ]
    },
    {
     "name": "stdout",
     "output_type": "stream",
     "text": [
      "Archivo 196_uf_other.mp4 correctamente descargado\n"
     ]
    },
    {
     "name": "stderr",
     "output_type": "stream",
     "text": [
      " 91% (22 of 24) |######################  | Elapsed Time: 0:02:46 ETA:   0:00:15\n"
     ]
    },
    {
     "name": "stdout",
     "output_type": "stream",
     "text": [
      "Archivo 197_uf_other.mp4 correctamente descargado\n"
     ]
    },
    {
     "name": "stderr",
     "output_type": "stream",
     "text": [
      " 95% (23 of 24) |####################### | Elapsed Time: 0:02:51 ETA:   0:00:07\n"
     ]
    },
    {
     "name": "stdout",
     "output_type": "stream",
     "text": [
      "Archivo 198_uf_other.wmv correctamente descargado\n"
     ]
    },
    {
     "name": "stderr",
     "output_type": "stream",
     "text": [
      "100% (24 of 24) |########################| Elapsed Time: 0:02:56 Time:  0:02:56\n"
     ]
    },
    {
     "name": "stdout",
     "output_type": "stream",
     "text": [
      ".......... Para la parte 2 de archivos de UF\n",
      "=== Todos los archivos de video de UF se descargaron correctamente ===\n",
      " 24 archivos descargados\n"
     ]
    }
   ],
   "source": [
    "print('...Extrayendo archivos de video de UF...')\n",
    "uf_df = metadata[metadata.source == 'UF']\n",
    "NumDes = 0\n",
    "NumT = 0\n",
    "\n",
    "progress = ProgressBar(max_value=uf_df.shape[0]) \n",
    "#Descarga de archivos\n",
    "for idx, row in progress(uf_df.iterrows()):\n",
    "    filename = row.id + '.' + row.filetype \n",
    "    NumT = NumT + 1\n",
    "    # Escribe los archivos de video en el disco\n",
    "    try:\n",
    "        r = requests.get(row.url, stream=True, headers={'User-agent': 'Mozilla/5.0'})\n",
    "        if r.status_code == 200:\n",
    "            with open(os.path.join('data/video/', filename), 'wb') as f:\n",
    "                r.raw.decode_content = True\n",
    "                shutil.copyfileobj(r.raw, f)  \n",
    "                print(f\"Archivo {filename} correctamente descargado\")\n",
    "                NumDes = NumDes + 1\n",
    "        else:\n",
    "            print(f\"Error al descargar: Estado - {r.status_code}\")     \n",
    "    except requests.exceptions.RequestException as e:\n",
    "        print(f\"Se presento un error durante la descarga de {filename}: {e}\")\n",
    "        continue #Para continuar con los archivos restantes\n",
    "\n",
    "    # Establece un delay aleatorio, de lo contrario se cerrara la conexión \n",
    "    delay = random.randint(3, 5)\n",
    "    time.sleep(delay)\n",
    "\n",
    "print(\".......... Para la parte 2 de archivos de UF\")\n",
    "if NumDes == NumT:\n",
    "    print(\"=== Todos los archivos de video de UF se descargaron correctamente ===\")\n",
    "    print(f\" {NumT} archivos descargados\")\n",
    "elif NumDes > 0:\n",
    "    print(\"=== No se descargaron todos los archivos de video ===\")\n",
    "    print(f\" {NumDes} videos descargados de {NumT}\")\n",
    "else:\n",
    "    print(f\"=== No se descargo ningun archivo de video de {NumT}===\")\n",
    "\n",
    "\n",
    "   "
   ]
  },
  {
   "cell_type": "markdown",
   "metadata": {},
   "source": [
    "## 1.8. Scientific Publications"
   ]
  },
  {
   "cell_type": "code",
   "execution_count": 14,
   "metadata": {},
   "outputs": [
    {
     "name": "stdout",
     "output_type": "stream",
     "text": [
      "...Extrayendo archivos de vídeo de \"Scientific Publications\"...\n"
     ]
    },
    {
     "name": "stderr",
     "output_type": "stream",
     "text": [
      "  0% (0 of 22) |                         | Elapsed Time: 0:00:00 ETA:  --:--:--\n"
     ]
    },
    {
     "name": "stdout",
     "output_type": "stream",
     "text": [
      "Utilizando el enlace de descarga: https://obgyn.onlinelibrary.wiley.com/action/downloadSupplement?doi=10.1002%2Fuog.22034&file=uog22034-sup-0001-VideoS1.mp4\n",
      "Accediendo al enlace mediante Selenium\n",
      "El archivo 199_paper_covid.mp4 se descargo correctamente con Selenium\n"
     ]
    },
    {
     "name": "stderr",
     "output_type": "stream",
     "text": [
      "  4% (1 of 22) |#                        | Elapsed Time: 0:00:22 ETA:   0:07:57\n"
     ]
    },
    {
     "name": "stdout",
     "output_type": "stream",
     "text": [
      "Utilizando el enlace de descarga: https://obgyn.onlinelibrary.wiley.com/action/downloadSupplement?doi=10.1002%2Fuog.22034&file=uog22034-sup-0002-VideoS2.avi\n",
      "Accediendo al enlace mediante Selenium\n",
      "El archivo 200_paper_covid.avi se descargo correctamente con Selenium\n"
     ]
    },
    {
     "name": "stderr",
     "output_type": "stream",
     "text": [
      "  9% (2 of 22) |##                       | Elapsed Time: 0:00:44 ETA:   0:07:28\n"
     ]
    },
    {
     "name": "stdout",
     "output_type": "stream",
     "text": [
      "Utilizando el enlace de descarga: https://static-content.springer.com/esm/art%3A10.1186%2Fs13089-020-00171-w/MediaObjects/13089_2020_171_MOESM1_ESM.mov\n",
      "El archivo 201_paper_covid.mov se descargo correctamente\n"
     ]
    },
    {
     "name": "stderr",
     "output_type": "stream",
     "text": [
      " 13% (3 of 22) |###                      | Elapsed Time: 0:00:54 ETA:   0:05:48\n"
     ]
    },
    {
     "name": "stdout",
     "output_type": "stream",
     "text": [
      "Utilizando el enlace de descarga: https://static-content.springer.com/esm/art%3A10.1186%2Fs13089-020-00171-w/MediaObjects/13089_2020_171_MOESM2_ESM.mov\n",
      "El archivo 202_paper_covid.mov se descargo correctamente\n"
     ]
    },
    {
     "name": "stderr",
     "output_type": "stream",
     "text": [
      " 18% (4 of 22) |####                     | Elapsed Time: 0:01:08 ETA:   0:05:09\n"
     ]
    },
    {
     "name": "stdout",
     "output_type": "stream",
     "text": [
      "Utilizando el enlace de descarga: https://static-content.springer.com/esm/art%3A10.1186%2Fs13089-020-00171-w/MediaObjects/13089_2020_171_MOESM3_ESM.mov\n",
      "El archivo 203_paper_covid.mov se descargo correctamente\n"
     ]
    },
    {
     "name": "stderr",
     "output_type": "stream",
     "text": [
      " 22% (5 of 22) |#####                    | Elapsed Time: 0:01:20 ETA:   0:04:32\n"
     ]
    },
    {
     "name": "stdout",
     "output_type": "stream",
     "text": [
      "Utilizando el enlace de descarga: https://static-content.springer.com/esm/art%3A10.1186%2Fs13089-020-00171-w/MediaObjects/13089_2020_171_MOESM4_ESM.mov\n",
      "El archivo 204_paper_covid.mov se descargo correctamente\n"
     ]
    },
    {
     "name": "stderr",
     "output_type": "stream",
     "text": [
      " 27% (6 of 22) |######                   | Elapsed Time: 0:01:31 ETA:   0:04:03\n"
     ]
    },
    {
     "name": "stdout",
     "output_type": "stream",
     "text": [
      "Utilizando el enlace de descarga: https://static-content.springer.com/esm/art%3A10.1186%2Fs13089-020-00171-w/MediaObjects/13089_2020_171_MOESM5_ESM.mov\n",
      "El archivo 205_paper_covid.mov se descargo correctamente\n"
     ]
    },
    {
     "name": "stderr",
     "output_type": "stream",
     "text": [
      " 31% (7 of 22) |#######                  | Elapsed Time: 0:01:42 ETA:   0:03:39\n"
     ]
    },
    {
     "name": "stdout",
     "output_type": "stream",
     "text": [
      "Utilizando el enlace de descarga: https://ars.els-cdn.com/content/image/1-s2.0-S0828282X20304530-mmc1.mp4\n",
      "El archivo 206_paper_normal.mp4 se descargo correctamente\n"
     ]
    },
    {
     "name": "stderr",
     "output_type": "stream",
     "text": [
      " 36% (8 of 22) |#########                | Elapsed Time: 0:01:51 ETA:   0:03:15\n"
     ]
    },
    {
     "name": "stdout",
     "output_type": "stream",
     "text": [
      "Utilizando el enlace de descarga: https://ars.els-cdn.com/content/image/1-s2.0-S0828282X20304530-mmc2.mp4\n",
      "El archivo 207_paper_normal.mp4 se descargo correctamente\n"
     ]
    },
    {
     "name": "stderr",
     "output_type": "stream",
     "text": [
      " 40% (9 of 22) |##########               | Elapsed Time: 0:02:00 ETA:   0:02:54\n"
     ]
    },
    {
     "name": "stdout",
     "output_type": "stream",
     "text": [
      "Utilizando el enlace de descarga: https://ars.els-cdn.com/content/image/1-s2.0-S0828282X20304530-mmc3.mp4\n",
      "El archivo 208_paper_normal.mp4 se descargo correctamente\n"
     ]
    },
    {
     "name": "stderr",
     "output_type": "stream",
     "text": [
      " 45% (10 of 22) |##########              | Elapsed Time: 0:02:10 ETA:   0:02:37\n"
     ]
    },
    {
     "name": "stdout",
     "output_type": "stream",
     "text": [
      "Utilizando el enlace de descarga: https://ars.els-cdn.com/content/image/1-s2.0-S0828282X20304530-mmc6.mp4\n",
      "El archivo 209_paper_other.mp4 se descargo correctamente\n"
     ]
    },
    {
     "name": "stderr",
     "output_type": "stream",
     "text": [
      " 50% (11 of 22) |############            | Elapsed Time: 0:02:20 ETA:   0:02:20\n"
     ]
    },
    {
     "name": "stdout",
     "output_type": "stream",
     "text": [
      "Utilizando el enlace de descarga: https://ars.els-cdn.com/content/image/1-s2.0-S0828282X20304530-mmc7.mp4\n",
      "El archivo 210_paper_other.mp4 se descargo correctamente\n"
     ]
    },
    {
     "name": "stderr",
     "output_type": "stream",
     "text": [
      " 54% (12 of 22) |#############           | Elapsed Time: 0:02:29 ETA:   0:02:04\n"
     ]
    },
    {
     "name": "stdout",
     "output_type": "stream",
     "text": [
      "Utilizando el enlace de descarga: https://ars.els-cdn.com/content/image/1-s2.0-S0828282X20304530-mmc8.mp4\n",
      "El archivo 211_paper_other.mp4 se descargo correctamente\n"
     ]
    },
    {
     "name": "stderr",
     "output_type": "stream",
     "text": [
      " 59% (13 of 22) |##############          | Elapsed Time: 0:02:39 ETA:   0:01:50\n"
     ]
    },
    {
     "name": "stdout",
     "output_type": "stream",
     "text": [
      "Utilizando el enlace de descarga: https://ars.els-cdn.com/content/image/1-s2.0-S0828282X20304530-mmc9.mp4\n",
      "El archivo 212_paper_other.mp4 se descargo correctamente\n"
     ]
    },
    {
     "name": "stderr",
     "output_type": "stream",
     "text": [
      " 63% (14 of 22) |###############         | Elapsed Time: 0:02:49 ETA:   0:01:36\n"
     ]
    },
    {
     "name": "stdout",
     "output_type": "stream",
     "text": [
      "Utilizando el enlace de descarga: https://ars.els-cdn.com/content/image/1-s2.0-S0828282X20304530-mmc10.mp4\n",
      "El archivo 213_paper_other.mp4 se descargo correctamente\n"
     ]
    },
    {
     "name": "stderr",
     "output_type": "stream",
     "text": [
      " 68% (15 of 22) |################        | Elapsed Time: 0:02:58 ETA:   0:01:23\n"
     ]
    },
    {
     "name": "stdout",
     "output_type": "stream",
     "text": [
      "Utilizando el enlace de descarga: https://ars.els-cdn.com/content/image/1-s2.0-S0828282X20304530-mmc11.mp4\n",
      "El archivo 214_paper_other.mp4 se descargo correctamente\n"
     ]
    },
    {
     "name": "stderr",
     "output_type": "stream",
     "text": [
      " 72% (16 of 22) |#################       | Elapsed Time: 0:03:08 ETA:   0:01:10\n"
     ]
    },
    {
     "name": "stdout",
     "output_type": "stream",
     "text": [
      "Utilizando el enlace de descarga: https://ars.els-cdn.com/content/image/1-s2.0-S0828282X20304530-mmc12.mp4\n",
      "El archivo 215_paper_other.mp4 se descargo correctamente\n"
     ]
    },
    {
     "name": "stderr",
     "output_type": "stream",
     "text": [
      " 77% (17 of 22) |##################      | Elapsed Time: 0:03:17 ETA:   0:00:58\n",
      " 81% (18 of 22) |###################     | Elapsed Time: 0:03:28 ETA:   0:00:46\n"
     ]
    },
    {
     "name": "stdout",
     "output_type": "stream",
     "text": [
      "Error inesperado durante la descarga de 239_paper_normal.avi: HTTPSConnectionPool(host='static-content.springer.com', port=443): Max retries exceeded with url: /esm/art%3A10.1186%2Fcc5668/MediaObjects/13054_2007_5188_MOESM1_ESM.avi (Caused by NameResolutionError(\"<urllib3.connection.HTTPSConnection object at 0x000001BA21BED520>: Failed to resolve 'static-content.springer.com' ([Errno 11001] getaddrinfo failed)\"))\n",
      "Utilizando el enlace de descarga: https://static-content.springer.com/esm/art%3A10.1186%2Fcc5668/MediaObjects/13054_2007_5188_MOESM4_ESM.avi\n",
      "El archivo 240_paper_other.avi se descargo correctamente\n"
     ]
    },
    {
     "name": "stderr",
     "output_type": "stream",
     "text": [
      " 86% (19 of 22) |####################    | Elapsed Time: 0:03:38 ETA:   0:00:34\n"
     ]
    },
    {
     "name": "stdout",
     "output_type": "stream",
     "text": [
      "Utilizando el enlace de descarga: https://static-content.springer.com/esm/art%3A10.1186%2Fcc5668/MediaObjects/13054_2007_5188_MOESM6_ESM.avi\n",
      "El archivo 241_paper_other.avi se descargo correctamente\n"
     ]
    },
    {
     "name": "stderr",
     "output_type": "stream",
     "text": [
      " 90% (20 of 22) |#####################   | Elapsed Time: 0:03:57 ETA:   0:00:23\n"
     ]
    },
    {
     "name": "stdout",
     "output_type": "stream",
     "text": [
      "Utilizando el enlace de descarga: https://static-content.springer.com/esm/art%3A10.1186%2Fcc5668/MediaObjects/13054_2007_5188_MOESM7_ESM.avi\n",
      "El archivo 242_paper_other.avi se descargo correctamente\n"
     ]
    },
    {
     "name": "stderr",
     "output_type": "stream",
     "text": [
      " 95% (21 of 22) |######################  | Elapsed Time: 0:04:20 ETA:   0:00:12\n"
     ]
    },
    {
     "name": "stdout",
     "output_type": "stream",
     "text": [
      "Utilizando el enlace de descarga: https://static-content.springer.com/esm/art%3A10.1186%2Fcc5668/MediaObjects/13054_2007_5188_MOESM8_ESM.avi\n",
      "El archivo 243_paper_other.avi se descargo correctamente\n"
     ]
    },
    {
     "name": "stderr",
     "output_type": "stream",
     "text": [
      "100% (22 of 22) |########################| Elapsed Time: 0:04:43 Time:  0:04:43\n"
     ]
    },
    {
     "name": "stdout",
     "output_type": "stream",
     "text": [
      "=== No se descargaron todos los archivos ===\n",
      "21 archivos descargados de un total de 22\n"
     ]
    }
   ],
   "source": [
    "print('...Extrayendo archivos de vídeo de \"Scientific Publications\"...')\n",
    "paper_df = metadata[(metadata.source == 'Paper')] \n",
    "\n",
    "progress = ProgressBar(max_value=paper_df.shape[0]) \n",
    "NumDes = 0\n",
    "NumT = 0\n",
    "\n",
    "#Configuración de Selenium (en caso de ser necesario su uso)\n",
    "download_dir = r'C:\\Users\\ldiaz\\Desktop\\4 - CON CAMBIOS COVID-US-main\\data\\video'\n",
    "chrome_options = Options()\n",
    "chrome_options.add_argument(\"--headless\") #Modo sin interfaz\n",
    "chrome_options.add_argument(\"user-agent=Mozilla/5.0 (Windows NT 10.0; Win64; x64) AppleWebKit/537.36 (KHTML, like Gecko) Chrome/91.0.4472.124 Safari/537.36 Edg/91.0.864.59\")\n",
    "chrome_options.add_experimental_option(\"prefs\", {\"download.default_directory\": download_dir,\"download.prompt_for_download\": False,\"download.directory_upgrade\": True,\"safebrowsing.enabled\": True})\n",
    "\n",
    "\n",
    "#Inicializar el driver de Selenium\n",
    "service = Service(\"utils/chromedriver.exe\")\n",
    "driver = webdriver.Chrome(service=service, options=chrome_options)\n",
    "\n",
    "for idx, row in progress(paper_df.iterrows()):\n",
    "    filename = row.id + '.' + row.filetype\n",
    "    NumT = NumT + 1\n",
    "    try:    \n",
    "        #Hace la solicitud GET\n",
    "        r = requests.get(row.url, stream=True, headers={'User-agent': 'Mozilla/5.0 (Windows NT 10.0; Win64; x64) AppleWebKit/537.36 (KHTML, like Gecko) Chrome/91.0.4472.124 Safari/537.36 Edg/91.0.864.59'})\n",
    "        print(f\"Utilizando el enlace de descarga: {row.url}\") #Imprimir el enlace de descarga\n",
    "        time.sleep(5)\n",
    "                \n",
    "        #Verificar si se presento el error 403\n",
    "        if r.status_code == 403:\n",
    "            print(\"Accediendo al enlace mediante Selenium\")\n",
    "            driver.get(row.url)\n",
    "            driver.execute_script(\"window.scrollBy(0, 300);\") #Realiza desplazamientos en la pagina web para cargar contenido\n",
    "            time.sleep(10)\n",
    "            filepath = os.path.join(download_dir, filename)\n",
    "            #Renombrar el archivo descargado\n",
    "            with open(os.path.join('data/video/', filename), 'wb') as f:\n",
    "                r.raw.decode_content = True\n",
    "                shutil.copyfileobj(r.raw, f)\n",
    "                NumDes += 1\n",
    "            \n",
    "            #Verificar que se haya descargado\n",
    "            if os.path.exists(filepath):\n",
    "                print(f\"El archivo {filename} se descargo correctamente con Selenium\")\n",
    "            else:\n",
    "                print(f\"Error: el archivo {filename} no se pudo descargar\")\n",
    "        elif r.status_code == 200:\n",
    "            #Guarda el archivo\n",
    "            with open(os.path.join('data/video/', filename), 'wb') as f:\n",
    "                r.raw.decode_content = True\n",
    "                shutil.copyfileobj(r.raw, f)\n",
    "            print(f\"El archivo {filename} se descargo correctamente\")\n",
    "            NumDes = NumDes + 1\n",
    "        \n",
    "    except requests.exceptions.RequestException as e:\n",
    "        print(f\"Error inesperado durante la descarga de {filename}: {e}\")\n",
    "        continue #Para seguir con los demas archivos    \n",
    "        \n",
    "    # Establecer un delay aleatorio, de lo contrario se cierra la conexión\n",
    "    if (('241_' in row.id) | ('242_' in row.id) | ('243_' in row.id)): #Delay mas grande para los ultimos archivos\n",
    "        delay = random.randint(10, 20)\n",
    "    else:\n",
    "        delay = random.randint(3, 5)\n",
    "    time.sleep(delay)\n",
    "\n",
    "if NumDes == NumT:\n",
    "    print('=== Archivos de video de Scientific Publications extraidos correctamente! ===')  \n",
    "    print(f\"=== {NumDes} archivos descargados ===\")      \n",
    "elif NumDes > 0:\n",
    "    print(\"=== No se descargaron todos los archivos ===\")\n",
    "    print(f\"{NumDes} archivos descargados de un total de {NumT}\")\n",
    "else:\n",
    "    print(\"=== No se descargo ningun archivo ===\")\n",
    "\n",
    "\n",
    "\n"
   ]
  },
  {
   "cell_type": "markdown",
   "metadata": {},
   "source": [
    "## 1.9. Clarius\n",
    "* Extracción de la primera parte de los archivos clarius (**6 archivos**)"
   ]
  },
  {
   "cell_type": "code",
   "execution_count": 22,
   "metadata": {},
   "outputs": [
    {
     "name": "stderr",
     "output_type": "stream",
     "text": [
      "  0% (0 of 6) |                          | Elapsed Time: 0:00:00 ETA:  --:--:--\n"
     ]
    },
    {
     "name": "stdout",
     "output_type": "stream",
     "text": [
      "...Extrayendo archivos de video de Clarius...\n",
      "Archivo 216_clarius_other.mp4 correctamente descargado\n"
     ]
    },
    {
     "name": "stderr",
     "output_type": "stream",
     "text": [
      " 16% (1 of 6) |####                      | Elapsed Time: 0:00:15 ETA:   0:01:18\n"
     ]
    },
    {
     "name": "stdout",
     "output_type": "stream",
     "text": [
      "Archivo 217_clarius_normal.mp4 correctamente descargado\n"
     ]
    },
    {
     "name": "stderr",
     "output_type": "stream",
     "text": [
      " 33% (2 of 6) |########                  | Elapsed Time: 0:00:22 ETA:   0:00:44\n"
     ]
    },
    {
     "name": "stdout",
     "output_type": "stream",
     "text": [
      "Archivo 218_clarius_covid.gif correctamente descargado\n"
     ]
    },
    {
     "name": "stderr",
     "output_type": "stream",
     "text": [
      " 50% (3 of 6) |#############             | Elapsed Time: 0:00:28 ETA:   0:00:28\n"
     ]
    },
    {
     "name": "stdout",
     "output_type": "stream",
     "text": [
      "Archivo 219_clarius_covid.gif correctamente descargado\n"
     ]
    },
    {
     "name": "stderr",
     "output_type": "stream",
     "text": [
      " 66% (4 of 6) |#################         | Elapsed Time: 0:00:34 ETA:   0:00:17\n"
     ]
    },
    {
     "name": "stdout",
     "output_type": "stream",
     "text": [
      "Archivo 220_clarius_covid.gif correctamente descargado\n"
     ]
    },
    {
     "name": "stderr",
     "output_type": "stream",
     "text": [
      " 83% (5 of 6) |#####################     | Elapsed Time: 0:00:39 ETA:   0:00:07\n"
     ]
    },
    {
     "name": "stdout",
     "output_type": "stream",
     "text": [
      "Archivo 221_clarius_covid.gif correctamente descargado\n"
     ]
    },
    {
     "name": "stderr",
     "output_type": "stream",
     "text": [
      "100% (6 of 6) |##########################| Elapsed Time: 0:00:45 Time:  0:00:45\n"
     ]
    },
    {
     "name": "stdout",
     "output_type": "stream",
     "text": [
      "=== Archivos de video de Clarius extraidos correctamente! ===\n",
      "Total de archivos: 6\n"
     ]
    }
   ],
   "source": [
    "print('...Extrayendo archivos de video de Clarius...')\n",
    "clarius_df = metadata[metadata.source == 'Clarius'].iloc[:6, :]\n",
    "\n",
    "progress = ProgressBar(max_value=clarius_df.shape[0]) \n",
    "NumDes = 0 #Variable para numero de archivos descargados\n",
    "NumT = 0 #Variable para numero total de archivos\n",
    "\n",
    "for idx, row in progress(clarius_df.iterrows()):\n",
    "    filename = row.id + '.' + row.filetype\n",
    "    NumT = NumT + 1\n",
    "    \n",
    "    try:\n",
    "        # Escribir los archivos de video en el disco\n",
    "        r = requests.get(row.url, stream=True, headers={'User-agent': 'Mozilla/5.0 (Windows NT 6.1; WOW64)'})\n",
    "        if r.status_code == 200:\n",
    "            with open(os.path.join('data/video/', filename), 'wb') as f:\n",
    "                r.raw.decode_content = True\n",
    "                shutil.copyfileobj(r.raw, f)       \n",
    "            print(f\"Archivo {filename} correctamente descargado\")\n",
    "            NumDes = NumDes + 1\n",
    "        else:\n",
    "            print(f\"Error {r.status_code} mientras se intentaba descargar {filename}.\")\n",
    "    except requests.exceptions.RequestException as e:\n",
    "        print(f\"Error inesperado durante la descarga: {e}\")\n",
    "    \n",
    "    # Establece un delay aleatorio, de lo contrario se cerrara la conexión\n",
    "    delay = random.randint(3, 5)\n",
    "    time.sleep(delay)\n",
    "    \n",
    "if NumDes == NumT:\n",
    "    print('=== Archivos de video de Clarius extraidos correctamente! ===')        \n",
    "    print(f\"Total de archivos: {NumT}\")\n",
    "elif NumDes > 0:\n",
    "    print(\"=== No todos los archivos se lograron descargar ===\")\n",
    "    print(f\" {NumDes} archivos descargados de {NumT}\")\n",
    "else:\n",
    "    print(f\"=== No se descargo ningun archivo, de un total de: {NumT} ===\")\n",
    "\n",
    "    \n",
    "    \n",
    "    \n",
    "    \n",
    "    \n",
    "    "
   ]
  },
  {
   "cell_type": "markdown",
   "metadata": {},
   "source": [
    "* Extracción de la segunda parte de los archivos Clarius (**17 Archivos**)"
   ]
  },
  {
   "cell_type": "code",
   "execution_count": null,
   "metadata": {},
   "outputs": [
    {
     "name": "stdout",
     "output_type": "stream",
     "text": [
      "Descargando archivos Zip de Clarius...\n"
     ]
    },
    {
     "name": "stderr",
     "output_type": "stream",
     "text": [
      "/ |#                                                  | 0 Elapsed Time: 0:00:00\n",
      "| |#                                                  | 0 Elapsed Time: 0:00:00\n"
     ]
    },
    {
     "name": "stdout",
     "output_type": "stream",
     "text": [
      "Descarga completa\n",
      "Ha ocurrido un error durante la extracción del archivo Zip \n",
      "7-Zip 18.06 (x64) : Copyright (c) 1999-2018 Igor Pavlov : 2018-12-30\n",
      "\n",
      "Scanning the drive for archives:\n",
      "1 file, 2435 bytes (3 KiB)\n",
      "\n",
      "Extracting archive: C:\\Users\\ldiaz\\Downloads\\clarius.zip\n",
      "\n",
      "Can't open as archive: 1\n",
      "Files: 0\n",
      "Size:       0\n",
      "Compressed: 0\n",
      "\n"
     ]
    }
   ],
   "source": [
    "import requests\n",
    "\n",
    "print('Descargando archivos Zip de Clarius...')\n",
    "file_id = '1bqsqNzAJYwdriOP9CcGWPzCUB-7G72Ta' # ID de enlace para compartir\n",
    "zip_file_path = 'C:\\\\Users\\\\ldiaz\\\\Downloads\\\\clarius.zip' #os.path.join(get_download_path(), 'clarius.zip')\n",
    "download_file_from_google_drive(file_id, zip_file_path)\n",
    "\n",
    "# Extrae el archivo Zip\n",
    "try:\n",
    "    open_file = subprocess.Popen(\"utils/7z.exe\" +' x ' + zip_file_path + ' -o' + 'data/video',stdout=subprocess.PIPE)\n",
    "    result = open_file.communicate()\n",
    "    if open_file.returncode != 0:\n",
    "        print(\"Ha ocurrido un error durante la extracción del archivo Zip\", result[0].decode())\n",
    "    else:\n",
    "        print('=== Archivos de video de Clarius extraidos correctamente! ===')\n",
    "except Exception as e:\n",
    "    print(f\"Error durante la extracción: {e}\")\n",
    "\n",
    "#Eliminar Zip\n",
    "try:\n",
    "    os.remove(zip_file_path)\n",
    "    print(\"El archivo Zip se elimino correctamente\")\n",
    "except Exception as e:\n",
    "    print(f\"Ha ocurrido un error al intentar eliminar el archivo Zip: {e}\")"
   ]
  },
  {
   "cell_type": "markdown",
   "metadata": {},
   "source": [
    "# 2. Procesamiento de Videos"
   ]
  },
  {
   "cell_type": "markdown",
   "metadata": {},
   "source": [
    "#### Mover los archivos de video originales a la carpeta original"
   ]
  },
  {
   "cell_type": "code",
   "execution_count": 7,
   "metadata": {},
   "outputs": [
    {
     "name": "stderr",
     "output_type": "stream",
     "text": [
      "  0% (0 of 3) |                          | Elapsed Time: 0:00:00 ETA:  --:--:--\n",
      "100% (3 of 3) |##########################| Elapsed Time: 0:00:00 Time:  0:00:00\n"
     ]
    }
   ],
   "source": [
    "source_dir = 'data/video/'\n",
    "target_dir = 'data/video/original' #Direccion nueva para guardar los archivos\n",
    "\n",
    "file_names = os.listdir(source_dir)\n",
    "\n",
    "#Opcion para crear la carpeta en caso de que no existiera\n",
    "if not os.path.exists('data/video/original'): \n",
    "    os.makedirs('data/video/original') \n",
    "\n",
    "progress = ProgressBar() #Barra de progreso\n",
    "for file_name in progress(file_names):\n",
    "    if file_name.endswith(('.mp4', '.avi', '.gif', '.wmv', '.mov')): #Tipos de video soportados\n",
    "        shutil.move(os.path.join(source_dir, file_name), target_dir)"
   ]
  },
  {
   "cell_type": "markdown",
   "metadata": {},
   "source": [
    "## 2.1. Obtención de propiedades de los archivos de video"
   ]
  },
  {
   "cell_type": "code",
   "execution_count": 8,
   "metadata": {},
   "outputs": [
    {
     "name": "stderr",
     "output_type": "stream",
     "text": [
      "  0% (0 of 244) |                        | Elapsed Time: 0:00:00 ETA:  --:--:--\n"
     ]
    },
    {
     "name": "stderr",
     "output_type": "stream",
     "text": [
      "  0% (1 of 244) |                        | Elapsed Time: 0:00:00 ETA:   0:01:08\n",
      "  1% (4 of 244) |                        | Elapsed Time: 0:00:00 ETA:   0:00:20\n",
      "  4% (10 of 244) |                       | Elapsed Time: 0:00:00 ETA:   0:00:10\n",
      "  5% (13 of 244) |#                      | Elapsed Time: 0:00:00 ETA:   0:00:09\n",
      "  7% (19 of 244) |#                      | Elapsed Time: 0:00:00 ETA:   0:00:07\n",
      "  9% (22 of 244) |##                     | Elapsed Time: 0:00:00 ETA:   0:00:07\n",
      " 10% (25 of 244) |##                     | Elapsed Time: 0:00:00 ETA:   0:00:06\n",
      " 11% (28 of 244) |##                     | Elapsed Time: 0:00:00 ETA:   0:00:06\n",
      " 12% (31 of 244) |##                     | Elapsed Time: 0:00:00 ETA:   0:00:05\n",
      " 13% (34 of 244) |###                    | Elapsed Time: 0:00:00 ETA:   0:00:05\n",
      " 15% (38 of 244) |###                    | Elapsed Time: 0:00:00 ETA:   0:00:05\n",
      " 18% (44 of 244) |####                   | Elapsed Time: 0:00:01 ETA:   0:00:04\n",
      " 19% (47 of 244) |####                   | Elapsed Time: 0:00:01 ETA:   0:00:04\n",
      " 20% (50 of 244) |####                   | Elapsed Time: 0:00:01 ETA:   0:00:04\n",
      " 21% (53 of 244) |####                   | Elapsed Time: 0:00:01 ETA:   0:00:04\n",
      " 22% (56 of 244) |#####                  | Elapsed Time: 0:00:01 ETA:   0:00:04\n",
      " 24% (59 of 244) |#####                  | Elapsed Time: 0:00:01 ETA:   0:00:04\n",
      " 25% (62 of 244) |#####                  | Elapsed Time: 0:00:01 ETA:   0:00:04\n",
      " 26% (65 of 244) |######                 | Elapsed Time: 0:00:01 ETA:   0:00:04\n",
      " 27% (68 of 244) |######                 | Elapsed Time: 0:00:01 ETA:   0:00:04\n",
      " 29% (72 of 244) |######                 | Elapsed Time: 0:00:01 ETA:   0:00:04\n",
      " 30% (75 of 244) |#######                | Elapsed Time: 0:00:01 ETA:   0:00:03\n",
      " 31% (78 of 244) |#######                | Elapsed Time: 0:00:01 ETA:   0:00:03\n",
      " 33% (81 of 244) |#######                | Elapsed Time: 0:00:01 ETA:   0:00:03\n",
      " 34% (84 of 244) |#######                | Elapsed Time: 0:00:01 ETA:   0:00:03\n",
      " 35% (87 of 244) |########               | Elapsed Time: 0:00:02 ETA:   0:00:03\n",
      " 36% (90 of 244) |########               | Elapsed Time: 0:00:02 ETA:   0:00:03\n",
      " 38% (93 of 244) |########               | Elapsed Time: 0:00:02 ETA:   0:00:03\n",
      " 39% (96 of 244) |#########              | Elapsed Time: 0:00:02 ETA:   0:00:03\n",
      " 40% (99 of 244) |#########              | Elapsed Time: 0:00:02 ETA:   0:00:03\n",
      " 41% (102 of 244) |#########             | Elapsed Time: 0:00:02 ETA:   0:00:03\n",
      " 43% (106 of 244) |#########             | Elapsed Time: 0:00:02 ETA:   0:00:03\n",
      " 44% (109 of 244) |#########             | Elapsed Time: 0:00:02 ETA:   0:00:03\n",
      " 45% (112 of 244) |##########            | Elapsed Time: 0:00:02 ETA:   0:00:03\n",
      " 47% (115 of 244) |##########            | Elapsed Time: 0:00:02 ETA:   0:00:03\n",
      " 48% (118 of 244) |##########            | Elapsed Time: 0:00:02 ETA:   0:00:03\n",
      " 49% (121 of 244) |##########            | Elapsed Time: 0:00:02 ETA:   0:00:03\n",
      " 50% (124 of 244) |###########           | Elapsed Time: 0:00:03 ETA:   0:00:02\n",
      " 52% (127 of 244) |###########           | Elapsed Time: 0:00:03 ETA:   0:00:02\n",
      " 52% (128 of 244) |###########           | Elapsed Time: 0:00:03 ETA:   0:00:02\n",
      " 52% (129 of 244) |###########           | Elapsed Time: 0:00:03 ETA:   0:00:03\n",
      " 53% (130 of 244) |###########           | Elapsed Time: 0:00:03 ETA:   0:00:03\n",
      " 54% (132 of 244) |###########           | Elapsed Time: 0:00:03 ETA:   0:00:03\n",
      " 54% (133 of 244) |###########           | Elapsed Time: 0:00:03 ETA:   0:00:03\n",
      " 55% (136 of 244) |############          | Elapsed Time: 0:00:03 ETA:   0:00:03\n",
      " 56% (139 of 244) |############          | Elapsed Time: 0:00:04 ETA:   0:00:03\n",
      " 58% (143 of 244) |############          | Elapsed Time: 0:00:04 ETA:   0:00:02\n",
      " 59% (146 of 244) |#############         | Elapsed Time: 0:00:04 ETA:   0:00:02\n",
      " 61% (149 of 244) |#############         | Elapsed Time: 0:00:04 ETA:   0:00:02\n",
      " 62% (152 of 244) |#############         | Elapsed Time: 0:00:04 ETA:   0:00:02\n",
      " 63% (155 of 244) |#############         | Elapsed Time: 0:00:04 ETA:   0:00:02\n",
      " 64% (158 of 244) |##############        | Elapsed Time: 0:00:04 ETA:   0:00:02\n",
      " 65% (161 of 244) |##############        | Elapsed Time: 0:00:04 ETA:   0:00:02\n",
      " 67% (164 of 244) |##############        | Elapsed Time: 0:00:04 ETA:   0:00:02\n",
      " 68% (167 of 244) |###############       | Elapsed Time: 0:00:04 ETA:   0:00:02\n",
      " 69% (170 of 244) |###############       | Elapsed Time: 0:00:04 ETA:   0:00:02\n",
      " 70% (173 of 244) |###############       | Elapsed Time: 0:00:04 ETA:   0:00:01\n",
      " 72% (177 of 244) |###############       | Elapsed Time: 0:00:04 ETA:   0:00:01\n",
      " 73% (180 of 244) |################      | Elapsed Time: 0:00:04 ETA:   0:00:01\n",
      " 75% (183 of 244) |################      | Elapsed Time: 0:00:05 ETA:   0:00:01\n",
      " 76% (186 of 244) |################      | Elapsed Time: 0:00:05 ETA:   0:00:01\n",
      " 77% (189 of 244) |#################     | Elapsed Time: 0:00:05 ETA:   0:00:01\n",
      " 79% (195 of 244) |#################     | Elapsed Time: 0:00:05 ETA:   0:00:01\n",
      " 81% (200 of 244) |##################    | Elapsed Time: 0:00:05 ETA:   0:00:01\n",
      " 83% (204 of 244) |##################    | Elapsed Time: 0:00:05 ETA:   0:00:01\n",
      " 84% (207 of 244) |##################    | Elapsed Time: 0:00:05 ETA:   0:00:01\n",
      " 86% (211 of 244) |###################   | Elapsed Time: 0:00:05 ETA:   0:00:00\n",
      " 87% (214 of 244) |###################   | Elapsed Time: 0:00:05 ETA:   0:00:00\n",
      " 88% (217 of 244) |###################   | Elapsed Time: 0:00:05 ETA:   0:00:00\n",
      " 91% (223 of 244) |####################  | Elapsed Time: 0:00:06 ETA:   0:00:00\n",
      " 92% (226 of 244) |####################  | Elapsed Time: 0:00:06 ETA:   0:00:00\n",
      " 93% (229 of 244) |####################  | Elapsed Time: 0:00:06 ETA:   0:00:00\n",
      " 95% (232 of 244) |####################  | Elapsed Time: 0:00:06 ETA:   0:00:00\n",
      " 96% (235 of 244) |##################### | Elapsed Time: 0:00:06 ETA:   0:00:00\n",
      "100% (244 of 244) |######################| Elapsed Time: 0:00:06 Time:  0:00:06\n"
     ]
    },
    {
     "name": "stdout",
     "output_type": "stream",
     "text": [
      "Se extrajeron las propiedades de los archivos correctamente\n"
     ]
    }
   ],
   "source": [
    "VIDEO_PATH_ORG = 'data/video/original/' #Carpeta con la que se va a trabajar\n",
    "\n",
    "vid_files = os.listdir(VIDEO_PATH_ORG)\n",
    "\n",
    "progress = ProgressBar(max_value=metadata.shape[0]) \n",
    "with open('utils/video_files_properties.csv', 'w') as f:\n",
    "    # Escribe el encabezado del archivo\n",
    "    f.write('filename,framerate,width,height,frame_count,duration_secs\\n')\n",
    "    \n",
    "    # Recorrer los archivos de vídeo y obtener sus propiedades \n",
    "    for vid in progress(vid_files):\n",
    "        try:\n",
    "            vid_filename = VIDEO_PATH_ORG + str(vid)\n",
    "            file_type = vid.split('.')[-1]\n",
    "\n",
    "            # Obtener las propiedades de archivos de video\n",
    "            cv2video = cv2.VideoCapture(vid_filename)\n",
    "            #En caso de no encontrar el archivo\n",
    "            if not cv2video.isOpened():\n",
    "                raise IOError(f\"No se ha podido abrir el archivo: {vid}\") #Genera una excepcion cuando no se abre el archivo\n",
    "            \n",
    "            height = cv2video.get(cv2.CAP_PROP_FRAME_HEIGHT)\n",
    "            width  = cv2video.get(cv2.CAP_PROP_FRAME_WIDTH) \n",
    "            frame_rate = round(cv2video.get(cv2.CAP_PROP_FPS), 2)\n",
    "\n",
    "            #Extraer propiedades (Numero total de cuadros y Duración) para formatos mp4 y gif\n",
    "            if file_type == 'mp4':\n",
    "                frame_count = cv2video.get(cv2.CAP_PROP_FRAME_COUNT) \n",
    "                duration = round((frame_count / frame_rate), 2)\n",
    "            elif file_type == 'gif':\n",
    "                frame_count = round(Image.open(vid_filename).n_frames) #round((duration * frame_rate ), 0)\n",
    "                duration = round((frame_count / frame_rate), 2)\n",
    "\n",
    "            # Escribe las propiedades del vídeo en el archivo\n",
    "            line_to_write = str(vid) + ',' + str(frame_rate) + ',' + str(width) + ',' + str(height) + ',' + str(frame_count) + ',' + str(duration) + '\\n'\n",
    "            f.write(line_to_write)            \n",
    "        except Exception as e:\n",
    "            print(f\"Error al procesar {vid}: {e}\")\n",
    "\n",
    "print(f\"Se extrajeron las propiedades de los archivos correctamente\")\n",
    "\n"
   ]
  },
  {
   "cell_type": "markdown",
   "metadata": {},
   "source": [
    "## 2.2. Preprocesamiento de Video"
   ]
  },
  {
   "cell_type": "code",
   "execution_count": 8,
   "metadata": {},
   "outputs": [],
   "source": [
    "#Creación de la carpeta \"Cropped\" para guardar los archivos de video que se recorten \n",
    "VIDEO_CROPPED_OUT = 'data/video/cropped/' #processed/cropped/'\n",
    "\n",
    "# Crea la carpeta si aun no existe \n",
    "if not os.path.exists('data/video/cropped'): #processed/cropped'):\n",
    "    os.makedirs('data/video/cropped') #processed/cropped')"
   ]
  },
  {
   "cell_type": "markdown",
   "metadata": {},
   "source": [
    "### 2.2.1. Recorte Inicial"
   ]
  },
  {
   "cell_type": "code",
   "execution_count": 9,
   "metadata": {},
   "outputs": [
    {
     "name": "stdout",
     "output_type": "stream",
     "text": [
      "(243, 27)\n"
     ]
    },
    {
     "data": {
      "text/html": [
       "<div>\n",
       "<style scoped>\n",
       "    .dataframe tbody tr th:only-of-type {\n",
       "        vertical-align: middle;\n",
       "    }\n",
       "\n",
       "    .dataframe tbody tr th {\n",
       "        vertical-align: top;\n",
       "    }\n",
       "\n",
       "    .dataframe thead th {\n",
       "        text-align: right;\n",
       "    }\n",
       "</style>\n",
       "<table border=\"1\" class=\"dataframe\">\n",
       "  <thead>\n",
       "    <tr style=\"text-align: right;\">\n",
       "      <th></th>\n",
       "      <th>filename</th>\n",
       "      <th>source</th>\n",
       "      <th>probe</th>\n",
       "      <th>class</th>\n",
       "      <th>org_width</th>\n",
       "      <th>org_height</th>\n",
       "      <th>org_framecount</th>\n",
       "      <th>org_framerate</th>\n",
       "      <th>org_duration</th>\n",
       "      <th>green_dot</th>\n",
       "      <th>...</th>\n",
       "      <th>del_upper</th>\n",
       "      <th>width_rate</th>\n",
       "      <th>x1_w_y1_h</th>\n",
       "      <th>cropped_filename</th>\n",
       "      <th>crp_width</th>\n",
       "      <th>crp_height</th>\n",
       "      <th>version</th>\n",
       "      <th>date_added</th>\n",
       "      <th>multiple_videos</th>\n",
       "      <th>Note</th>\n",
       "    </tr>\n",
       "  </thead>\n",
       "  <tbody>\n",
       "    <tr>\n",
       "      <th>0</th>\n",
       "      <td>1_butterfly_covid.mp4</td>\n",
       "      <td>Butterfly</td>\n",
       "      <td>Convex</td>\n",
       "      <td>COVID</td>\n",
       "      <td>880</td>\n",
       "      <td>1080</td>\n",
       "      <td>65</td>\n",
       "      <td>19.57</td>\n",
       "      <td>3.32</td>\n",
       "      <td>no</td>\n",
       "      <td>...</td>\n",
       "      <td>15.0</td>\n",
       "      <td>0.035</td>\n",
       "      <td>NaN</td>\n",
       "      <td>1_butterfly_covid_prc.avi</td>\n",
       "      <td>820.0</td>\n",
       "      <td>820.0</td>\n",
       "      <td>1.0</td>\n",
       "      <td>Nov_2020</td>\n",
       "      <td>NaN</td>\n",
       "      <td>NaN</td>\n",
       "    </tr>\n",
       "    <tr>\n",
       "      <th>1</th>\n",
       "      <td>2_butterfly_covid.mp4</td>\n",
       "      <td>Butterfly</td>\n",
       "      <td>Convex</td>\n",
       "      <td>COVID</td>\n",
       "      <td>720</td>\n",
       "      <td>1236</td>\n",
       "      <td>818</td>\n",
       "      <td>30.00</td>\n",
       "      <td>27.27</td>\n",
       "      <td>yes</td>\n",
       "      <td>...</td>\n",
       "      <td>83.0</td>\n",
       "      <td>0.068</td>\n",
       "      <td>NaN</td>\n",
       "      <td>2_butterfly_covid_prc.avi</td>\n",
       "      <td>624.0</td>\n",
       "      <td>624.0</td>\n",
       "      <td>1.0</td>\n",
       "      <td>Nov_2020</td>\n",
       "      <td>NaN</td>\n",
       "      <td>NaN</td>\n",
       "    </tr>\n",
       "  </tbody>\n",
       "</table>\n",
       "<p>2 rows × 27 columns</p>\n",
       "</div>"
      ],
      "text/plain": [
       "                filename     source   probe  class  org_width  org_height  \\\n",
       "0  1_butterfly_covid.mp4  Butterfly  Convex  COVID        880        1080   \n",
       "1  2_butterfly_covid.mp4  Butterfly  Convex  COVID        720        1236   \n",
       "\n",
       "   org_framecount  org_framerate  org_duration green_dot  ... del_upper  \\\n",
       "0              65          19.57          3.32        no  ...      15.0   \n",
       "1             818          30.00         27.27       yes  ...      83.0   \n",
       "\n",
       "  width_rate x1_w_y1_h           cropped_filename crp_width crp_height  \\\n",
       "0      0.035       NaN  1_butterfly_covid_prc.avi     820.0      820.0   \n",
       "1      0.068       NaN  2_butterfly_covid_prc.avi     624.0      624.0   \n",
       "\n",
       "  version  date_added  multiple_videos Note  \n",
       "0     1.0    Nov_2020              NaN  NaN  \n",
       "1     1.0    Nov_2020              NaN  NaN  \n",
       "\n",
       "[2 rows x 27 columns]"
      ]
     },
     "execution_count": 9,
     "metadata": {},
     "output_type": "execute_result"
    }
   ],
   "source": [
    "#Carga el archivo CSV con metadatos de recorte de videos\n",
    "# Leer el archivo de metadatos de recorte \n",
    "vid_crp_metadata = pd.read_csv('utils/video_cropping_metadata.csv', sep=',', encoding='latin1')\n",
    "print(vid_crp_metadata.shape)\n",
    "vid_crp_metadata.head(2)"
   ]
  },
  {
   "cell_type": "code",
   "execution_count": 12,
   "metadata": {},
   "outputs": [
    {
     "name": "stderr",
     "output_type": "stream",
     "text": [
      "  0% (0 of 243) |                        | Elapsed Time: 0:00:00 ETA:  --:--:--\n",
      "  0% (1 of 243) |                        | Elapsed Time: 0:00:01 ETA:   0:06:58\n",
      "  0% (2 of 243) |                        | Elapsed Time: 0:00:12 ETA:   0:25:14\n",
      "  1% (3 of 243) |                        | Elapsed Time: 0:00:14 ETA:   0:19:59\n",
      "  1% (4 of 243) |                        | Elapsed Time: 0:00:16 ETA:   0:16:34\n",
      "  2% (5 of 243) |                        | Elapsed Time: 0:00:19 ETA:   0:15:45\n",
      "  2% (6 of 243) |                        | Elapsed Time: 0:00:25 ETA:   0:17:02\n",
      "  2% (7 of 243) |                        | Elapsed Time: 0:00:27 ETA:   0:15:34\n",
      "  3% (8 of 243) |                        | Elapsed Time: 0:00:29 ETA:   0:14:21\n",
      "  3% (9 of 243) |                        | Elapsed Time: 0:00:31 ETA:   0:13:33\n",
      "  4% (10 of 243) |                       | Elapsed Time: 0:00:32 ETA:   0:12:40\n",
      "  4% (11 of 243) |#                      | Elapsed Time: 0:00:33 ETA:   0:11:44\n",
      "  4% (12 of 243) |#                      | Elapsed Time: 0:00:34 ETA:   0:11:11\n",
      "  5% (13 of 243) |#                      | Elapsed Time: 0:00:36 ETA:   0:10:41\n",
      "  5% (14 of 243) |#                      | Elapsed Time: 0:00:37 ETA:   0:10:16\n",
      "  6% (15 of 243) |#                      | Elapsed Time: 0:00:39 ETA:   0:10:06\n",
      "  6% (16 of 243) |#                      | Elapsed Time: 0:00:46 ETA:   0:10:59\n",
      "  6% (17 of 243) |#                      | Elapsed Time: 0:00:48 ETA:   0:10:43\n",
      "  7% (18 of 243) |#                      | Elapsed Time: 0:00:49 ETA:   0:10:24\n",
      "  7% (19 of 243) |#                      | Elapsed Time: 0:00:51 ETA:   0:10:02\n",
      "  8% (20 of 243) |#                      | Elapsed Time: 0:00:57 ETA:   0:10:38\n",
      "  8% (21 of 243) |#                      | Elapsed Time: 0:00:58 ETA:   0:10:19\n",
      "  9% (23 of 243) |##                     | Elapsed Time: 0:00:59 ETA:   0:09:30\n",
      "  9% (24 of 243) |##                     | Elapsed Time: 0:01:01 ETA:   0:09:19\n",
      " 10% (25 of 243) |##                     | Elapsed Time: 0:01:05 ETA:   0:09:27\n",
      " 10% (26 of 243) |##                     | Elapsed Time: 0:01:05 ETA:   0:09:06\n",
      " 11% (27 of 243) |##                     | Elapsed Time: 0:01:05 ETA:   0:08:45\n",
      " 11% (28 of 243) |##                     | Elapsed Time: 0:01:05 ETA:   0:08:24\n",
      " 11% (29 of 243) |##                     | Elapsed Time: 0:01:05 ETA:   0:08:06\n",
      " 12% (30 of 243) |##                     | Elapsed Time: 0:01:06 ETA:   0:07:51\n",
      " 12% (31 of 243) |##                     | Elapsed Time: 0:01:09 ETA:   0:07:54\n",
      " 13% (32 of 243) |###                    | Elapsed Time: 0:01:10 ETA:   0:07:45\n",
      " 13% (33 of 243) |###                    | Elapsed Time: 0:01:11 ETA:   0:07:33\n",
      " 13% (34 of 243) |###                    | Elapsed Time: 0:01:13 ETA:   0:07:33\n",
      " 14% (35 of 243) |###                    | Elapsed Time: 0:01:16 ETA:   0:07:33\n",
      " 14% (36 of 243) |###                    | Elapsed Time: 0:01:16 ETA:   0:07:21\n",
      " 15% (37 of 243) |###                    | Elapsed Time: 0:01:18 ETA:   0:07:15\n",
      " 15% (38 of 243) |###                    | Elapsed Time: 0:01:19 ETA:   0:07:10\n",
      " 16% (39 of 243) |###                    | Elapsed Time: 0:01:21 ETA:   0:07:05\n",
      " 16% (40 of 243) |###                    | Elapsed Time: 0:01:21 ETA:   0:06:54\n",
      " 16% (41 of 243) |###                    | Elapsed Time: 0:01:22 ETA:   0:06:44\n",
      " 17% (42 of 243) |###                    | Elapsed Time: 0:01:22 ETA:   0:06:35\n",
      " 17% (43 of 243) |####                   | Elapsed Time: 0:01:23 ETA:   0:06:26\n",
      " 18% (44 of 243) |####                   | Elapsed Time: 0:01:23 ETA:   0:06:16\n",
      " 18% (45 of 243) |####                   | Elapsed Time: 0:01:23 ETA:   0:06:07\n",
      " 18% (46 of 243) |####                   | Elapsed Time: 0:01:23 ETA:   0:05:57\n",
      " 19% (47 of 243) |####                   | Elapsed Time: 0:01:23 ETA:   0:05:49\n",
      " 19% (48 of 243) |####                   | Elapsed Time: 0:01:23 ETA:   0:05:40\n",
      " 20% (49 of 243) |####                   | Elapsed Time: 0:01:24 ETA:   0:05:33\n",
      " 20% (50 of 243) |####                   | Elapsed Time: 0:01:24 ETA:   0:05:26\n",
      " 20% (51 of 243) |####                   | Elapsed Time: 0:01:24 ETA:   0:05:19\n",
      " 21% (52 of 243) |####                   | Elapsed Time: 0:01:25 ETA:   0:05:13\n",
      " 21% (53 of 243) |#####                  | Elapsed Time: 0:01:25 ETA:   0:05:06\n",
      " 22% (54 of 243) |#####                  | Elapsed Time: 0:01:25 ETA:   0:04:59\n",
      " 22% (55 of 243) |#####                  | Elapsed Time: 0:01:25 ETA:   0:04:53\n",
      " 23% (56 of 243) |#####                  | Elapsed Time: 0:01:26 ETA:   0:04:47\n",
      " 23% (57 of 243) |#####                  | Elapsed Time: 0:01:26 ETA:   0:04:41\n",
      " 23% (58 of 243) |#####                  | Elapsed Time: 0:01:26 ETA:   0:04:35\n",
      " 24% (59 of 243) |#####                  | Elapsed Time: 0:01:26 ETA:   0:04:29\n",
      " 24% (60 of 243) |#####                  | Elapsed Time: 0:01:26 ETA:   0:04:24\n",
      " 25% (61 of 243) |#####                  | Elapsed Time: 0:01:26 ETA:   0:04:18\n",
      " 25% (62 of 243) |#####                  | Elapsed Time: 0:01:26 ETA:   0:04:13\n",
      " 25% (63 of 243) |#####                  | Elapsed Time: 0:01:27 ETA:   0:04:10\n",
      " 26% (64 of 243) |######                 | Elapsed Time: 0:01:27 ETA:   0:04:05\n",
      " 26% (65 of 243) |######                 | Elapsed Time: 0:01:28 ETA:   0:04:00\n",
      " 27% (66 of 243) |######                 | Elapsed Time: 0:01:28 ETA:   0:03:56\n",
      " 27% (67 of 243) |######                 | Elapsed Time: 0:01:28 ETA:   0:03:53\n",
      " 27% (68 of 243) |######                 | Elapsed Time: 0:01:28 ETA:   0:03:48\n",
      " 28% (69 of 243) |######                 | Elapsed Time: 0:01:29 ETA:   0:03:44\n",
      " 29% (71 of 243) |######                 | Elapsed Time: 0:01:29 ETA:   0:03:36\n",
      " 29% (72 of 243) |######                 | Elapsed Time: 0:01:29 ETA:   0:03:32\n",
      " 30% (73 of 243) |######                 | Elapsed Time: 0:01:29 ETA:   0:03:29\n",
      " 30% (74 of 243) |#######                | Elapsed Time: 0:01:30 ETA:   0:03:26\n",
      " 30% (75 of 243) |#######                | Elapsed Time: 0:01:30 ETA:   0:03:23\n",
      " 31% (76 of 243) |#######                | Elapsed Time: 0:01:30 ETA:   0:03:19\n",
      " 31% (77 of 243) |#######                | Elapsed Time: 0:01:31 ETA:   0:03:16\n",
      " 32% (78 of 243) |#######                | Elapsed Time: 0:01:31 ETA:   0:03:13\n",
      " 32% (79 of 243) |#######                | Elapsed Time: 0:01:31 ETA:   0:03:09\n",
      " 33% (81 of 243) |#######                | Elapsed Time: 0:01:34 ETA:   0:03:08\n",
      " 33% (82 of 243) |#######                | Elapsed Time: 0:01:34 ETA:   0:03:06\n",
      " 34% (83 of 243) |#######                | Elapsed Time: 0:01:35 ETA:   0:03:04\n",
      " 34% (84 of 243) |#######                | Elapsed Time: 0:01:36 ETA:   0:03:02\n",
      " 34% (85 of 243) |########               | Elapsed Time: 0:01:38 ETA:   0:03:02\n",
      " 35% (86 of 243) |########               | Elapsed Time: 0:01:41 ETA:   0:03:04\n",
      " 35% (87 of 243) |########               | Elapsed Time: 0:01:42 ETA:   0:03:04\n",
      " 36% (88 of 243) |########               | Elapsed Time: 0:01:44 ETA:   0:03:03\n",
      " 36% (89 of 243) |########               | Elapsed Time: 0:01:45 ETA:   0:03:02\n",
      " 37% (90 of 243) |########               | Elapsed Time: 0:01:47 ETA:   0:03:02\n",
      " 37% (91 of 243) |########               | Elapsed Time: 0:01:50 ETA:   0:03:05\n",
      " 37% (92 of 243) |########               | Elapsed Time: 0:01:52 ETA:   0:03:03\n",
      " 38% (93 of 243) |########               | Elapsed Time: 0:01:53 ETA:   0:03:02\n",
      " 38% (94 of 243) |########               | Elapsed Time: 0:01:56 ETA:   0:03:04\n",
      " 39% (95 of 243) |########               | Elapsed Time: 0:01:56 ETA:   0:03:01\n",
      " 39% (96 of 243) |#########              | Elapsed Time: 0:01:56 ETA:   0:02:58\n",
      " 40% (98 of 243) |#########              | Elapsed Time: 0:01:56 ETA:   0:02:52\n",
      " 40% (99 of 243) |#########              | Elapsed Time: 0:01:57 ETA:   0:02:50\n",
      " 41% (100 of 243) |#########             | Elapsed Time: 0:01:57 ETA:   0:02:47\n",
      " 41% (102 of 243) |#########             | Elapsed Time: 0:01:57 ETA:   0:02:42\n",
      " 42% (103 of 243) |#########             | Elapsed Time: 0:01:57 ETA:   0:02:39\n",
      " 42% (104 of 243) |#########             | Elapsed Time: 0:01:57 ETA:   0:02:37\n",
      " 43% (105 of 243) |#########             | Elapsed Time: 0:01:57 ETA:   0:02:34\n",
      " 44% (107 of 243) |#########             | Elapsed Time: 0:01:57 ETA:   0:02:29\n",
      " 44% (108 of 243) |#########             | Elapsed Time: 0:01:57 ETA:   0:02:27\n",
      " 45% (110 of 243) |#########             | Elapsed Time: 0:01:58 ETA:   0:02:22\n",
      " 45% (111 of 243) |##########            | Elapsed Time: 0:01:58 ETA:   0:02:20\n",
      " 46% (112 of 243) |##########            | Elapsed Time: 0:01:58 ETA:   0:02:18\n",
      " 46% (114 of 243) |##########            | Elapsed Time: 0:01:58 ETA:   0:02:14\n",
      " 47% (116 of 243) |##########            | Elapsed Time: 0:01:58 ETA:   0:02:09\n",
      " 48% (117 of 243) |##########            | Elapsed Time: 0:01:58 ETA:   0:02:07\n",
      " 48% (119 of 243) |##########            | Elapsed Time: 0:01:58 ETA:   0:02:03\n",
      " 49% (120 of 243) |##########            | Elapsed Time: 0:01:59 ETA:   0:02:02\n",
      " 50% (122 of 243) |###########           | Elapsed Time: 0:01:59 ETA:   0:01:58\n",
      " 51% (124 of 243) |###########           | Elapsed Time: 0:01:59 ETA:   0:01:54\n",
      " 51% (125 of 243) |###########           | Elapsed Time: 0:01:59 ETA:   0:01:52\n",
      " 51% (126 of 243) |###########           | Elapsed Time: 0:01:59 ETA:   0:01:51\n",
      " 52% (127 of 243) |###########           | Elapsed Time: 0:01:59 ETA:   0:01:49\n",
      " 53% (129 of 243) |###########           | Elapsed Time: 0:01:59 ETA:   0:01:45\n",
      " 53% (130 of 243) |###########           | Elapsed Time: 0:01:59 ETA:   0:01:44\n",
      " 54% (132 of 243) |###########           | Elapsed Time: 0:02:00 ETA:   0:01:40\n",
      " 54% (133 of 243) |############          | Elapsed Time: 0:02:00 ETA:   0:01:39\n",
      " 55% (134 of 243) |############          | Elapsed Time: 0:02:00 ETA:   0:01:37\n",
      " 55% (135 of 243) |############          | Elapsed Time: 0:02:00 ETA:   0:01:36\n",
      " 55% (136 of 243) |############          | Elapsed Time: 0:02:00 ETA:   0:01:34\n",
      " 56% (137 of 243) |############          | Elapsed Time: 0:02:00 ETA:   0:01:33\n",
      " 56% (138 of 243) |############          | Elapsed Time: 0:02:01 ETA:   0:01:32\n",
      " 57% (139 of 243) |############          | Elapsed Time: 0:02:01 ETA:   0:01:30\n",
      " 58% (141 of 243) |############          | Elapsed Time: 0:02:01 ETA:   0:01:27\n",
      " 58% (142 of 243) |############          | Elapsed Time: 0:02:01 ETA:   0:01:26\n",
      " 59% (144 of 243) |#############         | Elapsed Time: 0:02:01 ETA:   0:01:23\n",
      " 59% (145 of 243) |#############         | Elapsed Time: 0:02:01 ETA:   0:01:22\n",
      " 60% (146 of 243) |#############         | Elapsed Time: 0:02:01 ETA:   0:01:20\n",
      " 60% (147 of 243) |#############         | Elapsed Time: 0:02:01 ETA:   0:01:19\n",
      " 60% (148 of 243) |#############         | Elapsed Time: 0:02:01 ETA:   0:01:18\n",
      " 61% (150 of 243) |#############         | Elapsed Time: 0:02:02 ETA:   0:01:15\n",
      " 62% (151 of 243) |#############         | Elapsed Time: 0:02:02 ETA:   0:01:14\n",
      " 62% (152 of 243) |#############         | Elapsed Time: 0:02:02 ETA:   0:01:13\n",
      " 62% (153 of 243) |#############         | Elapsed Time: 0:02:02 ETA:   0:01:12\n",
      " 63% (154 of 243) |#############         | Elapsed Time: 0:02:03 ETA:   0:01:11\n",
      " 63% (155 of 243) |##############        | Elapsed Time: 0:02:03 ETA:   0:01:10\n",
      " 64% (156 of 243) |##############        | Elapsed Time: 0:02:03 ETA:   0:01:09\n",
      " 64% (157 of 243) |##############        | Elapsed Time: 0:02:04 ETA:   0:01:08\n",
      " 65% (158 of 243) |##############        | Elapsed Time: 0:02:07 ETA:   0:01:08\n",
      " 65% (159 of 243) |##############        | Elapsed Time: 0:02:10 ETA:   0:01:09\n",
      " 65% (160 of 243) |##############        | Elapsed Time: 0:02:11 ETA:   0:01:08\n",
      " 66% (162 of 243) |##############        | Elapsed Time: 0:02:11 ETA:   0:01:05\n"
     ]
    },
    {
     "name": "stdout",
     "output_type": "stream",
     "text": [
      "No se pudo abrir el archivo: 161_core_other.mp4\n",
      "No se pudo abrir el archivo: 162_core_other.mp4\n"
     ]
    },
    {
     "name": "stderr",
     "output_type": "stream",
     "text": [
      " 67% (163 of 243) |##############        | Elapsed Time: 0:02:12 ETA:   0:01:04\n",
      " 67% (164 of 243) |##############        | Elapsed Time: 0:02:12 ETA:   0:01:03\n",
      " 67% (165 of 243) |##############        | Elapsed Time: 0:02:13 ETA:   0:01:03\n",
      " 68% (166 of 243) |###############       | Elapsed Time: 0:02:14 ETA:   0:01:02\n",
      " 68% (167 of 243) |###############       | Elapsed Time: 0:02:14 ETA:   0:01:01\n",
      " 69% (168 of 243) |###############       | Elapsed Time: 0:02:15 ETA:   0:01:00\n",
      " 69% (169 of 243) |###############       | Elapsed Time: 0:02:16 ETA:   0:00:59\n",
      " 69% (170 of 243) |###############       | Elapsed Time: 0:02:17 ETA:   0:00:58\n",
      " 70% (171 of 243) |###############       | Elapsed Time: 0:02:17 ETA:   0:00:57\n",
      " 70% (172 of 243) |###############       | Elapsed Time: 0:02:18 ETA:   0:00:57\n",
      " 71% (173 of 243) |###############       | Elapsed Time: 0:02:19 ETA:   0:00:56\n",
      " 71% (174 of 243) |###############       | Elapsed Time: 0:02:19 ETA:   0:00:55\n",
      " 72% (175 of 243) |###############       | Elapsed Time: 0:02:19 ETA:   0:00:54\n",
      " 72% (176 of 243) |###############       | Elapsed Time: 0:02:20 ETA:   0:00:53\n",
      " 72% (177 of 243) |################      | Elapsed Time: 0:02:20 ETA:   0:00:52\n",
      " 73% (178 of 243) |################      | Elapsed Time: 0:02:27 ETA:   0:00:53\n",
      " 73% (179 of 243) |################      | Elapsed Time: 0:02:28 ETA:   0:00:53\n",
      " 74% (180 of 243) |################      | Elapsed Time: 0:02:29 ETA:   0:00:52\n",
      " 74% (181 of 243) |################      | Elapsed Time: 0:02:29 ETA:   0:00:51\n",
      " 74% (182 of 243) |################      | Elapsed Time: 0:02:30 ETA:   0:00:50\n",
      " 75% (183 of 243) |################      | Elapsed Time: 0:02:30 ETA:   0:00:49\n",
      " 75% (184 of 243) |################      | Elapsed Time: 0:02:36 ETA:   0:00:50\n",
      " 76% (185 of 243) |################      | Elapsed Time: 0:02:37 ETA:   0:00:49\n",
      " 76% (186 of 243) |################      | Elapsed Time: 0:02:38 ETA:   0:00:48\n",
      " 77% (188 of 243) |#################     | Elapsed Time: 0:02:38 ETA:   0:00:46\n",
      " 77% (189 of 243) |#################     | Elapsed Time: 0:02:39 ETA:   0:00:45\n",
      " 78% (190 of 243) |#################     | Elapsed Time: 0:02:40 ETA:   0:00:44\n",
      " 78% (191 of 243) |#################     | Elapsed Time: 0:02:41 ETA:   0:00:43\n",
      " 79% (192 of 243) |#################     | Elapsed Time: 0:02:41 ETA:   0:00:42\n",
      " 79% (193 of 243) |#################     | Elapsed Time: 0:02:42 ETA:   0:00:42\n",
      " 79% (194 of 243) |#################     | Elapsed Time: 0:02:42 ETA:   0:00:41\n",
      " 80% (195 of 243) |#################     | Elapsed Time: 0:02:42 ETA:   0:00:40\n",
      " 80% (196 of 243) |#################     | Elapsed Time: 0:02:42 ETA:   0:00:39\n",
      " 81% (197 of 243) |#################     | Elapsed Time: 0:02:42 ETA:   0:00:38\n",
      " 81% (198 of 243) |#################     | Elapsed Time: 0:02:43 ETA:   0:00:37\n",
      " 81% (199 of 243) |##################    | Elapsed Time: 0:02:44 ETA:   0:00:36\n",
      " 82% (200 of 243) |##################    | Elapsed Time: 0:02:45 ETA:   0:00:35\n",
      " 82% (201 of 243) |##################    | Elapsed Time: 0:02:47 ETA:   0:00:34\n",
      " 83% (202 of 243) |##################    | Elapsed Time: 0:02:49 ETA:   0:00:34\n",
      " 83% (203 of 243) |##################    | Elapsed Time: 0:02:52 ETA:   0:00:33\n",
      " 83% (204 of 243) |##################    | Elapsed Time: 0:02:54 ETA:   0:00:33\n",
      " 84% (205 of 243) |##################    | Elapsed Time: 0:02:56 ETA:   0:00:32\n",
      " 84% (206 of 243) |##################    | Elapsed Time: 0:02:57 ETA:   0:00:31\n",
      " 85% (207 of 243) |##################    | Elapsed Time: 0:02:58 ETA:   0:00:31\n",
      " 85% (208 of 243) |##################    | Elapsed Time: 0:02:58 ETA:   0:00:30\n",
      " 86% (209 of 243) |##################    | Elapsed Time: 0:02:59 ETA:   0:00:29\n",
      " 86% (210 of 243) |###################   | Elapsed Time: 0:02:59 ETA:   0:00:28\n",
      " 86% (211 of 243) |###################   | Elapsed Time: 0:03:02 ETA:   0:00:27\n",
      " 87% (212 of 243) |###################   | Elapsed Time: 0:03:03 ETA:   0:00:26\n",
      " 87% (213 of 243) |###################   | Elapsed Time: 0:03:04 ETA:   0:00:26\n",
      " 88% (214 of 243) |###################   | Elapsed Time: 0:03:05 ETA:   0:00:25\n",
      " 88% (215 of 243) |###################   | Elapsed Time: 0:03:06 ETA:   0:00:24\n",
      " 88% (216 of 243) |###################   | Elapsed Time: 0:03:06 ETA:   0:00:23\n",
      " 89% (217 of 243) |###################   | Elapsed Time: 0:03:10 ETA:   0:00:22\n",
      " 89% (218 of 243) |###################   | Elapsed Time: 0:03:11 ETA:   0:00:21\n",
      " 90% (219 of 243) |###################   | Elapsed Time: 0:03:11 ETA:   0:00:20\n",
      " 90% (220 of 243) |###################   | Elapsed Time: 0:03:12 ETA:   0:00:20\n",
      " 90% (221 of 243) |####################  | Elapsed Time: 0:03:12 ETA:   0:00:19\n",
      " 91% (222 of 243) |####################  | Elapsed Time: 0:03:12 ETA:   0:00:18\n",
      " 91% (223 of 243) |####################  | Elapsed Time: 0:03:13 ETA:   0:00:17\n",
      " 92% (224 of 243) |####################  | Elapsed Time: 0:03:13 ETA:   0:00:16\n",
      " 92% (225 of 243) |####################  | Elapsed Time: 0:03:13 ETA:   0:00:15\n",
      " 93% (226 of 243) |####################  | Elapsed Time: 0:03:16 ETA:   0:00:14\n",
      " 93% (227 of 243) |####################  | Elapsed Time: 0:03:20 ETA:   0:00:14\n",
      " 93% (228 of 243) |####################  | Elapsed Time: 0:03:23 ETA:   0:00:13\n",
      " 94% (229 of 243) |####################  | Elapsed Time: 0:03:24 ETA:   0:00:12\n",
      " 94% (230 of 243) |####################  | Elapsed Time: 0:03:26 ETA:   0:00:11\n",
      " 95% (231 of 243) |####################  | Elapsed Time: 0:03:28 ETA:   0:00:10\n",
      " 95% (232 of 243) |##################### | Elapsed Time: 0:03:31 ETA:   0:00:10\n",
      " 95% (233 of 243) |##################### | Elapsed Time: 0:03:33 ETA:   0:00:09\n",
      " 96% (234 of 243) |##################### | Elapsed Time: 0:03:35 ETA:   0:00:08\n",
      " 96% (235 of 243) |##################### | Elapsed Time: 0:03:38 ETA:   0:00:07\n",
      " 97% (236 of 243) |##################### | Elapsed Time: 0:03:40 ETA:   0:00:06\n",
      " 97% (237 of 243) |##################### | Elapsed Time: 0:03:42 ETA:   0:00:05\n",
      " 97% (238 of 243) |##################### | Elapsed Time: 0:03:42 ETA:   0:00:04\n",
      " 98% (239 of 243) |##################### | Elapsed Time: 0:03:43 ETA:   0:00:03\n",
      " 98% (240 of 243) |##################### | Elapsed Time: 0:03:44 ETA:   0:00:02\n",
      " 99% (241 of 243) |##################### | Elapsed Time: 0:03:44 ETA:   0:00:01\n",
      " 99% (242 of 243) |##################### | Elapsed Time: 0:03:46 ETA:   0:00:00\n",
      "100% (243 of 243) |######################| Elapsed Time: 0:03:48 Time:  0:03:48\n"
     ]
    },
    {
     "name": "stdout",
     "output_type": "stream",
     "text": [
      "Recortes iniciales terminados...\n"
     ]
    }
   ],
   "source": [
    "progress = ProgressBar(max_value=vid_crp_metadata.shape[0])\n",
    "\n",
    "for idx, row in progress(vid_crp_metadata.iterrows()):\n",
    "    \n",
    "    try:\n",
    "        vid_arr = []  # Arreglo para almacenar fotogramas de archivos de video\n",
    "\n",
    "        filename = row.filename\n",
    "        file_label = filename.split('_')[-1].split('.')[0] # Etiqueta de archivos de video\n",
    "\n",
    "        # El siguiente archivo fue eliminado de en la nueva versión de datos Butterfly\n",
    "        if filename == '22_butterfly_covid.mp4':\n",
    "            continue #Se salta al siguiente archivo\n",
    "    \n",
    "        try:\n",
    "            cap = cv2.VideoCapture(os.path.join(VIDEO_PATH_ORG, filename))\n",
    "            if not cap.isOpened():\n",
    "                print(f\"No se pudo abrir el archivo: {filename}\")\n",
    "                continue #Se salta al siguiente archivo\n",
    "        except Exception as e:\n",
    "            print(f\"Error al intentar abrir archivo: {filename}: {e}\")\n",
    "            continue #Pasa al siguiente archivo\n",
    "        \n",
    "        width = int(cap.get(cv2.CAP_PROP_FRAME_WIDTH) + 0.5)\n",
    "        height = int(cap.get(cv2.CAP_PROP_FRAME_HEIGHT) + 0.5)\n",
    "        dim = (width, height) # Dimension del archivo original \n",
    "    \n",
    "        if pd.isna(row.x1_w_y1_h): # Recorte cuadrado (Square cropping)\n",
    "            \n",
    "            try:\n",
    "                DEL_UPPER = int(row.del_upper) # Remover la parte superior\n",
    "                WIDTH_RATE = float(row.width_rate) # Para quitar lados, por ejemplo el medidor \n",
    "\n",
    "                width_border = int(width * WIDTH_RATE)\n",
    "                width_box = int(width - (2 * width_border)) \n",
    "                if width_box + DEL_UPPER > height:\n",
    "                    width_box = int(height - DEL_UPPER)\n",
    "                    width_border = int( (width / 2) - (width_box / 2))\n",
    "\n",
    "                while(True):\n",
    "                    ret, frame = cap.read()\n",
    "\n",
    "                    if not ret:\n",
    "                        break\n",
    "\n",
    "                    # Recortar\n",
    "                    frame = frame[DEL_UPPER:width_box + DEL_UPPER, width_border:width_box + width_border]\n",
    "                    #Convierte fotogramas en arreglos haciendolo compatible con cv2\n",
    "                    frame = np.asarray(frame).astype(np.uint8)\n",
    "                    vid_arr.append(frame)\n",
    "            except Exception as e:\n",
    "                print(f\"Ocurrio un error al intentar recortar {filename} con recorte cuadrado: {e}\")    \n",
    "                continue\n",
    "                \n",
    "        else: # Recortar utilizando coordenadas (x1,y1) y (x2, y2). La salida no sera necesariamente un archivo cuadrado\n",
    "            try:\n",
    "                X1 = int(row.x1_w_y1_h.split(',')[0].replace('(', ''))\n",
    "                W = int(row.x1_w_y1_h.split(',')[1].strip())\n",
    "                Y1 = int(row.x1_w_y1_h.split(',')[2].strip())\n",
    "                H = int(row.x1_w_y1_h.split(',')[3].replace(')', '').strip())\n",
    "\n",
    "                while(True):\n",
    "                    ret, frame = cap.read()\n",
    "\n",
    "                    if not ret:\n",
    "                        break\n",
    "\n",
    "                    # Recortar\n",
    "                    frame = frame[Y1:Y1 + H, X1:X1 + W]\n",
    "\n",
    "                    frame = np.asarray(frame).astype(np.uint8)\n",
    "                    vid_arr.append(frame)\n",
    "            except Exception as e:\n",
    "                print(f\"Ocurrio un erro al intentar recortar {filename} mediante coordenadas: {e}\")\n",
    "                continue\n",
    "\n",
    "        #Almacenar video recortado\n",
    "        try:\n",
    "            vid_arr = np.asarray(vid_arr)\n",
    "            prc_dim = vid_arr.shape[1:3] # Dimension del archivo recortado\n",
    "            prc_dim = (prc_dim[1], prc_dim[0])\n",
    "\n",
    "            fourcc = cv2.VideoWriter_fourcc(*'XVID')\n",
    "            out = cv2.VideoWriter(os.path.join(VIDEO_CROPPED_OUT + filename.split('.')[0] + '_prc.avi'), fourcc, 20.0, tuple(prc_dim))\n",
    "\n",
    "            for frame in vid_arr:\n",
    "                out.write(frame.astype(\"uint8\"))\n",
    "\n",
    "            vid_crp_metadata.iloc[idx, vid_crp_metadata.columns.get_loc('crp_width')] = prc_dim[1]\n",
    "            vid_crp_metadata.iloc[idx, vid_crp_metadata.columns.get_loc('crp_height')] = prc_dim[0]\n",
    "\n",
    "            cap.release()\n",
    "            out.release()\n",
    "            cv2.destroyAllWindows()\n",
    "        except Exception as e:\n",
    "            print(f\"Ocurrio un error al intentar guardar el video recortado: {e}\")\n",
    "            \n",
    "            \n",
    "    except Exception as e:\n",
    "        print(f\"Error durante el procesamiento del archivo: {filename}: {e}\")\n",
    "\n",
    "try:\n",
    "    vid_crp_metadata.to_csv('utils/video_cropping_metadata.csv', index=None)\n",
    "    print('Recortes iniciales terminados...')\n",
    "except Exception as e:\n",
    "    print(f\"Error al guardar el archivo de metadatos: {e}\")"
   ]
  },
  {
   "cell_type": "markdown",
   "metadata": {},
   "source": [
    "# 3. Extracción de imagenes de ultrasonidos a partir de vídeos"
   ]
  },
  {
   "cell_type": "markdown",
   "metadata": {},
   "source": [
    "#### Leer las propiedades de video"
   ]
  },
  {
   "cell_type": "code",
   "execution_count": 10,
   "metadata": {},
   "outputs": [
    {
     "name": "stdout",
     "output_type": "stream",
     "text": [
      "(240, 9)\n"
     ]
    },
    {
     "data": {
      "text/html": [
       "<div>\n",
       "<style scoped>\n",
       "    .dataframe tbody tr th:only-of-type {\n",
       "        vertical-align: middle;\n",
       "    }\n",
       "\n",
       "    .dataframe tbody tr th {\n",
       "        vertical-align: top;\n",
       "    }\n",
       "\n",
       "    .dataframe thead th {\n",
       "        text-align: right;\n",
       "    }\n",
       "</style>\n",
       "<table border=\"1\" class=\"dataframe\">\n",
       "  <thead>\n",
       "    <tr style=\"text-align: right;\">\n",
       "      <th></th>\n",
       "      <th>filename</th>\n",
       "      <th>framerate</th>\n",
       "      <th>width</th>\n",
       "      <th>height</th>\n",
       "      <th>frame_count</th>\n",
       "      <th>duration_secs</th>\n",
       "      <th>source</th>\n",
       "      <th>probe</th>\n",
       "      <th>class</th>\n",
       "    </tr>\n",
       "  </thead>\n",
       "  <tbody>\n",
       "    <tr>\n",
       "      <th>0</th>\n",
       "      <td>100_litfl_other.mp4</td>\n",
       "      <td>15.0</td>\n",
       "      <td>480.0</td>\n",
       "      <td>360.0</td>\n",
       "      <td>46.0</td>\n",
       "      <td>3.07</td>\n",
       "      <td>Litfl</td>\n",
       "      <td>Convex</td>\n",
       "      <td>Other</td>\n",
       "    </tr>\n",
       "    <tr>\n",
       "      <th>1</th>\n",
       "      <td>101_litfl_other.mp4</td>\n",
       "      <td>15.0</td>\n",
       "      <td>480.0</td>\n",
       "      <td>360.0</td>\n",
       "      <td>28.0</td>\n",
       "      <td>1.87</td>\n",
       "      <td>Litfl</td>\n",
       "      <td>Convex</td>\n",
       "      <td>Other</td>\n",
       "    </tr>\n",
       "  </tbody>\n",
       "</table>\n",
       "</div>"
      ],
      "text/plain": [
       "              filename  framerate  width  height  frame_count  duration_secs  \\\n",
       "0  100_litfl_other.mp4       15.0  480.0   360.0         46.0           3.07   \n",
       "1  101_litfl_other.mp4       15.0  480.0   360.0         28.0           1.87   \n",
       "\n",
       "  source   probe  class  \n",
       "0  Litfl  Convex  Other  \n",
       "1  Litfl  Convex  Other  "
      ]
     },
     "execution_count": 10,
     "metadata": {},
     "output_type": "execute_result"
    }
   ],
   "source": [
    "#Carga el archivo CSV en un DataFrame\n",
    "vid_prop_df = pd.read_csv('utils/video_files_properties.csv')\n",
    "\n",
    "# Fusionar con el archivo de video de metadatos\n",
    "#Convierte la columna con los nombres a tipo String y elimina espacios\n",
    "vid_prop_df['filename'] = vid_prop_df['filename'].astype(str).str.strip()\n",
    "\n",
    "#Crea una columna temporal en el DataFrame combinando ID y FileType\n",
    "metadata['filename2'] = metadata['id'].str.strip()+ '.' + metadata['filetype'].str.strip()\n",
    "\n",
    "#Fusiona 'Vid_prop_df' y 'metadata'\n",
    "vid_prop_df = pd.merge(vid_prop_df, metadata[['filename2', 'source', 'probe', 'class']], left_on='filename', right_on='filename2', how='left').drop('filename2', axis=1)\n",
    "\n",
    "del metadata['filename2'] #Elimina la columna temporal 'filename2'\n",
    "print(vid_prop_df.shape) #Imprime (Filas y columnas) de 'Vid_prop_df' despues de la fusión\n",
    "vid_prop_df.head(2) #Muestra las 2 primeras filas resultantes"
   ]
  },
  {
   "cell_type": "markdown",
   "metadata": {},
   "source": [
    "#### Extracción de fotogramas de vídeos originales\n",
    "* v1.4.: 32,052 images are extracted\n",
    "* v1.3.: 19,161 images are extracted\n",
    "* v1.2.: 15,282 images are extracted"
   ]
  },
  {
   "cell_type": "code",
   "execution_count": 11,
   "metadata": {},
   "outputs": [],
   "source": [
    "#Define la ruta como directorio para guardar las imagenes obtenidas de los videos originales\n",
    "IMAGE_PATH_ORG = 'data/image/original/'\n",
    "\n",
    "# En caso de no existir, crea la carpeta para las imagenes extraídas de los videos originales\n",
    "if not os.path.exists(IMAGE_PATH_ORG):\n",
    "    os.makedirs(IMAGE_PATH_ORG)"
   ]
  },
  {
   "cell_type": "code",
   "execution_count": 18,
   "metadata": {},
   "outputs": [
    {
     "name": "stderr",
     "output_type": "stream",
     "text": [
      "  0% (0 of 240) |                        | Elapsed Time: 0:00:00 ETA:  --:--:--\n"
     ]
    },
    {
     "name": "stdout",
     "output_type": "stream",
     "text": [
      "Realizando extracción de imagenes\n"
     ]
    },
    {
     "name": "stderr",
     "output_type": "stream",
     "text": [
      "  0% (1 of 240) |                        | Elapsed Time: 0:00:00 ETA:   0:01:41\n",
      "  0% (2 of 240) |                        | Elapsed Time: 0:00:00 ETA:   0:01:16\n",
      "  1% (3 of 240) |                        | Elapsed Time: 0:00:00 ETA:   0:01:09\n",
      "  1% (4 of 240) |                        | Elapsed Time: 0:00:01 ETA:   0:01:43\n",
      "  2% (5 of 240) |                        | Elapsed Time: 0:00:02 ETA:   0:01:59\n",
      "  2% (6 of 240) |                        | Elapsed Time: 0:00:02 ETA:   0:01:56\n",
      "  2% (7 of 240) |                        | Elapsed Time: 0:00:03 ETA:   0:01:55\n",
      "  3% (8 of 240) |                        | Elapsed Time: 0:00:04 ETA:   0:02:17\n",
      "  3% (9 of 240) |                        | Elapsed Time: 0:00:05 ETA:   0:02:13\n",
      "  4% (10 of 240) |                       | Elapsed Time: 0:00:05 ETA:   0:02:06\n",
      "  4% (11 of 240) |#                      | Elapsed Time: 0:00:12 ETA:   0:04:15\n",
      "  5% (12 of 240) |#                      | Elapsed Time: 0:00:12 ETA:   0:04:01\n",
      "  5% (13 of 240) |#                      | Elapsed Time: 0:00:13 ETA:   0:03:48\n",
      "  5% (14 of 240) |#                      | Elapsed Time: 0:00:13 ETA:   0:03:37\n",
      "  6% (15 of 240) |#                      | Elapsed Time: 0:00:13 ETA:   0:03:27\n",
      "  6% (16 of 240) |#                      | Elapsed Time: 0:00:14 ETA:   0:03:18\n",
      "  7% (17 of 240) |#                      | Elapsed Time: 0:00:14 ETA:   0:03:09\n",
      "  7% (18 of 240) |#                      | Elapsed Time: 0:00:14 ETA:   0:03:03\n",
      "  7% (19 of 240) |#                      | Elapsed Time: 0:00:15 ETA:   0:02:57\n",
      "  8% (20 of 240) |#                      | Elapsed Time: 0:00:15 ETA:   0:02:51\n",
      "  8% (21 of 240) |##                     | Elapsed Time: 0:00:15 ETA:   0:02:45\n",
      "  9% (22 of 240) |##                     | Elapsed Time: 0:00:19 ETA:   0:03:10\n",
      "  9% (23 of 240) |##                     | Elapsed Time: 0:00:19 ETA:   0:03:04\n",
      " 10% (24 of 240) |##                     | Elapsed Time: 0:00:19 ETA:   0:02:57\n",
      " 10% (25 of 240) |##                     | Elapsed Time: 0:00:20 ETA:   0:02:53\n",
      " 10% (26 of 240) |##                     | Elapsed Time: 0:00:20 ETA:   0:02:51\n",
      " 11% (27 of 240) |##                     | Elapsed Time: 0:00:21 ETA:   0:02:49\n",
      " 11% (28 of 240) |##                     | Elapsed Time: 0:00:21 ETA:   0:02:45\n",
      " 12% (29 of 240) |##                     | Elapsed Time: 0:00:22 ETA:   0:02:40\n",
      " 12% (30 of 240) |##                     | Elapsed Time: 0:00:22 ETA:   0:02:36\n",
      " 12% (31 of 240) |##                     | Elapsed Time: 0:00:22 ETA:   0:02:32\n",
      " 13% (32 of 240) |###                    | Elapsed Time: 0:00:22 ETA:   0:02:28\n",
      " 13% (33 of 240) |###                    | Elapsed Time: 0:00:27 ETA:   0:02:53\n",
      " 14% (34 of 240) |###                    | Elapsed Time: 0:00:28 ETA:   0:02:49\n",
      " 14% (35 of 240) |###                    | Elapsed Time: 0:00:28 ETA:   0:02:45\n",
      " 15% (36 of 240) |###                    | Elapsed Time: 0:00:28 ETA:   0:02:41\n",
      " 15% (37 of 240) |###                    | Elapsed Time: 0:00:29 ETA:   0:02:39\n",
      " 15% (38 of 240) |###                    | Elapsed Time: 0:00:29 ETA:   0:02:37\n",
      " 16% (39 of 240) |###                    | Elapsed Time: 0:00:30 ETA:   0:02:35\n",
      " 16% (40 of 240) |###                    | Elapsed Time: 0:00:30 ETA:   0:02:32\n",
      " 17% (41 of 240) |###                    | Elapsed Time: 0:00:30 ETA:   0:02:30\n",
      " 17% (42 of 240) |####                   | Elapsed Time: 0:00:31 ETA:   0:02:27\n",
      " 17% (43 of 240) |####                   | Elapsed Time: 0:00:31 ETA:   0:02:24\n",
      " 18% (44 of 240) |####                   | Elapsed Time: 0:00:35 ETA:   0:02:39\n",
      " 18% (45 of 240) |####                   | Elapsed Time: 0:00:36 ETA:   0:02:36\n",
      " 19% (46 of 240) |####                   | Elapsed Time: 0:00:36 ETA:   0:02:33\n",
      " 19% (47 of 240) |####                   | Elapsed Time: 0:00:36 ETA:   0:02:30\n",
      " 20% (48 of 240) |####                   | Elapsed Time: 0:00:37 ETA:   0:02:28\n",
      " 20% (49 of 240) |####                   | Elapsed Time: 0:00:37 ETA:   0:02:25\n",
      " 20% (50 of 240) |####                   | Elapsed Time: 0:00:37 ETA:   0:02:24\n",
      " 21% (51 of 240) |####                   | Elapsed Time: 0:00:38 ETA:   0:02:22\n",
      " 21% (52 of 240) |####                   | Elapsed Time: 0:00:38 ETA:   0:02:20\n",
      " 22% (53 of 240) |#####                  | Elapsed Time: 0:00:39 ETA:   0:02:17\n",
      " 22% (54 of 240) |#####                  | Elapsed Time: 0:00:39 ETA:   0:02:15\n",
      " 22% (55 of 240) |#####                  | Elapsed Time: 0:00:43 ETA:   0:02:24\n",
      " 23% (56 of 240) |#####                  | Elapsed Time: 0:00:43 ETA:   0:02:22\n",
      " 23% (57 of 240) |#####                  | Elapsed Time: 0:00:43 ETA:   0:02:20\n",
      " 24% (58 of 240) |#####                  | Elapsed Time: 0:00:44 ETA:   0:02:20\n",
      " 24% (59 of 240) |#####                  | Elapsed Time: 0:00:46 ETA:   0:02:23\n",
      " 25% (60 of 240) |#####                  | Elapsed Time: 0:00:49 ETA:   0:02:27\n",
      " 25% (61 of 240) |#####                  | Elapsed Time: 0:00:51 ETA:   0:02:31\n",
      " 25% (62 of 240) |#####                  | Elapsed Time: 0:00:52 ETA:   0:02:29\n",
      " 26% (63 of 240) |######                 | Elapsed Time: 0:00:55 ETA:   0:02:36\n",
      " 26% (64 of 240) |######                 | Elapsed Time: 0:01:10 ETA:   0:03:13\n",
      " 27% (65 of 240) |######                 | Elapsed Time: 0:01:23 ETA:   0:03:44\n",
      " 27% (66 of 240) |######                 | Elapsed Time: 0:01:30 ETA:   0:03:58\n",
      " 27% (67 of 240) |######                 | Elapsed Time: 0:01:34 ETA:   0:04:04\n",
      " 28% (68 of 240) |######                 | Elapsed Time: 0:01:38 ETA:   0:04:08\n",
      " 28% (69 of 240) |######                 | Elapsed Time: 0:01:41 ETA:   0:04:10\n",
      " 29% (70 of 240) |######                 | Elapsed Time: 0:01:44 ETA:   0:04:13\n",
      " 29% (71 of 240) |######                 | Elapsed Time: 0:01:47 ETA:   0:04:16\n",
      " 30% (72 of 240) |######                 | Elapsed Time: 0:01:50 ETA:   0:04:16\n",
      " 30% (73 of 240) |######                 | Elapsed Time: 0:01:53 ETA:   0:04:19\n",
      " 30% (74 of 240) |#######                | Elapsed Time: 0:01:57 ETA:   0:04:23\n",
      " 31% (75 of 240) |#######                | Elapsed Time: 0:02:27 ETA:   0:05:23\n",
      " 31% (76 of 240) |#######                | Elapsed Time: 0:02:30 ETA:   0:05:25\n",
      " 32% (77 of 240) |#######                | Elapsed Time: 0:02:34 ETA:   0:05:26\n",
      " 32% (78 of 240) |#######                | Elapsed Time: 0:02:37 ETA:   0:05:26\n",
      " 32% (79 of 240) |#######                | Elapsed Time: 0:02:40 ETA:   0:05:26\n",
      " 33% (80 of 240) |#######                | Elapsed Time: 0:02:42 ETA:   0:05:24\n",
      " 33% (81 of 240) |#######                | Elapsed Time: 0:02:43 ETA:   0:05:20\n",
      " 34% (82 of 240) |#######                | Elapsed Time: 0:02:44 ETA:   0:05:17\n",
      " 34% (83 of 240) |#######                | Elapsed Time: 0:02:46 ETA:   0:05:14\n",
      " 35% (84 of 240) |########               | Elapsed Time: 0:03:06 ETA:   0:05:46\n",
      " 35% (85 of 240) |########               | Elapsed Time: 0:03:08 ETA:   0:05:43\n",
      " 35% (86 of 240) |########               | Elapsed Time: 0:03:14 ETA:   0:05:48\n",
      " 36% (87 of 240) |########               | Elapsed Time: 0:03:16 ETA:   0:05:45\n",
      " 36% (88 of 240) |########               | Elapsed Time: 0:03:18 ETA:   0:05:42\n",
      " 37% (89 of 240) |########               | Elapsed Time: 0:03:19 ETA:   0:05:37\n",
      " 37% (90 of 240) |########               | Elapsed Time: 0:03:20 ETA:   0:05:34\n",
      " 37% (91 of 240) |########               | Elapsed Time: 0:06:53 ETA:   0:11:16\n",
      " 38% (92 of 240) |########               | Elapsed Time: 0:06:55 ETA:   0:11:07\n",
      " 38% (93 of 240) |########               | Elapsed Time: 0:06:57 ETA:   0:10:59\n",
      " 39% (94 of 240) |#########              | Elapsed Time: 0:06:57 ETA:   0:10:49\n",
      " 39% (95 of 240) |#########              | Elapsed Time: 0:06:59 ETA:   0:10:40\n",
      " 40% (96 of 240) |#########              | Elapsed Time: 0:07:01 ETA:   0:10:32\n",
      " 40% (97 of 240) |#########              | Elapsed Time: 0:07:06 ETA:   0:10:28\n",
      " 40% (98 of 240) |#########              | Elapsed Time: 0:07:08 ETA:   0:10:20\n",
      " 41% (99 of 240) |#########              | Elapsed Time: 0:07:11 ETA:   0:10:14\n",
      " 41% (100 of 240) |#########             | Elapsed Time: 0:07:12 ETA:   0:10:05\n",
      " 42% (101 of 240) |#########             | Elapsed Time: 0:07:15 ETA:   0:09:59\n",
      " 42% (102 of 240) |#########             | Elapsed Time: 0:07:15 ETA:   0:09:49\n",
      " 42% (103 of 240) |#########             | Elapsed Time: 0:07:16 ETA:   0:09:40\n",
      " 43% (104 of 240) |#########             | Elapsed Time: 0:07:17 ETA:   0:09:31\n",
      " 43% (105 of 240) |#########             | Elapsed Time: 0:07:17 ETA:   0:09:23\n",
      " 44% (106 of 240) |#########             | Elapsed Time: 0:07:20 ETA:   0:09:17\n",
      " 44% (107 of 240) |#########             | Elapsed Time: 0:07:23 ETA:   0:09:11\n",
      " 45% (108 of 240) |#########             | Elapsed Time: 0:07:27 ETA:   0:09:06\n",
      " 45% (109 of 240) |#########             | Elapsed Time: 0:07:30 ETA:   0:09:00\n",
      " 45% (110 of 240) |##########            | Elapsed Time: 0:07:34 ETA:   0:08:57\n",
      " 46% (111 of 240) |##########            | Elapsed Time: 0:07:42 ETA:   0:08:57\n",
      " 46% (112 of 240) |##########            | Elapsed Time: 0:07:51 ETA:   0:08:58\n",
      " 47% (113 of 240) |##########            | Elapsed Time: 0:08:00 ETA:   0:08:59\n",
      " 47% (114 of 240) |##########            | Elapsed Time: 0:08:10 ETA:   0:09:01\n",
      " 47% (115 of 240) |##########            | Elapsed Time: 0:08:20 ETA:   0:09:04\n",
      " 48% (116 of 240) |##########            | Elapsed Time: 0:08:23 ETA:   0:08:58\n",
      " 48% (117 of 240) |##########            | Elapsed Time: 0:08:26 ETA:   0:08:52\n",
      " 49% (118 of 240) |##########            | Elapsed Time: 0:08:27 ETA:   0:08:44\n",
      " 49% (119 of 240) |##########            | Elapsed Time: 0:08:30 ETA:   0:08:39\n",
      " 50% (120 of 240) |###########           | Elapsed Time: 0:09:01 ETA:   0:09:01\n",
      " 50% (121 of 240) |###########           | Elapsed Time: 0:09:04 ETA:   0:08:55\n",
      " 50% (122 of 240) |###########           | Elapsed Time: 0:09:18 ETA:   0:09:00\n",
      " 51% (123 of 240) |###########           | Elapsed Time: 0:09:21 ETA:   0:08:53\n",
      " 51% (124 of 240) |###########           | Elapsed Time: 0:09:23 ETA:   0:08:47\n",
      " 52% (125 of 240) |###########           | Elapsed Time: 0:09:26 ETA:   0:08:40\n",
      " 52% (126 of 240) |###########           | Elapsed Time: 0:09:29 ETA:   0:08:35\n",
      " 52% (127 of 240) |###########           | Elapsed Time: 0:09:29 ETA:   0:08:27\n",
      " 53% (128 of 240) |###########           | Elapsed Time: 0:09:43 ETA:   0:08:30\n",
      " 53% (129 of 240) |###########           | Elapsed Time: 0:09:45 ETA:   0:08:23\n",
      " 54% (130 of 240) |###########           | Elapsed Time: 0:09:45 ETA:   0:08:15\n",
      " 54% (131 of 240) |############          | Elapsed Time: 0:09:49 ETA:   0:08:10\n",
      " 55% (132 of 240) |############          | Elapsed Time: 0:09:51 ETA:   0:08:03\n",
      " 55% (133 of 240) |############          | Elapsed Time: 0:09:52 ETA:   0:07:56\n",
      " 55% (134 of 240) |############          | Elapsed Time: 0:09:54 ETA:   0:07:50\n",
      " 56% (135 of 240) |############          | Elapsed Time: 0:09:56 ETA:   0:07:43\n",
      " 56% (136 of 240) |############          | Elapsed Time: 0:09:57 ETA:   0:07:36\n",
      " 57% (137 of 240) |############          | Elapsed Time: 0:09:59 ETA:   0:07:30\n",
      " 57% (138 of 240) |############          | Elapsed Time: 0:10:09 ETA:   0:07:30\n",
      " 57% (139 of 240) |############          | Elapsed Time: 0:10:21 ETA:   0:07:31\n",
      " 58% (140 of 240) |############          | Elapsed Time: 0:10:32 ETA:   0:07:31\n",
      " 58% (141 of 240) |############          | Elapsed Time: 0:10:36 ETA:   0:07:26\n",
      " 59% (142 of 240) |#############         | Elapsed Time: 0:10:45 ETA:   0:07:25\n",
      " 59% (143 of 240) |#############         | Elapsed Time: 0:10:54 ETA:   0:07:24\n",
      " 60% (144 of 240) |#############         | Elapsed Time: 0:11:03 ETA:   0:07:22\n",
      " 60% (145 of 240) |#############         | Elapsed Time: 0:11:12 ETA:   0:07:20\n",
      " 60% (146 of 240) |#############         | Elapsed Time: 0:11:21 ETA:   0:07:18\n",
      " 61% (147 of 240) |#############         | Elapsed Time: 0:11:29 ETA:   0:07:16\n",
      " 61% (148 of 240) |#############         | Elapsed Time: 0:11:36 ETA:   0:07:13\n",
      " 62% (149 of 240) |#############         | Elapsed Time: 0:11:44 ETA:   0:07:10\n",
      " 62% (150 of 240) |#############         | Elapsed Time: 0:11:45 ETA:   0:07:03\n",
      " 62% (151 of 240) |#############         | Elapsed Time: 0:11:49 ETA:   0:06:58\n",
      " 63% (152 of 240) |#############         | Elapsed Time: 0:11:54 ETA:   0:06:53\n",
      " 63% (153 of 240) |##############        | Elapsed Time: 0:11:56 ETA:   0:06:47\n",
      " 64% (154 of 240) |##############        | Elapsed Time: 0:11:58 ETA:   0:06:41\n",
      " 64% (155 of 240) |##############        | Elapsed Time: 0:12:03 ETA:   0:06:36\n",
      " 65% (156 of 240) |##############        | Elapsed Time: 0:12:11 ETA:   0:06:33\n",
      " 65% (157 of 240) |##############        | Elapsed Time: 0:12:17 ETA:   0:06:30\n",
      " 65% (158 of 240) |##############        | Elapsed Time: 0:12:33 ETA:   0:06:31\n",
      " 66% (159 of 240) |##############        | Elapsed Time: 0:12:34 ETA:   0:06:24\n",
      " 66% (160 of 240) |##############        | Elapsed Time: 0:12:35 ETA:   0:06:17\n",
      " 67% (161 of 240) |##############        | Elapsed Time: 0:12:36 ETA:   0:06:10\n",
      " 67% (162 of 240) |##############        | Elapsed Time: 0:12:37 ETA:   0:06:04\n",
      " 67% (163 of 240) |##############        | Elapsed Time: 0:13:11 ETA:   0:06:14\n",
      " 68% (164 of 240) |###############       | Elapsed Time: 0:13:14 ETA:   0:06:08\n",
      " 68% (165 of 240) |###############       | Elapsed Time: 0:13:30 ETA:   0:06:08\n",
      " 69% (166 of 240) |###############       | Elapsed Time: 0:13:36 ETA:   0:06:03\n",
      " 69% (167 of 240) |###############       | Elapsed Time: 0:13:39 ETA:   0:05:58\n",
      " 70% (168 of 240) |###############       | Elapsed Time: 0:13:49 ETA:   0:05:55\n",
      " 70% (169 of 240) |###############       | Elapsed Time: 0:13:57 ETA:   0:05:51\n",
      " 70% (170 of 240) |###############       | Elapsed Time: 0:13:59 ETA:   0:05:45\n",
      " 71% (171 of 240) |###############       | Elapsed Time: 0:14:05 ETA:   0:05:40\n",
      " 71% (172 of 240) |###############       | Elapsed Time: 0:14:11 ETA:   0:05:36\n",
      " 72% (173 of 240) |###############       | Elapsed Time: 0:14:17 ETA:   0:05:32\n",
      " 72% (174 of 240) |###############       | Elapsed Time: 0:14:24 ETA:   0:05:28\n",
      " 72% (175 of 240) |################      | Elapsed Time: 0:14:26 ETA:   0:05:21\n",
      " 73% (176 of 240) |################      | Elapsed Time: 0:14:28 ETA:   0:05:15\n",
      " 73% (177 of 240) |################      | Elapsed Time: 0:14:30 ETA:   0:05:09\n",
      " 74% (178 of 240) |################      | Elapsed Time: 0:14:32 ETA:   0:05:03\n",
      " 74% (179 of 240) |################      | Elapsed Time: 0:14:33 ETA:   0:04:57\n",
      " 75% (180 of 240) |################      | Elapsed Time: 0:14:33 ETA:   0:04:51\n",
      " 75% (181 of 240) |################      | Elapsed Time: 0:14:33 ETA:   0:04:44\n",
      " 75% (182 of 240) |################      | Elapsed Time: 0:14:34 ETA:   0:04:38\n",
      " 76% (183 of 240) |################      | Elapsed Time: 0:14:34 ETA:   0:04:32\n",
      " 76% (184 of 240) |################      | Elapsed Time: 0:14:35 ETA:   0:04:26\n",
      " 77% (185 of 240) |################      | Elapsed Time: 0:14:40 ETA:   0:04:21\n",
      " 77% (186 of 240) |#################     | Elapsed Time: 0:14:42 ETA:   0:04:16\n",
      " 77% (187 of 240) |#################     | Elapsed Time: 0:14:43 ETA:   0:04:10\n",
      " 78% (188 of 240) |#################     | Elapsed Time: 0:14:45 ETA:   0:04:04\n",
      " 78% (189 of 240) |#################     | Elapsed Time: 0:14:45 ETA:   0:03:58\n",
      " 79% (190 of 240) |#################     | Elapsed Time: 0:14:46 ETA:   0:03:53\n",
      " 79% (191 of 240) |#################     | Elapsed Time: 0:14:47 ETA:   0:03:47\n",
      " 80% (192 of 240) |#################     | Elapsed Time: 0:14:48 ETA:   0:03:42\n",
      " 80% (193 of 240) |#################     | Elapsed Time: 0:14:48 ETA:   0:03:36\n",
      " 80% (194 of 240) |#################     | Elapsed Time: 0:14:48 ETA:   0:03:30\n",
      " 81% (195 of 240) |#################     | Elapsed Time: 0:14:49 ETA:   0:03:25\n",
      " 81% (196 of 240) |#################     | Elapsed Time: 0:14:59 ETA:   0:03:21\n",
      " 82% (197 of 240) |##################    | Elapsed Time: 0:15:00 ETA:   0:03:16\n",
      " 82% (198 of 240) |##################    | Elapsed Time: 0:15:00 ETA:   0:03:10\n",
      " 82% (199 of 240) |##################    | Elapsed Time: 0:15:01 ETA:   0:03:05\n",
      " 83% (200 of 240) |##################    | Elapsed Time: 0:15:02 ETA:   0:03:00\n",
      " 83% (201 of 240) |##################    | Elapsed Time: 0:15:03 ETA:   0:02:55\n",
      " 84% (202 of 240) |##################    | Elapsed Time: 0:15:04 ETA:   0:02:50\n",
      " 84% (203 of 240) |##################    | Elapsed Time: 0:15:04 ETA:   0:02:44\n",
      " 85% (204 of 240) |##################    | Elapsed Time: 0:15:05 ETA:   0:02:39\n",
      " 85% (205 of 240) |##################    | Elapsed Time: 0:15:06 ETA:   0:02:34\n",
      " 85% (206 of 240) |##################    | Elapsed Time: 0:15:06 ETA:   0:02:29\n",
      " 86% (207 of 240) |##################    | Elapsed Time: 0:15:32 ETA:   0:02:28\n",
      " 86% (208 of 240) |###################   | Elapsed Time: 0:15:32 ETA:   0:02:23\n",
      " 87% (209 of 240) |###################   | Elapsed Time: 0:15:33 ETA:   0:02:18\n",
      " 87% (210 of 240) |###################   | Elapsed Time: 0:15:34 ETA:   0:02:13\n",
      " 87% (211 of 240) |###################   | Elapsed Time: 0:15:35 ETA:   0:02:08\n",
      " 88% (212 of 240) |###################   | Elapsed Time: 0:15:35 ETA:   0:02:03\n",
      " 88% (213 of 240) |###################   | Elapsed Time: 0:15:36 ETA:   0:01:58\n",
      " 89% (214 of 240) |###################   | Elapsed Time: 0:15:37 ETA:   0:01:53\n",
      " 89% (215 of 240) |###################   | Elapsed Time: 0:15:38 ETA:   0:01:49\n",
      " 90% (216 of 240) |###################   | Elapsed Time: 0:15:39 ETA:   0:01:44\n",
      " 90% (217 of 240) |###################   | Elapsed Time: 0:15:40 ETA:   0:01:39\n",
      " 90% (218 of 240) |###################   | Elapsed Time: 0:15:45 ETA:   0:01:35\n",
      " 91% (219 of 240) |####################  | Elapsed Time: 0:15:45 ETA:   0:01:30\n",
      " 91% (220 of 240) |####################  | Elapsed Time: 0:15:54 ETA:   0:01:26\n",
      " 92% (221 of 240) |####################  | Elapsed Time: 0:15:56 ETA:   0:01:22\n",
      " 92% (222 of 240) |####################  | Elapsed Time: 0:15:59 ETA:   0:01:17\n",
      " 92% (223 of 240) |####################  | Elapsed Time: 0:16:02 ETA:   0:01:13\n",
      " 93% (224 of 240) |####################  | Elapsed Time: 0:16:08 ETA:   0:01:09\n",
      " 93% (225 of 240) |####################  | Elapsed Time: 0:16:18 ETA:   0:01:05\n",
      " 94% (226 of 240) |####################  | Elapsed Time: 0:16:25 ETA:   0:01:01\n",
      " 94% (227 of 240) |####################  | Elapsed Time: 0:16:29 ETA:   0:00:56\n",
      " 95% (228 of 240) |####################  | Elapsed Time: 0:16:35 ETA:   0:00:52\n",
      " 95% (229 of 240) |####################  | Elapsed Time: 0:16:40 ETA:   0:00:48\n",
      " 95% (230 of 240) |##################### | Elapsed Time: 0:16:45 ETA:   0:00:43\n",
      " 96% (231 of 240) |##################### | Elapsed Time: 0:17:01 ETA:   0:00:39\n",
      " 96% (232 of 240) |##################### | Elapsed Time: 0:17:05 ETA:   0:00:35\n",
      " 97% (233 of 240) |##################### | Elapsed Time: 0:17:09 ETA:   0:00:30\n",
      " 97% (234 of 240) |##################### | Elapsed Time: 0:17:19 ETA:   0:00:26\n",
      " 97% (235 of 240) |##################### | Elapsed Time: 0:17:20 ETA:   0:00:22\n",
      " 98% (236 of 240) |##################### | Elapsed Time: 0:17:20 ETA:   0:00:17\n",
      " 98% (237 of 240) |##################### | Elapsed Time: 0:17:20 ETA:   0:00:13\n",
      " 99% (238 of 240) |##################### | Elapsed Time: 0:17:22 ETA:   0:00:08\n",
      " 99% (239 of 240) |##################### | Elapsed Time: 0:17:22 ETA:   0:00:04\n",
      "100% (240 of 240) |######################| Elapsed Time: 0:17:29 Time:  0:17:29\n"
     ]
    }
   ],
   "source": [
    "import importlib\n",
    "import image_data\n",
    "importlib.reload(image_data)\n",
    "from image_data import extract_images # Modulo personalizado - contiene la función de extracción de imágenes\n",
    "\n",
    "extract_images(video_path= VIDEO_PATH_ORG, image_path=IMAGE_PATH_ORG, cropped=False)"
   ]
  },
  {
   "cell_type": "markdown",
   "metadata": {},
   "source": [
    "## 3.1. Extracción de fotogramas de archivos de video recortados"
   ]
  },
  {
   "cell_type": "code",
   "execution_count": 12,
   "metadata": {},
   "outputs": [],
   "source": [
    "IMAGE_CROPPED_OUT = 'data/image/cropped/'\n",
    "IMAGE_MASK_OUT = 'data/mask/'\n",
    "\n",
    "# Crea carpetas de imágenes recortadas y pintadas, ademas de la carpeta de mascara (mask) si aun no existe\n",
    "if not os.path.exists(IMAGE_CROPPED_OUT):\n",
    "    os.makedirs(IMAGE_CROPPED_OUT)\n",
    "if not os.path.exists(IMAGE_MASK_OUT):\n",
    "    os.makedirs(IMAGE_MASK_OUT)"
   ]
  },
  {
   "cell_type": "code",
   "execution_count": 20,
   "metadata": {},
   "outputs": [
    {
     "name": "stderr",
     "output_type": "stream",
     "text": [
      "  0% (0 of 243) |                        | Elapsed Time: 0:00:00 ETA:  --:--:--\n"
     ]
    },
    {
     "name": "stdout",
     "output_type": "stream",
     "text": [
      "Realizando extracción de imagenes\n"
     ]
    },
    {
     "name": "stderr",
     "output_type": "stream",
     "text": [
      "  0% (1 of 243) |                        | Elapsed Time: 0:00:02 ETA:   0:08:30\n",
      "  0% (2 of 243) |                        | Elapsed Time: 0:00:20 ETA:   0:40:20\n",
      "  1% (3 of 243) |                        | Elapsed Time: 0:00:24 ETA:   0:32:56\n",
      "  1% (4 of 243) |                        | Elapsed Time: 0:00:28 ETA:   0:27:56\n",
      "  2% (5 of 243) |                        | Elapsed Time: 0:00:35 ETA:   0:28:14\n",
      "  2% (6 of 243) |                        | Elapsed Time: 0:00:49 ETA:   0:32:28\n",
      "  2% (7 of 243) |                        | Elapsed Time: 0:00:53 ETA:   0:29:55\n",
      "  3% (8 of 243) |                        | Elapsed Time: 0:00:56 ETA:   0:27:46\n",
      "  3% (9 of 243) |                        | Elapsed Time: 0:01:00 ETA:   0:26:14\n",
      "  4% (10 of 243) |                       | Elapsed Time: 0:01:03 ETA:   0:24:40\n",
      "  4% (11 of 243) |#                      | Elapsed Time: 0:01:05 ETA:   0:23:03\n",
      "  4% (12 of 243) |#                      | Elapsed Time: 0:01:12 ETA:   0:23:21\n",
      "  5% (13 of 243) |#                      | Elapsed Time: 0:01:16 ETA:   0:22:40\n",
      "  5% (14 of 243) |#                      | Elapsed Time: 0:01:22 ETA:   0:22:27\n",
      "  6% (15 of 243) |#                      | Elapsed Time: 0:01:27 ETA:   0:22:14\n",
      "  6% (16 of 243) |#                      | Elapsed Time: 0:01:42 ETA:   0:24:08\n",
      "  6% (17 of 243) |#                      | Elapsed Time: 0:01:45 ETA:   0:23:24\n",
      "  7% (18 of 243) |#                      | Elapsed Time: 0:01:48 ETA:   0:22:39\n",
      "  7% (19 of 243) |#                      | Elapsed Time: 0:01:51 ETA:   0:21:53\n",
      "  8% (20 of 243) |#                      | Elapsed Time: 0:02:04 ETA:   0:23:09\n",
      "  8% (21 of 243) |#                      | Elapsed Time: 0:02:07 ETA:   0:22:31\n",
      "  9% (22 of 243) |##                     | Elapsed Time: 0:02:07 ETA:   0:21:24\n",
      "  9% (23 of 243) |##                     | Elapsed Time: 0:02:11 ETA:   0:20:53\n",
      "  9% (24 of 243) |##                     | Elapsed Time: 0:02:15 ETA:   0:20:32\n",
      " 10% (25 of 243) |##                     | Elapsed Time: 0:02:23 ETA:   0:20:54\n",
      " 10% (26 of 243) |##                     | Elapsed Time: 0:02:24 ETA:   0:20:06\n",
      " 11% (27 of 243) |##                     | Elapsed Time: 0:02:25 ETA:   0:19:22\n",
      " 11% (28 of 243) |##                     | Elapsed Time: 0:02:25 ETA:   0:18:38\n",
      " 11% (29 of 243) |##                     | Elapsed Time: 0:02:26 ETA:   0:17:58\n",
      " 12% (30 of 243) |##                     | Elapsed Time: 0:02:27 ETA:   0:17:25\n",
      " 12% (31 of 243) |##                     | Elapsed Time: 0:02:34 ETA:   0:17:34\n",
      " 13% (32 of 243) |###                    | Elapsed Time: 0:02:36 ETA:   0:17:13\n",
      " 13% (33 of 243) |###                    | Elapsed Time: 0:02:38 ETA:   0:16:45\n",
      " 13% (34 of 243) |###                    | Elapsed Time: 0:02:45 ETA:   0:16:57\n",
      " 14% (35 of 243) |###                    | Elapsed Time: 0:02:51 ETA:   0:16:56\n",
      " 14% (36 of 243) |###                    | Elapsed Time: 0:02:52 ETA:   0:16:29\n",
      " 15% (37 of 243) |###                    | Elapsed Time: 0:02:56 ETA:   0:16:21\n",
      " 15% (38 of 243) |###                    | Elapsed Time: 0:03:00 ETA:   0:16:13\n",
      " 16% (39 of 243) |###                    | Elapsed Time: 0:03:03 ETA:   0:16:00\n",
      " 16% (40 of 243) |###                    | Elapsed Time: 0:03:04 ETA:   0:15:36\n",
      " 16% (41 of 243) |###                    | Elapsed Time: 0:03:05 ETA:   0:15:16\n",
      " 17% (42 of 243) |###                    | Elapsed Time: 0:03:07 ETA:   0:14:57\n",
      " 17% (43 of 243) |####                   | Elapsed Time: 0:03:09 ETA:   0:14:40\n",
      " 18% (44 of 243) |####                   | Elapsed Time: 0:03:09 ETA:   0:14:17\n",
      " 18% (45 of 243) |####                   | Elapsed Time: 0:03:09 ETA:   0:13:55\n",
      " 18% (46 of 243) |####                   | Elapsed Time: 0:03:10 ETA:   0:13:34\n",
      " 19% (47 of 243) |####                   | Elapsed Time: 0:03:10 ETA:   0:13:14\n",
      " 19% (48 of 243) |####                   | Elapsed Time: 0:03:10 ETA:   0:12:54\n",
      " 20% (49 of 243) |####                   | Elapsed Time: 0:03:11 ETA:   0:12:37\n",
      " 20% (50 of 243) |####                   | Elapsed Time: 0:03:11 ETA:   0:12:20\n",
      " 20% (51 of 243) |####                   | Elapsed Time: 0:03:12 ETA:   0:12:03\n",
      " 21% (52 of 243) |####                   | Elapsed Time: 0:03:12 ETA:   0:11:48\n",
      " 21% (53 of 243) |#####                  | Elapsed Time: 0:03:13 ETA:   0:11:32\n",
      " 22% (54 of 243) |#####                  | Elapsed Time: 0:03:13 ETA:   0:11:17\n",
      " 22% (55 of 243) |#####                  | Elapsed Time: 0:03:14 ETA:   0:11:04\n",
      " 23% (56 of 243) |#####                  | Elapsed Time: 0:03:14 ETA:   0:10:50\n",
      " 23% (57 of 243) |#####                  | Elapsed Time: 0:03:14 ETA:   0:10:36\n",
      " 23% (58 of 243) |#####                  | Elapsed Time: 0:03:15 ETA:   0:10:22\n",
      " 24% (59 of 243) |#####                  | Elapsed Time: 0:03:15 ETA:   0:10:09\n",
      " 24% (60 of 243) |#####                  | Elapsed Time: 0:03:15 ETA:   0:09:56\n",
      " 25% (61 of 243) |#####                  | Elapsed Time: 0:03:15 ETA:   0:09:44\n",
      " 25% (62 of 243) |#####                  | Elapsed Time: 0:03:16 ETA:   0:09:33\n",
      " 25% (63 of 243) |#####                  | Elapsed Time: 0:03:17 ETA:   0:09:24\n",
      " 26% (64 of 243) |######                 | Elapsed Time: 0:03:18 ETA:   0:09:13\n",
      " 26% (65 of 243) |######                 | Elapsed Time: 0:03:18 ETA:   0:09:03\n",
      " 27% (66 of 243) |######                 | Elapsed Time: 0:03:18 ETA:   0:08:52\n",
      " 27% (67 of 243) |######                 | Elapsed Time: 0:03:20 ETA:   0:08:45\n",
      " 27% (68 of 243) |######                 | Elapsed Time: 0:03:20 ETA:   0:08:35\n",
      " 28% (69 of 243) |######                 | Elapsed Time: 0:03:20 ETA:   0:08:26\n",
      " 28% (70 of 243) |######                 | Elapsed Time: 0:03:20 ETA:   0:08:16\n",
      " 29% (71 of 243) |######                 | Elapsed Time: 0:03:21 ETA:   0:08:08\n",
      " 29% (72 of 243) |######                 | Elapsed Time: 0:03:22 ETA:   0:08:00\n",
      " 30% (73 of 243) |######                 | Elapsed Time: 0:03:22 ETA:   0:07:52\n",
      " 30% (74 of 243) |#######                | Elapsed Time: 0:03:23 ETA:   0:07:44\n",
      " 30% (75 of 243) |#######                | Elapsed Time: 0:03:23 ETA:   0:07:36\n",
      " 31% (76 of 243) |#######                | Elapsed Time: 0:03:24 ETA:   0:07:28\n",
      " 31% (77 of 243) |#######                | Elapsed Time: 0:03:24 ETA:   0:07:21\n",
      " 32% (78 of 243) |#######                | Elapsed Time: 0:03:26 ETA:   0:07:16\n",
      " 32% (79 of 243) |#######                | Elapsed Time: 0:03:26 ETA:   0:07:08\n",
      " 32% (80 of 243) |#######                | Elapsed Time: 0:03:26 ETA:   0:07:00\n",
      " 33% (81 of 243) |#######                | Elapsed Time: 0:03:31 ETA:   0:07:02\n",
      " 33% (82 of 243) |#######                | Elapsed Time: 0:03:32 ETA:   0:06:56\n",
      " 34% (83 of 243) |#######                | Elapsed Time: 0:03:33 ETA:   0:06:51\n",
      " 34% (84 of 243) |#######                | Elapsed Time: 0:03:37 ETA:   0:06:51\n",
      " 34% (85 of 243) |########               | Elapsed Time: 0:03:40 ETA:   0:06:48\n",
      " 35% (86 of 243) |########               | Elapsed Time: 0:03:45 ETA:   0:06:51\n",
      " 35% (87 of 243) |########               | Elapsed Time: 0:03:48 ETA:   0:06:50\n",
      " 36% (88 of 243) |########               | Elapsed Time: 0:03:50 ETA:   0:06:46\n",
      " 36% (89 of 243) |########               | Elapsed Time: 0:03:53 ETA:   0:06:44\n",
      " 37% (90 of 243) |########               | Elapsed Time: 0:03:56 ETA:   0:06:42\n",
      " 37% (91 of 243) |########               | Elapsed Time: 0:04:04 ETA:   0:06:48\n",
      " 37% (92 of 243) |########               | Elapsed Time: 0:04:06 ETA:   0:06:44\n",
      " 38% (93 of 243) |########               | Elapsed Time: 0:04:08 ETA:   0:06:40\n",
      " 38% (94 of 243) |########               | Elapsed Time: 0:04:14 ETA:   0:06:43\n",
      " 39% (95 of 243) |########               | Elapsed Time: 0:04:14 ETA:   0:06:37\n",
      " 39% (96 of 243) |#########              | Elapsed Time: 0:04:15 ETA:   0:06:30\n",
      " 39% (97 of 243) |#########              | Elapsed Time: 0:04:15 ETA:   0:06:24\n",
      " 40% (98 of 243) |#########              | Elapsed Time: 0:04:16 ETA:   0:06:19\n",
      " 40% (99 of 243) |#########              | Elapsed Time: 0:04:17 ETA:   0:06:14\n",
      " 41% (100 of 243) |#########             | Elapsed Time: 0:04:17 ETA:   0:06:08\n",
      " 41% (101 of 243) |#########             | Elapsed Time: 0:04:17 ETA:   0:06:02\n",
      " 41% (102 of 243) |#########             | Elapsed Time: 0:04:18 ETA:   0:05:56\n",
      " 42% (103 of 243) |#########             | Elapsed Time: 0:04:18 ETA:   0:05:51\n",
      " 42% (104 of 243) |#########             | Elapsed Time: 0:04:18 ETA:   0:05:45\n",
      " 43% (105 of 243) |#########             | Elapsed Time: 0:04:19 ETA:   0:05:40\n",
      " 43% (106 of 243) |#########             | Elapsed Time: 0:04:19 ETA:   0:05:35\n",
      " 44% (107 of 243) |#########             | Elapsed Time: 0:04:19 ETA:   0:05:30\n",
      " 44% (108 of 243) |#########             | Elapsed Time: 0:04:20 ETA:   0:05:25\n",
      " 44% (109 of 243) |#########             | Elapsed Time: 0:04:20 ETA:   0:05:20\n",
      " 45% (110 of 243) |#########             | Elapsed Time: 0:04:20 ETA:   0:05:15\n",
      " 45% (111 of 243) |##########            | Elapsed Time: 0:04:21 ETA:   0:05:10\n",
      " 46% (112 of 243) |##########            | Elapsed Time: 0:04:21 ETA:   0:05:05\n",
      " 46% (113 of 243) |##########            | Elapsed Time: 0:04:21 ETA:   0:05:01\n",
      " 46% (114 of 243) |##########            | Elapsed Time: 0:04:22 ETA:   0:04:56\n",
      " 47% (115 of 243) |##########            | Elapsed Time: 0:04:22 ETA:   0:04:51\n",
      " 47% (116 of 243) |##########            | Elapsed Time: 0:04:22 ETA:   0:04:47\n",
      " 48% (117 of 243) |##########            | Elapsed Time: 0:04:22 ETA:   0:04:43\n",
      " 48% (118 of 243) |##########            | Elapsed Time: 0:04:23 ETA:   0:04:38\n",
      " 48% (119 of 243) |##########            | Elapsed Time: 0:04:23 ETA:   0:04:34\n",
      " 49% (120 of 243) |##########            | Elapsed Time: 0:04:23 ETA:   0:04:30\n",
      " 49% (121 of 243) |##########            | Elapsed Time: 0:04:24 ETA:   0:04:26\n",
      " 50% (122 of 243) |###########           | Elapsed Time: 0:04:24 ETA:   0:04:22\n",
      " 50% (123 of 243) |###########           | Elapsed Time: 0:04:24 ETA:   0:04:18\n",
      " 51% (124 of 243) |###########           | Elapsed Time: 0:04:25 ETA:   0:04:14\n",
      " 51% (125 of 243) |###########           | Elapsed Time: 0:04:25 ETA:   0:04:10\n",
      " 51% (126 of 243) |###########           | Elapsed Time: 0:04:25 ETA:   0:04:06\n",
      " 52% (127 of 243) |###########           | Elapsed Time: 0:04:25 ETA:   0:04:02\n",
      " 52% (128 of 243) |###########           | Elapsed Time: 0:04:26 ETA:   0:03:59\n",
      " 53% (129 of 243) |###########           | Elapsed Time: 0:04:26 ETA:   0:03:55\n",
      " 53% (130 of 243) |###########           | Elapsed Time: 0:04:26 ETA:   0:03:51\n",
      " 53% (131 of 243) |###########           | Elapsed Time: 0:04:26 ETA:   0:03:48\n",
      " 54% (132 of 243) |###########           | Elapsed Time: 0:04:27 ETA:   0:03:44\n",
      " 54% (133 of 243) |############          | Elapsed Time: 0:04:27 ETA:   0:03:41\n",
      " 55% (134 of 243) |############          | Elapsed Time: 0:04:28 ETA:   0:03:38\n",
      " 55% (135 of 243) |############          | Elapsed Time: 0:04:28 ETA:   0:03:34\n",
      " 55% (136 of 243) |############          | Elapsed Time: 0:04:28 ETA:   0:03:31\n",
      " 56% (137 of 243) |############          | Elapsed Time: 0:04:29 ETA:   0:03:28\n",
      " 56% (138 of 243) |############          | Elapsed Time: 0:04:29 ETA:   0:03:25\n",
      " 57% (139 of 243) |############          | Elapsed Time: 0:04:29 ETA:   0:03:21\n",
      " 57% (140 of 243) |############          | Elapsed Time: 0:04:30 ETA:   0:03:18\n",
      " 58% (141 of 243) |############          | Elapsed Time: 0:04:30 ETA:   0:03:15\n",
      " 58% (142 of 243) |############          | Elapsed Time: 0:04:30 ETA:   0:03:12\n",
      " 58% (143 of 243) |############          | Elapsed Time: 0:04:31 ETA:   0:03:09\n",
      " 59% (144 of 243) |#############         | Elapsed Time: 0:04:31 ETA:   0:03:06\n",
      " 59% (145 of 243) |#############         | Elapsed Time: 0:04:31 ETA:   0:03:03\n",
      " 60% (146 of 243) |#############         | Elapsed Time: 0:04:32 ETA:   0:03:00\n",
      " 60% (147 of 243) |#############         | Elapsed Time: 0:04:32 ETA:   0:02:57\n",
      " 60% (148 of 243) |#############         | Elapsed Time: 0:04:32 ETA:   0:02:54\n",
      " 61% (149 of 243) |#############         | Elapsed Time: 0:04:32 ETA:   0:02:52\n",
      " 61% (150 of 243) |#############         | Elapsed Time: 0:04:32 ETA:   0:02:49\n",
      " 62% (151 of 243) |#############         | Elapsed Time: 0:04:33 ETA:   0:02:46\n",
      " 62% (152 of 243) |#############         | Elapsed Time: 0:04:33 ETA:   0:02:43\n",
      " 62% (153 of 243) |#############         | Elapsed Time: 0:04:35 ETA:   0:02:41\n",
      " 63% (154 of 243) |#############         | Elapsed Time: 0:04:36 ETA:   0:02:39\n",
      " 63% (155 of 243) |##############        | Elapsed Time: 0:04:38 ETA:   0:02:38\n",
      " 64% (156 of 243) |##############        | Elapsed Time: 0:04:38 ETA:   0:02:35\n",
      " 64% (157 of 243) |##############        | Elapsed Time: 0:04:40 ETA:   0:02:33\n",
      " 65% (158 of 243) |##############        | Elapsed Time: 0:04:45 ETA:   0:02:33\n",
      " 65% (159 of 243) |##############        | Elapsed Time: 0:04:51 ETA:   0:02:33\n"
     ]
    },
    {
     "name": "stdout",
     "output_type": "stream",
     "text": [
      "Omitiendo el archivo recortado 160_core_other_prc.avi\n"
     ]
    },
    {
     "name": "stderr",
     "output_type": "stream",
     "text": [
      " 67% (163 of 243) |##############        | Elapsed Time: 0:04:53 ETA:   0:02:23\n",
      " 67% (164 of 243) |##############        | Elapsed Time: 0:04:54 ETA:   0:02:21\n",
      " 67% (165 of 243) |##############        | Elapsed Time: 0:04:56 ETA:   0:02:20\n",
      " 68% (166 of 243) |###############       | Elapsed Time: 0:04:58 ETA:   0:02:18\n",
      " 68% (167 of 243) |###############       | Elapsed Time: 0:04:59 ETA:   0:02:16\n",
      " 69% (168 of 243) |###############       | Elapsed Time: 0:05:01 ETA:   0:02:14\n",
      " 69% (169 of 243) |###############       | Elapsed Time: 0:05:02 ETA:   0:02:12\n",
      " 69% (170 of 243) |###############       | Elapsed Time: 0:05:04 ETA:   0:02:10\n",
      " 70% (171 of 243) |###############       | Elapsed Time: 0:05:06 ETA:   0:02:08\n",
      " 70% (172 of 243) |###############       | Elapsed Time: 0:05:08 ETA:   0:02:07\n",
      " 71% (173 of 243) |###############       | Elapsed Time: 0:05:09 ETA:   0:02:05\n",
      " 71% (174 of 243) |###############       | Elapsed Time: 0:05:11 ETA:   0:02:03\n",
      " 72% (175 of 243) |###############       | Elapsed Time: 0:05:11 ETA:   0:02:01\n",
      " 72% (176 of 243) |###############       | Elapsed Time: 0:05:12 ETA:   0:01:59\n",
      " 72% (177 of 243) |################      | Elapsed Time: 0:05:13 ETA:   0:01:56\n",
      " 73% (178 of 243) |################      | Elapsed Time: 0:05:28 ETA:   0:02:00\n",
      " 73% (179 of 243) |################      | Elapsed Time: 0:05:29 ETA:   0:01:57\n",
      " 74% (180 of 243) |################      | Elapsed Time: 0:05:30 ETA:   0:01:55\n",
      " 74% (181 of 243) |################      | Elapsed Time: 0:05:31 ETA:   0:01:53\n",
      " 74% (182 of 243) |################      | Elapsed Time: 0:05:31 ETA:   0:01:51\n",
      " 75% (183 of 243) |################      | Elapsed Time: 0:05:32 ETA:   0:01:49\n",
      " 75% (184 of 243) |################      | Elapsed Time: 0:05:46 ETA:   0:01:51\n",
      " 76% (185 of 243) |################      | Elapsed Time: 0:05:47 ETA:   0:01:48\n",
      " 76% (186 of 243) |################      | Elapsed Time: 0:05:48 ETA:   0:01:46\n",
      " 76% (187 of 243) |################      | Elapsed Time: 0:05:48 ETA:   0:01:44\n",
      " 77% (188 of 243) |#################     | Elapsed Time: 0:05:49 ETA:   0:01:42\n",
      " 77% (189 of 243) |#################     | Elapsed Time: 0:05:50 ETA:   0:01:40\n",
      " 78% (190 of 243) |#################     | Elapsed Time: 0:05:51 ETA:   0:01:38\n",
      " 78% (191 of 243) |#################     | Elapsed Time: 0:05:53 ETA:   0:01:36\n",
      " 79% (192 of 243) |#################     | Elapsed Time: 0:05:54 ETA:   0:01:34\n",
      " 79% (193 of 243) |#################     | Elapsed Time: 0:05:55 ETA:   0:01:32\n",
      " 79% (194 of 243) |#################     | Elapsed Time: 0:05:56 ETA:   0:01:29\n",
      " 80% (195 of 243) |#################     | Elapsed Time: 0:05:56 ETA:   0:01:27\n",
      " 80% (196 of 243) |#################     | Elapsed Time: 0:05:56 ETA:   0:01:25\n",
      " 81% (197 of 243) |#################     | Elapsed Time: 0:05:57 ETA:   0:01:23\n",
      " 81% (198 of 243) |#################     | Elapsed Time: 0:05:59 ETA:   0:01:21\n",
      " 81% (199 of 243) |##################    | Elapsed Time: 0:06:01 ETA:   0:01:19\n",
      " 82% (200 of 243) |##################    | Elapsed Time: 0:06:04 ETA:   0:01:18\n",
      " 82% (201 of 243) |##################    | Elapsed Time: 0:06:09 ETA:   0:01:17\n",
      " 83% (202 of 243) |##################    | Elapsed Time: 0:06:13 ETA:   0:01:15\n",
      " 83% (203 of 243) |##################    | Elapsed Time: 0:06:19 ETA:   0:01:14\n",
      " 83% (204 of 243) |##################    | Elapsed Time: 0:06:23 ETA:   0:01:13\n",
      " 84% (205 of 243) |##################    | Elapsed Time: 0:06:28 ETA:   0:01:12\n",
      " 84% (206 of 243) |##################    | Elapsed Time: 0:06:30 ETA:   0:01:10\n",
      " 85% (207 of 243) |##################    | Elapsed Time: 0:06:32 ETA:   0:01:08\n",
      " 85% (208 of 243) |##################    | Elapsed Time: 0:06:33 ETA:   0:01:06\n",
      " 86% (209 of 243) |##################    | Elapsed Time: 0:06:34 ETA:   0:01:04\n",
      " 86% (210 of 243) |###################   | Elapsed Time: 0:06:36 ETA:   0:01:02\n",
      " 86% (211 of 243) |###################   | Elapsed Time: 0:06:43 ETA:   0:01:01\n",
      " 87% (212 of 243) |###################   | Elapsed Time: 0:06:45 ETA:   0:00:59\n",
      " 87% (213 of 243) |###################   | Elapsed Time: 0:06:47 ETA:   0:00:57\n",
      " 88% (214 of 243) |###################   | Elapsed Time: 0:06:49 ETA:   0:00:55\n",
      " 88% (215 of 243) |###################   | Elapsed Time: 0:06:51 ETA:   0:00:53\n",
      " 88% (216 of 243) |###################   | Elapsed Time: 0:06:52 ETA:   0:00:51\n",
      " 89% (217 of 243) |###################   | Elapsed Time: 0:07:00 ETA:   0:00:50\n",
      " 89% (218 of 243) |###################   | Elapsed Time: 0:07:01 ETA:   0:00:48\n",
      " 90% (219 of 243) |###################   | Elapsed Time: 0:07:01 ETA:   0:00:46\n",
      " 90% (220 of 243) |###################   | Elapsed Time: 0:07:02 ETA:   0:00:44\n",
      " 90% (221 of 243) |####################  | Elapsed Time: 0:07:03 ETA:   0:00:42\n",
      " 91% (222 of 243) |####################  | Elapsed Time: 0:07:04 ETA:   0:00:40\n",
      " 91% (223 of 243) |####################  | Elapsed Time: 0:07:05 ETA:   0:00:38\n",
      " 92% (224 of 243) |####################  | Elapsed Time: 0:07:05 ETA:   0:00:36\n",
      " 92% (225 of 243) |####################  | Elapsed Time: 0:07:06 ETA:   0:00:34\n",
      " 93% (226 of 243) |####################  | Elapsed Time: 0:07:13 ETA:   0:00:32\n",
      " 93% (227 of 243) |####################  | Elapsed Time: 0:07:20 ETA:   0:00:31\n",
      " 93% (228 of 243) |####################  | Elapsed Time: 0:07:28 ETA:   0:00:29\n",
      " 94% (229 of 243) |####################  | Elapsed Time: 0:07:30 ETA:   0:00:27\n",
      " 94% (230 of 243) |####################  | Elapsed Time: 0:07:35 ETA:   0:00:25\n",
      " 95% (231 of 243) |####################  | Elapsed Time: 0:07:41 ETA:   0:00:23\n",
      " 95% (232 of 243) |##################### | Elapsed Time: 0:07:46 ETA:   0:00:22\n",
      " 95% (233 of 243) |##################### | Elapsed Time: 0:07:51 ETA:   0:00:20\n",
      " 96% (234 of 243) |##################### | Elapsed Time: 0:07:57 ETA:   0:00:18\n",
      " 96% (235 of 243) |##################### | Elapsed Time: 0:08:02 ETA:   0:00:16\n",
      " 97% (236 of 243) |##################### | Elapsed Time: 0:08:07 ETA:   0:00:14\n",
      " 97% (237 of 243) |##################### | Elapsed Time: 0:08:12 ETA:   0:00:12\n",
      " 97% (238 of 243) |##################### | Elapsed Time: 0:08:13 ETA:   0:00:10\n",
      " 98% (239 of 243) |##################### | Elapsed Time: 0:08:15 ETA:   0:00:08\n",
      " 98% (240 of 243) |##################### | Elapsed Time: 0:08:17 ETA:   0:00:06\n",
      " 99% (241 of 243) |##################### | Elapsed Time: 0:08:18 ETA:   0:00:04\n",
      " 99% (242 of 243) |##################### | Elapsed Time: 0:08:22 ETA:   0:00:02\n",
      "100% (243 of 243) |######################| Elapsed Time: 0:08:27 Time:  0:08:27\n"
     ]
    }
   ],
   "source": [
    "import importlib\n",
    "import image_data\n",
    "importlib.reload(image_data)\n",
    "from image_data import extract_images # Modulo personalizado - contiene la función de extracción de imágenes\n",
    "extract_images(video_path= VIDEO_CROPPED_OUT, image_path=IMAGE_CROPPED_OUT, cropped=True)"
   ]
  },
  {
   "cell_type": "markdown",
   "metadata": {},
   "source": [
    "### 3.1.1. (Opcional) Extracción de fotogramas a partir de videos de ultrasonido a partir de parámetros como filtro \n",
    "* Puede extraer imágenes a partir de los siguientes parámetros\n",
    "    * Número máximo de fotogramas que se extraerán de cada archivo de vídeo\n",
    "    * Extracción de un conjunto especifico de clases ['COVID', 'Neumonia', 'Normal', 'Otro']\n",
    "    * Extracción de un conjunto especifico de fuentes de datos ['Butterfly', 'GrepMed', 'LITFL', 'PocusAtlas', 'CU', 'Radiopaedia', 'UF', 'Paper', 'Clarius']\n",
    "    * Extracción de un conjunto especifico de sondas ['convexa', 'lineal']"
   ]
  },
  {
   "cell_type": "code",
   "execution_count": null,
   "metadata": {},
   "outputs": [],
   "source": [
    "#extract_images(video_path= VIDEO_CROPPED_OUT, image_path=IMAGE_CROPPED_OUT, cropped=True, \n",
    "#                max_frames=10, \n",
    "#                target_class=['COVID', 'Pneumonia', 'Normal'],\n",
    "#                target_source=['Butterfly', 'GrepMed', 'LITFL', 'PocusAtlas'],\n",
    "#                target_probe=['convex', 'linear']))"
   ]
  },
  {
   "cell_type": "markdown",
   "metadata": {},
   "source": [
    "## 3.2. Preprocesamiento de Imagenes"
   ]
  },
  {
   "cell_type": "markdown",
   "metadata": {},
   "source": [
    "#### Lectura de metadatos de preprocesamiento de imágenes "
   ]
  },
  {
   "cell_type": "code",
   "execution_count": 13,
   "metadata": {},
   "outputs": [
    {
     "name": "stdout",
     "output_type": "stream",
     "text": [
      "(242, 17)\n"
     ]
    },
    {
     "data": {
      "text/html": [
       "<div>\n",
       "<style scoped>\n",
       "    .dataframe tbody tr th:only-of-type {\n",
       "        vertical-align: middle;\n",
       "    }\n",
       "\n",
       "    .dataframe tbody tr th {\n",
       "        vertical-align: top;\n",
       "    }\n",
       "\n",
       "    .dataframe thead th {\n",
       "        text-align: right;\n",
       "    }\n",
       "</style>\n",
       "<table border=\"1\" class=\"dataframe\">\n",
       "  <thead>\n",
       "    <tr style=\"text-align: right;\">\n",
       "      <th></th>\n",
       "      <th>filename</th>\n",
       "      <th>source</th>\n",
       "      <th>probe</th>\n",
       "      <th>class</th>\n",
       "      <th>org_width</th>\n",
       "      <th>org_height</th>\n",
       "      <th>cropped_filename</th>\n",
       "      <th>crp_width</th>\n",
       "      <th>crp_height</th>\n",
       "      <th>need_mask_after_crop</th>\n",
       "      <th>need_multiple_masks</th>\n",
       "      <th>frame_specific_masks</th>\n",
       "      <th>delete_frames_from_to</th>\n",
       "      <th>mask_main_filename</th>\n",
       "      <th>tight_inpainting</th>\n",
       "      <th>version</th>\n",
       "      <th>date_added</th>\n",
       "    </tr>\n",
       "  </thead>\n",
       "  <tbody>\n",
       "    <tr>\n",
       "      <th>0</th>\n",
       "      <td>1_butterfly_covid.mp4</td>\n",
       "      <td>Butterfly</td>\n",
       "      <td>Convex</td>\n",
       "      <td>COVID</td>\n",
       "      <td>880</td>\n",
       "      <td>1080</td>\n",
       "      <td>1_butterfly_covid_prc.avi</td>\n",
       "      <td>820</td>\n",
       "      <td>820</td>\n",
       "      <td>yes</td>\n",
       "      <td>no</td>\n",
       "      <td>NaN</td>\n",
       "      <td>NaN</td>\n",
       "      <td>1_butterfly_covid_prc_convex_frame0_mask.jpg</td>\n",
       "      <td>no</td>\n",
       "      <td>1.0</td>\n",
       "      <td>Nov_2020</td>\n",
       "    </tr>\n",
       "    <tr>\n",
       "      <th>1</th>\n",
       "      <td>2_butterfly_covid.mp4</td>\n",
       "      <td>Butterfly</td>\n",
       "      <td>Convex</td>\n",
       "      <td>COVID</td>\n",
       "      <td>720</td>\n",
       "      <td>1236</td>\n",
       "      <td>2_butterfly_covid_prc.avi</td>\n",
       "      <td>624</td>\n",
       "      <td>624</td>\n",
       "      <td>yes</td>\n",
       "      <td>yes</td>\n",
       "      <td>118-130, 134-139, 147-150</td>\n",
       "      <td>131-133, 143-146, 154-202, 210-813</td>\n",
       "      <td>2_butterfly_covid_prc_convex_frame0_mask.jpg</td>\n",
       "      <td>no</td>\n",
       "      <td>1.0</td>\n",
       "      <td>Nov_2020</td>\n",
       "    </tr>\n",
       "  </tbody>\n",
       "</table>\n",
       "</div>"
      ],
      "text/plain": [
       "                filename     source   probe  class  org_width  org_height  \\\n",
       "0  1_butterfly_covid.mp4  Butterfly  Convex  COVID        880        1080   \n",
       "1  2_butterfly_covid.mp4  Butterfly  Convex  COVID        720        1236   \n",
       "\n",
       "            cropped_filename  crp_width  crp_height need_mask_after_crop  \\\n",
       "0  1_butterfly_covid_prc.avi        820         820                  yes   \n",
       "1  2_butterfly_covid_prc.avi        624         624                  yes   \n",
       "\n",
       "  need_multiple_masks       frame_specific_masks  \\\n",
       "0                  no                        NaN   \n",
       "1                 yes  118-130, 134-139, 147-150   \n",
       "\n",
       "                delete_frames_from_to  \\\n",
       "0                                 NaN   \n",
       "1  131-133, 143-146, 154-202, 210-813   \n",
       "\n",
       "                             mask_main_filename tight_inpainting  version  \\\n",
       "0  1_butterfly_covid_prc_convex_frame0_mask.jpg               no      1.0   \n",
       "1  2_butterfly_covid_prc_convex_frame0_mask.jpg               no      1.0   \n",
       "\n",
       "  date_added  \n",
       "0   Nov_2020  \n",
       "1   Nov_2020  "
      ]
     },
     "execution_count": 13,
     "metadata": {},
     "output_type": "execute_result"
    }
   ],
   "source": [
    "image_prc_df = pd.read_csv('utils/mask_metadata.csv')\n",
    "\n",
    "image_prc_df = image_prc_df[image_prc_df.filename !='22_butterfly_covid.mp4'] # 22_butterfly_covid.mp4 fue eliminado de Butterfly en marzo \n",
    "\n",
    "print(image_prc_df.shape)\n",
    "image_prc_df.head(2)"
   ]
  },
  {
   "cell_type": "markdown",
   "metadata": {},
   "source": [
    "### 3.2.1. Eliminación de fotogramas con artefactos en el ROI\n",
    "Es necesaria la eliminación de algunos fotogramas en los siguientes archivos, debido a que el puntero en movimiento esta en ROI. Se eliminara de las carpetas de imágenes recortadas.\n",
    "* 2_butterfly_covid.mp4\n",
    "* 6_butterfly_covid.mp4\n",
    "* 16_butterfly_covid.mp4\n",
    "* 20_butterfly_normal.mp4\n",
    "* 22_butterfly_covid.mp4 (Se elimino en la publicación de marzo los datos de butterfly)\n",
    "* 25_grepmed_pneumonia.mp4\n",
    "* 178_uf_other.mp4 (Se eliminaron los 30 fotogramas iniciales)\n",
    "* 184_uf_pneumonia.mp4 (Se eliminaron los 30 fotogramas iniciales)\n",
    "\n",
    "Se necesitan 2 mascaras para los siguientes videos\n",
    "* 178_uf_other.mp4 \n",
    "* 184_uf_pneumonia.mp4\n",
    "\n",
    "**Número de fotogramas:**\n",
    "* __Número total inicial de fotogramas:__ \n",
    "    * v1.4.: 32,052\n",
    "    * v1.3.: 19,161\n",
    "    * v1.2.: 13,646\n",
    "* __Número total de fotogramas despues de la eliminación:__ \n",
    "    * v1.4.: 29,651\n",
    "    * v1.3.: 16,822\n",
    "    * v1.2.: 11,307"
   ]
  },
  {
   "cell_type": "code",
   "execution_count": 15,
   "metadata": {},
   "outputs": [
    {
     "name": "stderr",
     "output_type": "stream",
     "text": [
      "  0% (0 of 7) |                          | Elapsed Time: 0:00:00 ETA:  --:--:--\n"
     ]
    },
    {
     "name": "stderr",
     "output_type": "stream",
     "text": [
      " 14% (1 of 7) |###                       | Elapsed Time: 0:00:00 ETA:   0:00:00\n",
      " 28% (2 of 7) |#######                   | Elapsed Time: 0:00:00 ETA:   0:00:00\n"
     ]
    },
    {
     "name": "stdout",
     "output_type": "stream",
     "text": [
      "El archivo data/image/cropped/2_butterfly_covid_prc_convex_frame131.jpg no existe, por lo tanto no se pudo eliminar\n",
      "El archivo data/image/cropped/2_butterfly_covid_prc_convex_frame132.jpg no existe, por lo tanto no se pudo eliminar\n",
      "El archivo data/image/cropped/2_butterfly_covid_prc_convex_frame133.jpg no existe, por lo tanto no se pudo eliminar\n",
      "El archivo data/image/cropped/2_butterfly_covid_prc_convex_frame143.jpg no existe, por lo tanto no se pudo eliminar\n",
      "El archivo data/image/cropped/2_butterfly_covid_prc_convex_frame144.jpg no existe, por lo tanto no se pudo eliminar\n",
      "El archivo data/image/cropped/2_butterfly_covid_prc_convex_frame145.jpg no existe, por lo tanto no se pudo eliminar\n",
      "El archivo data/image/cropped/2_butterfly_covid_prc_convex_frame146.jpg no existe, por lo tanto no se pudo eliminar\n",
      "El archivo data/image/cropped/2_butterfly_covid_prc_convex_frame154.jpg no existe, por lo tanto no se pudo eliminar\n",
      "El archivo data/image/cropped/2_butterfly_covid_prc_convex_frame155.jpg no existe, por lo tanto no se pudo eliminar\n",
      "El archivo data/image/cropped/2_butterfly_covid_prc_convex_frame156.jpg no existe, por lo tanto no se pudo eliminar\n",
      "El archivo data/image/cropped/2_butterfly_covid_prc_convex_frame157.jpg no existe, por lo tanto no se pudo eliminar\n",
      "El archivo data/image/cropped/2_butterfly_covid_prc_convex_frame158.jpg no existe, por lo tanto no se pudo eliminar\n",
      "El archivo data/image/cropped/2_butterfly_covid_prc_convex_frame159.jpg no existe, por lo tanto no se pudo eliminar\n",
      "El archivo data/image/cropped/2_butterfly_covid_prc_convex_frame160.jpg no existe, por lo tanto no se pudo eliminar\n",
      "El archivo data/image/cropped/2_butterfly_covid_prc_convex_frame161.jpg no existe, por lo tanto no se pudo eliminar\n",
      "El archivo data/image/cropped/2_butterfly_covid_prc_convex_frame162.jpg no existe, por lo tanto no se pudo eliminar\n",
      "El archivo data/image/cropped/2_butterfly_covid_prc_convex_frame163.jpg no existe, por lo tanto no se pudo eliminar\n",
      "El archivo data/image/cropped/2_butterfly_covid_prc_convex_frame164.jpg no existe, por lo tanto no se pudo eliminar\n",
      "El archivo data/image/cropped/2_butterfly_covid_prc_convex_frame165.jpg no existe, por lo tanto no se pudo eliminar\n",
      "El archivo data/image/cropped/2_butterfly_covid_prc_convex_frame166.jpg no existe, por lo tanto no se pudo eliminar\n",
      "El archivo data/image/cropped/2_butterfly_covid_prc_convex_frame167.jpg no existe, por lo tanto no se pudo eliminar\n",
      "El archivo data/image/cropped/2_butterfly_covid_prc_convex_frame168.jpg no existe, por lo tanto no se pudo eliminar\n",
      "El archivo data/image/cropped/2_butterfly_covid_prc_convex_frame169.jpg no existe, por lo tanto no se pudo eliminar\n",
      "El archivo data/image/cropped/2_butterfly_covid_prc_convex_frame170.jpg no existe, por lo tanto no se pudo eliminar\n",
      "El archivo data/image/cropped/2_butterfly_covid_prc_convex_frame171.jpg no existe, por lo tanto no se pudo eliminar\n",
      "El archivo data/image/cropped/2_butterfly_covid_prc_convex_frame172.jpg no existe, por lo tanto no se pudo eliminar\n",
      "El archivo data/image/cropped/2_butterfly_covid_prc_convex_frame173.jpg no existe, por lo tanto no se pudo eliminar\n",
      "El archivo data/image/cropped/2_butterfly_covid_prc_convex_frame174.jpg no existe, por lo tanto no se pudo eliminar\n",
      "El archivo data/image/cropped/2_butterfly_covid_prc_convex_frame175.jpg no existe, por lo tanto no se pudo eliminar\n",
      "El archivo data/image/cropped/2_butterfly_covid_prc_convex_frame176.jpg no existe, por lo tanto no se pudo eliminar\n",
      "El archivo data/image/cropped/2_butterfly_covid_prc_convex_frame177.jpg no existe, por lo tanto no se pudo eliminar\n",
      "El archivo data/image/cropped/2_butterfly_covid_prc_convex_frame178.jpg no existe, por lo tanto no se pudo eliminar\n",
      "El archivo data/image/cropped/2_butterfly_covid_prc_convex_frame179.jpg no existe, por lo tanto no se pudo eliminar\n",
      "El archivo data/image/cropped/2_butterfly_covid_prc_convex_frame180.jpg no existe, por lo tanto no se pudo eliminar\n",
      "El archivo data/image/cropped/2_butterfly_covid_prc_convex_frame181.jpg no existe, por lo tanto no se pudo eliminar\n",
      "El archivo data/image/cropped/2_butterfly_covid_prc_convex_frame182.jpg no existe, por lo tanto no se pudo eliminar\n",
      "El archivo data/image/cropped/2_butterfly_covid_prc_convex_frame183.jpg no existe, por lo tanto no se pudo eliminar\n",
      "El archivo data/image/cropped/2_butterfly_covid_prc_convex_frame184.jpg no existe, por lo tanto no se pudo eliminar\n",
      "El archivo data/image/cropped/2_butterfly_covid_prc_convex_frame185.jpg no existe, por lo tanto no se pudo eliminar\n",
      "El archivo data/image/cropped/2_butterfly_covid_prc_convex_frame186.jpg no existe, por lo tanto no se pudo eliminar\n",
      "El archivo data/image/cropped/2_butterfly_covid_prc_convex_frame187.jpg no existe, por lo tanto no se pudo eliminar\n",
      "El archivo data/image/cropped/2_butterfly_covid_prc_convex_frame188.jpg no existe, por lo tanto no se pudo eliminar\n",
      "El archivo data/image/cropped/2_butterfly_covid_prc_convex_frame189.jpg no existe, por lo tanto no se pudo eliminar\n",
      "El archivo data/image/cropped/2_butterfly_covid_prc_convex_frame190.jpg no existe, por lo tanto no se pudo eliminar\n",
      "El archivo data/image/cropped/2_butterfly_covid_prc_convex_frame191.jpg no existe, por lo tanto no se pudo eliminar\n",
      "El archivo data/image/cropped/2_butterfly_covid_prc_convex_frame192.jpg no existe, por lo tanto no se pudo eliminar\n",
      "El archivo data/image/cropped/2_butterfly_covid_prc_convex_frame193.jpg no existe, por lo tanto no se pudo eliminar\n",
      "El archivo data/image/cropped/2_butterfly_covid_prc_convex_frame194.jpg no existe, por lo tanto no se pudo eliminar\n",
      "El archivo data/image/cropped/2_butterfly_covid_prc_convex_frame195.jpg no existe, por lo tanto no se pudo eliminar\n",
      "El archivo data/image/cropped/2_butterfly_covid_prc_convex_frame196.jpg no existe, por lo tanto no se pudo eliminar\n",
      "El archivo data/image/cropped/2_butterfly_covid_prc_convex_frame197.jpg no existe, por lo tanto no se pudo eliminar\n",
      "El archivo data/image/cropped/2_butterfly_covid_prc_convex_frame198.jpg no existe, por lo tanto no se pudo eliminar\n",
      "El archivo data/image/cropped/2_butterfly_covid_prc_convex_frame199.jpg no existe, por lo tanto no se pudo eliminar\n",
      "El archivo data/image/cropped/2_butterfly_covid_prc_convex_frame200.jpg no existe, por lo tanto no se pudo eliminar\n",
      "El archivo data/image/cropped/2_butterfly_covid_prc_convex_frame201.jpg no existe, por lo tanto no se pudo eliminar\n",
      "El archivo data/image/cropped/2_butterfly_covid_prc_convex_frame202.jpg no existe, por lo tanto no se pudo eliminar\n",
      "El archivo data/image/cropped/2_butterfly_covid_prc_convex_frame210.jpg no existe, por lo tanto no se pudo eliminar\n",
      "El archivo data/image/cropped/2_butterfly_covid_prc_convex_frame211.jpg no existe, por lo tanto no se pudo eliminar\n",
      "El archivo data/image/cropped/2_butterfly_covid_prc_convex_frame212.jpg no existe, por lo tanto no se pudo eliminar\n",
      "El archivo data/image/cropped/2_butterfly_covid_prc_convex_frame213.jpg no existe, por lo tanto no se pudo eliminar\n",
      "El archivo data/image/cropped/2_butterfly_covid_prc_convex_frame214.jpg no existe, por lo tanto no se pudo eliminar\n",
      "El archivo data/image/cropped/2_butterfly_covid_prc_convex_frame215.jpg no existe, por lo tanto no se pudo eliminar\n",
      "El archivo data/image/cropped/2_butterfly_covid_prc_convex_frame216.jpg no existe, por lo tanto no se pudo eliminar\n",
      "El archivo data/image/cropped/2_butterfly_covid_prc_convex_frame217.jpg no existe, por lo tanto no se pudo eliminar\n",
      "El archivo data/image/cropped/2_butterfly_covid_prc_convex_frame218.jpg no existe, por lo tanto no se pudo eliminar\n",
      "El archivo data/image/cropped/2_butterfly_covid_prc_convex_frame219.jpg no existe, por lo tanto no se pudo eliminar\n",
      "El archivo data/image/cropped/2_butterfly_covid_prc_convex_frame220.jpg no existe, por lo tanto no se pudo eliminar\n",
      "El archivo data/image/cropped/2_butterfly_covid_prc_convex_frame221.jpg no existe, por lo tanto no se pudo eliminar\n",
      "El archivo data/image/cropped/2_butterfly_covid_prc_convex_frame222.jpg no existe, por lo tanto no se pudo eliminar\n",
      "El archivo data/image/cropped/2_butterfly_covid_prc_convex_frame223.jpg no existe, por lo tanto no se pudo eliminar\n",
      "El archivo data/image/cropped/2_butterfly_covid_prc_convex_frame224.jpg no existe, por lo tanto no se pudo eliminar\n",
      "El archivo data/image/cropped/2_butterfly_covid_prc_convex_frame225.jpg no existe, por lo tanto no se pudo eliminar\n",
      "El archivo data/image/cropped/2_butterfly_covid_prc_convex_frame226.jpg no existe, por lo tanto no se pudo eliminar\n",
      "El archivo data/image/cropped/2_butterfly_covid_prc_convex_frame227.jpg no existe, por lo tanto no se pudo eliminar\n",
      "El archivo data/image/cropped/2_butterfly_covid_prc_convex_frame228.jpg no existe, por lo tanto no se pudo eliminar\n",
      "El archivo data/image/cropped/2_butterfly_covid_prc_convex_frame229.jpg no existe, por lo tanto no se pudo eliminar\n",
      "El archivo data/image/cropped/2_butterfly_covid_prc_convex_frame230.jpg no existe, por lo tanto no se pudo eliminar\n",
      "El archivo data/image/cropped/2_butterfly_covid_prc_convex_frame231.jpg no existe, por lo tanto no se pudo eliminar\n",
      "El archivo data/image/cropped/2_butterfly_covid_prc_convex_frame232.jpg no existe, por lo tanto no se pudo eliminar\n",
      "El archivo data/image/cropped/2_butterfly_covid_prc_convex_frame233.jpg no existe, por lo tanto no se pudo eliminar\n",
      "El archivo data/image/cropped/2_butterfly_covid_prc_convex_frame234.jpg no existe, por lo tanto no se pudo eliminar\n",
      "El archivo data/image/cropped/2_butterfly_covid_prc_convex_frame235.jpg no existe, por lo tanto no se pudo eliminar\n",
      "El archivo data/image/cropped/2_butterfly_covid_prc_convex_frame236.jpg no existe, por lo tanto no se pudo eliminar\n",
      "El archivo data/image/cropped/2_butterfly_covid_prc_convex_frame237.jpg no existe, por lo tanto no se pudo eliminar\n",
      "El archivo data/image/cropped/2_butterfly_covid_prc_convex_frame238.jpg no existe, por lo tanto no se pudo eliminar\n",
      "El archivo data/image/cropped/2_butterfly_covid_prc_convex_frame239.jpg no existe, por lo tanto no se pudo eliminar\n",
      "El archivo data/image/cropped/2_butterfly_covid_prc_convex_frame240.jpg no existe, por lo tanto no se pudo eliminar\n",
      "El archivo data/image/cropped/2_butterfly_covid_prc_convex_frame241.jpg no existe, por lo tanto no se pudo eliminar\n",
      "El archivo data/image/cropped/2_butterfly_covid_prc_convex_frame242.jpg no existe, por lo tanto no se pudo eliminar\n",
      "El archivo data/image/cropped/2_butterfly_covid_prc_convex_frame243.jpg no existe, por lo tanto no se pudo eliminar\n",
      "El archivo data/image/cropped/2_butterfly_covid_prc_convex_frame244.jpg no existe, por lo tanto no se pudo eliminar\n",
      "El archivo data/image/cropped/2_butterfly_covid_prc_convex_frame245.jpg no existe, por lo tanto no se pudo eliminar\n",
      "El archivo data/image/cropped/2_butterfly_covid_prc_convex_frame246.jpg no existe, por lo tanto no se pudo eliminar\n",
      "El archivo data/image/cropped/2_butterfly_covid_prc_convex_frame247.jpg no existe, por lo tanto no se pudo eliminar\n",
      "El archivo data/image/cropped/2_butterfly_covid_prc_convex_frame248.jpg no existe, por lo tanto no se pudo eliminar\n",
      "El archivo data/image/cropped/2_butterfly_covid_prc_convex_frame249.jpg no existe, por lo tanto no se pudo eliminar\n",
      "El archivo data/image/cropped/2_butterfly_covid_prc_convex_frame250.jpg no existe, por lo tanto no se pudo eliminar\n",
      "El archivo data/image/cropped/2_butterfly_covid_prc_convex_frame251.jpg no existe, por lo tanto no se pudo eliminar\n",
      "El archivo data/image/cropped/2_butterfly_covid_prc_convex_frame252.jpg no existe, por lo tanto no se pudo eliminar\n",
      "El archivo data/image/cropped/2_butterfly_covid_prc_convex_frame253.jpg no existe, por lo tanto no se pudo eliminar\n",
      "El archivo data/image/cropped/2_butterfly_covid_prc_convex_frame254.jpg no existe, por lo tanto no se pudo eliminar\n",
      "El archivo data/image/cropped/2_butterfly_covid_prc_convex_frame255.jpg no existe, por lo tanto no se pudo eliminar\n",
      "El archivo data/image/cropped/2_butterfly_covid_prc_convex_frame256.jpg no existe, por lo tanto no se pudo eliminar\n",
      "El archivo data/image/cropped/2_butterfly_covid_prc_convex_frame257.jpg no existe, por lo tanto no se pudo eliminar\n",
      "El archivo data/image/cropped/2_butterfly_covid_prc_convex_frame258.jpg no existe, por lo tanto no se pudo eliminar\n",
      "El archivo data/image/cropped/2_butterfly_covid_prc_convex_frame259.jpg no existe, por lo tanto no se pudo eliminar\n",
      "El archivo data/image/cropped/2_butterfly_covid_prc_convex_frame260.jpg no existe, por lo tanto no se pudo eliminar\n",
      "El archivo data/image/cropped/2_butterfly_covid_prc_convex_frame261.jpg no existe, por lo tanto no se pudo eliminar\n",
      "El archivo data/image/cropped/2_butterfly_covid_prc_convex_frame262.jpg no existe, por lo tanto no se pudo eliminar\n",
      "El archivo data/image/cropped/2_butterfly_covid_prc_convex_frame263.jpg no existe, por lo tanto no se pudo eliminar\n",
      "El archivo data/image/cropped/2_butterfly_covid_prc_convex_frame264.jpg no existe, por lo tanto no se pudo eliminar\n",
      "El archivo data/image/cropped/2_butterfly_covid_prc_convex_frame265.jpg no existe, por lo tanto no se pudo eliminar\n",
      "El archivo data/image/cropped/2_butterfly_covid_prc_convex_frame266.jpg no existe, por lo tanto no se pudo eliminar\n",
      "El archivo data/image/cropped/2_butterfly_covid_prc_convex_frame267.jpg no existe, por lo tanto no se pudo eliminar\n",
      "El archivo data/image/cropped/2_butterfly_covid_prc_convex_frame268.jpg no existe, por lo tanto no se pudo eliminar\n",
      "El archivo data/image/cropped/2_butterfly_covid_prc_convex_frame269.jpg no existe, por lo tanto no se pudo eliminar\n",
      "El archivo data/image/cropped/2_butterfly_covid_prc_convex_frame270.jpg no existe, por lo tanto no se pudo eliminar\n",
      "El archivo data/image/cropped/2_butterfly_covid_prc_convex_frame271.jpg no existe, por lo tanto no se pudo eliminar\n",
      "El archivo data/image/cropped/2_butterfly_covid_prc_convex_frame272.jpg no existe, por lo tanto no se pudo eliminar\n",
      "El archivo data/image/cropped/2_butterfly_covid_prc_convex_frame273.jpg no existe, por lo tanto no se pudo eliminar\n",
      "El archivo data/image/cropped/2_butterfly_covid_prc_convex_frame274.jpg no existe, por lo tanto no se pudo eliminar\n",
      "El archivo data/image/cropped/2_butterfly_covid_prc_convex_frame275.jpg no existe, por lo tanto no se pudo eliminar\n",
      "El archivo data/image/cropped/2_butterfly_covid_prc_convex_frame276.jpg no existe, por lo tanto no se pudo eliminar\n",
      "El archivo data/image/cropped/2_butterfly_covid_prc_convex_frame277.jpg no existe, por lo tanto no se pudo eliminar\n",
      "El archivo data/image/cropped/2_butterfly_covid_prc_convex_frame278.jpg no existe, por lo tanto no se pudo eliminar\n",
      "El archivo data/image/cropped/2_butterfly_covid_prc_convex_frame279.jpg no existe, por lo tanto no se pudo eliminar\n",
      "El archivo data/image/cropped/2_butterfly_covid_prc_convex_frame280.jpg no existe, por lo tanto no se pudo eliminar\n",
      "El archivo data/image/cropped/2_butterfly_covid_prc_convex_frame281.jpg no existe, por lo tanto no se pudo eliminar\n",
      "El archivo data/image/cropped/2_butterfly_covid_prc_convex_frame282.jpg no existe, por lo tanto no se pudo eliminar\n",
      "El archivo data/image/cropped/2_butterfly_covid_prc_convex_frame283.jpg no existe, por lo tanto no se pudo eliminar\n",
      "El archivo data/image/cropped/2_butterfly_covid_prc_convex_frame284.jpg no existe, por lo tanto no se pudo eliminar\n",
      "El archivo data/image/cropped/2_butterfly_covid_prc_convex_frame285.jpg no existe, por lo tanto no se pudo eliminar\n",
      "El archivo data/image/cropped/2_butterfly_covid_prc_convex_frame286.jpg no existe, por lo tanto no se pudo eliminar\n",
      "El archivo data/image/cropped/2_butterfly_covid_prc_convex_frame287.jpg no existe, por lo tanto no se pudo eliminar\n",
      "El archivo data/image/cropped/2_butterfly_covid_prc_convex_frame288.jpg no existe, por lo tanto no se pudo eliminar\n",
      "El archivo data/image/cropped/2_butterfly_covid_prc_convex_frame289.jpg no existe, por lo tanto no se pudo eliminar\n",
      "El archivo data/image/cropped/2_butterfly_covid_prc_convex_frame290.jpg no existe, por lo tanto no se pudo eliminar\n",
      "El archivo data/image/cropped/2_butterfly_covid_prc_convex_frame291.jpg no existe, por lo tanto no se pudo eliminar\n",
      "El archivo data/image/cropped/2_butterfly_covid_prc_convex_frame292.jpg no existe, por lo tanto no se pudo eliminar\n",
      "El archivo data/image/cropped/2_butterfly_covid_prc_convex_frame293.jpg no existe, por lo tanto no se pudo eliminar\n",
      "El archivo data/image/cropped/2_butterfly_covid_prc_convex_frame294.jpg no existe, por lo tanto no se pudo eliminar\n",
      "El archivo data/image/cropped/2_butterfly_covid_prc_convex_frame295.jpg no existe, por lo tanto no se pudo eliminar\n",
      "El archivo data/image/cropped/2_butterfly_covid_prc_convex_frame296.jpg no existe, por lo tanto no se pudo eliminar\n",
      "El archivo data/image/cropped/2_butterfly_covid_prc_convex_frame297.jpg no existe, por lo tanto no se pudo eliminar\n",
      "El archivo data/image/cropped/2_butterfly_covid_prc_convex_frame298.jpg no existe, por lo tanto no se pudo eliminar\n",
      "El archivo data/image/cropped/2_butterfly_covid_prc_convex_frame299.jpg no existe, por lo tanto no se pudo eliminar\n",
      "El archivo data/image/cropped/2_butterfly_covid_prc_convex_frame300.jpg no existe, por lo tanto no se pudo eliminar\n",
      "El archivo data/image/cropped/2_butterfly_covid_prc_convex_frame301.jpg no existe, por lo tanto no se pudo eliminar\n",
      "El archivo data/image/cropped/2_butterfly_covid_prc_convex_frame302.jpg no existe, por lo tanto no se pudo eliminar\n",
      "El archivo data/image/cropped/2_butterfly_covid_prc_convex_frame303.jpg no existe, por lo tanto no se pudo eliminar\n",
      "El archivo data/image/cropped/2_butterfly_covid_prc_convex_frame304.jpg no existe, por lo tanto no se pudo eliminar\n",
      "El archivo data/image/cropped/2_butterfly_covid_prc_convex_frame305.jpg no existe, por lo tanto no se pudo eliminar\n",
      "El archivo data/image/cropped/2_butterfly_covid_prc_convex_frame306.jpg no existe, por lo tanto no se pudo eliminar\n",
      "El archivo data/image/cropped/2_butterfly_covid_prc_convex_frame307.jpg no existe, por lo tanto no se pudo eliminar\n",
      "El archivo data/image/cropped/2_butterfly_covid_prc_convex_frame308.jpg no existe, por lo tanto no se pudo eliminar\n",
      "El archivo data/image/cropped/2_butterfly_covid_prc_convex_frame309.jpg no existe, por lo tanto no se pudo eliminar\n",
      "El archivo data/image/cropped/2_butterfly_covid_prc_convex_frame310.jpg no existe, por lo tanto no se pudo eliminar\n",
      "El archivo data/image/cropped/2_butterfly_covid_prc_convex_frame311.jpg no existe, por lo tanto no se pudo eliminar\n",
      "El archivo data/image/cropped/2_butterfly_covid_prc_convex_frame312.jpg no existe, por lo tanto no se pudo eliminar\n",
      "El archivo data/image/cropped/2_butterfly_covid_prc_convex_frame313.jpg no existe, por lo tanto no se pudo eliminar\n",
      "El archivo data/image/cropped/2_butterfly_covid_prc_convex_frame314.jpg no existe, por lo tanto no se pudo eliminar\n",
      "El archivo data/image/cropped/2_butterfly_covid_prc_convex_frame315.jpg no existe, por lo tanto no se pudo eliminar\n",
      "El archivo data/image/cropped/2_butterfly_covid_prc_convex_frame316.jpg no existe, por lo tanto no se pudo eliminar\n",
      "El archivo data/image/cropped/2_butterfly_covid_prc_convex_frame317.jpg no existe, por lo tanto no se pudo eliminar\n",
      "El archivo data/image/cropped/2_butterfly_covid_prc_convex_frame318.jpg no existe, por lo tanto no se pudo eliminar\n",
      "El archivo data/image/cropped/2_butterfly_covid_prc_convex_frame319.jpg no existe, por lo tanto no se pudo eliminar\n",
      "El archivo data/image/cropped/2_butterfly_covid_prc_convex_frame320.jpg no existe, por lo tanto no se pudo eliminar\n",
      "El archivo data/image/cropped/2_butterfly_covid_prc_convex_frame321.jpg no existe, por lo tanto no se pudo eliminar\n",
      "El archivo data/image/cropped/2_butterfly_covid_prc_convex_frame322.jpg no existe, por lo tanto no se pudo eliminar\n",
      "El archivo data/image/cropped/2_butterfly_covid_prc_convex_frame323.jpg no existe, por lo tanto no se pudo eliminar\n",
      "El archivo data/image/cropped/2_butterfly_covid_prc_convex_frame324.jpg no existe, por lo tanto no se pudo eliminar\n",
      "El archivo data/image/cropped/2_butterfly_covid_prc_convex_frame325.jpg no existe, por lo tanto no se pudo eliminar\n",
      "El archivo data/image/cropped/2_butterfly_covid_prc_convex_frame326.jpg no existe, por lo tanto no se pudo eliminar\n",
      "El archivo data/image/cropped/2_butterfly_covid_prc_convex_frame327.jpg no existe, por lo tanto no se pudo eliminar\n",
      "El archivo data/image/cropped/2_butterfly_covid_prc_convex_frame328.jpg no existe, por lo tanto no se pudo eliminar\n",
      "El archivo data/image/cropped/2_butterfly_covid_prc_convex_frame329.jpg no existe, por lo tanto no se pudo eliminar\n",
      "El archivo data/image/cropped/2_butterfly_covid_prc_convex_frame330.jpg no existe, por lo tanto no se pudo eliminar\n",
      "El archivo data/image/cropped/2_butterfly_covid_prc_convex_frame331.jpg no existe, por lo tanto no se pudo eliminar\n",
      "El archivo data/image/cropped/2_butterfly_covid_prc_convex_frame332.jpg no existe, por lo tanto no se pudo eliminar\n",
      "El archivo data/image/cropped/2_butterfly_covid_prc_convex_frame333.jpg no existe, por lo tanto no se pudo eliminar\n",
      "El archivo data/image/cropped/2_butterfly_covid_prc_convex_frame334.jpg no existe, por lo tanto no se pudo eliminar\n",
      "El archivo data/image/cropped/2_butterfly_covid_prc_convex_frame335.jpg no existe, por lo tanto no se pudo eliminar\n",
      "El archivo data/image/cropped/2_butterfly_covid_prc_convex_frame336.jpg no existe, por lo tanto no se pudo eliminar\n",
      "El archivo data/image/cropped/2_butterfly_covid_prc_convex_frame337.jpg no existe, por lo tanto no se pudo eliminar\n",
      "El archivo data/image/cropped/2_butterfly_covid_prc_convex_frame338.jpg no existe, por lo tanto no se pudo eliminar\n",
      "El archivo data/image/cropped/2_butterfly_covid_prc_convex_frame339.jpg no existe, por lo tanto no se pudo eliminar\n",
      "El archivo data/image/cropped/2_butterfly_covid_prc_convex_frame340.jpg no existe, por lo tanto no se pudo eliminar\n",
      "El archivo data/image/cropped/2_butterfly_covid_prc_convex_frame341.jpg no existe, por lo tanto no se pudo eliminar\n",
      "El archivo data/image/cropped/2_butterfly_covid_prc_convex_frame342.jpg no existe, por lo tanto no se pudo eliminar\n",
      "El archivo data/image/cropped/2_butterfly_covid_prc_convex_frame343.jpg no existe, por lo tanto no se pudo eliminar\n",
      "El archivo data/image/cropped/2_butterfly_covid_prc_convex_frame344.jpg no existe, por lo tanto no se pudo eliminar\n",
      "El archivo data/image/cropped/2_butterfly_covid_prc_convex_frame345.jpg no existe, por lo tanto no se pudo eliminar\n",
      "El archivo data/image/cropped/2_butterfly_covid_prc_convex_frame346.jpg no existe, por lo tanto no se pudo eliminar\n",
      "El archivo data/image/cropped/2_butterfly_covid_prc_convex_frame347.jpg no existe, por lo tanto no se pudo eliminar\n",
      "El archivo data/image/cropped/2_butterfly_covid_prc_convex_frame348.jpg no existe, por lo tanto no se pudo eliminar\n",
      "El archivo data/image/cropped/2_butterfly_covid_prc_convex_frame349.jpg no existe, por lo tanto no se pudo eliminar\n",
      "El archivo data/image/cropped/2_butterfly_covid_prc_convex_frame350.jpg no existe, por lo tanto no se pudo eliminar\n",
      "El archivo data/image/cropped/2_butterfly_covid_prc_convex_frame351.jpg no existe, por lo tanto no se pudo eliminar\n",
      "El archivo data/image/cropped/2_butterfly_covid_prc_convex_frame352.jpg no existe, por lo tanto no se pudo eliminar\n",
      "El archivo data/image/cropped/2_butterfly_covid_prc_convex_frame353.jpg no existe, por lo tanto no se pudo eliminar\n",
      "El archivo data/image/cropped/2_butterfly_covid_prc_convex_frame354.jpg no existe, por lo tanto no se pudo eliminar\n",
      "El archivo data/image/cropped/2_butterfly_covid_prc_convex_frame355.jpg no existe, por lo tanto no se pudo eliminar\n",
      "El archivo data/image/cropped/2_butterfly_covid_prc_convex_frame356.jpg no existe, por lo tanto no se pudo eliminar\n",
      "El archivo data/image/cropped/2_butterfly_covid_prc_convex_frame357.jpg no existe, por lo tanto no se pudo eliminar\n",
      "El archivo data/image/cropped/2_butterfly_covid_prc_convex_frame358.jpg no existe, por lo tanto no se pudo eliminar\n",
      "El archivo data/image/cropped/2_butterfly_covid_prc_convex_frame359.jpg no existe, por lo tanto no se pudo eliminar\n",
      "El archivo data/image/cropped/2_butterfly_covid_prc_convex_frame360.jpg no existe, por lo tanto no se pudo eliminar\n",
      "El archivo data/image/cropped/2_butterfly_covid_prc_convex_frame361.jpg no existe, por lo tanto no se pudo eliminar\n",
      "El archivo data/image/cropped/2_butterfly_covid_prc_convex_frame362.jpg no existe, por lo tanto no se pudo eliminar\n",
      "El archivo data/image/cropped/2_butterfly_covid_prc_convex_frame363.jpg no existe, por lo tanto no se pudo eliminar\n",
      "El archivo data/image/cropped/2_butterfly_covid_prc_convex_frame364.jpg no existe, por lo tanto no se pudo eliminar\n",
      "El archivo data/image/cropped/2_butterfly_covid_prc_convex_frame365.jpg no existe, por lo tanto no se pudo eliminar\n",
      "El archivo data/image/cropped/2_butterfly_covid_prc_convex_frame366.jpg no existe, por lo tanto no se pudo eliminar\n",
      "El archivo data/image/cropped/2_butterfly_covid_prc_convex_frame367.jpg no existe, por lo tanto no se pudo eliminar\n",
      "El archivo data/image/cropped/2_butterfly_covid_prc_convex_frame368.jpg no existe, por lo tanto no se pudo eliminar\n",
      "El archivo data/image/cropped/2_butterfly_covid_prc_convex_frame369.jpg no existe, por lo tanto no se pudo eliminar\n",
      "El archivo data/image/cropped/2_butterfly_covid_prc_convex_frame370.jpg no existe, por lo tanto no se pudo eliminar\n",
      "El archivo data/image/cropped/2_butterfly_covid_prc_convex_frame371.jpg no existe, por lo tanto no se pudo eliminar\n",
      "El archivo data/image/cropped/2_butterfly_covid_prc_convex_frame372.jpg no existe, por lo tanto no se pudo eliminar\n",
      "El archivo data/image/cropped/2_butterfly_covid_prc_convex_frame373.jpg no existe, por lo tanto no se pudo eliminar\n",
      "El archivo data/image/cropped/2_butterfly_covid_prc_convex_frame374.jpg no existe, por lo tanto no se pudo eliminar\n",
      "El archivo data/image/cropped/2_butterfly_covid_prc_convex_frame375.jpg no existe, por lo tanto no se pudo eliminar\n",
      "El archivo data/image/cropped/2_butterfly_covid_prc_convex_frame376.jpg no existe, por lo tanto no se pudo eliminar\n",
      "El archivo data/image/cropped/2_butterfly_covid_prc_convex_frame377.jpg no existe, por lo tanto no se pudo eliminar\n",
      "El archivo data/image/cropped/2_butterfly_covid_prc_convex_frame378.jpg no existe, por lo tanto no se pudo eliminar\n",
      "El archivo data/image/cropped/2_butterfly_covid_prc_convex_frame379.jpg no existe, por lo tanto no se pudo eliminar\n",
      "El archivo data/image/cropped/2_butterfly_covid_prc_convex_frame380.jpg no existe, por lo tanto no se pudo eliminar\n",
      "El archivo data/image/cropped/2_butterfly_covid_prc_convex_frame381.jpg no existe, por lo tanto no se pudo eliminar\n",
      "El archivo data/image/cropped/2_butterfly_covid_prc_convex_frame382.jpg no existe, por lo tanto no se pudo eliminar\n",
      "El archivo data/image/cropped/2_butterfly_covid_prc_convex_frame383.jpg no existe, por lo tanto no se pudo eliminar\n",
      "El archivo data/image/cropped/2_butterfly_covid_prc_convex_frame384.jpg no existe, por lo tanto no se pudo eliminar\n",
      "El archivo data/image/cropped/2_butterfly_covid_prc_convex_frame385.jpg no existe, por lo tanto no se pudo eliminar\n",
      "El archivo data/image/cropped/2_butterfly_covid_prc_convex_frame386.jpg no existe, por lo tanto no se pudo eliminar\n",
      "El archivo data/image/cropped/2_butterfly_covid_prc_convex_frame387.jpg no existe, por lo tanto no se pudo eliminar\n",
      "El archivo data/image/cropped/2_butterfly_covid_prc_convex_frame388.jpg no existe, por lo tanto no se pudo eliminar\n",
      "El archivo data/image/cropped/2_butterfly_covid_prc_convex_frame389.jpg no existe, por lo tanto no se pudo eliminar\n",
      "El archivo data/image/cropped/2_butterfly_covid_prc_convex_frame390.jpg no existe, por lo tanto no se pudo eliminar\n",
      "El archivo data/image/cropped/2_butterfly_covid_prc_convex_frame391.jpg no existe, por lo tanto no se pudo eliminar\n",
      "El archivo data/image/cropped/2_butterfly_covid_prc_convex_frame392.jpg no existe, por lo tanto no se pudo eliminar\n",
      "El archivo data/image/cropped/2_butterfly_covid_prc_convex_frame393.jpg no existe, por lo tanto no se pudo eliminar\n",
      "El archivo data/image/cropped/2_butterfly_covid_prc_convex_frame394.jpg no existe, por lo tanto no se pudo eliminar\n",
      "El archivo data/image/cropped/2_butterfly_covid_prc_convex_frame395.jpg no existe, por lo tanto no se pudo eliminar\n",
      "El archivo data/image/cropped/2_butterfly_covid_prc_convex_frame396.jpg no existe, por lo tanto no se pudo eliminar\n",
      "El archivo data/image/cropped/2_butterfly_covid_prc_convex_frame397.jpg no existe, por lo tanto no se pudo eliminar\n",
      "El archivo data/image/cropped/2_butterfly_covid_prc_convex_frame398.jpg no existe, por lo tanto no se pudo eliminar\n",
      "El archivo data/image/cropped/2_butterfly_covid_prc_convex_frame399.jpg no existe, por lo tanto no se pudo eliminar\n",
      "El archivo data/image/cropped/2_butterfly_covid_prc_convex_frame400.jpg no existe, por lo tanto no se pudo eliminar\n",
      "El archivo data/image/cropped/2_butterfly_covid_prc_convex_frame401.jpg no existe, por lo tanto no se pudo eliminar\n",
      "El archivo data/image/cropped/2_butterfly_covid_prc_convex_frame402.jpg no existe, por lo tanto no se pudo eliminar\n",
      "El archivo data/image/cropped/2_butterfly_covid_prc_convex_frame403.jpg no existe, por lo tanto no se pudo eliminar\n",
      "El archivo data/image/cropped/2_butterfly_covid_prc_convex_frame404.jpg no existe, por lo tanto no se pudo eliminar\n",
      "El archivo data/image/cropped/2_butterfly_covid_prc_convex_frame405.jpg no existe, por lo tanto no se pudo eliminar\n",
      "El archivo data/image/cropped/2_butterfly_covid_prc_convex_frame406.jpg no existe, por lo tanto no se pudo eliminar\n",
      "El archivo data/image/cropped/2_butterfly_covid_prc_convex_frame407.jpg no existe, por lo tanto no se pudo eliminar\n",
      "El archivo data/image/cropped/2_butterfly_covid_prc_convex_frame408.jpg no existe, por lo tanto no se pudo eliminar\n",
      "El archivo data/image/cropped/2_butterfly_covid_prc_convex_frame409.jpg no existe, por lo tanto no se pudo eliminar\n",
      "El archivo data/image/cropped/2_butterfly_covid_prc_convex_frame410.jpg no existe, por lo tanto no se pudo eliminar\n",
      "El archivo data/image/cropped/2_butterfly_covid_prc_convex_frame411.jpg no existe, por lo tanto no se pudo eliminar\n",
      "El archivo data/image/cropped/2_butterfly_covid_prc_convex_frame412.jpg no existe, por lo tanto no se pudo eliminar\n",
      "El archivo data/image/cropped/2_butterfly_covid_prc_convex_frame413.jpg no existe, por lo tanto no se pudo eliminar\n",
      "El archivo data/image/cropped/2_butterfly_covid_prc_convex_frame414.jpg no existe, por lo tanto no se pudo eliminar\n",
      "El archivo data/image/cropped/2_butterfly_covid_prc_convex_frame415.jpg no existe, por lo tanto no se pudo eliminar\n",
      "El archivo data/image/cropped/2_butterfly_covid_prc_convex_frame416.jpg no existe, por lo tanto no se pudo eliminar\n",
      "El archivo data/image/cropped/2_butterfly_covid_prc_convex_frame417.jpg no existe, por lo tanto no se pudo eliminar\n",
      "El archivo data/image/cropped/2_butterfly_covid_prc_convex_frame418.jpg no existe, por lo tanto no se pudo eliminar\n",
      "El archivo data/image/cropped/2_butterfly_covid_prc_convex_frame419.jpg no existe, por lo tanto no se pudo eliminar\n",
      "El archivo data/image/cropped/2_butterfly_covid_prc_convex_frame420.jpg no existe, por lo tanto no se pudo eliminar\n",
      "El archivo data/image/cropped/2_butterfly_covid_prc_convex_frame421.jpg no existe, por lo tanto no se pudo eliminar\n",
      "El archivo data/image/cropped/2_butterfly_covid_prc_convex_frame422.jpg no existe, por lo tanto no se pudo eliminar\n",
      "El archivo data/image/cropped/2_butterfly_covid_prc_convex_frame423.jpg no existe, por lo tanto no se pudo eliminar\n",
      "El archivo data/image/cropped/2_butterfly_covid_prc_convex_frame424.jpg no existe, por lo tanto no se pudo eliminar\n",
      "El archivo data/image/cropped/2_butterfly_covid_prc_convex_frame425.jpg no existe, por lo tanto no se pudo eliminar\n",
      "El archivo data/image/cropped/2_butterfly_covid_prc_convex_frame426.jpg no existe, por lo tanto no se pudo eliminar\n",
      "El archivo data/image/cropped/2_butterfly_covid_prc_convex_frame427.jpg no existe, por lo tanto no se pudo eliminar\n",
      "El archivo data/image/cropped/2_butterfly_covid_prc_convex_frame428.jpg no existe, por lo tanto no se pudo eliminar\n",
      "El archivo data/image/cropped/2_butterfly_covid_prc_convex_frame429.jpg no existe, por lo tanto no se pudo eliminar\n",
      "El archivo data/image/cropped/2_butterfly_covid_prc_convex_frame430.jpg no existe, por lo tanto no se pudo eliminar\n",
      "El archivo data/image/cropped/2_butterfly_covid_prc_convex_frame431.jpg no existe, por lo tanto no se pudo eliminar\n",
      "El archivo data/image/cropped/2_butterfly_covid_prc_convex_frame432.jpg no existe, por lo tanto no se pudo eliminar\n",
      "El archivo data/image/cropped/2_butterfly_covid_prc_convex_frame433.jpg no existe, por lo tanto no se pudo eliminar\n",
      "El archivo data/image/cropped/2_butterfly_covid_prc_convex_frame434.jpg no existe, por lo tanto no se pudo eliminar\n",
      "El archivo data/image/cropped/2_butterfly_covid_prc_convex_frame435.jpg no existe, por lo tanto no se pudo eliminar\n",
      "El archivo data/image/cropped/2_butterfly_covid_prc_convex_frame436.jpg no existe, por lo tanto no se pudo eliminar\n",
      "El archivo data/image/cropped/2_butterfly_covid_prc_convex_frame437.jpg no existe, por lo tanto no se pudo eliminar\n",
      "El archivo data/image/cropped/2_butterfly_covid_prc_convex_frame438.jpg no existe, por lo tanto no se pudo eliminar\n",
      "El archivo data/image/cropped/2_butterfly_covid_prc_convex_frame439.jpg no existe, por lo tanto no se pudo eliminar\n",
      "El archivo data/image/cropped/2_butterfly_covid_prc_convex_frame440.jpg no existe, por lo tanto no se pudo eliminar\n",
      "El archivo data/image/cropped/2_butterfly_covid_prc_convex_frame441.jpg no existe, por lo tanto no se pudo eliminar\n",
      "El archivo data/image/cropped/2_butterfly_covid_prc_convex_frame442.jpg no existe, por lo tanto no se pudo eliminar\n",
      "El archivo data/image/cropped/2_butterfly_covid_prc_convex_frame443.jpg no existe, por lo tanto no se pudo eliminar\n",
      "El archivo data/image/cropped/2_butterfly_covid_prc_convex_frame444.jpg no existe, por lo tanto no se pudo eliminar\n",
      "El archivo data/image/cropped/2_butterfly_covid_prc_convex_frame445.jpg no existe, por lo tanto no se pudo eliminar\n",
      "El archivo data/image/cropped/2_butterfly_covid_prc_convex_frame446.jpg no existe, por lo tanto no se pudo eliminar\n",
      "El archivo data/image/cropped/2_butterfly_covid_prc_convex_frame447.jpg no existe, por lo tanto no se pudo eliminar\n",
      "El archivo data/image/cropped/2_butterfly_covid_prc_convex_frame448.jpg no existe, por lo tanto no se pudo eliminar\n",
      "El archivo data/image/cropped/2_butterfly_covid_prc_convex_frame449.jpg no existe, por lo tanto no se pudo eliminar\n",
      "El archivo data/image/cropped/2_butterfly_covid_prc_convex_frame450.jpg no existe, por lo tanto no se pudo eliminar\n",
      "El archivo data/image/cropped/2_butterfly_covid_prc_convex_frame451.jpg no existe, por lo tanto no se pudo eliminar\n",
      "El archivo data/image/cropped/2_butterfly_covid_prc_convex_frame452.jpg no existe, por lo tanto no se pudo eliminar\n",
      "El archivo data/image/cropped/2_butterfly_covid_prc_convex_frame453.jpg no existe, por lo tanto no se pudo eliminar\n",
      "El archivo data/image/cropped/2_butterfly_covid_prc_convex_frame454.jpg no existe, por lo tanto no se pudo eliminar\n",
      "El archivo data/image/cropped/2_butterfly_covid_prc_convex_frame455.jpg no existe, por lo tanto no se pudo eliminar\n",
      "El archivo data/image/cropped/2_butterfly_covid_prc_convex_frame456.jpg no existe, por lo tanto no se pudo eliminar\n",
      "El archivo data/image/cropped/2_butterfly_covid_prc_convex_frame457.jpg no existe, por lo tanto no se pudo eliminar\n",
      "El archivo data/image/cropped/2_butterfly_covid_prc_convex_frame458.jpg no existe, por lo tanto no se pudo eliminar\n",
      "El archivo data/image/cropped/2_butterfly_covid_prc_convex_frame459.jpg no existe, por lo tanto no se pudo eliminar\n",
      "El archivo data/image/cropped/2_butterfly_covid_prc_convex_frame460.jpg no existe, por lo tanto no se pudo eliminar\n",
      "El archivo data/image/cropped/2_butterfly_covid_prc_convex_frame461.jpg no existe, por lo tanto no se pudo eliminar\n",
      "El archivo data/image/cropped/2_butterfly_covid_prc_convex_frame462.jpg no existe, por lo tanto no se pudo eliminar\n",
      "El archivo data/image/cropped/2_butterfly_covid_prc_convex_frame463.jpg no existe, por lo tanto no se pudo eliminar\n",
      "El archivo data/image/cropped/2_butterfly_covid_prc_convex_frame464.jpg no existe, por lo tanto no se pudo eliminar\n",
      "El archivo data/image/cropped/2_butterfly_covid_prc_convex_frame465.jpg no existe, por lo tanto no se pudo eliminar\n",
      "El archivo data/image/cropped/2_butterfly_covid_prc_convex_frame466.jpg no existe, por lo tanto no se pudo eliminar\n",
      "El archivo data/image/cropped/2_butterfly_covid_prc_convex_frame467.jpg no existe, por lo tanto no se pudo eliminar\n",
      "El archivo data/image/cropped/2_butterfly_covid_prc_convex_frame468.jpg no existe, por lo tanto no se pudo eliminar\n",
      "El archivo data/image/cropped/2_butterfly_covid_prc_convex_frame469.jpg no existe, por lo tanto no se pudo eliminar\n",
      "El archivo data/image/cropped/2_butterfly_covid_prc_convex_frame470.jpg no existe, por lo tanto no se pudo eliminar\n",
      "El archivo data/image/cropped/2_butterfly_covid_prc_convex_frame471.jpg no existe, por lo tanto no se pudo eliminar\n",
      "El archivo data/image/cropped/2_butterfly_covid_prc_convex_frame472.jpg no existe, por lo tanto no se pudo eliminar\n",
      "El archivo data/image/cropped/2_butterfly_covid_prc_convex_frame473.jpg no existe, por lo tanto no se pudo eliminar\n",
      "El archivo data/image/cropped/2_butterfly_covid_prc_convex_frame474.jpg no existe, por lo tanto no se pudo eliminar\n",
      "El archivo data/image/cropped/2_butterfly_covid_prc_convex_frame475.jpg no existe, por lo tanto no se pudo eliminar\n",
      "El archivo data/image/cropped/2_butterfly_covid_prc_convex_frame476.jpg no existe, por lo tanto no se pudo eliminar\n",
      "El archivo data/image/cropped/2_butterfly_covid_prc_convex_frame477.jpg no existe, por lo tanto no se pudo eliminar\n",
      "El archivo data/image/cropped/2_butterfly_covid_prc_convex_frame478.jpg no existe, por lo tanto no se pudo eliminar\n",
      "El archivo data/image/cropped/2_butterfly_covid_prc_convex_frame479.jpg no existe, por lo tanto no se pudo eliminar\n",
      "El archivo data/image/cropped/2_butterfly_covid_prc_convex_frame480.jpg no existe, por lo tanto no se pudo eliminar\n",
      "El archivo data/image/cropped/2_butterfly_covid_prc_convex_frame481.jpg no existe, por lo tanto no se pudo eliminar\n",
      "El archivo data/image/cropped/2_butterfly_covid_prc_convex_frame482.jpg no existe, por lo tanto no se pudo eliminar\n",
      "El archivo data/image/cropped/2_butterfly_covid_prc_convex_frame483.jpg no existe, por lo tanto no se pudo eliminar\n",
      "El archivo data/image/cropped/2_butterfly_covid_prc_convex_frame484.jpg no existe, por lo tanto no se pudo eliminar\n",
      "El archivo data/image/cropped/2_butterfly_covid_prc_convex_frame485.jpg no existe, por lo tanto no se pudo eliminar\n",
      "El archivo data/image/cropped/2_butterfly_covid_prc_convex_frame486.jpg no existe, por lo tanto no se pudo eliminar\n",
      "El archivo data/image/cropped/2_butterfly_covid_prc_convex_frame487.jpg no existe, por lo tanto no se pudo eliminar\n",
      "El archivo data/image/cropped/2_butterfly_covid_prc_convex_frame488.jpg no existe, por lo tanto no se pudo eliminar\n",
      "El archivo data/image/cropped/2_butterfly_covid_prc_convex_frame489.jpg no existe, por lo tanto no se pudo eliminar\n",
      "El archivo data/image/cropped/2_butterfly_covid_prc_convex_frame490.jpg no existe, por lo tanto no se pudo eliminar\n",
      "El archivo data/image/cropped/2_butterfly_covid_prc_convex_frame491.jpg no existe, por lo tanto no se pudo eliminar\n",
      "El archivo data/image/cropped/2_butterfly_covid_prc_convex_frame492.jpg no existe, por lo tanto no se pudo eliminar\n",
      "El archivo data/image/cropped/2_butterfly_covid_prc_convex_frame493.jpg no existe, por lo tanto no se pudo eliminar\n",
      "El archivo data/image/cropped/2_butterfly_covid_prc_convex_frame494.jpg no existe, por lo tanto no se pudo eliminar\n",
      "El archivo data/image/cropped/2_butterfly_covid_prc_convex_frame495.jpg no existe, por lo tanto no se pudo eliminar\n",
      "El archivo data/image/cropped/2_butterfly_covid_prc_convex_frame496.jpg no existe, por lo tanto no se pudo eliminar\n",
      "El archivo data/image/cropped/2_butterfly_covid_prc_convex_frame497.jpg no existe, por lo tanto no se pudo eliminar\n",
      "El archivo data/image/cropped/2_butterfly_covid_prc_convex_frame498.jpg no existe, por lo tanto no se pudo eliminar\n",
      "El archivo data/image/cropped/2_butterfly_covid_prc_convex_frame499.jpg no existe, por lo tanto no se pudo eliminar\n",
      "El archivo data/image/cropped/2_butterfly_covid_prc_convex_frame500.jpg no existe, por lo tanto no se pudo eliminar\n",
      "El archivo data/image/cropped/2_butterfly_covid_prc_convex_frame501.jpg no existe, por lo tanto no se pudo eliminar\n",
      "El archivo data/image/cropped/2_butterfly_covid_prc_convex_frame502.jpg no existe, por lo tanto no se pudo eliminar\n",
      "El archivo data/image/cropped/2_butterfly_covid_prc_convex_frame503.jpg no existe, por lo tanto no se pudo eliminar\n",
      "El archivo data/image/cropped/2_butterfly_covid_prc_convex_frame504.jpg no existe, por lo tanto no se pudo eliminar\n",
      "El archivo data/image/cropped/2_butterfly_covid_prc_convex_frame505.jpg no existe, por lo tanto no se pudo eliminar\n",
      "El archivo data/image/cropped/2_butterfly_covid_prc_convex_frame506.jpg no existe, por lo tanto no se pudo eliminar\n",
      "El archivo data/image/cropped/2_butterfly_covid_prc_convex_frame507.jpg no existe, por lo tanto no se pudo eliminar\n",
      "El archivo data/image/cropped/2_butterfly_covid_prc_convex_frame508.jpg no existe, por lo tanto no se pudo eliminar\n",
      "El archivo data/image/cropped/2_butterfly_covid_prc_convex_frame509.jpg no existe, por lo tanto no se pudo eliminar\n",
      "El archivo data/image/cropped/2_butterfly_covid_prc_convex_frame510.jpg no existe, por lo tanto no se pudo eliminar\n",
      "El archivo data/image/cropped/2_butterfly_covid_prc_convex_frame511.jpg no existe, por lo tanto no se pudo eliminar\n",
      "El archivo data/image/cropped/2_butterfly_covid_prc_convex_frame512.jpg no existe, por lo tanto no se pudo eliminar\n",
      "El archivo data/image/cropped/2_butterfly_covid_prc_convex_frame513.jpg no existe, por lo tanto no se pudo eliminar\n",
      "El archivo data/image/cropped/2_butterfly_covid_prc_convex_frame514.jpg no existe, por lo tanto no se pudo eliminar\n",
      "El archivo data/image/cropped/2_butterfly_covid_prc_convex_frame515.jpg no existe, por lo tanto no se pudo eliminar\n",
      "El archivo data/image/cropped/2_butterfly_covid_prc_convex_frame516.jpg no existe, por lo tanto no se pudo eliminar\n",
      "El archivo data/image/cropped/2_butterfly_covid_prc_convex_frame517.jpg no existe, por lo tanto no se pudo eliminar\n",
      "El archivo data/image/cropped/2_butterfly_covid_prc_convex_frame518.jpg no existe, por lo tanto no se pudo eliminar\n",
      "El archivo data/image/cropped/2_butterfly_covid_prc_convex_frame519.jpg no existe, por lo tanto no se pudo eliminar\n",
      "El archivo data/image/cropped/2_butterfly_covid_prc_convex_frame520.jpg no existe, por lo tanto no se pudo eliminar\n",
      "El archivo data/image/cropped/2_butterfly_covid_prc_convex_frame521.jpg no existe, por lo tanto no se pudo eliminar\n",
      "El archivo data/image/cropped/2_butterfly_covid_prc_convex_frame522.jpg no existe, por lo tanto no se pudo eliminar\n",
      "El archivo data/image/cropped/2_butterfly_covid_prc_convex_frame523.jpg no existe, por lo tanto no se pudo eliminar\n",
      "El archivo data/image/cropped/2_butterfly_covid_prc_convex_frame524.jpg no existe, por lo tanto no se pudo eliminar\n",
      "El archivo data/image/cropped/2_butterfly_covid_prc_convex_frame525.jpg no existe, por lo tanto no se pudo eliminar\n",
      "El archivo data/image/cropped/2_butterfly_covid_prc_convex_frame526.jpg no existe, por lo tanto no se pudo eliminar\n",
      "El archivo data/image/cropped/2_butterfly_covid_prc_convex_frame527.jpg no existe, por lo tanto no se pudo eliminar\n",
      "El archivo data/image/cropped/2_butterfly_covid_prc_convex_frame528.jpg no existe, por lo tanto no se pudo eliminar\n",
      "El archivo data/image/cropped/2_butterfly_covid_prc_convex_frame529.jpg no existe, por lo tanto no se pudo eliminar\n",
      "El archivo data/image/cropped/2_butterfly_covid_prc_convex_frame530.jpg no existe, por lo tanto no se pudo eliminar\n",
      "El archivo data/image/cropped/2_butterfly_covid_prc_convex_frame531.jpg no existe, por lo tanto no se pudo eliminar\n",
      "El archivo data/image/cropped/2_butterfly_covid_prc_convex_frame532.jpg no existe, por lo tanto no se pudo eliminar\n",
      "El archivo data/image/cropped/2_butterfly_covid_prc_convex_frame533.jpg no existe, por lo tanto no se pudo eliminar\n",
      "El archivo data/image/cropped/2_butterfly_covid_prc_convex_frame534.jpg no existe, por lo tanto no se pudo eliminar\n",
      "El archivo data/image/cropped/2_butterfly_covid_prc_convex_frame535.jpg no existe, por lo tanto no se pudo eliminar\n",
      "El archivo data/image/cropped/2_butterfly_covid_prc_convex_frame536.jpg no existe, por lo tanto no se pudo eliminar\n",
      "El archivo data/image/cropped/2_butterfly_covid_prc_convex_frame537.jpg no existe, por lo tanto no se pudo eliminar\n",
      "El archivo data/image/cropped/2_butterfly_covid_prc_convex_frame538.jpg no existe, por lo tanto no se pudo eliminar\n",
      "El archivo data/image/cropped/2_butterfly_covid_prc_convex_frame539.jpg no existe, por lo tanto no se pudo eliminar\n",
      "El archivo data/image/cropped/2_butterfly_covid_prc_convex_frame540.jpg no existe, por lo tanto no se pudo eliminar\n",
      "El archivo data/image/cropped/2_butterfly_covid_prc_convex_frame541.jpg no existe, por lo tanto no se pudo eliminar\n",
      "El archivo data/image/cropped/2_butterfly_covid_prc_convex_frame542.jpg no existe, por lo tanto no se pudo eliminar\n",
      "El archivo data/image/cropped/2_butterfly_covid_prc_convex_frame543.jpg no existe, por lo tanto no se pudo eliminar\n",
      "El archivo data/image/cropped/2_butterfly_covid_prc_convex_frame544.jpg no existe, por lo tanto no se pudo eliminar\n",
      "El archivo data/image/cropped/2_butterfly_covid_prc_convex_frame545.jpg no existe, por lo tanto no se pudo eliminar\n",
      "El archivo data/image/cropped/2_butterfly_covid_prc_convex_frame546.jpg no existe, por lo tanto no se pudo eliminar\n",
      "El archivo data/image/cropped/2_butterfly_covid_prc_convex_frame547.jpg no existe, por lo tanto no se pudo eliminar\n",
      "El archivo data/image/cropped/2_butterfly_covid_prc_convex_frame548.jpg no existe, por lo tanto no se pudo eliminar\n",
      "El archivo data/image/cropped/2_butterfly_covid_prc_convex_frame549.jpg no existe, por lo tanto no se pudo eliminar\n",
      "El archivo data/image/cropped/2_butterfly_covid_prc_convex_frame550.jpg no existe, por lo tanto no se pudo eliminar\n",
      "El archivo data/image/cropped/2_butterfly_covid_prc_convex_frame551.jpg no existe, por lo tanto no se pudo eliminar\n",
      "El archivo data/image/cropped/2_butterfly_covid_prc_convex_frame552.jpg no existe, por lo tanto no se pudo eliminar\n",
      "El archivo data/image/cropped/2_butterfly_covid_prc_convex_frame553.jpg no existe, por lo tanto no se pudo eliminar\n",
      "El archivo data/image/cropped/2_butterfly_covid_prc_convex_frame554.jpg no existe, por lo tanto no se pudo eliminar\n",
      "El archivo data/image/cropped/2_butterfly_covid_prc_convex_frame555.jpg no existe, por lo tanto no se pudo eliminar\n",
      "El archivo data/image/cropped/2_butterfly_covid_prc_convex_frame556.jpg no existe, por lo tanto no se pudo eliminar\n",
      "El archivo data/image/cropped/2_butterfly_covid_prc_convex_frame557.jpg no existe, por lo tanto no se pudo eliminar\n",
      "El archivo data/image/cropped/2_butterfly_covid_prc_convex_frame558.jpg no existe, por lo tanto no se pudo eliminar\n",
      "El archivo data/image/cropped/2_butterfly_covid_prc_convex_frame559.jpg no existe, por lo tanto no se pudo eliminar\n",
      "El archivo data/image/cropped/2_butterfly_covid_prc_convex_frame560.jpg no existe, por lo tanto no se pudo eliminar\n",
      "El archivo data/image/cropped/2_butterfly_covid_prc_convex_frame561.jpg no existe, por lo tanto no se pudo eliminar\n",
      "El archivo data/image/cropped/2_butterfly_covid_prc_convex_frame562.jpg no existe, por lo tanto no se pudo eliminar\n",
      "El archivo data/image/cropped/2_butterfly_covid_prc_convex_frame563.jpg no existe, por lo tanto no se pudo eliminar\n",
      "El archivo data/image/cropped/2_butterfly_covid_prc_convex_frame564.jpg no existe, por lo tanto no se pudo eliminar\n",
      "El archivo data/image/cropped/2_butterfly_covid_prc_convex_frame565.jpg no existe, por lo tanto no se pudo eliminar\n",
      "El archivo data/image/cropped/2_butterfly_covid_prc_convex_frame566.jpg no existe, por lo tanto no se pudo eliminar\n",
      "El archivo data/image/cropped/2_butterfly_covid_prc_convex_frame567.jpg no existe, por lo tanto no se pudo eliminar\n",
      "El archivo data/image/cropped/2_butterfly_covid_prc_convex_frame568.jpg no existe, por lo tanto no se pudo eliminar\n",
      "El archivo data/image/cropped/2_butterfly_covid_prc_convex_frame569.jpg no existe, por lo tanto no se pudo eliminar\n",
      "El archivo data/image/cropped/2_butterfly_covid_prc_convex_frame570.jpg no existe, por lo tanto no se pudo eliminar\n",
      "El archivo data/image/cropped/2_butterfly_covid_prc_convex_frame571.jpg no existe, por lo tanto no se pudo eliminar\n",
      "El archivo data/image/cropped/2_butterfly_covid_prc_convex_frame572.jpg no existe, por lo tanto no se pudo eliminar\n",
      "El archivo data/image/cropped/2_butterfly_covid_prc_convex_frame573.jpg no existe, por lo tanto no se pudo eliminar\n",
      "El archivo data/image/cropped/2_butterfly_covid_prc_convex_frame574.jpg no existe, por lo tanto no se pudo eliminar\n",
      "El archivo data/image/cropped/2_butterfly_covid_prc_convex_frame575.jpg no existe, por lo tanto no se pudo eliminar\n",
      "El archivo data/image/cropped/2_butterfly_covid_prc_convex_frame576.jpg no existe, por lo tanto no se pudo eliminar\n",
      "El archivo data/image/cropped/2_butterfly_covid_prc_convex_frame577.jpg no existe, por lo tanto no se pudo eliminar\n",
      "El archivo data/image/cropped/2_butterfly_covid_prc_convex_frame578.jpg no existe, por lo tanto no se pudo eliminar\n",
      "El archivo data/image/cropped/2_butterfly_covid_prc_convex_frame579.jpg no existe, por lo tanto no se pudo eliminar\n",
      "El archivo data/image/cropped/2_butterfly_covid_prc_convex_frame580.jpg no existe, por lo tanto no se pudo eliminar\n",
      "El archivo data/image/cropped/2_butterfly_covid_prc_convex_frame581.jpg no existe, por lo tanto no se pudo eliminar\n",
      "El archivo data/image/cropped/2_butterfly_covid_prc_convex_frame582.jpg no existe, por lo tanto no se pudo eliminar\n",
      "El archivo data/image/cropped/2_butterfly_covid_prc_convex_frame583.jpg no existe, por lo tanto no se pudo eliminar\n",
      "El archivo data/image/cropped/2_butterfly_covid_prc_convex_frame584.jpg no existe, por lo tanto no se pudo eliminar\n",
      "El archivo data/image/cropped/2_butterfly_covid_prc_convex_frame585.jpg no existe, por lo tanto no se pudo eliminar\n",
      "El archivo data/image/cropped/2_butterfly_covid_prc_convex_frame586.jpg no existe, por lo tanto no se pudo eliminar\n",
      "El archivo data/image/cropped/2_butterfly_covid_prc_convex_frame587.jpg no existe, por lo tanto no se pudo eliminar\n",
      "El archivo data/image/cropped/2_butterfly_covid_prc_convex_frame588.jpg no existe, por lo tanto no se pudo eliminar\n",
      "El archivo data/image/cropped/2_butterfly_covid_prc_convex_frame589.jpg no existe, por lo tanto no se pudo eliminar\n",
      "El archivo data/image/cropped/2_butterfly_covid_prc_convex_frame590.jpg no existe, por lo tanto no se pudo eliminar\n",
      "El archivo data/image/cropped/2_butterfly_covid_prc_convex_frame591.jpg no existe, por lo tanto no se pudo eliminar\n",
      "El archivo data/image/cropped/2_butterfly_covid_prc_convex_frame592.jpg no existe, por lo tanto no se pudo eliminar\n",
      "El archivo data/image/cropped/2_butterfly_covid_prc_convex_frame593.jpg no existe, por lo tanto no se pudo eliminar\n",
      "El archivo data/image/cropped/2_butterfly_covid_prc_convex_frame594.jpg no existe, por lo tanto no se pudo eliminar\n",
      "El archivo data/image/cropped/2_butterfly_covid_prc_convex_frame595.jpg no existe, por lo tanto no se pudo eliminar\n",
      "El archivo data/image/cropped/2_butterfly_covid_prc_convex_frame596.jpg no existe, por lo tanto no se pudo eliminar\n",
      "El archivo data/image/cropped/2_butterfly_covid_prc_convex_frame597.jpg no existe, por lo tanto no se pudo eliminar\n",
      "El archivo data/image/cropped/2_butterfly_covid_prc_convex_frame598.jpg no existe, por lo tanto no se pudo eliminar\n",
      "El archivo data/image/cropped/2_butterfly_covid_prc_convex_frame599.jpg no existe, por lo tanto no se pudo eliminar\n",
      "El archivo data/image/cropped/2_butterfly_covid_prc_convex_frame600.jpg no existe, por lo tanto no se pudo eliminar\n",
      "El archivo data/image/cropped/2_butterfly_covid_prc_convex_frame601.jpg no existe, por lo tanto no se pudo eliminar\n",
      "El archivo data/image/cropped/2_butterfly_covid_prc_convex_frame602.jpg no existe, por lo tanto no se pudo eliminar\n",
      "El archivo data/image/cropped/2_butterfly_covid_prc_convex_frame603.jpg no existe, por lo tanto no se pudo eliminar\n",
      "El archivo data/image/cropped/2_butterfly_covid_prc_convex_frame604.jpg no existe, por lo tanto no se pudo eliminar\n",
      "El archivo data/image/cropped/2_butterfly_covid_prc_convex_frame605.jpg no existe, por lo tanto no se pudo eliminar\n",
      "El archivo data/image/cropped/2_butterfly_covid_prc_convex_frame606.jpg no existe, por lo tanto no se pudo eliminar\n",
      "El archivo data/image/cropped/2_butterfly_covid_prc_convex_frame607.jpg no existe, por lo tanto no se pudo eliminar\n",
      "El archivo data/image/cropped/2_butterfly_covid_prc_convex_frame608.jpg no existe, por lo tanto no se pudo eliminar\n",
      "El archivo data/image/cropped/2_butterfly_covid_prc_convex_frame609.jpg no existe, por lo tanto no se pudo eliminar\n",
      "El archivo data/image/cropped/2_butterfly_covid_prc_convex_frame610.jpg no existe, por lo tanto no se pudo eliminar\n",
      "El archivo data/image/cropped/2_butterfly_covid_prc_convex_frame611.jpg no existe, por lo tanto no se pudo eliminar\n",
      "El archivo data/image/cropped/2_butterfly_covid_prc_convex_frame612.jpg no existe, por lo tanto no se pudo eliminar\n",
      "El archivo data/image/cropped/2_butterfly_covid_prc_convex_frame613.jpg no existe, por lo tanto no se pudo eliminar\n",
      "El archivo data/image/cropped/2_butterfly_covid_prc_convex_frame614.jpg no existe, por lo tanto no se pudo eliminar\n",
      "El archivo data/image/cropped/2_butterfly_covid_prc_convex_frame615.jpg no existe, por lo tanto no se pudo eliminar\n",
      "El archivo data/image/cropped/2_butterfly_covid_prc_convex_frame616.jpg no existe, por lo tanto no se pudo eliminar\n",
      "El archivo data/image/cropped/2_butterfly_covid_prc_convex_frame617.jpg no existe, por lo tanto no se pudo eliminar\n",
      "El archivo data/image/cropped/2_butterfly_covid_prc_convex_frame618.jpg no existe, por lo tanto no se pudo eliminar\n",
      "El archivo data/image/cropped/2_butterfly_covid_prc_convex_frame619.jpg no existe, por lo tanto no se pudo eliminar\n",
      "El archivo data/image/cropped/2_butterfly_covid_prc_convex_frame620.jpg no existe, por lo tanto no se pudo eliminar\n",
      "El archivo data/image/cropped/2_butterfly_covid_prc_convex_frame621.jpg no existe, por lo tanto no se pudo eliminar\n",
      "El archivo data/image/cropped/2_butterfly_covid_prc_convex_frame622.jpg no existe, por lo tanto no se pudo eliminar\n",
      "El archivo data/image/cropped/2_butterfly_covid_prc_convex_frame623.jpg no existe, por lo tanto no se pudo eliminar\n",
      "El archivo data/image/cropped/2_butterfly_covid_prc_convex_frame624.jpg no existe, por lo tanto no se pudo eliminar\n",
      "El archivo data/image/cropped/2_butterfly_covid_prc_convex_frame625.jpg no existe, por lo tanto no se pudo eliminar\n",
      "El archivo data/image/cropped/2_butterfly_covid_prc_convex_frame626.jpg no existe, por lo tanto no se pudo eliminar\n",
      "El archivo data/image/cropped/2_butterfly_covid_prc_convex_frame627.jpg no existe, por lo tanto no se pudo eliminar\n",
      "El archivo data/image/cropped/2_butterfly_covid_prc_convex_frame628.jpg no existe, por lo tanto no se pudo eliminar\n",
      "El archivo data/image/cropped/2_butterfly_covid_prc_convex_frame629.jpg no existe, por lo tanto no se pudo eliminar\n",
      "El archivo data/image/cropped/2_butterfly_covid_prc_convex_frame630.jpg no existe, por lo tanto no se pudo eliminar\n",
      "El archivo data/image/cropped/2_butterfly_covid_prc_convex_frame631.jpg no existe, por lo tanto no se pudo eliminar\n",
      "El archivo data/image/cropped/2_butterfly_covid_prc_convex_frame632.jpg no existe, por lo tanto no se pudo eliminar\n",
      "El archivo data/image/cropped/2_butterfly_covid_prc_convex_frame633.jpg no existe, por lo tanto no se pudo eliminar\n",
      "El archivo data/image/cropped/2_butterfly_covid_prc_convex_frame634.jpg no existe, por lo tanto no se pudo eliminar\n",
      "El archivo data/image/cropped/2_butterfly_covid_prc_convex_frame635.jpg no existe, por lo tanto no se pudo eliminar\n",
      "El archivo data/image/cropped/2_butterfly_covid_prc_convex_frame636.jpg no existe, por lo tanto no se pudo eliminar\n",
      "El archivo data/image/cropped/2_butterfly_covid_prc_convex_frame637.jpg no existe, por lo tanto no se pudo eliminar\n",
      "El archivo data/image/cropped/2_butterfly_covid_prc_convex_frame638.jpg no existe, por lo tanto no se pudo eliminar\n",
      "El archivo data/image/cropped/2_butterfly_covid_prc_convex_frame639.jpg no existe, por lo tanto no se pudo eliminar\n",
      "El archivo data/image/cropped/2_butterfly_covid_prc_convex_frame640.jpg no existe, por lo tanto no se pudo eliminar\n",
      "El archivo data/image/cropped/2_butterfly_covid_prc_convex_frame641.jpg no existe, por lo tanto no se pudo eliminar\n",
      "El archivo data/image/cropped/2_butterfly_covid_prc_convex_frame642.jpg no existe, por lo tanto no se pudo eliminar\n",
      "El archivo data/image/cropped/2_butterfly_covid_prc_convex_frame643.jpg no existe, por lo tanto no se pudo eliminar\n",
      "El archivo data/image/cropped/2_butterfly_covid_prc_convex_frame644.jpg no existe, por lo tanto no se pudo eliminar\n",
      "El archivo data/image/cropped/2_butterfly_covid_prc_convex_frame645.jpg no existe, por lo tanto no se pudo eliminar\n",
      "El archivo data/image/cropped/2_butterfly_covid_prc_convex_frame646.jpg no existe, por lo tanto no se pudo eliminar\n",
      "El archivo data/image/cropped/2_butterfly_covid_prc_convex_frame647.jpg no existe, por lo tanto no se pudo eliminar\n",
      "El archivo data/image/cropped/2_butterfly_covid_prc_convex_frame648.jpg no existe, por lo tanto no se pudo eliminar\n",
      "El archivo data/image/cropped/2_butterfly_covid_prc_convex_frame649.jpg no existe, por lo tanto no se pudo eliminar\n",
      "El archivo data/image/cropped/2_butterfly_covid_prc_convex_frame650.jpg no existe, por lo tanto no se pudo eliminar\n",
      "El archivo data/image/cropped/2_butterfly_covid_prc_convex_frame651.jpg no existe, por lo tanto no se pudo eliminar\n",
      "El archivo data/image/cropped/2_butterfly_covid_prc_convex_frame652.jpg no existe, por lo tanto no se pudo eliminar\n",
      "El archivo data/image/cropped/2_butterfly_covid_prc_convex_frame653.jpg no existe, por lo tanto no se pudo eliminar\n",
      "El archivo data/image/cropped/2_butterfly_covid_prc_convex_frame654.jpg no existe, por lo tanto no se pudo eliminar\n",
      "El archivo data/image/cropped/2_butterfly_covid_prc_convex_frame655.jpg no existe, por lo tanto no se pudo eliminar\n",
      "El archivo data/image/cropped/2_butterfly_covid_prc_convex_frame656.jpg no existe, por lo tanto no se pudo eliminar\n",
      "El archivo data/image/cropped/2_butterfly_covid_prc_convex_frame657.jpg no existe, por lo tanto no se pudo eliminar\n",
      "El archivo data/image/cropped/2_butterfly_covid_prc_convex_frame658.jpg no existe, por lo tanto no se pudo eliminar\n",
      "El archivo data/image/cropped/2_butterfly_covid_prc_convex_frame659.jpg no existe, por lo tanto no se pudo eliminar\n",
      "El archivo data/image/cropped/2_butterfly_covid_prc_convex_frame660.jpg no existe, por lo tanto no se pudo eliminar\n",
      "El archivo data/image/cropped/2_butterfly_covid_prc_convex_frame661.jpg no existe, por lo tanto no se pudo eliminar\n",
      "El archivo data/image/cropped/2_butterfly_covid_prc_convex_frame662.jpg no existe, por lo tanto no se pudo eliminar\n",
      "El archivo data/image/cropped/2_butterfly_covid_prc_convex_frame663.jpg no existe, por lo tanto no se pudo eliminar\n",
      "El archivo data/image/cropped/2_butterfly_covid_prc_convex_frame664.jpg no existe, por lo tanto no se pudo eliminar\n",
      "El archivo data/image/cropped/2_butterfly_covid_prc_convex_frame665.jpg no existe, por lo tanto no se pudo eliminar\n",
      "El archivo data/image/cropped/2_butterfly_covid_prc_convex_frame666.jpg no existe, por lo tanto no se pudo eliminar\n",
      "El archivo data/image/cropped/2_butterfly_covid_prc_convex_frame667.jpg no existe, por lo tanto no se pudo eliminar\n",
      "El archivo data/image/cropped/2_butterfly_covid_prc_convex_frame668.jpg no existe, por lo tanto no se pudo eliminar\n",
      "El archivo data/image/cropped/2_butterfly_covid_prc_convex_frame669.jpg no existe, por lo tanto no se pudo eliminar\n",
      "El archivo data/image/cropped/2_butterfly_covid_prc_convex_frame670.jpg no existe, por lo tanto no se pudo eliminar\n",
      "El archivo data/image/cropped/2_butterfly_covid_prc_convex_frame671.jpg no existe, por lo tanto no se pudo eliminar\n",
      "El archivo data/image/cropped/2_butterfly_covid_prc_convex_frame672.jpg no existe, por lo tanto no se pudo eliminar\n",
      "El archivo data/image/cropped/2_butterfly_covid_prc_convex_frame673.jpg no existe, por lo tanto no se pudo eliminar\n",
      "El archivo data/image/cropped/2_butterfly_covid_prc_convex_frame674.jpg no existe, por lo tanto no se pudo eliminar\n",
      "El archivo data/image/cropped/2_butterfly_covid_prc_convex_frame675.jpg no existe, por lo tanto no se pudo eliminar\n",
      "El archivo data/image/cropped/2_butterfly_covid_prc_convex_frame676.jpg no existe, por lo tanto no se pudo eliminar\n",
      "El archivo data/image/cropped/2_butterfly_covid_prc_convex_frame677.jpg no existe, por lo tanto no se pudo eliminar\n",
      "El archivo data/image/cropped/2_butterfly_covid_prc_convex_frame678.jpg no existe, por lo tanto no se pudo eliminar\n",
      "El archivo data/image/cropped/2_butterfly_covid_prc_convex_frame679.jpg no existe, por lo tanto no se pudo eliminar\n",
      "El archivo data/image/cropped/2_butterfly_covid_prc_convex_frame680.jpg no existe, por lo tanto no se pudo eliminar\n",
      "El archivo data/image/cropped/2_butterfly_covid_prc_convex_frame681.jpg no existe, por lo tanto no se pudo eliminar\n",
      "El archivo data/image/cropped/2_butterfly_covid_prc_convex_frame682.jpg no existe, por lo tanto no se pudo eliminar\n",
      "El archivo data/image/cropped/2_butterfly_covid_prc_convex_frame683.jpg no existe, por lo tanto no se pudo eliminar\n",
      "El archivo data/image/cropped/2_butterfly_covid_prc_convex_frame684.jpg no existe, por lo tanto no se pudo eliminar\n",
      "El archivo data/image/cropped/2_butterfly_covid_prc_convex_frame685.jpg no existe, por lo tanto no se pudo eliminar\n",
      "El archivo data/image/cropped/2_butterfly_covid_prc_convex_frame686.jpg no existe, por lo tanto no se pudo eliminar\n",
      "El archivo data/image/cropped/2_butterfly_covid_prc_convex_frame687.jpg no existe, por lo tanto no se pudo eliminar\n",
      "El archivo data/image/cropped/2_butterfly_covid_prc_convex_frame688.jpg no existe, por lo tanto no se pudo eliminar\n",
      "El archivo data/image/cropped/2_butterfly_covid_prc_convex_frame689.jpg no existe, por lo tanto no se pudo eliminar\n",
      "El archivo data/image/cropped/2_butterfly_covid_prc_convex_frame690.jpg no existe, por lo tanto no se pudo eliminar\n",
      "El archivo data/image/cropped/2_butterfly_covid_prc_convex_frame691.jpg no existe, por lo tanto no se pudo eliminar\n",
      "El archivo data/image/cropped/2_butterfly_covid_prc_convex_frame692.jpg no existe, por lo tanto no se pudo eliminar\n",
      "El archivo data/image/cropped/2_butterfly_covid_prc_convex_frame693.jpg no existe, por lo tanto no se pudo eliminar\n",
      "El archivo data/image/cropped/2_butterfly_covid_prc_convex_frame694.jpg no existe, por lo tanto no se pudo eliminar\n",
      "El archivo data/image/cropped/2_butterfly_covid_prc_convex_frame695.jpg no existe, por lo tanto no se pudo eliminar\n",
      "El archivo data/image/cropped/2_butterfly_covid_prc_convex_frame696.jpg no existe, por lo tanto no se pudo eliminar\n",
      "El archivo data/image/cropped/2_butterfly_covid_prc_convex_frame697.jpg no existe, por lo tanto no se pudo eliminar\n",
      "El archivo data/image/cropped/2_butterfly_covid_prc_convex_frame698.jpg no existe, por lo tanto no se pudo eliminar\n",
      "El archivo data/image/cropped/2_butterfly_covid_prc_convex_frame699.jpg no existe, por lo tanto no se pudo eliminar\n",
      "El archivo data/image/cropped/2_butterfly_covid_prc_convex_frame700.jpg no existe, por lo tanto no se pudo eliminar\n",
      "El archivo data/image/cropped/2_butterfly_covid_prc_convex_frame701.jpg no existe, por lo tanto no se pudo eliminar\n",
      "El archivo data/image/cropped/2_butterfly_covid_prc_convex_frame702.jpg no existe, por lo tanto no se pudo eliminar\n",
      "El archivo data/image/cropped/2_butterfly_covid_prc_convex_frame703.jpg no existe, por lo tanto no se pudo eliminar\n",
      "El archivo data/image/cropped/2_butterfly_covid_prc_convex_frame704.jpg no existe, por lo tanto no se pudo eliminar\n",
      "El archivo data/image/cropped/2_butterfly_covid_prc_convex_frame705.jpg no existe, por lo tanto no se pudo eliminar\n",
      "El archivo data/image/cropped/2_butterfly_covid_prc_convex_frame706.jpg no existe, por lo tanto no se pudo eliminar\n",
      "El archivo data/image/cropped/2_butterfly_covid_prc_convex_frame707.jpg no existe, por lo tanto no se pudo eliminar\n",
      "El archivo data/image/cropped/2_butterfly_covid_prc_convex_frame708.jpg no existe, por lo tanto no se pudo eliminar\n",
      "El archivo data/image/cropped/2_butterfly_covid_prc_convex_frame709.jpg no existe, por lo tanto no se pudo eliminar\n",
      "El archivo data/image/cropped/2_butterfly_covid_prc_convex_frame710.jpg no existe, por lo tanto no se pudo eliminar\n",
      "El archivo data/image/cropped/2_butterfly_covid_prc_convex_frame711.jpg no existe, por lo tanto no se pudo eliminar\n",
      "El archivo data/image/cropped/2_butterfly_covid_prc_convex_frame712.jpg no existe, por lo tanto no se pudo eliminar\n",
      "El archivo data/image/cropped/2_butterfly_covid_prc_convex_frame713.jpg no existe, por lo tanto no se pudo eliminar\n",
      "El archivo data/image/cropped/2_butterfly_covid_prc_convex_frame714.jpg no existe, por lo tanto no se pudo eliminar\n",
      "El archivo data/image/cropped/2_butterfly_covid_prc_convex_frame715.jpg no existe, por lo tanto no se pudo eliminar\n",
      "El archivo data/image/cropped/2_butterfly_covid_prc_convex_frame716.jpg no existe, por lo tanto no se pudo eliminar\n",
      "El archivo data/image/cropped/2_butterfly_covid_prc_convex_frame717.jpg no existe, por lo tanto no se pudo eliminar\n",
      "El archivo data/image/cropped/2_butterfly_covid_prc_convex_frame718.jpg no existe, por lo tanto no se pudo eliminar\n",
      "El archivo data/image/cropped/2_butterfly_covid_prc_convex_frame719.jpg no existe, por lo tanto no se pudo eliminar\n",
      "El archivo data/image/cropped/2_butterfly_covid_prc_convex_frame720.jpg no existe, por lo tanto no se pudo eliminar\n",
      "El archivo data/image/cropped/2_butterfly_covid_prc_convex_frame721.jpg no existe, por lo tanto no se pudo eliminar\n",
      "El archivo data/image/cropped/2_butterfly_covid_prc_convex_frame722.jpg no existe, por lo tanto no se pudo eliminar\n",
      "El archivo data/image/cropped/2_butterfly_covid_prc_convex_frame723.jpg no existe, por lo tanto no se pudo eliminar\n",
      "El archivo data/image/cropped/2_butterfly_covid_prc_convex_frame724.jpg no existe, por lo tanto no se pudo eliminar\n",
      "El archivo data/image/cropped/2_butterfly_covid_prc_convex_frame725.jpg no existe, por lo tanto no se pudo eliminar\n",
      "El archivo data/image/cropped/2_butterfly_covid_prc_convex_frame726.jpg no existe, por lo tanto no se pudo eliminar\n",
      "El archivo data/image/cropped/2_butterfly_covid_prc_convex_frame727.jpg no existe, por lo tanto no se pudo eliminar\n",
      "El archivo data/image/cropped/2_butterfly_covid_prc_convex_frame728.jpg no existe, por lo tanto no se pudo eliminar\n",
      "El archivo data/image/cropped/2_butterfly_covid_prc_convex_frame729.jpg no existe, por lo tanto no se pudo eliminar\n",
      "El archivo data/image/cropped/2_butterfly_covid_prc_convex_frame730.jpg no existe, por lo tanto no se pudo eliminar\n",
      "El archivo data/image/cropped/2_butterfly_covid_prc_convex_frame731.jpg no existe, por lo tanto no se pudo eliminar\n",
      "El archivo data/image/cropped/2_butterfly_covid_prc_convex_frame732.jpg no existe, por lo tanto no se pudo eliminar\n",
      "El archivo data/image/cropped/2_butterfly_covid_prc_convex_frame733.jpg no existe, por lo tanto no se pudo eliminar\n",
      "El archivo data/image/cropped/2_butterfly_covid_prc_convex_frame734.jpg no existe, por lo tanto no se pudo eliminar\n",
      "El archivo data/image/cropped/2_butterfly_covid_prc_convex_frame735.jpg no existe, por lo tanto no se pudo eliminar\n",
      "El archivo data/image/cropped/2_butterfly_covid_prc_convex_frame736.jpg no existe, por lo tanto no se pudo eliminar\n",
      "El archivo data/image/cropped/2_butterfly_covid_prc_convex_frame737.jpg no existe, por lo tanto no se pudo eliminar\n",
      "El archivo data/image/cropped/2_butterfly_covid_prc_convex_frame738.jpg no existe, por lo tanto no se pudo eliminar\n",
      "El archivo data/image/cropped/2_butterfly_covid_prc_convex_frame739.jpg no existe, por lo tanto no se pudo eliminar\n",
      "El archivo data/image/cropped/2_butterfly_covid_prc_convex_frame740.jpg no existe, por lo tanto no se pudo eliminar\n",
      "El archivo data/image/cropped/2_butterfly_covid_prc_convex_frame741.jpg no existe, por lo tanto no se pudo eliminar\n",
      "El archivo data/image/cropped/2_butterfly_covid_prc_convex_frame742.jpg no existe, por lo tanto no se pudo eliminar\n",
      "El archivo data/image/cropped/2_butterfly_covid_prc_convex_frame743.jpg no existe, por lo tanto no se pudo eliminar\n",
      "El archivo data/image/cropped/2_butterfly_covid_prc_convex_frame744.jpg no existe, por lo tanto no se pudo eliminar\n",
      "El archivo data/image/cropped/2_butterfly_covid_prc_convex_frame745.jpg no existe, por lo tanto no se pudo eliminar\n",
      "El archivo data/image/cropped/2_butterfly_covid_prc_convex_frame746.jpg no existe, por lo tanto no se pudo eliminar\n",
      "El archivo data/image/cropped/2_butterfly_covid_prc_convex_frame747.jpg no existe, por lo tanto no se pudo eliminar\n",
      "El archivo data/image/cropped/2_butterfly_covid_prc_convex_frame748.jpg no existe, por lo tanto no se pudo eliminar\n",
      "El archivo data/image/cropped/2_butterfly_covid_prc_convex_frame749.jpg no existe, por lo tanto no se pudo eliminar\n",
      "El archivo data/image/cropped/2_butterfly_covid_prc_convex_frame750.jpg no existe, por lo tanto no se pudo eliminar\n",
      "El archivo data/image/cropped/2_butterfly_covid_prc_convex_frame751.jpg no existe, por lo tanto no se pudo eliminar\n",
      "El archivo data/image/cropped/2_butterfly_covid_prc_convex_frame752.jpg no existe, por lo tanto no se pudo eliminar\n",
      "El archivo data/image/cropped/2_butterfly_covid_prc_convex_frame753.jpg no existe, por lo tanto no se pudo eliminar\n",
      "El archivo data/image/cropped/2_butterfly_covid_prc_convex_frame754.jpg no existe, por lo tanto no se pudo eliminar\n",
      "El archivo data/image/cropped/2_butterfly_covid_prc_convex_frame755.jpg no existe, por lo tanto no se pudo eliminar\n",
      "El archivo data/image/cropped/2_butterfly_covid_prc_convex_frame756.jpg no existe, por lo tanto no se pudo eliminar\n",
      "El archivo data/image/cropped/2_butterfly_covid_prc_convex_frame757.jpg no existe, por lo tanto no se pudo eliminar\n",
      "El archivo data/image/cropped/2_butterfly_covid_prc_convex_frame758.jpg no existe, por lo tanto no se pudo eliminar\n",
      "El archivo data/image/cropped/2_butterfly_covid_prc_convex_frame759.jpg no existe, por lo tanto no se pudo eliminar\n",
      "El archivo data/image/cropped/2_butterfly_covid_prc_convex_frame760.jpg no existe, por lo tanto no se pudo eliminar\n",
      "El archivo data/image/cropped/2_butterfly_covid_prc_convex_frame761.jpg no existe, por lo tanto no se pudo eliminar\n",
      "El archivo data/image/cropped/2_butterfly_covid_prc_convex_frame762.jpg no existe, por lo tanto no se pudo eliminar\n",
      "El archivo data/image/cropped/2_butterfly_covid_prc_convex_frame763.jpg no existe, por lo tanto no se pudo eliminar\n",
      "El archivo data/image/cropped/2_butterfly_covid_prc_convex_frame764.jpg no existe, por lo tanto no se pudo eliminar\n",
      "El archivo data/image/cropped/2_butterfly_covid_prc_convex_frame765.jpg no existe, por lo tanto no se pudo eliminar\n",
      "El archivo data/image/cropped/2_butterfly_covid_prc_convex_frame766.jpg no existe, por lo tanto no se pudo eliminar\n",
      "El archivo data/image/cropped/2_butterfly_covid_prc_convex_frame767.jpg no existe, por lo tanto no se pudo eliminar\n",
      "El archivo data/image/cropped/2_butterfly_covid_prc_convex_frame768.jpg no existe, por lo tanto no se pudo eliminar\n",
      "El archivo data/image/cropped/2_butterfly_covid_prc_convex_frame769.jpg no existe, por lo tanto no se pudo eliminar\n",
      "El archivo data/image/cropped/2_butterfly_covid_prc_convex_frame770.jpg no existe, por lo tanto no se pudo eliminar\n",
      "El archivo data/image/cropped/2_butterfly_covid_prc_convex_frame771.jpg no existe, por lo tanto no se pudo eliminar\n",
      "El archivo data/image/cropped/2_butterfly_covid_prc_convex_frame772.jpg no existe, por lo tanto no se pudo eliminar\n",
      "El archivo data/image/cropped/2_butterfly_covid_prc_convex_frame773.jpg no existe, por lo tanto no se pudo eliminar\n",
      "El archivo data/image/cropped/2_butterfly_covid_prc_convex_frame774.jpg no existe, por lo tanto no se pudo eliminar\n",
      "El archivo data/image/cropped/2_butterfly_covid_prc_convex_frame775.jpg no existe, por lo tanto no se pudo eliminar\n",
      "El archivo data/image/cropped/2_butterfly_covid_prc_convex_frame776.jpg no existe, por lo tanto no se pudo eliminar\n",
      "El archivo data/image/cropped/2_butterfly_covid_prc_convex_frame777.jpg no existe, por lo tanto no se pudo eliminar\n",
      "El archivo data/image/cropped/2_butterfly_covid_prc_convex_frame778.jpg no existe, por lo tanto no se pudo eliminar\n",
      "El archivo data/image/cropped/2_butterfly_covid_prc_convex_frame779.jpg no existe, por lo tanto no se pudo eliminar\n",
      "El archivo data/image/cropped/2_butterfly_covid_prc_convex_frame780.jpg no existe, por lo tanto no se pudo eliminar\n",
      "El archivo data/image/cropped/2_butterfly_covid_prc_convex_frame781.jpg no existe, por lo tanto no se pudo eliminar\n",
      "El archivo data/image/cropped/2_butterfly_covid_prc_convex_frame782.jpg no existe, por lo tanto no se pudo eliminar\n",
      "El archivo data/image/cropped/2_butterfly_covid_prc_convex_frame783.jpg no existe, por lo tanto no se pudo eliminar\n",
      "El archivo data/image/cropped/2_butterfly_covid_prc_convex_frame784.jpg no existe, por lo tanto no se pudo eliminar\n",
      "El archivo data/image/cropped/2_butterfly_covid_prc_convex_frame785.jpg no existe, por lo tanto no se pudo eliminar\n",
      "El archivo data/image/cropped/2_butterfly_covid_prc_convex_frame786.jpg no existe, por lo tanto no se pudo eliminar\n",
      "El archivo data/image/cropped/2_butterfly_covid_prc_convex_frame787.jpg no existe, por lo tanto no se pudo eliminar\n",
      "El archivo data/image/cropped/2_butterfly_covid_prc_convex_frame788.jpg no existe, por lo tanto no se pudo eliminar\n",
      "El archivo data/image/cropped/2_butterfly_covid_prc_convex_frame789.jpg no existe, por lo tanto no se pudo eliminar\n",
      "El archivo data/image/cropped/2_butterfly_covid_prc_convex_frame790.jpg no existe, por lo tanto no se pudo eliminar\n",
      "El archivo data/image/cropped/2_butterfly_covid_prc_convex_frame791.jpg no existe, por lo tanto no se pudo eliminar\n",
      "El archivo data/image/cropped/2_butterfly_covid_prc_convex_frame792.jpg no existe, por lo tanto no se pudo eliminar\n",
      "El archivo data/image/cropped/2_butterfly_covid_prc_convex_frame793.jpg no existe, por lo tanto no se pudo eliminar\n",
      "El archivo data/image/cropped/2_butterfly_covid_prc_convex_frame794.jpg no existe, por lo tanto no se pudo eliminar\n",
      "El archivo data/image/cropped/2_butterfly_covid_prc_convex_frame795.jpg no existe, por lo tanto no se pudo eliminar\n",
      "El archivo data/image/cropped/2_butterfly_covid_prc_convex_frame796.jpg no existe, por lo tanto no se pudo eliminar\n",
      "El archivo data/image/cropped/2_butterfly_covid_prc_convex_frame797.jpg no existe, por lo tanto no se pudo eliminar\n",
      "El archivo data/image/cropped/2_butterfly_covid_prc_convex_frame798.jpg no existe, por lo tanto no se pudo eliminar\n",
      "El archivo data/image/cropped/2_butterfly_covid_prc_convex_frame799.jpg no existe, por lo tanto no se pudo eliminar\n",
      "El archivo data/image/cropped/2_butterfly_covid_prc_convex_frame800.jpg no existe, por lo tanto no se pudo eliminar\n",
      "El archivo data/image/cropped/2_butterfly_covid_prc_convex_frame801.jpg no existe, por lo tanto no se pudo eliminar\n",
      "El archivo data/image/cropped/2_butterfly_covid_prc_convex_frame802.jpg no existe, por lo tanto no se pudo eliminar\n",
      "El archivo data/image/cropped/2_butterfly_covid_prc_convex_frame803.jpg no existe, por lo tanto no se pudo eliminar\n",
      "El archivo data/image/cropped/2_butterfly_covid_prc_convex_frame804.jpg no existe, por lo tanto no se pudo eliminar\n",
      "El archivo data/image/cropped/2_butterfly_covid_prc_convex_frame805.jpg no existe, por lo tanto no se pudo eliminar\n",
      "El archivo data/image/cropped/2_butterfly_covid_prc_convex_frame806.jpg no existe, por lo tanto no se pudo eliminar\n",
      "El archivo data/image/cropped/2_butterfly_covid_prc_convex_frame807.jpg no existe, por lo tanto no se pudo eliminar\n",
      "El archivo data/image/cropped/2_butterfly_covid_prc_convex_frame808.jpg no existe, por lo tanto no se pudo eliminar\n",
      "El archivo data/image/cropped/2_butterfly_covid_prc_convex_frame809.jpg no existe, por lo tanto no se pudo eliminar\n",
      "El archivo data/image/cropped/2_butterfly_covid_prc_convex_frame810.jpg no existe, por lo tanto no se pudo eliminar\n",
      "El archivo data/image/cropped/2_butterfly_covid_prc_convex_frame811.jpg no existe, por lo tanto no se pudo eliminar\n",
      "El archivo data/image/cropped/2_butterfly_covid_prc_convex_frame812.jpg no existe, por lo tanto no se pudo eliminar\n",
      "El archivo data/image/cropped/2_butterfly_covid_prc_convex_frame813.jpg no existe, por lo tanto no se pudo eliminar\n",
      "El archivo data/image/cropped/6_butterfly_covid_prc_convex_frame62.jpg no existe, por lo tanto no se pudo eliminar\n",
      "El archivo data/image/cropped/6_butterfly_covid_prc_convex_frame63.jpg no existe, por lo tanto no se pudo eliminar\n",
      "El archivo data/image/cropped/6_butterfly_covid_prc_convex_frame64.jpg no existe, por lo tanto no se pudo eliminar\n",
      "El archivo data/image/cropped/6_butterfly_covid_prc_convex_frame65.jpg no existe, por lo tanto no se pudo eliminar\n",
      "El archivo data/image/cropped/6_butterfly_covid_prc_convex_frame87.jpg no existe, por lo tanto no se pudo eliminar\n",
      "El archivo data/image/cropped/6_butterfly_covid_prc_convex_frame88.jpg no existe, por lo tanto no se pudo eliminar\n",
      "El archivo data/image/cropped/6_butterfly_covid_prc_convex_frame89.jpg no existe, por lo tanto no se pudo eliminar\n",
      "El archivo data/image/cropped/6_butterfly_covid_prc_convex_frame90.jpg no existe, por lo tanto no se pudo eliminar\n",
      "El archivo data/image/cropped/6_butterfly_covid_prc_convex_frame91.jpg no existe, por lo tanto no se pudo eliminar\n",
      "El archivo data/image/cropped/6_butterfly_covid_prc_convex_frame92.jpg no existe, por lo tanto no se pudo eliminar\n",
      "El archivo data/image/cropped/6_butterfly_covid_prc_convex_frame93.jpg no existe, por lo tanto no se pudo eliminar\n",
      "El archivo data/image/cropped/6_butterfly_covid_prc_convex_frame94.jpg no existe, por lo tanto no se pudo eliminar\n",
      "El archivo data/image/cropped/6_butterfly_covid_prc_convex_frame95.jpg no existe, por lo tanto no se pudo eliminar\n",
      "El archivo data/image/cropped/6_butterfly_covid_prc_convex_frame96.jpg no existe, por lo tanto no se pudo eliminar\n",
      "El archivo data/image/cropped/6_butterfly_covid_prc_convex_frame97.jpg no existe, por lo tanto no se pudo eliminar\n",
      "El archivo data/image/cropped/6_butterfly_covid_prc_convex_frame98.jpg no existe, por lo tanto no se pudo eliminar\n",
      "El archivo data/image/cropped/6_butterfly_covid_prc_convex_frame99.jpg no existe, por lo tanto no se pudo eliminar\n",
      "El archivo data/image/cropped/6_butterfly_covid_prc_convex_frame100.jpg no existe, por lo tanto no se pudo eliminar\n",
      "El archivo data/image/cropped/6_butterfly_covid_prc_convex_frame101.jpg no existe, por lo tanto no se pudo eliminar\n",
      "El archivo data/image/cropped/6_butterfly_covid_prc_convex_frame102.jpg no existe, por lo tanto no se pudo eliminar\n",
      "El archivo data/image/cropped/6_butterfly_covid_prc_convex_frame103.jpg no existe, por lo tanto no se pudo eliminar\n",
      "El archivo data/image/cropped/6_butterfly_covid_prc_convex_frame104.jpg no existe, por lo tanto no se pudo eliminar\n",
      "El archivo data/image/cropped/6_butterfly_covid_prc_convex_frame105.jpg no existe, por lo tanto no se pudo eliminar\n",
      "El archivo data/image/cropped/6_butterfly_covid_prc_convex_frame106.jpg no existe, por lo tanto no se pudo eliminar\n",
      "El archivo data/image/cropped/6_butterfly_covid_prc_convex_frame107.jpg no existe, por lo tanto no se pudo eliminar\n",
      "El archivo data/image/cropped/6_butterfly_covid_prc_convex_frame108.jpg no existe, por lo tanto no se pudo eliminar\n",
      "El archivo data/image/cropped/6_butterfly_covid_prc_convex_frame109.jpg no existe, por lo tanto no se pudo eliminar\n",
      "El archivo data/image/cropped/6_butterfly_covid_prc_convex_frame110.jpg no existe, por lo tanto no se pudo eliminar\n",
      "El archivo data/image/cropped/6_butterfly_covid_prc_convex_frame111.jpg no existe, por lo tanto no se pudo eliminar\n",
      "El archivo data/image/cropped/6_butterfly_covid_prc_convex_frame112.jpg no existe, por lo tanto no se pudo eliminar\n",
      "El archivo data/image/cropped/6_butterfly_covid_prc_convex_frame113.jpg no existe, por lo tanto no se pudo eliminar\n",
      "El archivo data/image/cropped/6_butterfly_covid_prc_convex_frame114.jpg no existe, por lo tanto no se pudo eliminar\n",
      "El archivo data/image/cropped/6_butterfly_covid_prc_convex_frame115.jpg no existe, por lo tanto no se pudo eliminar\n",
      "El archivo data/image/cropped/6_butterfly_covid_prc_convex_frame116.jpg no existe, por lo tanto no se pudo eliminar\n",
      "El archivo data/image/cropped/6_butterfly_covid_prc_convex_frame117.jpg no existe, por lo tanto no se pudo eliminar\n",
      "El archivo data/image/cropped/6_butterfly_covid_prc_convex_frame118.jpg no existe, por lo tanto no se pudo eliminar\n",
      "El archivo data/image/cropped/6_butterfly_covid_prc_convex_frame119.jpg no existe, por lo tanto no se pudo eliminar\n",
      "El archivo data/image/cropped/6_butterfly_covid_prc_convex_frame120.jpg no existe, por lo tanto no se pudo eliminar\n",
      "El archivo data/image/cropped/6_butterfly_covid_prc_convex_frame121.jpg no existe, por lo tanto no se pudo eliminar\n",
      "El archivo data/image/cropped/6_butterfly_covid_prc_convex_frame130.jpg no existe, por lo tanto no se pudo eliminar\n",
      "El archivo data/image/cropped/6_butterfly_covid_prc_convex_frame131.jpg no existe, por lo tanto no se pudo eliminar\n",
      "El archivo data/image/cropped/6_butterfly_covid_prc_convex_frame132.jpg no existe, por lo tanto no se pudo eliminar\n",
      "El archivo data/image/cropped/6_butterfly_covid_prc_convex_frame133.jpg no existe, por lo tanto no se pudo eliminar\n",
      "El archivo data/image/cropped/6_butterfly_covid_prc_convex_frame134.jpg no existe, por lo tanto no se pudo eliminar\n",
      "El archivo data/image/cropped/6_butterfly_covid_prc_convex_frame135.jpg no existe, por lo tanto no se pudo eliminar\n",
      "El archivo data/image/cropped/6_butterfly_covid_prc_convex_frame136.jpg no existe, por lo tanto no se pudo eliminar\n",
      "El archivo data/image/cropped/6_butterfly_covid_prc_convex_frame137.jpg no existe, por lo tanto no se pudo eliminar\n",
      "El archivo data/image/cropped/6_butterfly_covid_prc_convex_frame138.jpg no existe, por lo tanto no se pudo eliminar\n",
      "El archivo data/image/cropped/6_butterfly_covid_prc_convex_frame139.jpg no existe, por lo tanto no se pudo eliminar\n",
      "El archivo data/image/cropped/6_butterfly_covid_prc_convex_frame140.jpg no existe, por lo tanto no se pudo eliminar\n",
      "El archivo data/image/cropped/6_butterfly_covid_prc_convex_frame141.jpg no existe, por lo tanto no se pudo eliminar\n",
      "El archivo data/image/cropped/6_butterfly_covid_prc_convex_frame142.jpg no existe, por lo tanto no se pudo eliminar\n",
      "El archivo data/image/cropped/6_butterfly_covid_prc_convex_frame143.jpg no existe, por lo tanto no se pudo eliminar\n",
      "El archivo data/image/cropped/6_butterfly_covid_prc_convex_frame144.jpg no existe, por lo tanto no se pudo eliminar\n",
      "El archivo data/image/cropped/6_butterfly_covid_prc_convex_frame145.jpg no existe, por lo tanto no se pudo eliminar\n",
      "El archivo data/image/cropped/6_butterfly_covid_prc_convex_frame146.jpg no existe, por lo tanto no se pudo eliminar\n",
      "El archivo data/image/cropped/6_butterfly_covid_prc_convex_frame147.jpg no existe, por lo tanto no se pudo eliminar\n",
      "El archivo data/image/cropped/6_butterfly_covid_prc_convex_frame148.jpg no existe, por lo tanto no se pudo eliminar\n",
      "El archivo data/image/cropped/6_butterfly_covid_prc_convex_frame149.jpg no existe, por lo tanto no se pudo eliminar\n",
      "El archivo data/image/cropped/6_butterfly_covid_prc_convex_frame150.jpg no existe, por lo tanto no se pudo eliminar\n",
      "El archivo data/image/cropped/6_butterfly_covid_prc_convex_frame151.jpg no existe, por lo tanto no se pudo eliminar\n",
      "El archivo data/image/cropped/6_butterfly_covid_prc_convex_frame152.jpg no existe, por lo tanto no se pudo eliminar\n",
      "El archivo data/image/cropped/6_butterfly_covid_prc_convex_frame153.jpg no existe, por lo tanto no se pudo eliminar\n",
      "El archivo data/image/cropped/6_butterfly_covid_prc_convex_frame154.jpg no existe, por lo tanto no se pudo eliminar\n",
      "El archivo data/image/cropped/6_butterfly_covid_prc_convex_frame155.jpg no existe, por lo tanto no se pudo eliminar\n",
      "El archivo data/image/cropped/6_butterfly_covid_prc_convex_frame156.jpg no existe, por lo tanto no se pudo eliminar\n",
      "El archivo data/image/cropped/6_butterfly_covid_prc_convex_frame157.jpg no existe, por lo tanto no se pudo eliminar\n",
      "El archivo data/image/cropped/6_butterfly_covid_prc_convex_frame158.jpg no existe, por lo tanto no se pudo eliminar\n",
      "El archivo data/image/cropped/6_butterfly_covid_prc_convex_frame159.jpg no existe, por lo tanto no se pudo eliminar\n",
      "El archivo data/image/cropped/6_butterfly_covid_prc_convex_frame160.jpg no existe, por lo tanto no se pudo eliminar\n",
      "El archivo data/image/cropped/6_butterfly_covid_prc_convex_frame161.jpg no existe, por lo tanto no se pudo eliminar\n",
      "El archivo data/image/cropped/6_butterfly_covid_prc_convex_frame162.jpg no existe, por lo tanto no se pudo eliminar\n",
      "El archivo data/image/cropped/6_butterfly_covid_prc_convex_frame163.jpg no existe, por lo tanto no se pudo eliminar\n",
      "El archivo data/image/cropped/6_butterfly_covid_prc_convex_frame164.jpg no existe, por lo tanto no se pudo eliminar\n",
      "El archivo data/image/cropped/6_butterfly_covid_prc_convex_frame165.jpg no existe, por lo tanto no se pudo eliminar\n",
      "El archivo data/image/cropped/6_butterfly_covid_prc_convex_frame166.jpg no existe, por lo tanto no se pudo eliminar\n",
      "El archivo data/image/cropped/6_butterfly_covid_prc_convex_frame167.jpg no existe, por lo tanto no se pudo eliminar\n",
      "El archivo data/image/cropped/6_butterfly_covid_prc_convex_frame168.jpg no existe, por lo tanto no se pudo eliminar\n",
      "El archivo data/image/cropped/6_butterfly_covid_prc_convex_frame169.jpg no existe, por lo tanto no se pudo eliminar\n",
      "El archivo data/image/cropped/6_butterfly_covid_prc_convex_frame170.jpg no existe, por lo tanto no se pudo eliminar\n",
      "El archivo data/image/cropped/6_butterfly_covid_prc_convex_frame171.jpg no existe, por lo tanto no se pudo eliminar\n",
      "El archivo data/image/cropped/6_butterfly_covid_prc_convex_frame172.jpg no existe, por lo tanto no se pudo eliminar\n",
      "El archivo data/image/cropped/6_butterfly_covid_prc_convex_frame173.jpg no existe, por lo tanto no se pudo eliminar\n",
      "El archivo data/image/cropped/6_butterfly_covid_prc_convex_frame174.jpg no existe, por lo tanto no se pudo eliminar\n",
      "El archivo data/image/cropped/6_butterfly_covid_prc_convex_frame175.jpg no existe, por lo tanto no se pudo eliminar\n",
      "El archivo data/image/cropped/6_butterfly_covid_prc_convex_frame176.jpg no existe, por lo tanto no se pudo eliminar\n",
      "El archivo data/image/cropped/6_butterfly_covid_prc_convex_frame177.jpg no existe, por lo tanto no se pudo eliminar\n",
      "El archivo data/image/cropped/6_butterfly_covid_prc_convex_frame178.jpg no existe, por lo tanto no se pudo eliminar\n",
      "El archivo data/image/cropped/6_butterfly_covid_prc_convex_frame179.jpg no existe, por lo tanto no se pudo eliminar\n",
      "El archivo data/image/cropped/6_butterfly_covid_prc_convex_frame180.jpg no existe, por lo tanto no se pudo eliminar\n",
      "El archivo data/image/cropped/6_butterfly_covid_prc_convex_frame181.jpg no existe, por lo tanto no se pudo eliminar\n",
      "El archivo data/image/cropped/6_butterfly_covid_prc_convex_frame182.jpg no existe, por lo tanto no se pudo eliminar\n",
      "El archivo data/image/cropped/6_butterfly_covid_prc_convex_frame183.jpg no existe, por lo tanto no se pudo eliminar\n",
      "El archivo data/image/cropped/6_butterfly_covid_prc_convex_frame184.jpg no existe, por lo tanto no se pudo eliminar\n",
      "El archivo data/image/cropped/6_butterfly_covid_prc_convex_frame185.jpg no existe, por lo tanto no se pudo eliminar\n",
      "El archivo data/image/cropped/6_butterfly_covid_prc_convex_frame186.jpg no existe, por lo tanto no se pudo eliminar\n",
      "El archivo data/image/cropped/6_butterfly_covid_prc_convex_frame187.jpg no existe, por lo tanto no se pudo eliminar\n",
      "El archivo data/image/cropped/6_butterfly_covid_prc_convex_frame188.jpg no existe, por lo tanto no se pudo eliminar\n",
      "El archivo data/image/cropped/6_butterfly_covid_prc_convex_frame189.jpg no existe, por lo tanto no se pudo eliminar\n",
      "El archivo data/image/cropped/6_butterfly_covid_prc_convex_frame190.jpg no existe, por lo tanto no se pudo eliminar\n",
      "El archivo data/image/cropped/6_butterfly_covid_prc_convex_frame191.jpg no existe, por lo tanto no se pudo eliminar\n",
      "El archivo data/image/cropped/6_butterfly_covid_prc_convex_frame192.jpg no existe, por lo tanto no se pudo eliminar\n",
      "El archivo data/image/cropped/6_butterfly_covid_prc_convex_frame193.jpg no existe, por lo tanto no se pudo eliminar\n",
      "El archivo data/image/cropped/6_butterfly_covid_prc_convex_frame194.jpg no existe, por lo tanto no se pudo eliminar\n",
      "El archivo data/image/cropped/6_butterfly_covid_prc_convex_frame195.jpg no existe, por lo tanto no se pudo eliminar\n",
      "El archivo data/image/cropped/6_butterfly_covid_prc_convex_frame196.jpg no existe, por lo tanto no se pudo eliminar\n",
      "El archivo data/image/cropped/6_butterfly_covid_prc_convex_frame197.jpg no existe, por lo tanto no se pudo eliminar\n",
      "El archivo data/image/cropped/6_butterfly_covid_prc_convex_frame198.jpg no existe, por lo tanto no se pudo eliminar\n",
      "El archivo data/image/cropped/6_butterfly_covid_prc_convex_frame199.jpg no existe, por lo tanto no se pudo eliminar\n",
      "El archivo data/image/cropped/6_butterfly_covid_prc_convex_frame200.jpg no existe, por lo tanto no se pudo eliminar\n",
      "El archivo data/image/cropped/6_butterfly_covid_prc_convex_frame201.jpg no existe, por lo tanto no se pudo eliminar\n",
      "El archivo data/image/cropped/6_butterfly_covid_prc_convex_frame202.jpg no existe, por lo tanto no se pudo eliminar\n",
      "El archivo data/image/cropped/6_butterfly_covid_prc_convex_frame203.jpg no existe, por lo tanto no se pudo eliminar\n",
      "El archivo data/image/cropped/6_butterfly_covid_prc_convex_frame204.jpg no existe, por lo tanto no se pudo eliminar\n",
      "El archivo data/image/cropped/6_butterfly_covid_prc_convex_frame205.jpg no existe, por lo tanto no se pudo eliminar\n",
      "El archivo data/image/cropped/6_butterfly_covid_prc_convex_frame206.jpg no existe, por lo tanto no se pudo eliminar\n",
      "El archivo data/image/cropped/6_butterfly_covid_prc_convex_frame207.jpg no existe, por lo tanto no se pudo eliminar\n",
      "El archivo data/image/cropped/6_butterfly_covid_prc_convex_frame208.jpg no existe, por lo tanto no se pudo eliminar\n",
      "El archivo data/image/cropped/6_butterfly_covid_prc_convex_frame209.jpg no existe, por lo tanto no se pudo eliminar\n",
      "El archivo data/image/cropped/6_butterfly_covid_prc_convex_frame210.jpg no existe, por lo tanto no se pudo eliminar\n",
      "El archivo data/image/cropped/6_butterfly_covid_prc_convex_frame211.jpg no existe, por lo tanto no se pudo eliminar\n",
      "El archivo data/image/cropped/6_butterfly_covid_prc_convex_frame212.jpg no existe, por lo tanto no se pudo eliminar\n",
      "El archivo data/image/cropped/6_butterfly_covid_prc_convex_frame213.jpg no existe, por lo tanto no se pudo eliminar\n",
      "El archivo data/image/cropped/6_butterfly_covid_prc_convex_frame214.jpg no existe, por lo tanto no se pudo eliminar\n",
      "El archivo data/image/cropped/6_butterfly_covid_prc_convex_frame215.jpg no existe, por lo tanto no se pudo eliminar\n",
      "El archivo data/image/cropped/6_butterfly_covid_prc_convex_frame216.jpg no existe, por lo tanto no se pudo eliminar\n",
      "El archivo data/image/cropped/6_butterfly_covid_prc_convex_frame217.jpg no existe, por lo tanto no se pudo eliminar\n",
      "El archivo data/image/cropped/6_butterfly_covid_prc_convex_frame218.jpg no existe, por lo tanto no se pudo eliminar\n",
      "El archivo data/image/cropped/6_butterfly_covid_prc_convex_frame219.jpg no existe, por lo tanto no se pudo eliminar\n",
      "El archivo data/image/cropped/6_butterfly_covid_prc_convex_frame220.jpg no existe, por lo tanto no se pudo eliminar\n",
      "El archivo data/image/cropped/6_butterfly_covid_prc_convex_frame221.jpg no existe, por lo tanto no se pudo eliminar\n",
      "El archivo data/image/cropped/6_butterfly_covid_prc_convex_frame222.jpg no existe, por lo tanto no se pudo eliminar\n",
      "El archivo data/image/cropped/6_butterfly_covid_prc_convex_frame223.jpg no existe, por lo tanto no se pudo eliminar\n",
      "El archivo data/image/cropped/6_butterfly_covid_prc_convex_frame224.jpg no existe, por lo tanto no se pudo eliminar\n",
      "El archivo data/image/cropped/6_butterfly_covid_prc_convex_frame225.jpg no existe, por lo tanto no se pudo eliminar\n",
      "El archivo data/image/cropped/6_butterfly_covid_prc_convex_frame226.jpg no existe, por lo tanto no se pudo eliminar\n",
      "El archivo data/image/cropped/6_butterfly_covid_prc_convex_frame227.jpg no existe, por lo tanto no se pudo eliminar\n",
      "El archivo data/image/cropped/6_butterfly_covid_prc_convex_frame228.jpg no existe, por lo tanto no se pudo eliminar\n",
      "El archivo data/image/cropped/6_butterfly_covid_prc_convex_frame229.jpg no existe, por lo tanto no se pudo eliminar\n",
      "El archivo data/image/cropped/6_butterfly_covid_prc_convex_frame230.jpg no existe, por lo tanto no se pudo eliminar\n",
      "El archivo data/image/cropped/6_butterfly_covid_prc_convex_frame231.jpg no existe, por lo tanto no se pudo eliminar\n",
      "El archivo data/image/cropped/6_butterfly_covid_prc_convex_frame232.jpg no existe, por lo tanto no se pudo eliminar\n",
      "El archivo data/image/cropped/6_butterfly_covid_prc_convex_frame233.jpg no existe, por lo tanto no se pudo eliminar\n",
      "El archivo data/image/cropped/6_butterfly_covid_prc_convex_frame234.jpg no existe, por lo tanto no se pudo eliminar\n",
      "El archivo data/image/cropped/6_butterfly_covid_prc_convex_frame235.jpg no existe, por lo tanto no se pudo eliminar\n",
      "El archivo data/image/cropped/6_butterfly_covid_prc_convex_frame236.jpg no existe, por lo tanto no se pudo eliminar\n",
      "El archivo data/image/cropped/6_butterfly_covid_prc_convex_frame237.jpg no existe, por lo tanto no se pudo eliminar\n",
      "El archivo data/image/cropped/6_butterfly_covid_prc_convex_frame238.jpg no existe, por lo tanto no se pudo eliminar\n",
      "El archivo data/image/cropped/6_butterfly_covid_prc_convex_frame239.jpg no existe, por lo tanto no se pudo eliminar\n",
      "El archivo data/image/cropped/6_butterfly_covid_prc_convex_frame240.jpg no existe, por lo tanto no se pudo eliminar\n",
      "El archivo data/image/cropped/6_butterfly_covid_prc_convex_frame241.jpg no existe, por lo tanto no se pudo eliminar\n",
      "El archivo data/image/cropped/6_butterfly_covid_prc_convex_frame242.jpg no existe, por lo tanto no se pudo eliminar\n",
      "El archivo data/image/cropped/6_butterfly_covid_prc_convex_frame243.jpg no existe, por lo tanto no se pudo eliminar\n",
      "El archivo data/image/cropped/6_butterfly_covid_prc_convex_frame244.jpg no existe, por lo tanto no se pudo eliminar\n",
      "El archivo data/image/cropped/6_butterfly_covid_prc_convex_frame245.jpg no existe, por lo tanto no se pudo eliminar\n",
      "El archivo data/image/cropped/6_butterfly_covid_prc_convex_frame246.jpg no existe, por lo tanto no se pudo eliminar\n",
      "El archivo data/image/cropped/6_butterfly_covid_prc_convex_frame247.jpg no existe, por lo tanto no se pudo eliminar\n",
      "El archivo data/image/cropped/6_butterfly_covid_prc_convex_frame248.jpg no existe, por lo tanto no se pudo eliminar\n",
      "El archivo data/image/cropped/6_butterfly_covid_prc_convex_frame249.jpg no existe, por lo tanto no se pudo eliminar\n",
      "El archivo data/image/cropped/6_butterfly_covid_prc_convex_frame250.jpg no existe, por lo tanto no se pudo eliminar\n",
      "El archivo data/image/cropped/6_butterfly_covid_prc_convex_frame251.jpg no existe, por lo tanto no se pudo eliminar\n",
      "El archivo data/image/cropped/6_butterfly_covid_prc_convex_frame252.jpg no existe, por lo tanto no se pudo eliminar\n",
      "El archivo data/image/cropped/6_butterfly_covid_prc_convex_frame253.jpg no existe, por lo tanto no se pudo eliminar\n",
      "El archivo data/image/cropped/6_butterfly_covid_prc_convex_frame254.jpg no existe, por lo tanto no se pudo eliminar\n",
      "El archivo data/image/cropped/6_butterfly_covid_prc_convex_frame255.jpg no existe, por lo tanto no se pudo eliminar\n",
      "El archivo data/image/cropped/6_butterfly_covid_prc_convex_frame256.jpg no existe, por lo tanto no se pudo eliminar\n",
      "El archivo data/image/cropped/6_butterfly_covid_prc_convex_frame257.jpg no existe, por lo tanto no se pudo eliminar\n",
      "El archivo data/image/cropped/6_butterfly_covid_prc_convex_frame258.jpg no existe, por lo tanto no se pudo eliminar\n",
      "El archivo data/image/cropped/6_butterfly_covid_prc_convex_frame259.jpg no existe, por lo tanto no se pudo eliminar\n",
      "El archivo data/image/cropped/6_butterfly_covid_prc_convex_frame260.jpg no existe, por lo tanto no se pudo eliminar\n",
      "El archivo data/image/cropped/6_butterfly_covid_prc_convex_frame261.jpg no existe, por lo tanto no se pudo eliminar\n",
      "El archivo data/image/cropped/6_butterfly_covid_prc_convex_frame262.jpg no existe, por lo tanto no se pudo eliminar\n",
      "El archivo data/image/cropped/6_butterfly_covid_prc_convex_frame263.jpg no existe, por lo tanto no se pudo eliminar\n",
      "El archivo data/image/cropped/6_butterfly_covid_prc_convex_frame264.jpg no existe, por lo tanto no se pudo eliminar\n",
      "El archivo data/image/cropped/6_butterfly_covid_prc_convex_frame265.jpg no existe, por lo tanto no se pudo eliminar\n",
      "El archivo data/image/cropped/6_butterfly_covid_prc_convex_frame266.jpg no existe, por lo tanto no se pudo eliminar\n",
      "El archivo data/image/cropped/6_butterfly_covid_prc_convex_frame267.jpg no existe, por lo tanto no se pudo eliminar\n",
      "El archivo data/image/cropped/6_butterfly_covid_prc_convex_frame268.jpg no existe, por lo tanto no se pudo eliminar\n",
      "El archivo data/image/cropped/6_butterfly_covid_prc_convex_frame269.jpg no existe, por lo tanto no se pudo eliminar\n",
      "El archivo data/image/cropped/6_butterfly_covid_prc_convex_frame270.jpg no existe, por lo tanto no se pudo eliminar\n",
      "El archivo data/image/cropped/6_butterfly_covid_prc_convex_frame271.jpg no existe, por lo tanto no se pudo eliminar\n",
      "El archivo data/image/cropped/6_butterfly_covid_prc_convex_frame272.jpg no existe, por lo tanto no se pudo eliminar\n",
      "El archivo data/image/cropped/6_butterfly_covid_prc_convex_frame273.jpg no existe, por lo tanto no se pudo eliminar\n",
      "El archivo data/image/cropped/6_butterfly_covid_prc_convex_frame274.jpg no existe, por lo tanto no se pudo eliminar\n",
      "El archivo data/image/cropped/6_butterfly_covid_prc_convex_frame275.jpg no existe, por lo tanto no se pudo eliminar\n",
      "El archivo data/image/cropped/6_butterfly_covid_prc_convex_frame276.jpg no existe, por lo tanto no se pudo eliminar\n",
      "El archivo data/image/cropped/6_butterfly_covid_prc_convex_frame277.jpg no existe, por lo tanto no se pudo eliminar\n",
      "El archivo data/image/cropped/6_butterfly_covid_prc_convex_frame278.jpg no existe, por lo tanto no se pudo eliminar\n",
      "El archivo data/image/cropped/6_butterfly_covid_prc_convex_frame279.jpg no existe, por lo tanto no se pudo eliminar\n",
      "El archivo data/image/cropped/6_butterfly_covid_prc_convex_frame280.jpg no existe, por lo tanto no se pudo eliminar\n",
      "El archivo data/image/cropped/6_butterfly_covid_prc_convex_frame281.jpg no existe, por lo tanto no se pudo eliminar\n",
      "El archivo data/image/cropped/6_butterfly_covid_prc_convex_frame282.jpg no existe, por lo tanto no se pudo eliminar\n",
      "El archivo data/image/cropped/6_butterfly_covid_prc_convex_frame283.jpg no existe, por lo tanto no se pudo eliminar\n",
      "El archivo data/image/cropped/6_butterfly_covid_prc_convex_frame284.jpg no existe, por lo tanto no se pudo eliminar\n",
      "El archivo data/image/cropped/6_butterfly_covid_prc_convex_frame285.jpg no existe, por lo tanto no se pudo eliminar\n",
      "El archivo data/image/cropped/6_butterfly_covid_prc_convex_frame286.jpg no existe, por lo tanto no se pudo eliminar\n",
      "El archivo data/image/cropped/6_butterfly_covid_prc_convex_frame287.jpg no existe, por lo tanto no se pudo eliminar\n",
      "El archivo data/image/cropped/6_butterfly_covid_prc_convex_frame288.jpg no existe, por lo tanto no se pudo eliminar\n",
      "El archivo data/image/cropped/6_butterfly_covid_prc_convex_frame289.jpg no existe, por lo tanto no se pudo eliminar\n",
      "El archivo data/image/cropped/6_butterfly_covid_prc_convex_frame290.jpg no existe, por lo tanto no se pudo eliminar\n",
      "El archivo data/image/cropped/6_butterfly_covid_prc_convex_frame291.jpg no existe, por lo tanto no se pudo eliminar\n",
      "El archivo data/image/cropped/6_butterfly_covid_prc_convex_frame292.jpg no existe, por lo tanto no se pudo eliminar\n",
      "El archivo data/image/cropped/6_butterfly_covid_prc_convex_frame293.jpg no existe, por lo tanto no se pudo eliminar\n",
      "El archivo data/image/cropped/6_butterfly_covid_prc_convex_frame294.jpg no existe, por lo tanto no se pudo eliminar\n",
      "El archivo data/image/cropped/6_butterfly_covid_prc_convex_frame295.jpg no existe, por lo tanto no se pudo eliminar\n",
      "El archivo data/image/cropped/6_butterfly_covid_prc_convex_frame296.jpg no existe, por lo tanto no se pudo eliminar\n",
      "El archivo data/image/cropped/6_butterfly_covid_prc_convex_frame297.jpg no existe, por lo tanto no se pudo eliminar\n",
      "El archivo data/image/cropped/6_butterfly_covid_prc_convex_frame298.jpg no existe, por lo tanto no se pudo eliminar\n",
      "El archivo data/image/cropped/6_butterfly_covid_prc_convex_frame299.jpg no existe, por lo tanto no se pudo eliminar\n",
      "El archivo data/image/cropped/6_butterfly_covid_prc_convex_frame300.jpg no existe, por lo tanto no se pudo eliminar\n",
      "El archivo data/image/cropped/6_butterfly_covid_prc_convex_frame301.jpg no existe, por lo tanto no se pudo eliminar\n",
      "El archivo data/image/cropped/6_butterfly_covid_prc_convex_frame302.jpg no existe, por lo tanto no se pudo eliminar\n",
      "El archivo data/image/cropped/6_butterfly_covid_prc_convex_frame303.jpg no existe, por lo tanto no se pudo eliminar\n",
      "El archivo data/image/cropped/6_butterfly_covid_prc_convex_frame304.jpg no existe, por lo tanto no se pudo eliminar\n",
      "El archivo data/image/cropped/6_butterfly_covid_prc_convex_frame305.jpg no existe, por lo tanto no se pudo eliminar\n",
      "El archivo data/image/cropped/6_butterfly_covid_prc_convex_frame306.jpg no existe, por lo tanto no se pudo eliminar\n",
      "El archivo data/image/cropped/6_butterfly_covid_prc_convex_frame307.jpg no existe, por lo tanto no se pudo eliminar\n",
      "El archivo data/image/cropped/6_butterfly_covid_prc_convex_frame308.jpg no existe, por lo tanto no se pudo eliminar\n",
      "El archivo data/image/cropped/6_butterfly_covid_prc_convex_frame309.jpg no existe, por lo tanto no se pudo eliminar\n",
      "El archivo data/image/cropped/6_butterfly_covid_prc_convex_frame310.jpg no existe, por lo tanto no se pudo eliminar\n",
      "El archivo data/image/cropped/6_butterfly_covid_prc_convex_frame311.jpg no existe, por lo tanto no se pudo eliminar\n",
      "El archivo data/image/cropped/6_butterfly_covid_prc_convex_frame312.jpg no existe, por lo tanto no se pudo eliminar\n",
      "El archivo data/image/cropped/6_butterfly_covid_prc_convex_frame313.jpg no existe, por lo tanto no se pudo eliminar\n",
      "El archivo data/image/cropped/6_butterfly_covid_prc_convex_frame314.jpg no existe, por lo tanto no se pudo eliminar\n",
      "El archivo data/image/cropped/6_butterfly_covid_prc_convex_frame315.jpg no existe, por lo tanto no se pudo eliminar\n",
      "El archivo data/image/cropped/6_butterfly_covid_prc_convex_frame316.jpg no existe, por lo tanto no se pudo eliminar\n",
      "El archivo data/image/cropped/6_butterfly_covid_prc_convex_frame317.jpg no existe, por lo tanto no se pudo eliminar\n",
      "El archivo data/image/cropped/6_butterfly_covid_prc_convex_frame318.jpg no existe, por lo tanto no se pudo eliminar\n",
      "El archivo data/image/cropped/6_butterfly_covid_prc_convex_frame319.jpg no existe, por lo tanto no se pudo eliminar\n",
      "El archivo data/image/cropped/6_butterfly_covid_prc_convex_frame320.jpg no existe, por lo tanto no se pudo eliminar\n",
      "El archivo data/image/cropped/6_butterfly_covid_prc_convex_frame321.jpg no existe, por lo tanto no se pudo eliminar\n",
      "El archivo data/image/cropped/6_butterfly_covid_prc_convex_frame322.jpg no existe, por lo tanto no se pudo eliminar\n",
      "El archivo data/image/cropped/6_butterfly_covid_prc_convex_frame323.jpg no existe, por lo tanto no se pudo eliminar\n",
      "El archivo data/image/cropped/6_butterfly_covid_prc_convex_frame324.jpg no existe, por lo tanto no se pudo eliminar\n",
      "El archivo data/image/cropped/6_butterfly_covid_prc_convex_frame325.jpg no existe, por lo tanto no se pudo eliminar\n",
      "El archivo data/image/cropped/6_butterfly_covid_prc_convex_frame326.jpg no existe, por lo tanto no se pudo eliminar\n",
      "El archivo data/image/cropped/6_butterfly_covid_prc_convex_frame327.jpg no existe, por lo tanto no se pudo eliminar\n",
      "El archivo data/image/cropped/6_butterfly_covid_prc_convex_frame328.jpg no existe, por lo tanto no se pudo eliminar\n",
      "El archivo data/image/cropped/6_butterfly_covid_prc_convex_frame329.jpg no existe, por lo tanto no se pudo eliminar\n",
      "El archivo data/image/cropped/6_butterfly_covid_prc_convex_frame330.jpg no existe, por lo tanto no se pudo eliminar\n",
      "El archivo data/image/cropped/6_butterfly_covid_prc_convex_frame331.jpg no existe, por lo tanto no se pudo eliminar\n",
      "El archivo data/image/cropped/6_butterfly_covid_prc_convex_frame332.jpg no existe, por lo tanto no se pudo eliminar\n",
      "El archivo data/image/cropped/6_butterfly_covid_prc_convex_frame333.jpg no existe, por lo tanto no se pudo eliminar\n",
      "El archivo data/image/cropped/6_butterfly_covid_prc_convex_frame334.jpg no existe, por lo tanto no se pudo eliminar\n",
      "El archivo data/image/cropped/6_butterfly_covid_prc_convex_frame335.jpg no existe, por lo tanto no se pudo eliminar\n",
      "El archivo data/image/cropped/6_butterfly_covid_prc_convex_frame336.jpg no existe, por lo tanto no se pudo eliminar\n",
      "El archivo data/image/cropped/6_butterfly_covid_prc_convex_frame337.jpg no existe, por lo tanto no se pudo eliminar\n",
      "El archivo data/image/cropped/6_butterfly_covid_prc_convex_frame338.jpg no existe, por lo tanto no se pudo eliminar\n",
      "El archivo data/image/cropped/6_butterfly_covid_prc_convex_frame339.jpg no existe, por lo tanto no se pudo eliminar\n",
      "El archivo data/image/cropped/6_butterfly_covid_prc_convex_frame340.jpg no existe, por lo tanto no se pudo eliminar\n",
      "El archivo data/image/cropped/6_butterfly_covid_prc_convex_frame341.jpg no existe, por lo tanto no se pudo eliminar\n",
      "El archivo data/image/cropped/6_butterfly_covid_prc_convex_frame342.jpg no existe, por lo tanto no se pudo eliminar\n",
      "El archivo data/image/cropped/6_butterfly_covid_prc_convex_frame343.jpg no existe, por lo tanto no se pudo eliminar\n",
      "El archivo data/image/cropped/6_butterfly_covid_prc_convex_frame344.jpg no existe, por lo tanto no se pudo eliminar\n",
      "El archivo data/image/cropped/6_butterfly_covid_prc_convex_frame345.jpg no existe, por lo tanto no se pudo eliminar\n",
      "El archivo data/image/cropped/6_butterfly_covid_prc_convex_frame346.jpg no existe, por lo tanto no se pudo eliminar\n",
      "El archivo data/image/cropped/6_butterfly_covid_prc_convex_frame347.jpg no existe, por lo tanto no se pudo eliminar\n",
      "El archivo data/image/cropped/6_butterfly_covid_prc_convex_frame348.jpg no existe, por lo tanto no se pudo eliminar\n",
      "El archivo data/image/cropped/6_butterfly_covid_prc_convex_frame349.jpg no existe, por lo tanto no se pudo eliminar\n",
      "El archivo data/image/cropped/6_butterfly_covid_prc_convex_frame350.jpg no existe, por lo tanto no se pudo eliminar\n",
      "El archivo data/image/cropped/6_butterfly_covid_prc_convex_frame351.jpg no existe, por lo tanto no se pudo eliminar\n",
      "El archivo data/image/cropped/6_butterfly_covid_prc_convex_frame352.jpg no existe, por lo tanto no se pudo eliminar\n",
      "El archivo data/image/cropped/6_butterfly_covid_prc_convex_frame353.jpg no existe, por lo tanto no se pudo eliminar\n",
      "El archivo data/image/cropped/6_butterfly_covid_prc_convex_frame354.jpg no existe, por lo tanto no se pudo eliminar\n",
      "El archivo data/image/cropped/6_butterfly_covid_prc_convex_frame355.jpg no existe, por lo tanto no se pudo eliminar\n",
      "El archivo data/image/cropped/6_butterfly_covid_prc_convex_frame356.jpg no existe, por lo tanto no se pudo eliminar\n",
      "El archivo data/image/cropped/6_butterfly_covid_prc_convex_frame357.jpg no existe, por lo tanto no se pudo eliminar\n",
      "El archivo data/image/cropped/6_butterfly_covid_prc_convex_frame358.jpg no existe, por lo tanto no se pudo eliminar\n",
      "El archivo data/image/cropped/6_butterfly_covid_prc_convex_frame359.jpg no existe, por lo tanto no se pudo eliminar\n",
      "El archivo data/image/cropped/6_butterfly_covid_prc_convex_frame360.jpg no existe, por lo tanto no se pudo eliminar\n",
      "El archivo data/image/cropped/6_butterfly_covid_prc_convex_frame361.jpg no existe, por lo tanto no se pudo eliminar\n",
      "El archivo data/image/cropped/6_butterfly_covid_prc_convex_frame362.jpg no existe, por lo tanto no se pudo eliminar\n",
      "El archivo data/image/cropped/6_butterfly_covid_prc_convex_frame363.jpg no existe, por lo tanto no se pudo eliminar\n",
      "El archivo data/image/cropped/6_butterfly_covid_prc_convex_frame364.jpg no existe, por lo tanto no se pudo eliminar\n",
      "El archivo data/image/cropped/6_butterfly_covid_prc_convex_frame365.jpg no existe, por lo tanto no se pudo eliminar\n",
      "El archivo data/image/cropped/6_butterfly_covid_prc_convex_frame366.jpg no existe, por lo tanto no se pudo eliminar\n",
      "El archivo data/image/cropped/6_butterfly_covid_prc_convex_frame367.jpg no existe, por lo tanto no se pudo eliminar\n",
      "El archivo data/image/cropped/6_butterfly_covid_prc_convex_frame368.jpg no existe, por lo tanto no se pudo eliminar\n",
      "El archivo data/image/cropped/6_butterfly_covid_prc_convex_frame369.jpg no existe, por lo tanto no se pudo eliminar\n",
      "El archivo data/image/cropped/6_butterfly_covid_prc_convex_frame370.jpg no existe, por lo tanto no se pudo eliminar\n",
      "El archivo data/image/cropped/6_butterfly_covid_prc_convex_frame371.jpg no existe, por lo tanto no se pudo eliminar\n",
      "El archivo data/image/cropped/6_butterfly_covid_prc_convex_frame372.jpg no existe, por lo tanto no se pudo eliminar\n",
      "El archivo data/image/cropped/6_butterfly_covid_prc_convex_frame373.jpg no existe, por lo tanto no se pudo eliminar\n",
      "El archivo data/image/cropped/6_butterfly_covid_prc_convex_frame374.jpg no existe, por lo tanto no se pudo eliminar\n",
      "El archivo data/image/cropped/6_butterfly_covid_prc_convex_frame375.jpg no existe, por lo tanto no se pudo eliminar\n",
      "El archivo data/image/cropped/6_butterfly_covid_prc_convex_frame376.jpg no existe, por lo tanto no se pudo eliminar\n",
      "El archivo data/image/cropped/6_butterfly_covid_prc_convex_frame377.jpg no existe, por lo tanto no se pudo eliminar\n",
      "El archivo data/image/cropped/6_butterfly_covid_prc_convex_frame378.jpg no existe, por lo tanto no se pudo eliminar\n",
      "El archivo data/image/cropped/6_butterfly_covid_prc_convex_frame379.jpg no existe, por lo tanto no se pudo eliminar\n",
      "El archivo data/image/cropped/6_butterfly_covid_prc_convex_frame380.jpg no existe, por lo tanto no se pudo eliminar\n",
      "El archivo data/image/cropped/6_butterfly_covid_prc_convex_frame381.jpg no existe, por lo tanto no se pudo eliminar\n",
      "El archivo data/image/cropped/6_butterfly_covid_prc_convex_frame382.jpg no existe, por lo tanto no se pudo eliminar\n",
      "El archivo data/image/cropped/6_butterfly_covid_prc_convex_frame383.jpg no existe, por lo tanto no se pudo eliminar\n",
      "El archivo data/image/cropped/6_butterfly_covid_prc_convex_frame384.jpg no existe, por lo tanto no se pudo eliminar\n",
      "El archivo data/image/cropped/6_butterfly_covid_prc_convex_frame385.jpg no existe, por lo tanto no se pudo eliminar\n",
      "El archivo data/image/cropped/6_butterfly_covid_prc_convex_frame386.jpg no existe, por lo tanto no se pudo eliminar\n",
      "El archivo data/image/cropped/6_butterfly_covid_prc_convex_frame387.jpg no existe, por lo tanto no se pudo eliminar\n",
      "El archivo data/image/cropped/6_butterfly_covid_prc_convex_frame388.jpg no existe, por lo tanto no se pudo eliminar\n",
      "El archivo data/image/cropped/6_butterfly_covid_prc_convex_frame389.jpg no existe, por lo tanto no se pudo eliminar\n",
      "El archivo data/image/cropped/6_butterfly_covid_prc_convex_frame390.jpg no existe, por lo tanto no se pudo eliminar\n",
      "El archivo data/image/cropped/6_butterfly_covid_prc_convex_frame391.jpg no existe, por lo tanto no se pudo eliminar\n",
      "El archivo data/image/cropped/6_butterfly_covid_prc_convex_frame392.jpg no existe, por lo tanto no se pudo eliminar\n",
      "El archivo data/image/cropped/6_butterfly_covid_prc_convex_frame393.jpg no existe, por lo tanto no se pudo eliminar\n",
      "El archivo data/image/cropped/6_butterfly_covid_prc_convex_frame394.jpg no existe, por lo tanto no se pudo eliminar\n",
      "El archivo data/image/cropped/6_butterfly_covid_prc_convex_frame395.jpg no existe, por lo tanto no se pudo eliminar\n",
      "El archivo data/image/cropped/6_butterfly_covid_prc_convex_frame396.jpg no existe, por lo tanto no se pudo eliminar\n",
      "El archivo data/image/cropped/6_butterfly_covid_prc_convex_frame397.jpg no existe, por lo tanto no se pudo eliminar\n",
      "El archivo data/image/cropped/6_butterfly_covid_prc_convex_frame398.jpg no existe, por lo tanto no se pudo eliminar\n",
      "El archivo data/image/cropped/6_butterfly_covid_prc_convex_frame399.jpg no existe, por lo tanto no se pudo eliminar\n",
      "El archivo data/image/cropped/6_butterfly_covid_prc_convex_frame400.jpg no existe, por lo tanto no se pudo eliminar\n",
      "El archivo data/image/cropped/6_butterfly_covid_prc_convex_frame401.jpg no existe, por lo tanto no se pudo eliminar\n",
      "El archivo data/image/cropped/6_butterfly_covid_prc_convex_frame402.jpg no existe, por lo tanto no se pudo eliminar\n",
      "El archivo data/image/cropped/6_butterfly_covid_prc_convex_frame403.jpg no existe, por lo tanto no se pudo eliminar\n",
      "El archivo data/image/cropped/6_butterfly_covid_prc_convex_frame404.jpg no existe, por lo tanto no se pudo eliminar\n",
      "El archivo data/image/cropped/6_butterfly_covid_prc_convex_frame405.jpg no existe, por lo tanto no se pudo eliminar\n",
      "El archivo data/image/cropped/6_butterfly_covid_prc_convex_frame406.jpg no existe, por lo tanto no se pudo eliminar\n",
      "El archivo data/image/cropped/6_butterfly_covid_prc_convex_frame407.jpg no existe, por lo tanto no se pudo eliminar\n",
      "El archivo data/image/cropped/6_butterfly_covid_prc_convex_frame408.jpg no existe, por lo tanto no se pudo eliminar\n",
      "El archivo data/image/cropped/6_butterfly_covid_prc_convex_frame409.jpg no existe, por lo tanto no se pudo eliminar\n",
      "El archivo data/image/cropped/6_butterfly_covid_prc_convex_frame410.jpg no existe, por lo tanto no se pudo eliminar\n",
      "El archivo data/image/cropped/6_butterfly_covid_prc_convex_frame411.jpg no existe, por lo tanto no se pudo eliminar\n",
      "El archivo data/image/cropped/6_butterfly_covid_prc_convex_frame412.jpg no existe, por lo tanto no se pudo eliminar\n",
      "El archivo data/image/cropped/6_butterfly_covid_prc_convex_frame413.jpg no existe, por lo tanto no se pudo eliminar\n",
      "El archivo data/image/cropped/6_butterfly_covid_prc_convex_frame414.jpg no existe, por lo tanto no se pudo eliminar\n",
      "El archivo data/image/cropped/6_butterfly_covid_prc_convex_frame415.jpg no existe, por lo tanto no se pudo eliminar\n",
      "El archivo data/image/cropped/6_butterfly_covid_prc_convex_frame416.jpg no existe, por lo tanto no se pudo eliminar\n",
      "El archivo data/image/cropped/6_butterfly_covid_prc_convex_frame417.jpg no existe, por lo tanto no se pudo eliminar\n",
      "El archivo data/image/cropped/6_butterfly_covid_prc_convex_frame418.jpg no existe, por lo tanto no se pudo eliminar\n",
      "El archivo data/image/cropped/6_butterfly_covid_prc_convex_frame419.jpg no existe, por lo tanto no se pudo eliminar\n",
      "El archivo data/image/cropped/6_butterfly_covid_prc_convex_frame420.jpg no existe, por lo tanto no se pudo eliminar\n",
      "El archivo data/image/cropped/6_butterfly_covid_prc_convex_frame421.jpg no existe, por lo tanto no se pudo eliminar\n",
      "El archivo data/image/cropped/6_butterfly_covid_prc_convex_frame422.jpg no existe, por lo tanto no se pudo eliminar\n",
      "El archivo data/image/cropped/6_butterfly_covid_prc_convex_frame423.jpg no existe, por lo tanto no se pudo eliminar\n",
      "El archivo data/image/cropped/6_butterfly_covid_prc_convex_frame424.jpg no existe, por lo tanto no se pudo eliminar\n",
      "El archivo data/image/cropped/6_butterfly_covid_prc_convex_frame425.jpg no existe, por lo tanto no se pudo eliminar\n",
      "El archivo data/image/cropped/6_butterfly_covid_prc_convex_frame426.jpg no existe, por lo tanto no se pudo eliminar\n",
      "El archivo data/image/cropped/6_butterfly_covid_prc_convex_frame427.jpg no existe, por lo tanto no se pudo eliminar\n",
      "El archivo data/image/cropped/6_butterfly_covid_prc_convex_frame428.jpg no existe, por lo tanto no se pudo eliminar\n",
      "El archivo data/image/cropped/6_butterfly_covid_prc_convex_frame429.jpg no existe, por lo tanto no se pudo eliminar\n",
      "El archivo data/image/cropped/6_butterfly_covid_prc_convex_frame430.jpg no existe, por lo tanto no se pudo eliminar\n",
      "El archivo data/image/cropped/6_butterfly_covid_prc_convex_frame431.jpg no existe, por lo tanto no se pudo eliminar\n",
      "El archivo data/image/cropped/6_butterfly_covid_prc_convex_frame432.jpg no existe, por lo tanto no se pudo eliminar\n",
      "El archivo data/image/cropped/6_butterfly_covid_prc_convex_frame433.jpg no existe, por lo tanto no se pudo eliminar\n",
      "El archivo data/image/cropped/6_butterfly_covid_prc_convex_frame434.jpg no existe, por lo tanto no se pudo eliminar\n",
      "El archivo data/image/cropped/6_butterfly_covid_prc_convex_frame435.jpg no existe, por lo tanto no se pudo eliminar\n",
      "El archivo data/image/cropped/6_butterfly_covid_prc_convex_frame436.jpg no existe, por lo tanto no se pudo eliminar\n",
      "El archivo data/image/cropped/6_butterfly_covid_prc_convex_frame437.jpg no existe, por lo tanto no se pudo eliminar\n",
      "El archivo data/image/cropped/6_butterfly_covid_prc_convex_frame438.jpg no existe, por lo tanto no se pudo eliminar\n",
      "El archivo data/image/cropped/6_butterfly_covid_prc_convex_frame439.jpg no existe, por lo tanto no se pudo eliminar\n",
      "El archivo data/image/cropped/6_butterfly_covid_prc_convex_frame440.jpg no existe, por lo tanto no se pudo eliminar\n",
      "El archivo data/image/cropped/6_butterfly_covid_prc_convex_frame441.jpg no existe, por lo tanto no se pudo eliminar\n",
      "El archivo data/image/cropped/6_butterfly_covid_prc_convex_frame442.jpg no existe, por lo tanto no se pudo eliminar\n",
      "El archivo data/image/cropped/6_butterfly_covid_prc_convex_frame443.jpg no existe, por lo tanto no se pudo eliminar\n",
      "El archivo data/image/cropped/6_butterfly_covid_prc_convex_frame444.jpg no existe, por lo tanto no se pudo eliminar\n",
      "El archivo data/image/cropped/6_butterfly_covid_prc_convex_frame445.jpg no existe, por lo tanto no se pudo eliminar\n",
      "El archivo data/image/cropped/6_butterfly_covid_prc_convex_frame446.jpg no existe, por lo tanto no se pudo eliminar\n",
      "El archivo data/image/cropped/6_butterfly_covid_prc_convex_frame447.jpg no existe, por lo tanto no se pudo eliminar\n",
      "El archivo data/image/cropped/6_butterfly_covid_prc_convex_frame448.jpg no existe, por lo tanto no se pudo eliminar\n",
      "El archivo data/image/cropped/6_butterfly_covid_prc_convex_frame449.jpg no existe, por lo tanto no se pudo eliminar\n",
      "El archivo data/image/cropped/6_butterfly_covid_prc_convex_frame450.jpg no existe, por lo tanto no se pudo eliminar\n",
      "El archivo data/image/cropped/6_butterfly_covid_prc_convex_frame451.jpg no existe, por lo tanto no se pudo eliminar\n",
      "El archivo data/image/cropped/6_butterfly_covid_prc_convex_frame452.jpg no existe, por lo tanto no se pudo eliminar\n",
      "El archivo data/image/cropped/6_butterfly_covid_prc_convex_frame453.jpg no existe, por lo tanto no se pudo eliminar\n",
      "El archivo data/image/cropped/6_butterfly_covid_prc_convex_frame454.jpg no existe, por lo tanto no se pudo eliminar\n",
      "El archivo data/image/cropped/6_butterfly_covid_prc_convex_frame455.jpg no existe, por lo tanto no se pudo eliminar\n",
      "El archivo data/image/cropped/6_butterfly_covid_prc_convex_frame456.jpg no existe, por lo tanto no se pudo eliminar\n",
      "El archivo data/image/cropped/6_butterfly_covid_prc_convex_frame457.jpg no existe, por lo tanto no se pudo eliminar\n",
      "El archivo data/image/cropped/6_butterfly_covid_prc_convex_frame458.jpg no existe, por lo tanto no se pudo eliminar\n",
      "El archivo data/image/cropped/6_butterfly_covid_prc_convex_frame459.jpg no existe, por lo tanto no se pudo eliminar\n",
      "El archivo data/image/cropped/6_butterfly_covid_prc_convex_frame460.jpg no existe, por lo tanto no se pudo eliminar\n",
      "El archivo data/image/cropped/6_butterfly_covid_prc_convex_frame461.jpg no existe, por lo tanto no se pudo eliminar\n",
      "El archivo data/image/cropped/6_butterfly_covid_prc_convex_frame462.jpg no existe, por lo tanto no se pudo eliminar\n",
      "El archivo data/image/cropped/6_butterfly_covid_prc_convex_frame463.jpg no existe, por lo tanto no se pudo eliminar\n",
      "El archivo data/image/cropped/6_butterfly_covid_prc_convex_frame464.jpg no existe, por lo tanto no se pudo eliminar\n",
      "El archivo data/image/cropped/6_butterfly_covid_prc_convex_frame465.jpg no existe, por lo tanto no se pudo eliminar\n",
      "El archivo data/image/cropped/6_butterfly_covid_prc_convex_frame466.jpg no existe, por lo tanto no se pudo eliminar\n",
      "El archivo data/image/cropped/6_butterfly_covid_prc_convex_frame467.jpg no existe, por lo tanto no se pudo eliminar\n",
      "El archivo data/image/cropped/6_butterfly_covid_prc_convex_frame468.jpg no existe, por lo tanto no se pudo eliminar\n",
      "El archivo data/image/cropped/6_butterfly_covid_prc_convex_frame469.jpg no existe, por lo tanto no se pudo eliminar\n",
      "El archivo data/image/cropped/6_butterfly_covid_prc_convex_frame470.jpg no existe, por lo tanto no se pudo eliminar\n",
      "El archivo data/image/cropped/6_butterfly_covid_prc_convex_frame471.jpg no existe, por lo tanto no se pudo eliminar\n",
      "El archivo data/image/cropped/6_butterfly_covid_prc_convex_frame472.jpg no existe, por lo tanto no se pudo eliminar\n",
      "El archivo data/image/cropped/6_butterfly_covid_prc_convex_frame473.jpg no existe, por lo tanto no se pudo eliminar\n",
      "El archivo data/image/cropped/6_butterfly_covid_prc_convex_frame474.jpg no existe, por lo tanto no se pudo eliminar\n",
      "El archivo data/image/cropped/6_butterfly_covid_prc_convex_frame475.jpg no existe, por lo tanto no se pudo eliminar\n",
      "El archivo data/image/cropped/6_butterfly_covid_prc_convex_frame476.jpg no existe, por lo tanto no se pudo eliminar\n",
      "El archivo data/image/cropped/6_butterfly_covid_prc_convex_frame477.jpg no existe, por lo tanto no se pudo eliminar\n",
      "El archivo data/image/cropped/6_butterfly_covid_prc_convex_frame478.jpg no existe, por lo tanto no se pudo eliminar\n",
      "El archivo data/image/cropped/6_butterfly_covid_prc_convex_frame479.jpg no existe, por lo tanto no se pudo eliminar\n",
      "El archivo data/image/cropped/6_butterfly_covid_prc_convex_frame480.jpg no existe, por lo tanto no se pudo eliminar\n",
      "El archivo data/image/cropped/6_butterfly_covid_prc_convex_frame481.jpg no existe, por lo tanto no se pudo eliminar\n",
      "El archivo data/image/cropped/6_butterfly_covid_prc_convex_frame482.jpg no existe, por lo tanto no se pudo eliminar\n",
      "El archivo data/image/cropped/6_butterfly_covid_prc_convex_frame483.jpg no existe, por lo tanto no se pudo eliminar\n",
      "El archivo data/image/cropped/6_butterfly_covid_prc_convex_frame484.jpg no existe, por lo tanto no se pudo eliminar\n",
      "El archivo data/image/cropped/6_butterfly_covid_prc_convex_frame485.jpg no existe, por lo tanto no se pudo eliminar\n",
      "El archivo data/image/cropped/6_butterfly_covid_prc_convex_frame486.jpg no existe, por lo tanto no se pudo eliminar\n",
      "El archivo data/image/cropped/6_butterfly_covid_prc_convex_frame487.jpg no existe, por lo tanto no se pudo eliminar\n",
      "El archivo data/image/cropped/6_butterfly_covid_prc_convex_frame488.jpg no existe, por lo tanto no se pudo eliminar\n",
      "El archivo data/image/cropped/6_butterfly_covid_prc_convex_frame489.jpg no existe, por lo tanto no se pudo eliminar\n",
      "El archivo data/image/cropped/6_butterfly_covid_prc_convex_frame490.jpg no existe, por lo tanto no se pudo eliminar\n",
      "El archivo data/image/cropped/6_butterfly_covid_prc_convex_frame491.jpg no existe, por lo tanto no se pudo eliminar\n",
      "El archivo data/image/cropped/6_butterfly_covid_prc_convex_frame492.jpg no existe, por lo tanto no se pudo eliminar\n",
      "El archivo data/image/cropped/6_butterfly_covid_prc_convex_frame493.jpg no existe, por lo tanto no se pudo eliminar\n",
      "El archivo data/image/cropped/6_butterfly_covid_prc_convex_frame494.jpg no existe, por lo tanto no se pudo eliminar\n",
      "El archivo data/image/cropped/6_butterfly_covid_prc_convex_frame495.jpg no existe, por lo tanto no se pudo eliminar\n",
      "El archivo data/image/cropped/6_butterfly_covid_prc_convex_frame496.jpg no existe, por lo tanto no se pudo eliminar\n",
      "El archivo data/image/cropped/6_butterfly_covid_prc_convex_frame497.jpg no existe, por lo tanto no se pudo eliminar\n",
      "El archivo data/image/cropped/6_butterfly_covid_prc_convex_frame498.jpg no existe, por lo tanto no se pudo eliminar\n",
      "El archivo data/image/cropped/6_butterfly_covid_prc_convex_frame499.jpg no existe, por lo tanto no se pudo eliminar\n",
      "El archivo data/image/cropped/6_butterfly_covid_prc_convex_frame500.jpg no existe, por lo tanto no se pudo eliminar\n",
      "El archivo data/image/cropped/6_butterfly_covid_prc_convex_frame501.jpg no existe, por lo tanto no se pudo eliminar\n",
      "El archivo data/image/cropped/6_butterfly_covid_prc_convex_frame502.jpg no existe, por lo tanto no se pudo eliminar\n",
      "El archivo data/image/cropped/6_butterfly_covid_prc_convex_frame503.jpg no existe, por lo tanto no se pudo eliminar\n",
      "El archivo data/image/cropped/6_butterfly_covid_prc_convex_frame504.jpg no existe, por lo tanto no se pudo eliminar\n",
      "El archivo data/image/cropped/6_butterfly_covid_prc_convex_frame505.jpg no existe, por lo tanto no se pudo eliminar\n",
      "El archivo data/image/cropped/6_butterfly_covid_prc_convex_frame506.jpg no existe, por lo tanto no se pudo eliminar\n",
      "El archivo data/image/cropped/6_butterfly_covid_prc_convex_frame507.jpg no existe, por lo tanto no se pudo eliminar\n",
      "El archivo data/image/cropped/6_butterfly_covid_prc_convex_frame508.jpg no existe, por lo tanto no se pudo eliminar\n",
      "El archivo data/image/cropped/6_butterfly_covid_prc_convex_frame509.jpg no existe, por lo tanto no se pudo eliminar\n",
      "El archivo data/image/cropped/6_butterfly_covid_prc_convex_frame510.jpg no existe, por lo tanto no se pudo eliminar\n",
      "El archivo data/image/cropped/6_butterfly_covid_prc_convex_frame511.jpg no existe, por lo tanto no se pudo eliminar\n",
      "El archivo data/image/cropped/6_butterfly_covid_prc_convex_frame512.jpg no existe, por lo tanto no se pudo eliminar\n",
      "El archivo data/image/cropped/6_butterfly_covid_prc_convex_frame513.jpg no existe, por lo tanto no se pudo eliminar\n",
      "El archivo data/image/cropped/6_butterfly_covid_prc_convex_frame514.jpg no existe, por lo tanto no se pudo eliminar\n",
      "El archivo data/image/cropped/6_butterfly_covid_prc_convex_frame515.jpg no existe, por lo tanto no se pudo eliminar\n",
      "El archivo data/image/cropped/6_butterfly_covid_prc_convex_frame516.jpg no existe, por lo tanto no se pudo eliminar\n",
      "El archivo data/image/cropped/6_butterfly_covid_prc_convex_frame517.jpg no existe, por lo tanto no se pudo eliminar\n",
      "El archivo data/image/cropped/6_butterfly_covid_prc_convex_frame518.jpg no existe, por lo tanto no se pudo eliminar\n",
      "El archivo data/image/cropped/6_butterfly_covid_prc_convex_frame519.jpg no existe, por lo tanto no se pudo eliminar\n",
      "El archivo data/image/cropped/6_butterfly_covid_prc_convex_frame520.jpg no existe, por lo tanto no se pudo eliminar\n",
      "El archivo data/image/cropped/6_butterfly_covid_prc_convex_frame521.jpg no existe, por lo tanto no se pudo eliminar\n",
      "El archivo data/image/cropped/6_butterfly_covid_prc_convex_frame522.jpg no existe, por lo tanto no se pudo eliminar\n",
      "El archivo data/image/cropped/6_butterfly_covid_prc_convex_frame523.jpg no existe, por lo tanto no se pudo eliminar\n",
      "El archivo data/image/cropped/6_butterfly_covid_prc_convex_frame524.jpg no existe, por lo tanto no se pudo eliminar\n",
      "El archivo data/image/cropped/6_butterfly_covid_prc_convex_frame525.jpg no existe, por lo tanto no se pudo eliminar\n",
      "El archivo data/image/cropped/6_butterfly_covid_prc_convex_frame526.jpg no existe, por lo tanto no se pudo eliminar\n",
      "El archivo data/image/cropped/6_butterfly_covid_prc_convex_frame527.jpg no existe, por lo tanto no se pudo eliminar\n",
      "El archivo data/image/cropped/6_butterfly_covid_prc_convex_frame528.jpg no existe, por lo tanto no se pudo eliminar\n",
      "El archivo data/image/cropped/6_butterfly_covid_prc_convex_frame529.jpg no existe, por lo tanto no se pudo eliminar\n",
      "El archivo data/image/cropped/6_butterfly_covid_prc_convex_frame530.jpg no existe, por lo tanto no se pudo eliminar\n",
      "El archivo data/image/cropped/6_butterfly_covid_prc_convex_frame531.jpg no existe, por lo tanto no se pudo eliminar\n",
      "El archivo data/image/cropped/6_butterfly_covid_prc_convex_frame532.jpg no existe, por lo tanto no se pudo eliminar\n",
      "El archivo data/image/cropped/6_butterfly_covid_prc_convex_frame533.jpg no existe, por lo tanto no se pudo eliminar\n",
      "El archivo data/image/cropped/6_butterfly_covid_prc_convex_frame534.jpg no existe, por lo tanto no se pudo eliminar\n",
      "El archivo data/image/cropped/6_butterfly_covid_prc_convex_frame535.jpg no existe, por lo tanto no se pudo eliminar\n",
      "El archivo data/image/cropped/6_butterfly_covid_prc_convex_frame536.jpg no existe, por lo tanto no se pudo eliminar\n",
      "El archivo data/image/cropped/6_butterfly_covid_prc_convex_frame537.jpg no existe, por lo tanto no se pudo eliminar\n",
      "El archivo data/image/cropped/6_butterfly_covid_prc_convex_frame538.jpg no existe, por lo tanto no se pudo eliminar\n",
      "El archivo data/image/cropped/6_butterfly_covid_prc_convex_frame539.jpg no existe, por lo tanto no se pudo eliminar\n",
      "El archivo data/image/cropped/6_butterfly_covid_prc_convex_frame540.jpg no existe, por lo tanto no se pudo eliminar\n",
      "El archivo data/image/cropped/6_butterfly_covid_prc_convex_frame541.jpg no existe, por lo tanto no se pudo eliminar\n",
      "El archivo data/image/cropped/6_butterfly_covid_prc_convex_frame542.jpg no existe, por lo tanto no se pudo eliminar\n",
      "El archivo data/image/cropped/6_butterfly_covid_prc_convex_frame543.jpg no existe, por lo tanto no se pudo eliminar\n",
      "El archivo data/image/cropped/6_butterfly_covid_prc_convex_frame544.jpg no existe, por lo tanto no se pudo eliminar\n",
      "El archivo data/image/cropped/6_butterfly_covid_prc_convex_frame545.jpg no existe, por lo tanto no se pudo eliminar\n",
      "El archivo data/image/cropped/6_butterfly_covid_prc_convex_frame546.jpg no existe, por lo tanto no se pudo eliminar\n",
      "El archivo data/image/cropped/6_butterfly_covid_prc_convex_frame547.jpg no existe, por lo tanto no se pudo eliminar\n",
      "El archivo data/image/cropped/6_butterfly_covid_prc_convex_frame548.jpg no existe, por lo tanto no se pudo eliminar\n",
      "El archivo data/image/cropped/6_butterfly_covid_prc_convex_frame549.jpg no existe, por lo tanto no se pudo eliminar\n",
      "El archivo data/image/cropped/6_butterfly_covid_prc_convex_frame550.jpg no existe, por lo tanto no se pudo eliminar\n",
      "El archivo data/image/cropped/6_butterfly_covid_prc_convex_frame551.jpg no existe, por lo tanto no se pudo eliminar\n",
      "El archivo data/image/cropped/6_butterfly_covid_prc_convex_frame552.jpg no existe, por lo tanto no se pudo eliminar\n",
      "El archivo data/image/cropped/6_butterfly_covid_prc_convex_frame553.jpg no existe, por lo tanto no se pudo eliminar\n",
      "El archivo data/image/cropped/6_butterfly_covid_prc_convex_frame554.jpg no existe, por lo tanto no se pudo eliminar\n",
      "El archivo data/image/cropped/6_butterfly_covid_prc_convex_frame555.jpg no existe, por lo tanto no se pudo eliminar\n",
      "El archivo data/image/cropped/6_butterfly_covid_prc_convex_frame556.jpg no existe, por lo tanto no se pudo eliminar\n",
      "El archivo data/image/cropped/6_butterfly_covid_prc_convex_frame557.jpg no existe, por lo tanto no se pudo eliminar\n",
      "El archivo data/image/cropped/6_butterfly_covid_prc_convex_frame558.jpg no existe, por lo tanto no se pudo eliminar\n",
      "El archivo data/image/cropped/6_butterfly_covid_prc_convex_frame559.jpg no existe, por lo tanto no se pudo eliminar\n",
      "El archivo data/image/cropped/6_butterfly_covid_prc_convex_frame560.jpg no existe, por lo tanto no se pudo eliminar\n",
      "El archivo data/image/cropped/6_butterfly_covid_prc_convex_frame561.jpg no existe, por lo tanto no se pudo eliminar\n",
      "El archivo data/image/cropped/6_butterfly_covid_prc_convex_frame562.jpg no existe, por lo tanto no se pudo eliminar\n",
      "El archivo data/image/cropped/16_butterfly_covid_prc_convex_frame131.jpg no existe, por lo tanto no se pudo eliminar\n",
      "El archivo data/image/cropped/16_butterfly_covid_prc_convex_frame132.jpg no existe, por lo tanto no se pudo eliminar\n",
      "El archivo data/image/cropped/16_butterfly_covid_prc_convex_frame133.jpg no existe, por lo tanto no se pudo eliminar\n",
      "El archivo data/image/cropped/16_butterfly_covid_prc_convex_frame143.jpg no existe, por lo tanto no se pudo eliminar\n",
      "El archivo data/image/cropped/16_butterfly_covid_prc_convex_frame144.jpg no existe, por lo tanto no se pudo eliminar\n",
      "El archivo data/image/cropped/16_butterfly_covid_prc_convex_frame145.jpg no existe, por lo tanto no se pudo eliminar\n",
      "El archivo data/image/cropped/16_butterfly_covid_prc_convex_frame155.jpg no existe, por lo tanto no se pudo eliminar\n",
      "El archivo data/image/cropped/16_butterfly_covid_prc_convex_frame156.jpg no existe, por lo tanto no se pudo eliminar\n",
      "El archivo data/image/cropped/16_butterfly_covid_prc_convex_frame157.jpg no existe, por lo tanto no se pudo eliminar\n",
      "El archivo data/image/cropped/16_butterfly_covid_prc_convex_frame158.jpg no existe, por lo tanto no se pudo eliminar\n",
      "El archivo data/image/cropped/16_butterfly_covid_prc_convex_frame159.jpg no existe, por lo tanto no se pudo eliminar\n",
      "El archivo data/image/cropped/16_butterfly_covid_prc_convex_frame160.jpg no existe, por lo tanto no se pudo eliminar\n",
      "El archivo data/image/cropped/16_butterfly_covid_prc_convex_frame161.jpg no existe, por lo tanto no se pudo eliminar\n",
      "El archivo data/image/cropped/16_butterfly_covid_prc_convex_frame162.jpg no existe, por lo tanto no se pudo eliminar\n",
      "El archivo data/image/cropped/16_butterfly_covid_prc_convex_frame163.jpg no existe, por lo tanto no se pudo eliminar\n",
      "El archivo data/image/cropped/16_butterfly_covid_prc_convex_frame164.jpg no existe, por lo tanto no se pudo eliminar\n",
      "El archivo data/image/cropped/16_butterfly_covid_prc_convex_frame165.jpg no existe, por lo tanto no se pudo eliminar\n",
      "El archivo data/image/cropped/16_butterfly_covid_prc_convex_frame166.jpg no existe, por lo tanto no se pudo eliminar\n",
      "El archivo data/image/cropped/16_butterfly_covid_prc_convex_frame167.jpg no existe, por lo tanto no se pudo eliminar\n",
      "El archivo data/image/cropped/16_butterfly_covid_prc_convex_frame168.jpg no existe, por lo tanto no se pudo eliminar\n",
      "El archivo data/image/cropped/16_butterfly_covid_prc_convex_frame169.jpg no existe, por lo tanto no se pudo eliminar\n",
      "El archivo data/image/cropped/16_butterfly_covid_prc_convex_frame170.jpg no existe, por lo tanto no se pudo eliminar\n",
      "El archivo data/image/cropped/16_butterfly_covid_prc_convex_frame171.jpg no existe, por lo tanto no se pudo eliminar\n",
      "El archivo data/image/cropped/16_butterfly_covid_prc_convex_frame172.jpg no existe, por lo tanto no se pudo eliminar\n",
      "El archivo data/image/cropped/16_butterfly_covid_prc_convex_frame173.jpg no existe, por lo tanto no se pudo eliminar\n",
      "El archivo data/image/cropped/16_butterfly_covid_prc_convex_frame174.jpg no existe, por lo tanto no se pudo eliminar\n",
      "El archivo data/image/cropped/16_butterfly_covid_prc_convex_frame175.jpg no existe, por lo tanto no se pudo eliminar\n",
      "El archivo data/image/cropped/16_butterfly_covid_prc_convex_frame176.jpg no existe, por lo tanto no se pudo eliminar\n",
      "El archivo data/image/cropped/16_butterfly_covid_prc_convex_frame177.jpg no existe, por lo tanto no se pudo eliminar\n",
      "El archivo data/image/cropped/16_butterfly_covid_prc_convex_frame178.jpg no existe, por lo tanto no se pudo eliminar\n",
      "El archivo data/image/cropped/16_butterfly_covid_prc_convex_frame179.jpg no existe, por lo tanto no se pudo eliminar\n",
      "El archivo data/image/cropped/16_butterfly_covid_prc_convex_frame180.jpg no existe, por lo tanto no se pudo eliminar\n",
      "El archivo data/image/cropped/16_butterfly_covid_prc_convex_frame181.jpg no existe, por lo tanto no se pudo eliminar\n",
      "El archivo data/image/cropped/16_butterfly_covid_prc_convex_frame182.jpg no existe, por lo tanto no se pudo eliminar\n",
      "El archivo data/image/cropped/16_butterfly_covid_prc_convex_frame183.jpg no existe, por lo tanto no se pudo eliminar\n",
      "El archivo data/image/cropped/16_butterfly_covid_prc_convex_frame184.jpg no existe, por lo tanto no se pudo eliminar\n",
      "El archivo data/image/cropped/16_butterfly_covid_prc_convex_frame185.jpg no existe, por lo tanto no se pudo eliminar\n",
      "El archivo data/image/cropped/16_butterfly_covid_prc_convex_frame186.jpg no existe, por lo tanto no se pudo eliminar\n",
      "El archivo data/image/cropped/16_butterfly_covid_prc_convex_frame187.jpg no existe, por lo tanto no se pudo eliminar\n",
      "El archivo data/image/cropped/16_butterfly_covid_prc_convex_frame188.jpg no existe, por lo tanto no se pudo eliminar\n",
      "El archivo data/image/cropped/16_butterfly_covid_prc_convex_frame189.jpg no existe, por lo tanto no se pudo eliminar\n",
      "El archivo data/image/cropped/16_butterfly_covid_prc_convex_frame190.jpg no existe, por lo tanto no se pudo eliminar\n",
      "El archivo data/image/cropped/16_butterfly_covid_prc_convex_frame191.jpg no existe, por lo tanto no se pudo eliminar\n",
      "El archivo data/image/cropped/16_butterfly_covid_prc_convex_frame192.jpg no existe, por lo tanto no se pudo eliminar\n",
      "El archivo data/image/cropped/16_butterfly_covid_prc_convex_frame193.jpg no existe, por lo tanto no se pudo eliminar\n",
      "El archivo data/image/cropped/16_butterfly_covid_prc_convex_frame194.jpg no existe, por lo tanto no se pudo eliminar\n",
      "El archivo data/image/cropped/16_butterfly_covid_prc_convex_frame195.jpg no existe, por lo tanto no se pudo eliminar\n",
      "El archivo data/image/cropped/16_butterfly_covid_prc_convex_frame196.jpg no existe, por lo tanto no se pudo eliminar\n",
      "El archivo data/image/cropped/16_butterfly_covid_prc_convex_frame197.jpg no existe, por lo tanto no se pudo eliminar\n",
      "El archivo data/image/cropped/16_butterfly_covid_prc_convex_frame198.jpg no existe, por lo tanto no se pudo eliminar\n",
      "El archivo data/image/cropped/16_butterfly_covid_prc_convex_frame199.jpg no existe, por lo tanto no se pudo eliminar\n",
      "El archivo data/image/cropped/16_butterfly_covid_prc_convex_frame200.jpg no existe, por lo tanto no se pudo eliminar\n",
      "El archivo data/image/cropped/16_butterfly_covid_prc_convex_frame201.jpg no existe, por lo tanto no se pudo eliminar\n",
      "El archivo data/image/cropped/16_butterfly_covid_prc_convex_frame202.jpg no existe, por lo tanto no se pudo eliminar\n",
      "El archivo data/image/cropped/16_butterfly_covid_prc_convex_frame203.jpg no existe, por lo tanto no se pudo eliminar\n",
      "El archivo data/image/cropped/16_butterfly_covid_prc_convex_frame204.jpg no existe, por lo tanto no se pudo eliminar\n",
      "El archivo data/image/cropped/16_butterfly_covid_prc_convex_frame205.jpg no existe, por lo tanto no se pudo eliminar\n",
      "El archivo data/image/cropped/16_butterfly_covid_prc_convex_frame206.jpg no existe, por lo tanto no se pudo eliminar\n",
      "El archivo data/image/cropped/16_butterfly_covid_prc_convex_frame207.jpg no existe, por lo tanto no se pudo eliminar\n",
      "El archivo data/image/cropped/16_butterfly_covid_prc_convex_frame208.jpg no existe, por lo tanto no se pudo eliminar\n",
      "El archivo data/image/cropped/16_butterfly_covid_prc_convex_frame209.jpg no existe, por lo tanto no se pudo eliminar\n",
      "El archivo data/image/cropped/16_butterfly_covid_prc_convex_frame210.jpg no existe, por lo tanto no se pudo eliminar\n",
      "El archivo data/image/cropped/16_butterfly_covid_prc_convex_frame211.jpg no existe, por lo tanto no se pudo eliminar\n",
      "El archivo data/image/cropped/16_butterfly_covid_prc_convex_frame212.jpg no existe, por lo tanto no se pudo eliminar\n",
      "El archivo data/image/cropped/16_butterfly_covid_prc_convex_frame213.jpg no existe, por lo tanto no se pudo eliminar\n",
      "El archivo data/image/cropped/16_butterfly_covid_prc_convex_frame214.jpg no existe, por lo tanto no se pudo eliminar\n",
      "El archivo data/image/cropped/16_butterfly_covid_prc_convex_frame215.jpg no existe, por lo tanto no se pudo eliminar\n",
      "El archivo data/image/cropped/16_butterfly_covid_prc_convex_frame216.jpg no existe, por lo tanto no se pudo eliminar\n",
      "El archivo data/image/cropped/16_butterfly_covid_prc_convex_frame217.jpg no existe, por lo tanto no se pudo eliminar\n",
      "El archivo data/image/cropped/16_butterfly_covid_prc_convex_frame218.jpg no existe, por lo tanto no se pudo eliminar\n",
      "El archivo data/image/cropped/16_butterfly_covid_prc_convex_frame219.jpg no existe, por lo tanto no se pudo eliminar\n",
      "El archivo data/image/cropped/16_butterfly_covid_prc_convex_frame220.jpg no existe, por lo tanto no se pudo eliminar\n",
      "El archivo data/image/cropped/16_butterfly_covid_prc_convex_frame221.jpg no existe, por lo tanto no se pudo eliminar\n",
      "El archivo data/image/cropped/16_butterfly_covid_prc_convex_frame222.jpg no existe, por lo tanto no se pudo eliminar\n",
      "El archivo data/image/cropped/16_butterfly_covid_prc_convex_frame223.jpg no existe, por lo tanto no se pudo eliminar\n",
      "El archivo data/image/cropped/16_butterfly_covid_prc_convex_frame224.jpg no existe, por lo tanto no se pudo eliminar\n",
      "El archivo data/image/cropped/16_butterfly_covid_prc_convex_frame225.jpg no existe, por lo tanto no se pudo eliminar\n",
      "El archivo data/image/cropped/16_butterfly_covid_prc_convex_frame234.jpg no existe, por lo tanto no se pudo eliminar\n",
      "El archivo data/image/cropped/16_butterfly_covid_prc_convex_frame235.jpg no existe, por lo tanto no se pudo eliminar\n",
      "El archivo data/image/cropped/16_butterfly_covid_prc_convex_frame236.jpg no existe, por lo tanto no se pudo eliminar\n",
      "El archivo data/image/cropped/16_butterfly_covid_prc_convex_frame237.jpg no existe, por lo tanto no se pudo eliminar\n",
      "El archivo data/image/cropped/16_butterfly_covid_prc_convex_frame238.jpg no existe, por lo tanto no se pudo eliminar\n",
      "El archivo data/image/cropped/16_butterfly_covid_prc_convex_frame239.jpg no existe, por lo tanto no se pudo eliminar\n",
      "El archivo data/image/cropped/16_butterfly_covid_prc_convex_frame240.jpg no existe, por lo tanto no se pudo eliminar\n",
      "El archivo data/image/cropped/16_butterfly_covid_prc_convex_frame241.jpg no existe, por lo tanto no se pudo eliminar\n",
      "El archivo data/image/cropped/16_butterfly_covid_prc_convex_frame242.jpg no existe, por lo tanto no se pudo eliminar\n",
      "El archivo data/image/cropped/16_butterfly_covid_prc_convex_frame243.jpg no existe, por lo tanto no se pudo eliminar\n",
      "El archivo data/image/cropped/16_butterfly_covid_prc_convex_frame244.jpg no existe, por lo tanto no se pudo eliminar\n",
      "El archivo data/image/cropped/16_butterfly_covid_prc_convex_frame245.jpg no existe, por lo tanto no se pudo eliminar\n",
      "El archivo data/image/cropped/16_butterfly_covid_prc_convex_frame246.jpg no existe, por lo tanto no se pudo eliminar\n",
      "El archivo data/image/cropped/16_butterfly_covid_prc_convex_frame247.jpg no existe, por lo tanto no se pudo eliminar\n",
      "El archivo data/image/cropped/16_butterfly_covid_prc_convex_frame248.jpg no existe, por lo tanto no se pudo eliminar\n",
      "El archivo data/image/cropped/16_butterfly_covid_prc_convex_frame249.jpg no existe, por lo tanto no se pudo eliminar\n",
      "El archivo data/image/cropped/16_butterfly_covid_prc_convex_frame250.jpg no existe, por lo tanto no se pudo eliminar\n",
      "El archivo data/image/cropped/16_butterfly_covid_prc_convex_frame251.jpg no existe, por lo tanto no se pudo eliminar\n",
      "El archivo data/image/cropped/16_butterfly_covid_prc_convex_frame252.jpg no existe, por lo tanto no se pudo eliminar\n",
      "El archivo data/image/cropped/16_butterfly_covid_prc_convex_frame253.jpg no existe, por lo tanto no se pudo eliminar\n",
      "El archivo data/image/cropped/16_butterfly_covid_prc_convex_frame254.jpg no existe, por lo tanto no se pudo eliminar\n",
      "El archivo data/image/cropped/16_butterfly_covid_prc_convex_frame255.jpg no existe, por lo tanto no se pudo eliminar\n",
      "El archivo data/image/cropped/16_butterfly_covid_prc_convex_frame256.jpg no existe, por lo tanto no se pudo eliminar\n",
      "El archivo data/image/cropped/16_butterfly_covid_prc_convex_frame257.jpg no existe, por lo tanto no se pudo eliminar\n",
      "El archivo data/image/cropped/16_butterfly_covid_prc_convex_frame258.jpg no existe, por lo tanto no se pudo eliminar\n",
      "El archivo data/image/cropped/16_butterfly_covid_prc_convex_frame259.jpg no existe, por lo tanto no se pudo eliminar\n",
      "El archivo data/image/cropped/16_butterfly_covid_prc_convex_frame260.jpg no existe, por lo tanto no se pudo eliminar\n",
      "El archivo data/image/cropped/16_butterfly_covid_prc_convex_frame261.jpg no existe, por lo tanto no se pudo eliminar\n",
      "El archivo data/image/cropped/16_butterfly_covid_prc_convex_frame262.jpg no existe, por lo tanto no se pudo eliminar\n",
      "El archivo data/image/cropped/16_butterfly_covid_prc_convex_frame263.jpg no existe, por lo tanto no se pudo eliminar\n",
      "El archivo data/image/cropped/16_butterfly_covid_prc_convex_frame264.jpg no existe, por lo tanto no se pudo eliminar\n",
      "El archivo data/image/cropped/16_butterfly_covid_prc_convex_frame265.jpg no existe, por lo tanto no se pudo eliminar\n",
      "El archivo data/image/cropped/16_butterfly_covid_prc_convex_frame266.jpg no existe, por lo tanto no se pudo eliminar\n",
      "El archivo data/image/cropped/16_butterfly_covid_prc_convex_frame267.jpg no existe, por lo tanto no se pudo eliminar\n",
      "El archivo data/image/cropped/16_butterfly_covid_prc_convex_frame268.jpg no existe, por lo tanto no se pudo eliminar\n",
      "El archivo data/image/cropped/16_butterfly_covid_prc_convex_frame269.jpg no existe, por lo tanto no se pudo eliminar\n",
      "El archivo data/image/cropped/16_butterfly_covid_prc_convex_frame270.jpg no existe, por lo tanto no se pudo eliminar\n",
      "El archivo data/image/cropped/16_butterfly_covid_prc_convex_frame271.jpg no existe, por lo tanto no se pudo eliminar\n",
      "El archivo data/image/cropped/16_butterfly_covid_prc_convex_frame272.jpg no existe, por lo tanto no se pudo eliminar\n",
      "El archivo data/image/cropped/16_butterfly_covid_prc_convex_frame273.jpg no existe, por lo tanto no se pudo eliminar\n",
      "El archivo data/image/cropped/16_butterfly_covid_prc_convex_frame274.jpg no existe, por lo tanto no se pudo eliminar\n",
      "El archivo data/image/cropped/16_butterfly_covid_prc_convex_frame275.jpg no existe, por lo tanto no se pudo eliminar\n",
      "El archivo data/image/cropped/16_butterfly_covid_prc_convex_frame276.jpg no existe, por lo tanto no se pudo eliminar\n",
      "El archivo data/image/cropped/16_butterfly_covid_prc_convex_frame277.jpg no existe, por lo tanto no se pudo eliminar\n",
      "El archivo data/image/cropped/16_butterfly_covid_prc_convex_frame278.jpg no existe, por lo tanto no se pudo eliminar\n",
      "El archivo data/image/cropped/16_butterfly_covid_prc_convex_frame279.jpg no existe, por lo tanto no se pudo eliminar\n",
      "El archivo data/image/cropped/16_butterfly_covid_prc_convex_frame280.jpg no existe, por lo tanto no se pudo eliminar\n",
      "El archivo data/image/cropped/16_butterfly_covid_prc_convex_frame281.jpg no existe, por lo tanto no se pudo eliminar\n",
      "El archivo data/image/cropped/16_butterfly_covid_prc_convex_frame282.jpg no existe, por lo tanto no se pudo eliminar\n",
      "El archivo data/image/cropped/16_butterfly_covid_prc_convex_frame283.jpg no existe, por lo tanto no se pudo eliminar\n",
      "El archivo data/image/cropped/16_butterfly_covid_prc_convex_frame284.jpg no existe, por lo tanto no se pudo eliminar\n",
      "El archivo data/image/cropped/16_butterfly_covid_prc_convex_frame285.jpg no existe, por lo tanto no se pudo eliminar\n",
      "El archivo data/image/cropped/16_butterfly_covid_prc_convex_frame286.jpg no existe, por lo tanto no se pudo eliminar\n",
      "El archivo data/image/cropped/16_butterfly_covid_prc_convex_frame287.jpg no existe, por lo tanto no se pudo eliminar\n",
      "El archivo data/image/cropped/16_butterfly_covid_prc_convex_frame288.jpg no existe, por lo tanto no se pudo eliminar\n",
      "El archivo data/image/cropped/16_butterfly_covid_prc_convex_frame289.jpg no existe, por lo tanto no se pudo eliminar\n",
      "El archivo data/image/cropped/16_butterfly_covid_prc_convex_frame290.jpg no existe, por lo tanto no se pudo eliminar\n",
      "El archivo data/image/cropped/16_butterfly_covid_prc_convex_frame291.jpg no existe, por lo tanto no se pudo eliminar\n",
      "El archivo data/image/cropped/16_butterfly_covid_prc_convex_frame292.jpg no existe, por lo tanto no se pudo eliminar\n",
      "El archivo data/image/cropped/16_butterfly_covid_prc_convex_frame293.jpg no existe, por lo tanto no se pudo eliminar\n",
      "El archivo data/image/cropped/16_butterfly_covid_prc_convex_frame294.jpg no existe, por lo tanto no se pudo eliminar\n",
      "El archivo data/image/cropped/16_butterfly_covid_prc_convex_frame295.jpg no existe, por lo tanto no se pudo eliminar\n",
      "El archivo data/image/cropped/16_butterfly_covid_prc_convex_frame296.jpg no existe, por lo tanto no se pudo eliminar\n",
      "El archivo data/image/cropped/16_butterfly_covid_prc_convex_frame297.jpg no existe, por lo tanto no se pudo eliminar\n",
      "El archivo data/image/cropped/16_butterfly_covid_prc_convex_frame298.jpg no existe, por lo tanto no se pudo eliminar\n",
      "El archivo data/image/cropped/16_butterfly_covid_prc_convex_frame299.jpg no existe, por lo tanto no se pudo eliminar\n",
      "El archivo data/image/cropped/16_butterfly_covid_prc_convex_frame300.jpg no existe, por lo tanto no se pudo eliminar\n",
      "El archivo data/image/cropped/16_butterfly_covid_prc_convex_frame301.jpg no existe, por lo tanto no se pudo eliminar\n",
      "El archivo data/image/cropped/16_butterfly_covid_prc_convex_frame302.jpg no existe, por lo tanto no se pudo eliminar\n",
      "El archivo data/image/cropped/16_butterfly_covid_prc_convex_frame303.jpg no existe, por lo tanto no se pudo eliminar\n",
      "El archivo data/image/cropped/16_butterfly_covid_prc_convex_frame304.jpg no existe, por lo tanto no se pudo eliminar\n",
      "El archivo data/image/cropped/16_butterfly_covid_prc_convex_frame305.jpg no existe, por lo tanto no se pudo eliminar\n",
      "El archivo data/image/cropped/16_butterfly_covid_prc_convex_frame306.jpg no existe, por lo tanto no se pudo eliminar\n",
      "El archivo data/image/cropped/16_butterfly_covid_prc_convex_frame307.jpg no existe, por lo tanto no se pudo eliminar\n",
      "El archivo data/image/cropped/16_butterfly_covid_prc_convex_frame308.jpg no existe, por lo tanto no se pudo eliminar\n",
      "El archivo data/image/cropped/16_butterfly_covid_prc_convex_frame309.jpg no existe, por lo tanto no se pudo eliminar\n",
      "El archivo data/image/cropped/16_butterfly_covid_prc_convex_frame310.jpg no existe, por lo tanto no se pudo eliminar\n",
      "El archivo data/image/cropped/16_butterfly_covid_prc_convex_frame311.jpg no existe, por lo tanto no se pudo eliminar\n",
      "El archivo data/image/cropped/16_butterfly_covid_prc_convex_frame312.jpg no existe, por lo tanto no se pudo eliminar\n",
      "El archivo data/image/cropped/16_butterfly_covid_prc_convex_frame313.jpg no existe, por lo tanto no se pudo eliminar\n",
      "El archivo data/image/cropped/16_butterfly_covid_prc_convex_frame314.jpg no existe, por lo tanto no se pudo eliminar\n",
      "El archivo data/image/cropped/16_butterfly_covid_prc_convex_frame315.jpg no existe, por lo tanto no se pudo eliminar\n",
      "El archivo data/image/cropped/16_butterfly_covid_prc_convex_frame316.jpg no existe, por lo tanto no se pudo eliminar\n",
      "El archivo data/image/cropped/16_butterfly_covid_prc_convex_frame317.jpg no existe, por lo tanto no se pudo eliminar\n",
      "El archivo data/image/cropped/16_butterfly_covid_prc_convex_frame318.jpg no existe, por lo tanto no se pudo eliminar\n",
      "El archivo data/image/cropped/16_butterfly_covid_prc_convex_frame319.jpg no existe, por lo tanto no se pudo eliminar\n",
      "El archivo data/image/cropped/16_butterfly_covid_prc_convex_frame320.jpg no existe, por lo tanto no se pudo eliminar\n",
      "El archivo data/image/cropped/16_butterfly_covid_prc_convex_frame321.jpg no existe, por lo tanto no se pudo eliminar\n",
      "El archivo data/image/cropped/16_butterfly_covid_prc_convex_frame322.jpg no existe, por lo tanto no se pudo eliminar\n",
      "El archivo data/image/cropped/16_butterfly_covid_prc_convex_frame323.jpg no existe, por lo tanto no se pudo eliminar\n",
      "El archivo data/image/cropped/16_butterfly_covid_prc_convex_frame324.jpg no existe, por lo tanto no se pudo eliminar\n",
      "El archivo data/image/cropped/16_butterfly_covid_prc_convex_frame325.jpg no existe, por lo tanto no se pudo eliminar\n",
      "El archivo data/image/cropped/16_butterfly_covid_prc_convex_frame326.jpg no existe, por lo tanto no se pudo eliminar\n",
      "El archivo data/image/cropped/16_butterfly_covid_prc_convex_frame327.jpg no existe, por lo tanto no se pudo eliminar\n",
      "El archivo data/image/cropped/16_butterfly_covid_prc_convex_frame328.jpg no existe, por lo tanto no se pudo eliminar\n",
      "El archivo data/image/cropped/16_butterfly_covid_prc_convex_frame329.jpg no existe, por lo tanto no se pudo eliminar\n",
      "El archivo data/image/cropped/16_butterfly_covid_prc_convex_frame330.jpg no existe, por lo tanto no se pudo eliminar\n",
      "El archivo data/image/cropped/16_butterfly_covid_prc_convex_frame331.jpg no existe, por lo tanto no se pudo eliminar\n",
      "El archivo data/image/cropped/16_butterfly_covid_prc_convex_frame332.jpg no existe, por lo tanto no se pudo eliminar\n",
      "El archivo data/image/cropped/16_butterfly_covid_prc_convex_frame333.jpg no existe, por lo tanto no se pudo eliminar\n",
      "El archivo data/image/cropped/16_butterfly_covid_prc_convex_frame334.jpg no existe, por lo tanto no se pudo eliminar\n",
      "El archivo data/image/cropped/16_butterfly_covid_prc_convex_frame335.jpg no existe, por lo tanto no se pudo eliminar\n",
      "El archivo data/image/cropped/16_butterfly_covid_prc_convex_frame336.jpg no existe, por lo tanto no se pudo eliminar\n",
      "El archivo data/image/cropped/16_butterfly_covid_prc_convex_frame337.jpg no existe, por lo tanto no se pudo eliminar\n",
      "El archivo data/image/cropped/16_butterfly_covid_prc_convex_frame338.jpg no existe, por lo tanto no se pudo eliminar\n",
      "El archivo data/image/cropped/16_butterfly_covid_prc_convex_frame339.jpg no existe, por lo tanto no se pudo eliminar\n",
      "El archivo data/image/cropped/16_butterfly_covid_prc_convex_frame340.jpg no existe, por lo tanto no se pudo eliminar\n",
      "El archivo data/image/cropped/16_butterfly_covid_prc_convex_frame341.jpg no existe, por lo tanto no se pudo eliminar\n",
      "El archivo data/image/cropped/16_butterfly_covid_prc_convex_frame342.jpg no existe, por lo tanto no se pudo eliminar\n",
      "El archivo data/image/cropped/16_butterfly_covid_prc_convex_frame343.jpg no existe, por lo tanto no se pudo eliminar\n",
      "El archivo data/image/cropped/16_butterfly_covid_prc_convex_frame344.jpg no existe, por lo tanto no se pudo eliminar\n",
      "El archivo data/image/cropped/16_butterfly_covid_prc_convex_frame345.jpg no existe, por lo tanto no se pudo eliminar\n",
      "El archivo data/image/cropped/16_butterfly_covid_prc_convex_frame346.jpg no existe, por lo tanto no se pudo eliminar\n",
      "El archivo data/image/cropped/16_butterfly_covid_prc_convex_frame347.jpg no existe, por lo tanto no se pudo eliminar\n",
      "El archivo data/image/cropped/16_butterfly_covid_prc_convex_frame348.jpg no existe, por lo tanto no se pudo eliminar\n",
      "El archivo data/image/cropped/16_butterfly_covid_prc_convex_frame349.jpg no existe, por lo tanto no se pudo eliminar\n",
      "El archivo data/image/cropped/16_butterfly_covid_prc_convex_frame350.jpg no existe, por lo tanto no se pudo eliminar\n",
      "El archivo data/image/cropped/16_butterfly_covid_prc_convex_frame351.jpg no existe, por lo tanto no se pudo eliminar\n",
      "El archivo data/image/cropped/16_butterfly_covid_prc_convex_frame352.jpg no existe, por lo tanto no se pudo eliminar\n",
      "El archivo data/image/cropped/16_butterfly_covid_prc_convex_frame353.jpg no existe, por lo tanto no se pudo eliminar\n",
      "El archivo data/image/cropped/16_butterfly_covid_prc_convex_frame354.jpg no existe, por lo tanto no se pudo eliminar\n",
      "El archivo data/image/cropped/16_butterfly_covid_prc_convex_frame355.jpg no existe, por lo tanto no se pudo eliminar\n",
      "El archivo data/image/cropped/16_butterfly_covid_prc_convex_frame356.jpg no existe, por lo tanto no se pudo eliminar\n",
      "El archivo data/image/cropped/16_butterfly_covid_prc_convex_frame357.jpg no existe, por lo tanto no se pudo eliminar\n",
      "El archivo data/image/cropped/16_butterfly_covid_prc_convex_frame358.jpg no existe, por lo tanto no se pudo eliminar\n",
      "El archivo data/image/cropped/16_butterfly_covid_prc_convex_frame359.jpg no existe, por lo tanto no se pudo eliminar\n",
      "El archivo data/image/cropped/16_butterfly_covid_prc_convex_frame360.jpg no existe, por lo tanto no se pudo eliminar\n",
      "El archivo data/image/cropped/16_butterfly_covid_prc_convex_frame361.jpg no existe, por lo tanto no se pudo eliminar\n",
      "El archivo data/image/cropped/16_butterfly_covid_prc_convex_frame362.jpg no existe, por lo tanto no se pudo eliminar\n",
      "El archivo data/image/cropped/16_butterfly_covid_prc_convex_frame363.jpg no existe, por lo tanto no se pudo eliminar\n",
      "El archivo data/image/cropped/16_butterfly_covid_prc_convex_frame364.jpg no existe, por lo tanto no se pudo eliminar\n",
      "El archivo data/image/cropped/16_butterfly_covid_prc_convex_frame365.jpg no existe, por lo tanto no se pudo eliminar\n",
      "El archivo data/image/cropped/16_butterfly_covid_prc_convex_frame366.jpg no existe, por lo tanto no se pudo eliminar\n",
      "El archivo data/image/cropped/16_butterfly_covid_prc_convex_frame367.jpg no existe, por lo tanto no se pudo eliminar\n",
      "El archivo data/image/cropped/16_butterfly_covid_prc_convex_frame368.jpg no existe, por lo tanto no se pudo eliminar\n",
      "El archivo data/image/cropped/16_butterfly_covid_prc_convex_frame369.jpg no existe, por lo tanto no se pudo eliminar\n",
      "El archivo data/image/cropped/16_butterfly_covid_prc_convex_frame370.jpg no existe, por lo tanto no se pudo eliminar\n",
      "El archivo data/image/cropped/16_butterfly_covid_prc_convex_frame371.jpg no existe, por lo tanto no se pudo eliminar\n",
      "El archivo data/image/cropped/16_butterfly_covid_prc_convex_frame372.jpg no existe, por lo tanto no se pudo eliminar\n",
      "El archivo data/image/cropped/16_butterfly_covid_prc_convex_frame373.jpg no existe, por lo tanto no se pudo eliminar\n",
      "El archivo data/image/cropped/16_butterfly_covid_prc_convex_frame374.jpg no existe, por lo tanto no se pudo eliminar\n",
      "El archivo data/image/cropped/16_butterfly_covid_prc_convex_frame380.jpg no existe, por lo tanto no se pudo eliminar\n",
      "El archivo data/image/cropped/16_butterfly_covid_prc_convex_frame381.jpg no existe, por lo tanto no se pudo eliminar\n",
      "El archivo data/image/cropped/16_butterfly_covid_prc_convex_frame382.jpg no existe, por lo tanto no se pudo eliminar\n",
      "El archivo data/image/cropped/16_butterfly_covid_prc_convex_frame383.jpg no existe, por lo tanto no se pudo eliminar\n",
      "El archivo data/image/cropped/16_butterfly_covid_prc_convex_frame384.jpg no existe, por lo tanto no se pudo eliminar\n",
      "El archivo data/image/cropped/16_butterfly_covid_prc_convex_frame385.jpg no existe, por lo tanto no se pudo eliminar\n",
      "El archivo data/image/cropped/16_butterfly_covid_prc_convex_frame386.jpg no existe, por lo tanto no se pudo eliminar\n",
      "El archivo data/image/cropped/16_butterfly_covid_prc_convex_frame387.jpg no existe, por lo tanto no se pudo eliminar\n",
      "El archivo data/image/cropped/16_butterfly_covid_prc_convex_frame388.jpg no existe, por lo tanto no se pudo eliminar\n",
      "El archivo data/image/cropped/16_butterfly_covid_prc_convex_frame389.jpg no existe, por lo tanto no se pudo eliminar\n",
      "El archivo data/image/cropped/16_butterfly_covid_prc_convex_frame390.jpg no existe, por lo tanto no se pudo eliminar\n",
      "El archivo data/image/cropped/16_butterfly_covid_prc_convex_frame391.jpg no existe, por lo tanto no se pudo eliminar\n",
      "El archivo data/image/cropped/16_butterfly_covid_prc_convex_frame392.jpg no existe, por lo tanto no se pudo eliminar\n",
      "El archivo data/image/cropped/16_butterfly_covid_prc_convex_frame393.jpg no existe, por lo tanto no se pudo eliminar\n",
      "El archivo data/image/cropped/16_butterfly_covid_prc_convex_frame394.jpg no existe, por lo tanto no se pudo eliminar\n",
      "El archivo data/image/cropped/16_butterfly_covid_prc_convex_frame395.jpg no existe, por lo tanto no se pudo eliminar\n",
      "El archivo data/image/cropped/16_butterfly_covid_prc_convex_frame396.jpg no existe, por lo tanto no se pudo eliminar\n",
      "El archivo data/image/cropped/16_butterfly_covid_prc_convex_frame397.jpg no existe, por lo tanto no se pudo eliminar\n",
      "El archivo data/image/cropped/16_butterfly_covid_prc_convex_frame398.jpg no existe, por lo tanto no se pudo eliminar\n",
      "El archivo data/image/cropped/16_butterfly_covid_prc_convex_frame399.jpg no existe, por lo tanto no se pudo eliminar\n",
      "El archivo data/image/cropped/16_butterfly_covid_prc_convex_frame400.jpg no existe, por lo tanto no se pudo eliminar\n",
      "El archivo data/image/cropped/16_butterfly_covid_prc_convex_frame401.jpg no existe, por lo tanto no se pudo eliminar\n",
      "El archivo data/image/cropped/16_butterfly_covid_prc_convex_frame402.jpg no existe, por lo tanto no se pudo eliminar\n",
      "El archivo data/image/cropped/16_butterfly_covid_prc_convex_frame412.jpg no existe, por lo tanto no se pudo eliminar\n",
      "El archivo data/image/cropped/16_butterfly_covid_prc_convex_frame413.jpg no existe, por lo tanto no se pudo eliminar\n",
      "El archivo data/image/cropped/16_butterfly_covid_prc_convex_frame414.jpg no existe, por lo tanto no se pudo eliminar\n",
      "El archivo data/image/cropped/16_butterfly_covid_prc_convex_frame415.jpg no existe, por lo tanto no se pudo eliminar\n",
      "El archivo data/image/cropped/16_butterfly_covid_prc_convex_frame416.jpg no existe, por lo tanto no se pudo eliminar\n",
      "El archivo data/image/cropped/16_butterfly_covid_prc_convex_frame417.jpg no existe, por lo tanto no se pudo eliminar\n",
      "El archivo data/image/cropped/16_butterfly_covid_prc_convex_frame418.jpg no existe, por lo tanto no se pudo eliminar\n",
      "El archivo data/image/cropped/16_butterfly_covid_prc_convex_frame419.jpg no existe, por lo tanto no se pudo eliminar\n",
      "El archivo data/image/cropped/16_butterfly_covid_prc_convex_frame420.jpg no existe, por lo tanto no se pudo eliminar\n",
      "El archivo data/image/cropped/16_butterfly_covid_prc_convex_frame421.jpg no existe, por lo tanto no se pudo eliminar\n",
      "El archivo data/image/cropped/16_butterfly_covid_prc_convex_frame422.jpg no existe, por lo tanto no se pudo eliminar\n",
      "El archivo data/image/cropped/16_butterfly_covid_prc_convex_frame423.jpg no existe, por lo tanto no se pudo eliminar\n",
      "El archivo data/image/cropped/16_butterfly_covid_prc_convex_frame424.jpg no existe, por lo tanto no se pudo eliminar\n",
      "El archivo data/image/cropped/16_butterfly_covid_prc_convex_frame425.jpg no existe, por lo tanto no se pudo eliminar\n",
      "El archivo data/image/cropped/16_butterfly_covid_prc_convex_frame426.jpg no existe, por lo tanto no se pudo eliminar\n",
      "El archivo data/image/cropped/16_butterfly_covid_prc_convex_frame427.jpg no existe, por lo tanto no se pudo eliminar\n",
      "El archivo data/image/cropped/16_butterfly_covid_prc_convex_frame428.jpg no existe, por lo tanto no se pudo eliminar\n",
      "El archivo data/image/cropped/16_butterfly_covid_prc_convex_frame429.jpg no existe, por lo tanto no se pudo eliminar\n",
      "El archivo data/image/cropped/16_butterfly_covid_prc_convex_frame430.jpg no existe, por lo tanto no se pudo eliminar\n",
      "El archivo data/image/cropped/16_butterfly_covid_prc_convex_frame431.jpg no existe, por lo tanto no se pudo eliminar\n",
      "El archivo data/image/cropped/16_butterfly_covid_prc_convex_frame432.jpg no existe, por lo tanto no se pudo eliminar\n",
      "El archivo data/image/cropped/16_butterfly_covid_prc_convex_frame433.jpg no existe, por lo tanto no se pudo eliminar\n",
      "El archivo data/image/cropped/16_butterfly_covid_prc_convex_frame465.jpg no existe, por lo tanto no se pudo eliminar\n",
      "El archivo data/image/cropped/16_butterfly_covid_prc_convex_frame466.jpg no existe, por lo tanto no se pudo eliminar\n",
      "El archivo data/image/cropped/16_butterfly_covid_prc_convex_frame467.jpg no existe, por lo tanto no se pudo eliminar\n",
      "El archivo data/image/cropped/16_butterfly_covid_prc_convex_frame468.jpg no existe, por lo tanto no se pudo eliminar\n",
      "El archivo data/image/cropped/16_butterfly_covid_prc_convex_frame469.jpg no existe, por lo tanto no se pudo eliminar\n",
      "El archivo data/image/cropped/16_butterfly_covid_prc_convex_frame470.jpg no existe, por lo tanto no se pudo eliminar\n",
      "El archivo data/image/cropped/16_butterfly_covid_prc_convex_frame471.jpg no existe, por lo tanto no se pudo eliminar\n",
      "El archivo data/image/cropped/16_butterfly_covid_prc_convex_frame472.jpg no existe, por lo tanto no se pudo eliminar\n",
      "El archivo data/image/cropped/16_butterfly_covid_prc_convex_frame473.jpg no existe, por lo tanto no se pudo eliminar\n",
      "El archivo data/image/cropped/16_butterfly_covid_prc_convex_frame474.jpg no existe, por lo tanto no se pudo eliminar\n",
      "El archivo data/image/cropped/16_butterfly_covid_prc_convex_frame475.jpg no existe, por lo tanto no se pudo eliminar\n",
      "El archivo data/image/cropped/16_butterfly_covid_prc_convex_frame476.jpg no existe, por lo tanto no se pudo eliminar\n",
      "El archivo data/image/cropped/16_butterfly_covid_prc_convex_frame477.jpg no existe, por lo tanto no se pudo eliminar\n",
      "El archivo data/image/cropped/16_butterfly_covid_prc_convex_frame478.jpg no existe, por lo tanto no se pudo eliminar\n",
      "El archivo data/image/cropped/16_butterfly_covid_prc_convex_frame479.jpg no existe, por lo tanto no se pudo eliminar\n",
      "El archivo data/image/cropped/16_butterfly_covid_prc_convex_frame480.jpg no existe, por lo tanto no se pudo eliminar\n",
      "El archivo data/image/cropped/16_butterfly_covid_prc_convex_frame481.jpg no existe, por lo tanto no se pudo eliminar\n",
      "El archivo data/image/cropped/16_butterfly_covid_prc_convex_frame482.jpg no existe, por lo tanto no se pudo eliminar\n",
      "El archivo data/image/cropped/16_butterfly_covid_prc_convex_frame483.jpg no existe, por lo tanto no se pudo eliminar\n",
      "El archivo data/image/cropped/16_butterfly_covid_prc_convex_frame484.jpg no existe, por lo tanto no se pudo eliminar\n",
      "El archivo data/image/cropped/16_butterfly_covid_prc_convex_frame485.jpg no existe, por lo tanto no se pudo eliminar\n",
      "El archivo data/image/cropped/16_butterfly_covid_prc_convex_frame486.jpg no existe, por lo tanto no se pudo eliminar\n",
      "El archivo data/image/cropped/16_butterfly_covid_prc_convex_frame487.jpg no existe, por lo tanto no se pudo eliminar\n",
      "El archivo data/image/cropped/16_butterfly_covid_prc_convex_frame488.jpg no existe, por lo tanto no se pudo eliminar\n",
      "El archivo data/image/cropped/16_butterfly_covid_prc_convex_frame489.jpg no existe, por lo tanto no se pudo eliminar\n",
      "El archivo data/image/cropped/16_butterfly_covid_prc_convex_frame490.jpg no existe, por lo tanto no se pudo eliminar\n",
      "El archivo data/image/cropped/16_butterfly_covid_prc_convex_frame491.jpg no existe, por lo tanto no se pudo eliminar\n",
      "El archivo data/image/cropped/16_butterfly_covid_prc_convex_frame492.jpg no existe, por lo tanto no se pudo eliminar\n",
      "El archivo data/image/cropped/16_butterfly_covid_prc_convex_frame493.jpg no existe, por lo tanto no se pudo eliminar\n",
      "El archivo data/image/cropped/16_butterfly_covid_prc_convex_frame494.jpg no existe, por lo tanto no se pudo eliminar\n",
      "El archivo data/image/cropped/16_butterfly_covid_prc_convex_frame495.jpg no existe, por lo tanto no se pudo eliminar\n",
      "El archivo data/image/cropped/16_butterfly_covid_prc_convex_frame496.jpg no existe, por lo tanto no se pudo eliminar\n",
      "El archivo data/image/cropped/16_butterfly_covid_prc_convex_frame497.jpg no existe, por lo tanto no se pudo eliminar\n",
      "El archivo data/image/cropped/16_butterfly_covid_prc_convex_frame498.jpg no existe, por lo tanto no se pudo eliminar\n",
      "El archivo data/image/cropped/16_butterfly_covid_prc_convex_frame499.jpg no existe, por lo tanto no se pudo eliminar\n",
      "El archivo data/image/cropped/16_butterfly_covid_prc_convex_frame500.jpg no existe, por lo tanto no se pudo eliminar\n",
      "El archivo data/image/cropped/16_butterfly_covid_prc_convex_frame501.jpg no existe, por lo tanto no se pudo eliminar\n",
      "El archivo data/image/cropped/16_butterfly_covid_prc_convex_frame502.jpg no existe, por lo tanto no se pudo eliminar\n",
      "El archivo data/image/cropped/16_butterfly_covid_prc_convex_frame503.jpg no existe, por lo tanto no se pudo eliminar\n",
      "El archivo data/image/cropped/16_butterfly_covid_prc_convex_frame504.jpg no existe, por lo tanto no se pudo eliminar\n",
      "El archivo data/image/cropped/16_butterfly_covid_prc_convex_frame505.jpg no existe, por lo tanto no se pudo eliminar\n",
      "El archivo data/image/cropped/16_butterfly_covid_prc_convex_frame506.jpg no existe, por lo tanto no se pudo eliminar\n",
      "El archivo data/image/cropped/16_butterfly_covid_prc_convex_frame507.jpg no existe, por lo tanto no se pudo eliminar\n",
      "El archivo data/image/cropped/16_butterfly_covid_prc_convex_frame508.jpg no existe, por lo tanto no se pudo eliminar\n",
      "El archivo data/image/cropped/16_butterfly_covid_prc_convex_frame509.jpg no existe, por lo tanto no se pudo eliminar\n",
      "El archivo data/image/cropped/16_butterfly_covid_prc_convex_frame510.jpg no existe, por lo tanto no se pudo eliminar\n",
      "El archivo data/image/cropped/16_butterfly_covid_prc_convex_frame511.jpg no existe, por lo tanto no se pudo eliminar\n",
      "El archivo data/image/cropped/16_butterfly_covid_prc_convex_frame512.jpg no existe, por lo tanto no se pudo eliminar\n",
      "El archivo data/image/cropped/16_butterfly_covid_prc_convex_frame513.jpg no existe, por lo tanto no se pudo eliminar\n",
      "El archivo data/image/cropped/16_butterfly_covid_prc_convex_frame514.jpg no existe, por lo tanto no se pudo eliminar\n",
      "El archivo data/image/cropped/16_butterfly_covid_prc_convex_frame515.jpg no existe, por lo tanto no se pudo eliminar\n",
      "El archivo data/image/cropped/16_butterfly_covid_prc_convex_frame516.jpg no existe, por lo tanto no se pudo eliminar\n",
      "El archivo data/image/cropped/16_butterfly_covid_prc_convex_frame517.jpg no existe, por lo tanto no se pudo eliminar\n",
      "El archivo data/image/cropped/16_butterfly_covid_prc_convex_frame518.jpg no existe, por lo tanto no se pudo eliminar\n",
      "El archivo data/image/cropped/16_butterfly_covid_prc_convex_frame519.jpg no existe, por lo tanto no se pudo eliminar\n",
      "El archivo data/image/cropped/16_butterfly_covid_prc_convex_frame520.jpg no existe, por lo tanto no se pudo eliminar\n",
      "El archivo data/image/cropped/16_butterfly_covid_prc_convex_frame521.jpg no existe, por lo tanto no se pudo eliminar\n",
      "El archivo data/image/cropped/16_butterfly_covid_prc_convex_frame522.jpg no existe, por lo tanto no se pudo eliminar\n",
      "El archivo data/image/cropped/16_butterfly_covid_prc_convex_frame523.jpg no existe, por lo tanto no se pudo eliminar\n",
      "El archivo data/image/cropped/16_butterfly_covid_prc_convex_frame524.jpg no existe, por lo tanto no se pudo eliminar\n",
      "El archivo data/image/cropped/16_butterfly_covid_prc_convex_frame525.jpg no existe, por lo tanto no se pudo eliminar\n",
      "El archivo data/image/cropped/16_butterfly_covid_prc_convex_frame526.jpg no existe, por lo tanto no se pudo eliminar\n",
      "El archivo data/image/cropped/16_butterfly_covid_prc_convex_frame527.jpg no existe, por lo tanto no se pudo eliminar\n",
      "El archivo data/image/cropped/16_butterfly_covid_prc_convex_frame528.jpg no existe, por lo tanto no se pudo eliminar\n",
      "El archivo data/image/cropped/16_butterfly_covid_prc_convex_frame529.jpg no existe, por lo tanto no se pudo eliminar\n",
      "El archivo data/image/cropped/16_butterfly_covid_prc_convex_frame530.jpg no existe, por lo tanto no se pudo eliminar\n",
      "El archivo data/image/cropped/16_butterfly_covid_prc_convex_frame531.jpg no existe, por lo tanto no se pudo eliminar\n",
      "El archivo data/image/cropped/16_butterfly_covid_prc_convex_frame532.jpg no existe, por lo tanto no se pudo eliminar\n",
      "El archivo data/image/cropped/16_butterfly_covid_prc_convex_frame533.jpg no existe, por lo tanto no se pudo eliminar\n",
      "El archivo data/image/cropped/16_butterfly_covid_prc_convex_frame534.jpg no existe, por lo tanto no se pudo eliminar\n",
      "El archivo data/image/cropped/16_butterfly_covid_prc_convex_frame535.jpg no existe, por lo tanto no se pudo eliminar\n",
      "El archivo data/image/cropped/16_butterfly_covid_prc_convex_frame536.jpg no existe, por lo tanto no se pudo eliminar\n",
      "El archivo data/image/cropped/16_butterfly_covid_prc_convex_frame537.jpg no existe, por lo tanto no se pudo eliminar\n",
      "El archivo data/image/cropped/16_butterfly_covid_prc_convex_frame538.jpg no existe, por lo tanto no se pudo eliminar\n",
      "El archivo data/image/cropped/16_butterfly_covid_prc_convex_frame539.jpg no existe, por lo tanto no se pudo eliminar\n",
      "El archivo data/image/cropped/16_butterfly_covid_prc_convex_frame540.jpg no existe, por lo tanto no se pudo eliminar\n",
      "El archivo data/image/cropped/16_butterfly_covid_prc_convex_frame541.jpg no existe, por lo tanto no se pudo eliminar\n",
      "El archivo data/image/cropped/16_butterfly_covid_prc_convex_frame542.jpg no existe, por lo tanto no se pudo eliminar\n",
      "El archivo data/image/cropped/16_butterfly_covid_prc_convex_frame543.jpg no existe, por lo tanto no se pudo eliminar\n",
      "El archivo data/image/cropped/16_butterfly_covid_prc_convex_frame544.jpg no existe, por lo tanto no se pudo eliminar\n",
      "El archivo data/image/cropped/16_butterfly_covid_prc_convex_frame545.jpg no existe, por lo tanto no se pudo eliminar\n",
      "El archivo data/image/cropped/16_butterfly_covid_prc_convex_frame546.jpg no existe, por lo tanto no se pudo eliminar\n",
      "El archivo data/image/cropped/16_butterfly_covid_prc_convex_frame547.jpg no existe, por lo tanto no se pudo eliminar\n",
      "El archivo data/image/cropped/16_butterfly_covid_prc_convex_frame548.jpg no existe, por lo tanto no se pudo eliminar\n",
      "El archivo data/image/cropped/16_butterfly_covid_prc_convex_frame549.jpg no existe, por lo tanto no se pudo eliminar\n",
      "El archivo data/image/cropped/16_butterfly_covid_prc_convex_frame550.jpg no existe, por lo tanto no se pudo eliminar\n",
      "El archivo data/image/cropped/16_butterfly_covid_prc_convex_frame551.jpg no existe, por lo tanto no se pudo eliminar\n",
      "El archivo data/image/cropped/16_butterfly_covid_prc_convex_frame552.jpg no existe, por lo tanto no se pudo eliminar\n",
      "El archivo data/image/cropped/16_butterfly_covid_prc_convex_frame553.jpg no existe, por lo tanto no se pudo eliminar\n",
      "El archivo data/image/cropped/16_butterfly_covid_prc_convex_frame554.jpg no existe, por lo tanto no se pudo eliminar\n",
      "El archivo data/image/cropped/16_butterfly_covid_prc_convex_frame555.jpg no existe, por lo tanto no se pudo eliminar\n",
      "El archivo data/image/cropped/16_butterfly_covid_prc_convex_frame556.jpg no existe, por lo tanto no se pudo eliminar\n",
      "El archivo data/image/cropped/16_butterfly_covid_prc_convex_frame557.jpg no existe, por lo tanto no se pudo eliminar\n",
      "El archivo data/image/cropped/16_butterfly_covid_prc_convex_frame558.jpg no existe, por lo tanto no se pudo eliminar\n",
      "El archivo data/image/cropped/16_butterfly_covid_prc_convex_frame559.jpg no existe, por lo tanto no se pudo eliminar\n",
      "El archivo data/image/cropped/16_butterfly_covid_prc_convex_frame560.jpg no existe, por lo tanto no se pudo eliminar\n",
      "El archivo data/image/cropped/16_butterfly_covid_prc_convex_frame561.jpg no existe, por lo tanto no se pudo eliminar\n",
      "El archivo data/image/cropped/16_butterfly_covid_prc_convex_frame562.jpg no existe, por lo tanto no se pudo eliminar\n",
      "El archivo data/image/cropped/16_butterfly_covid_prc_convex_frame563.jpg no existe, por lo tanto no se pudo eliminar\n",
      "El archivo data/image/cropped/16_butterfly_covid_prc_convex_frame564.jpg no existe, por lo tanto no se pudo eliminar\n",
      "El archivo data/image/cropped/16_butterfly_covid_prc_convex_frame565.jpg no existe, por lo tanto no se pudo eliminar\n",
      "El archivo data/image/cropped/16_butterfly_covid_prc_convex_frame566.jpg no existe, por lo tanto no se pudo eliminar\n",
      "El archivo data/image/cropped/16_butterfly_covid_prc_convex_frame567.jpg no existe, por lo tanto no se pudo eliminar\n",
      "El archivo data/image/cropped/16_butterfly_covid_prc_convex_frame568.jpg no existe, por lo tanto no se pudo eliminar\n",
      "El archivo data/image/cropped/16_butterfly_covid_prc_convex_frame569.jpg no existe, por lo tanto no se pudo eliminar\n",
      "El archivo data/image/cropped/16_butterfly_covid_prc_convex_frame570.jpg no existe, por lo tanto no se pudo eliminar\n",
      "El archivo data/image/cropped/16_butterfly_covid_prc_convex_frame571.jpg no existe, por lo tanto no se pudo eliminar\n",
      "El archivo data/image/cropped/16_butterfly_covid_prc_convex_frame572.jpg no existe, por lo tanto no se pudo eliminar\n",
      "El archivo data/image/cropped/16_butterfly_covid_prc_convex_frame573.jpg no existe, por lo tanto no se pudo eliminar\n",
      "El archivo data/image/cropped/16_butterfly_covid_prc_convex_frame574.jpg no existe, por lo tanto no se pudo eliminar\n",
      "El archivo data/image/cropped/16_butterfly_covid_prc_convex_frame575.jpg no existe, por lo tanto no se pudo eliminar\n",
      "El archivo data/image/cropped/16_butterfly_covid_prc_convex_frame576.jpg no existe, por lo tanto no se pudo eliminar\n",
      "El archivo data/image/cropped/16_butterfly_covid_prc_convex_frame577.jpg no existe, por lo tanto no se pudo eliminar\n",
      "El archivo data/image/cropped/16_butterfly_covid_prc_convex_frame578.jpg no existe, por lo tanto no se pudo eliminar\n",
      "El archivo data/image/cropped/16_butterfly_covid_prc_convex_frame579.jpg no existe, por lo tanto no se pudo eliminar\n",
      "El archivo data/image/cropped/16_butterfly_covid_prc_convex_frame580.jpg no existe, por lo tanto no se pudo eliminar\n",
      "El archivo data/image/cropped/16_butterfly_covid_prc_convex_frame581.jpg no existe, por lo tanto no se pudo eliminar\n",
      "El archivo data/image/cropped/16_butterfly_covid_prc_convex_frame582.jpg no existe, por lo tanto no se pudo eliminar\n",
      "El archivo data/image/cropped/16_butterfly_covid_prc_convex_frame583.jpg no existe, por lo tanto no se pudo eliminar\n",
      "El archivo data/image/cropped/16_butterfly_covid_prc_convex_frame584.jpg no existe, por lo tanto no se pudo eliminar\n",
      "El archivo data/image/cropped/16_butterfly_covid_prc_convex_frame585.jpg no existe, por lo tanto no se pudo eliminar\n",
      "El archivo data/image/cropped/16_butterfly_covid_prc_convex_frame586.jpg no existe, por lo tanto no se pudo eliminar\n",
      "El archivo data/image/cropped/16_butterfly_covid_prc_convex_frame587.jpg no existe, por lo tanto no se pudo eliminar\n",
      "El archivo data/image/cropped/16_butterfly_covid_prc_convex_frame588.jpg no existe, por lo tanto no se pudo eliminar\n",
      "El archivo data/image/cropped/16_butterfly_covid_prc_convex_frame589.jpg no existe, por lo tanto no se pudo eliminar\n",
      "El archivo data/image/cropped/16_butterfly_covid_prc_convex_frame590.jpg no existe, por lo tanto no se pudo eliminar\n",
      "El archivo data/image/cropped/16_butterfly_covid_prc_convex_frame591.jpg no existe, por lo tanto no se pudo eliminar\n",
      "El archivo data/image/cropped/16_butterfly_covid_prc_convex_frame592.jpg no existe, por lo tanto no se pudo eliminar\n",
      "El archivo data/image/cropped/16_butterfly_covid_prc_convex_frame593.jpg no existe, por lo tanto no se pudo eliminar\n",
      "El archivo data/image/cropped/16_butterfly_covid_prc_convex_frame594.jpg no existe, por lo tanto no se pudo eliminar\n",
      "El archivo data/image/cropped/16_butterfly_covid_prc_convex_frame595.jpg no existe, por lo tanto no se pudo eliminar\n",
      "El archivo data/image/cropped/16_butterfly_covid_prc_convex_frame596.jpg no existe, por lo tanto no se pudo eliminar\n",
      "El archivo data/image/cropped/16_butterfly_covid_prc_convex_frame597.jpg no existe, por lo tanto no se pudo eliminar\n",
      "El archivo data/image/cropped/16_butterfly_covid_prc_convex_frame598.jpg no existe, por lo tanto no se pudo eliminar\n",
      "El archivo data/image/cropped/16_butterfly_covid_prc_convex_frame599.jpg no existe, por lo tanto no se pudo eliminar\n",
      "El archivo data/image/cropped/16_butterfly_covid_prc_convex_frame600.jpg no existe, por lo tanto no se pudo eliminar\n",
      "El archivo data/image/cropped/16_butterfly_covid_prc_convex_frame601.jpg no existe, por lo tanto no se pudo eliminar\n",
      "El archivo data/image/cropped/16_butterfly_covid_prc_convex_frame602.jpg no existe, por lo tanto no se pudo eliminar\n",
      "El archivo data/image/cropped/16_butterfly_covid_prc_convex_frame603.jpg no existe, por lo tanto no se pudo eliminar\n",
      "El archivo data/image/cropped/16_butterfly_covid_prc_convex_frame604.jpg no existe, por lo tanto no se pudo eliminar\n",
      "El archivo data/image/cropped/16_butterfly_covid_prc_convex_frame605.jpg no existe, por lo tanto no se pudo eliminar\n",
      "El archivo data/image/cropped/16_butterfly_covid_prc_convex_frame606.jpg no existe, por lo tanto no se pudo eliminar\n",
      "El archivo data/image/cropped/16_butterfly_covid_prc_convex_frame607.jpg no existe, por lo tanto no se pudo eliminar\n",
      "El archivo data/image/cropped/16_butterfly_covid_prc_convex_frame608.jpg no existe, por lo tanto no se pudo eliminar\n",
      "El archivo data/image/cropped/16_butterfly_covid_prc_convex_frame609.jpg no existe, por lo tanto no se pudo eliminar\n"
     ]
    },
    {
     "name": "stderr",
     "output_type": "stream",
     "text": [
      " 42% (3 of 7) |###########               | Elapsed Time: 0:00:00 ETA:   0:00:00\n",
      " 57% (4 of 7) |##############            | Elapsed Time: 0:00:00 ETA:   0:00:00\n",
      "100% (7 of 7) |##########################| Elapsed Time: 0:00:00 Time:  0:00:00\n"
     ]
    },
    {
     "name": "stdout",
     "output_type": "stream",
     "text": [
      "El archivo data/image/cropped/16_butterfly_covid_prc_convex_frame610.jpg no existe, por lo tanto no se pudo eliminar\n",
      "El archivo data/image/cropped/16_butterfly_covid_prc_convex_frame611.jpg no existe, por lo tanto no se pudo eliminar\n",
      "El archivo data/image/cropped/16_butterfly_covid_prc_convex_frame612.jpg no existe, por lo tanto no se pudo eliminar\n",
      "El archivo data/image/cropped/16_butterfly_covid_prc_convex_frame613.jpg no existe, por lo tanto no se pudo eliminar\n",
      "El archivo data/image/cropped/16_butterfly_covid_prc_convex_frame614.jpg no existe, por lo tanto no se pudo eliminar\n",
      "El archivo data/image/cropped/16_butterfly_covid_prc_convex_frame615.jpg no existe, por lo tanto no se pudo eliminar\n",
      "El archivo data/image/cropped/16_butterfly_covid_prc_convex_frame616.jpg no existe, por lo tanto no se pudo eliminar\n",
      "El archivo data/image/cropped/16_butterfly_covid_prc_convex_frame617.jpg no existe, por lo tanto no se pudo eliminar\n",
      "El archivo data/image/cropped/16_butterfly_covid_prc_convex_frame618.jpg no existe, por lo tanto no se pudo eliminar\n",
      "El archivo data/image/cropped/16_butterfly_covid_prc_convex_frame619.jpg no existe, por lo tanto no se pudo eliminar\n",
      "El archivo data/image/cropped/16_butterfly_covid_prc_convex_frame620.jpg no existe, por lo tanto no se pudo eliminar\n",
      "El archivo data/image/cropped/16_butterfly_covid_prc_convex_frame621.jpg no existe, por lo tanto no se pudo eliminar\n",
      "El archivo data/image/cropped/16_butterfly_covid_prc_convex_frame622.jpg no existe, por lo tanto no se pudo eliminar\n",
      "El archivo data/image/cropped/16_butterfly_covid_prc_convex_frame623.jpg no existe, por lo tanto no se pudo eliminar\n",
      "El archivo data/image/cropped/16_butterfly_covid_prc_convex_frame624.jpg no existe, por lo tanto no se pudo eliminar\n",
      "El archivo data/image/cropped/16_butterfly_covid_prc_convex_frame625.jpg no existe, por lo tanto no se pudo eliminar\n",
      "El archivo data/image/cropped/16_butterfly_covid_prc_convex_frame626.jpg no existe, por lo tanto no se pudo eliminar\n",
      "El archivo data/image/cropped/16_butterfly_covid_prc_convex_frame627.jpg no existe, por lo tanto no se pudo eliminar\n",
      "El archivo data/image/cropped/16_butterfly_covid_prc_convex_frame628.jpg no existe, por lo tanto no se pudo eliminar\n",
      "El archivo data/image/cropped/16_butterfly_covid_prc_convex_frame629.jpg no existe, por lo tanto no se pudo eliminar\n",
      "El archivo data/image/cropped/16_butterfly_covid_prc_convex_frame630.jpg no existe, por lo tanto no se pudo eliminar\n",
      "El archivo data/image/cropped/16_butterfly_covid_prc_convex_frame631.jpg no existe, por lo tanto no se pudo eliminar\n",
      "El archivo data/image/cropped/16_butterfly_covid_prc_convex_frame632.jpg no existe, por lo tanto no se pudo eliminar\n",
      "El archivo data/image/cropped/16_butterfly_covid_prc_convex_frame633.jpg no existe, por lo tanto no se pudo eliminar\n",
      "El archivo data/image/cropped/16_butterfly_covid_prc_convex_frame634.jpg no existe, por lo tanto no se pudo eliminar\n",
      "El archivo data/image/cropped/16_butterfly_covid_prc_convex_frame635.jpg no existe, por lo tanto no se pudo eliminar\n",
      "El archivo data/image/cropped/16_butterfly_covid_prc_convex_frame636.jpg no existe, por lo tanto no se pudo eliminar\n",
      "El archivo data/image/cropped/16_butterfly_covid_prc_convex_frame637.jpg no existe, por lo tanto no se pudo eliminar\n",
      "El archivo data/image/cropped/16_butterfly_covid_prc_convex_frame638.jpg no existe, por lo tanto no se pudo eliminar\n",
      "El archivo data/image/cropped/16_butterfly_covid_prc_convex_frame639.jpg no existe, por lo tanto no se pudo eliminar\n",
      "El archivo data/image/cropped/16_butterfly_covid_prc_convex_frame640.jpg no existe, por lo tanto no se pudo eliminar\n",
      "El archivo data/image/cropped/16_butterfly_covid_prc_convex_frame641.jpg no existe, por lo tanto no se pudo eliminar\n",
      "El archivo data/image/cropped/16_butterfly_covid_prc_convex_frame642.jpg no existe, por lo tanto no se pudo eliminar\n",
      "El archivo data/image/cropped/16_butterfly_covid_prc_convex_frame643.jpg no existe, por lo tanto no se pudo eliminar\n",
      "El archivo data/image/cropped/16_butterfly_covid_prc_convex_frame644.jpg no existe, por lo tanto no se pudo eliminar\n",
      "El archivo data/image/cropped/16_butterfly_covid_prc_convex_frame645.jpg no existe, por lo tanto no se pudo eliminar\n",
      "El archivo data/image/cropped/16_butterfly_covid_prc_convex_frame646.jpg no existe, por lo tanto no se pudo eliminar\n",
      "El archivo data/image/cropped/16_butterfly_covid_prc_convex_frame647.jpg no existe, por lo tanto no se pudo eliminar\n",
      "El archivo data/image/cropped/16_butterfly_covid_prc_convex_frame648.jpg no existe, por lo tanto no se pudo eliminar\n",
      "El archivo data/image/cropped/16_butterfly_covid_prc_convex_frame649.jpg no existe, por lo tanto no se pudo eliminar\n",
      "El archivo data/image/cropped/16_butterfly_covid_prc_convex_frame650.jpg no existe, por lo tanto no se pudo eliminar\n",
      "El archivo data/image/cropped/16_butterfly_covid_prc_convex_frame651.jpg no existe, por lo tanto no se pudo eliminar\n",
      "El archivo data/image/cropped/16_butterfly_covid_prc_convex_frame652.jpg no existe, por lo tanto no se pudo eliminar\n",
      "El archivo data/image/cropped/16_butterfly_covid_prc_convex_frame653.jpg no existe, por lo tanto no se pudo eliminar\n",
      "El archivo data/image/cropped/16_butterfly_covid_prc_convex_frame654.jpg no existe, por lo tanto no se pudo eliminar\n",
      "El archivo data/image/cropped/16_butterfly_covid_prc_convex_frame655.jpg no existe, por lo tanto no se pudo eliminar\n",
      "El archivo data/image/cropped/16_butterfly_covid_prc_convex_frame656.jpg no existe, por lo tanto no se pudo eliminar\n",
      "El archivo data/image/cropped/16_butterfly_covid_prc_convex_frame657.jpg no existe, por lo tanto no se pudo eliminar\n",
      "El archivo data/image/cropped/16_butterfly_covid_prc_convex_frame658.jpg no existe, por lo tanto no se pudo eliminar\n",
      "El archivo data/image/cropped/16_butterfly_covid_prc_convex_frame659.jpg no existe, por lo tanto no se pudo eliminar\n",
      "El archivo data/image/cropped/16_butterfly_covid_prc_convex_frame660.jpg no existe, por lo tanto no se pudo eliminar\n",
      "El archivo data/image/cropped/16_butterfly_covid_prc_convex_frame661.jpg no existe, por lo tanto no se pudo eliminar\n",
      "El archivo data/image/cropped/16_butterfly_covid_prc_convex_frame662.jpg no existe, por lo tanto no se pudo eliminar\n",
      "El archivo data/image/cropped/16_butterfly_covid_prc_convex_frame663.jpg no existe, por lo tanto no se pudo eliminar\n",
      "El archivo data/image/cropped/16_butterfly_covid_prc_convex_frame664.jpg no existe, por lo tanto no se pudo eliminar\n",
      "El archivo data/image/cropped/16_butterfly_covid_prc_convex_frame665.jpg no existe, por lo tanto no se pudo eliminar\n",
      "El archivo data/image/cropped/16_butterfly_covid_prc_convex_frame666.jpg no existe, por lo tanto no se pudo eliminar\n",
      "El archivo data/image/cropped/16_butterfly_covid_prc_convex_frame667.jpg no existe, por lo tanto no se pudo eliminar\n",
      "El archivo data/image/cropped/16_butterfly_covid_prc_convex_frame668.jpg no existe, por lo tanto no se pudo eliminar\n",
      "El archivo data/image/cropped/16_butterfly_covid_prc_convex_frame669.jpg no existe, por lo tanto no se pudo eliminar\n",
      "El archivo data/image/cropped/16_butterfly_covid_prc_convex_frame670.jpg no existe, por lo tanto no se pudo eliminar\n",
      "El archivo data/image/cropped/16_butterfly_covid_prc_convex_frame671.jpg no existe, por lo tanto no se pudo eliminar\n",
      "El archivo data/image/cropped/16_butterfly_covid_prc_convex_frame672.jpg no existe, por lo tanto no se pudo eliminar\n",
      "El archivo data/image/cropped/16_butterfly_covid_prc_convex_frame673.jpg no existe, por lo tanto no se pudo eliminar\n",
      "El archivo data/image/cropped/16_butterfly_covid_prc_convex_frame674.jpg no existe, por lo tanto no se pudo eliminar\n",
      "El archivo data/image/cropped/16_butterfly_covid_prc_convex_frame675.jpg no existe, por lo tanto no se pudo eliminar\n",
      "El archivo data/image/cropped/16_butterfly_covid_prc_convex_frame676.jpg no existe, por lo tanto no se pudo eliminar\n",
      "El archivo data/image/cropped/16_butterfly_covid_prc_convex_frame677.jpg no existe, por lo tanto no se pudo eliminar\n",
      "El archivo data/image/cropped/16_butterfly_covid_prc_convex_frame678.jpg no existe, por lo tanto no se pudo eliminar\n",
      "El archivo data/image/cropped/16_butterfly_covid_prc_convex_frame679.jpg no existe, por lo tanto no se pudo eliminar\n",
      "El archivo data/image/cropped/16_butterfly_covid_prc_convex_frame680.jpg no existe, por lo tanto no se pudo eliminar\n",
      "El archivo data/image/cropped/16_butterfly_covid_prc_convex_frame681.jpg no existe, por lo tanto no se pudo eliminar\n",
      "El archivo data/image/cropped/16_butterfly_covid_prc_convex_frame682.jpg no existe, por lo tanto no se pudo eliminar\n",
      "El archivo data/image/cropped/16_butterfly_covid_prc_convex_frame683.jpg no existe, por lo tanto no se pudo eliminar\n",
      "El archivo data/image/cropped/16_butterfly_covid_prc_convex_frame684.jpg no existe, por lo tanto no se pudo eliminar\n",
      "El archivo data/image/cropped/16_butterfly_covid_prc_convex_frame685.jpg no existe, por lo tanto no se pudo eliminar\n",
      "El archivo data/image/cropped/16_butterfly_covid_prc_convex_frame686.jpg no existe, por lo tanto no se pudo eliminar\n",
      "El archivo data/image/cropped/16_butterfly_covid_prc_convex_frame687.jpg no existe, por lo tanto no se pudo eliminar\n",
      "El archivo data/image/cropped/16_butterfly_covid_prc_convex_frame688.jpg no existe, por lo tanto no se pudo eliminar\n",
      "El archivo data/image/cropped/16_butterfly_covid_prc_convex_frame689.jpg no existe, por lo tanto no se pudo eliminar\n",
      "El archivo data/image/cropped/16_butterfly_covid_prc_convex_frame690.jpg no existe, por lo tanto no se pudo eliminar\n",
      "El archivo data/image/cropped/16_butterfly_covid_prc_convex_frame691.jpg no existe, por lo tanto no se pudo eliminar\n",
      "El archivo data/image/cropped/16_butterfly_covid_prc_convex_frame692.jpg no existe, por lo tanto no se pudo eliminar\n",
      "El archivo data/image/cropped/16_butterfly_covid_prc_convex_frame693.jpg no existe, por lo tanto no se pudo eliminar\n",
      "El archivo data/image/cropped/16_butterfly_covid_prc_convex_frame694.jpg no existe, por lo tanto no se pudo eliminar\n",
      "El archivo data/image/cropped/16_butterfly_covid_prc_convex_frame695.jpg no existe, por lo tanto no se pudo eliminar\n",
      "El archivo data/image/cropped/16_butterfly_covid_prc_convex_frame696.jpg no existe, por lo tanto no se pudo eliminar\n",
      "El archivo data/image/cropped/16_butterfly_covid_prc_convex_frame697.jpg no existe, por lo tanto no se pudo eliminar\n",
      "El archivo data/image/cropped/16_butterfly_covid_prc_convex_frame698.jpg no existe, por lo tanto no se pudo eliminar\n",
      "El archivo data/image/cropped/16_butterfly_covid_prc_convex_frame699.jpg no existe, por lo tanto no se pudo eliminar\n",
      "El archivo data/image/cropped/20_butterfly_normal_prc_convex_frame41.jpg no existe, por lo tanto no se pudo eliminar\n",
      "El archivo data/image/cropped/20_butterfly_normal_prc_convex_frame42.jpg no existe, por lo tanto no se pudo eliminar\n",
      "El archivo data/image/cropped/20_butterfly_normal_prc_convex_frame43.jpg no existe, por lo tanto no se pudo eliminar\n",
      "El archivo data/image/cropped/20_butterfly_normal_prc_convex_frame44.jpg no existe, por lo tanto no se pudo eliminar\n",
      "El archivo data/image/cropped/20_butterfly_normal_prc_convex_frame45.jpg no existe, por lo tanto no se pudo eliminar\n",
      "El archivo data/image/cropped/20_butterfly_normal_prc_convex_frame46.jpg no existe, por lo tanto no se pudo eliminar\n",
      "El archivo data/image/cropped/20_butterfly_normal_prc_convex_frame56.jpg no existe, por lo tanto no se pudo eliminar\n",
      "El archivo data/image/cropped/20_butterfly_normal_prc_convex_frame57.jpg no existe, por lo tanto no se pudo eliminar\n",
      "El archivo data/image/cropped/20_butterfly_normal_prc_convex_frame58.jpg no existe, por lo tanto no se pudo eliminar\n",
      "El archivo data/image/cropped/20_butterfly_normal_prc_convex_frame68.jpg no existe, por lo tanto no se pudo eliminar\n",
      "El archivo data/image/cropped/20_butterfly_normal_prc_convex_frame69.jpg no existe, por lo tanto no se pudo eliminar\n",
      "El archivo data/image/cropped/20_butterfly_normal_prc_convex_frame70.jpg no existe, por lo tanto no se pudo eliminar\n",
      "El archivo data/image/cropped/20_butterfly_normal_prc_convex_frame71.jpg no existe, por lo tanto no se pudo eliminar\n",
      "El archivo data/image/cropped/20_butterfly_normal_prc_convex_frame72.jpg no existe, por lo tanto no se pudo eliminar\n",
      "El archivo data/image/cropped/20_butterfly_normal_prc_convex_frame73.jpg no existe, por lo tanto no se pudo eliminar\n",
      "El archivo data/image/cropped/20_butterfly_normal_prc_convex_frame74.jpg no existe, por lo tanto no se pudo eliminar\n",
      "El archivo data/image/cropped/20_butterfly_normal_prc_convex_frame75.jpg no existe, por lo tanto no se pudo eliminar\n",
      "El archivo data/image/cropped/20_butterfly_normal_prc_convex_frame76.jpg no existe, por lo tanto no se pudo eliminar\n",
      "El archivo data/image/cropped/20_butterfly_normal_prc_convex_frame77.jpg no existe, por lo tanto no se pudo eliminar\n",
      "El archivo data/image/cropped/20_butterfly_normal_prc_convex_frame78.jpg no existe, por lo tanto no se pudo eliminar\n",
      "El archivo data/image/cropped/20_butterfly_normal_prc_convex_frame79.jpg no existe, por lo tanto no se pudo eliminar\n",
      "El archivo data/image/cropped/20_butterfly_normal_prc_convex_frame80.jpg no existe, por lo tanto no se pudo eliminar\n",
      "El archivo data/image/cropped/20_butterfly_normal_prc_convex_frame81.jpg no existe, por lo tanto no se pudo eliminar\n",
      "El archivo data/image/cropped/20_butterfly_normal_prc_convex_frame82.jpg no existe, por lo tanto no se pudo eliminar\n",
      "El archivo data/image/cropped/20_butterfly_normal_prc_convex_frame83.jpg no existe, por lo tanto no se pudo eliminar\n",
      "El archivo data/image/cropped/20_butterfly_normal_prc_convex_frame84.jpg no existe, por lo tanto no se pudo eliminar\n",
      "El archivo data/image/cropped/20_butterfly_normal_prc_convex_frame85.jpg no existe, por lo tanto no se pudo eliminar\n",
      "El archivo data/image/cropped/20_butterfly_normal_prc_convex_frame86.jpg no existe, por lo tanto no se pudo eliminar\n",
      "El archivo data/image/cropped/20_butterfly_normal_prc_convex_frame87.jpg no existe, por lo tanto no se pudo eliminar\n",
      "El archivo data/image/cropped/20_butterfly_normal_prc_convex_frame88.jpg no existe, por lo tanto no se pudo eliminar\n",
      "El archivo data/image/cropped/20_butterfly_normal_prc_convex_frame89.jpg no existe, por lo tanto no se pudo eliminar\n",
      "El archivo data/image/cropped/20_butterfly_normal_prc_convex_frame90.jpg no existe, por lo tanto no se pudo eliminar\n",
      "El archivo data/image/cropped/20_butterfly_normal_prc_convex_frame91.jpg no existe, por lo tanto no se pudo eliminar\n",
      "El archivo data/image/cropped/20_butterfly_normal_prc_convex_frame92.jpg no existe, por lo tanto no se pudo eliminar\n",
      "El archivo data/image/cropped/20_butterfly_normal_prc_convex_frame93.jpg no existe, por lo tanto no se pudo eliminar\n",
      "El archivo data/image/cropped/20_butterfly_normal_prc_convex_frame94.jpg no existe, por lo tanto no se pudo eliminar\n",
      "El archivo data/image/cropped/20_butterfly_normal_prc_convex_frame95.jpg no existe, por lo tanto no se pudo eliminar\n",
      "El archivo data/image/cropped/20_butterfly_normal_prc_convex_frame96.jpg no existe, por lo tanto no se pudo eliminar\n",
      "El archivo data/image/cropped/20_butterfly_normal_prc_convex_frame97.jpg no existe, por lo tanto no se pudo eliminar\n",
      "El archivo data/image/cropped/20_butterfly_normal_prc_convex_frame98.jpg no existe, por lo tanto no se pudo eliminar\n",
      "El archivo data/image/cropped/20_butterfly_normal_prc_convex_frame99.jpg no existe, por lo tanto no se pudo eliminar\n",
      "El archivo data/image/cropped/20_butterfly_normal_prc_convex_frame100.jpg no existe, por lo tanto no se pudo eliminar\n",
      "El archivo data/image/cropped/20_butterfly_normal_prc_convex_frame101.jpg no existe, por lo tanto no se pudo eliminar\n",
      "El archivo data/image/cropped/20_butterfly_normal_prc_convex_frame102.jpg no existe, por lo tanto no se pudo eliminar\n",
      "El archivo data/image/cropped/20_butterfly_normal_prc_convex_frame103.jpg no existe, por lo tanto no se pudo eliminar\n",
      "El archivo data/image/cropped/20_butterfly_normal_prc_convex_frame104.jpg no existe, por lo tanto no se pudo eliminar\n",
      "El archivo data/image/cropped/20_butterfly_normal_prc_convex_frame105.jpg no existe, por lo tanto no se pudo eliminar\n",
      "El archivo data/image/cropped/20_butterfly_normal_prc_convex_frame106.jpg no existe, por lo tanto no se pudo eliminar\n",
      "El archivo data/image/cropped/20_butterfly_normal_prc_convex_frame107.jpg no existe, por lo tanto no se pudo eliminar\n",
      "El archivo data/image/cropped/20_butterfly_normal_prc_convex_frame108.jpg no existe, por lo tanto no se pudo eliminar\n",
      "El archivo data/image/cropped/20_butterfly_normal_prc_convex_frame109.jpg no existe, por lo tanto no se pudo eliminar\n",
      "El archivo data/image/cropped/20_butterfly_normal_prc_convex_frame110.jpg no existe, por lo tanto no se pudo eliminar\n",
      "El archivo data/image/cropped/20_butterfly_normal_prc_convex_frame111.jpg no existe, por lo tanto no se pudo eliminar\n",
      "El archivo data/image/cropped/20_butterfly_normal_prc_convex_frame112.jpg no existe, por lo tanto no se pudo eliminar\n",
      "El archivo data/image/cropped/20_butterfly_normal_prc_convex_frame113.jpg no existe, por lo tanto no se pudo eliminar\n",
      "El archivo data/image/cropped/20_butterfly_normal_prc_convex_frame114.jpg no existe, por lo tanto no se pudo eliminar\n",
      "El archivo data/image/cropped/20_butterfly_normal_prc_convex_frame115.jpg no existe, por lo tanto no se pudo eliminar\n",
      "El archivo data/image/cropped/20_butterfly_normal_prc_convex_frame116.jpg no existe, por lo tanto no se pudo eliminar\n",
      "El archivo data/image/cropped/20_butterfly_normal_prc_convex_frame117.jpg no existe, por lo tanto no se pudo eliminar\n",
      "El archivo data/image/cropped/20_butterfly_normal_prc_convex_frame118.jpg no existe, por lo tanto no se pudo eliminar\n",
      "El archivo data/image/cropped/20_butterfly_normal_prc_convex_frame119.jpg no existe, por lo tanto no se pudo eliminar\n",
      "El archivo data/image/cropped/20_butterfly_normal_prc_convex_frame120.jpg no existe, por lo tanto no se pudo eliminar\n",
      "El archivo data/image/cropped/20_butterfly_normal_prc_convex_frame121.jpg no existe, por lo tanto no se pudo eliminar\n",
      "El archivo data/image/cropped/20_butterfly_normal_prc_convex_frame122.jpg no existe, por lo tanto no se pudo eliminar\n",
      "El archivo data/image/cropped/20_butterfly_normal_prc_convex_frame123.jpg no existe, por lo tanto no se pudo eliminar\n",
      "El archivo data/image/cropped/20_butterfly_normal_prc_convex_frame124.jpg no existe, por lo tanto no se pudo eliminar\n",
      "El archivo data/image/cropped/20_butterfly_normal_prc_convex_frame125.jpg no existe, por lo tanto no se pudo eliminar\n",
      "El archivo data/image/cropped/20_butterfly_normal_prc_convex_frame126.jpg no existe, por lo tanto no se pudo eliminar\n",
      "El archivo data/image/cropped/20_butterfly_normal_prc_convex_frame127.jpg no existe, por lo tanto no se pudo eliminar\n",
      "El archivo data/image/cropped/20_butterfly_normal_prc_convex_frame128.jpg no existe, por lo tanto no se pudo eliminar\n",
      "El archivo data/image/cropped/20_butterfly_normal_prc_convex_frame129.jpg no existe, por lo tanto no se pudo eliminar\n",
      "El archivo data/image/cropped/20_butterfly_normal_prc_convex_frame130.jpg no existe, por lo tanto no se pudo eliminar\n",
      "El archivo data/image/cropped/20_butterfly_normal_prc_convex_frame131.jpg no existe, por lo tanto no se pudo eliminar\n",
      "El archivo data/image/cropped/20_butterfly_normal_prc_convex_frame132.jpg no existe, por lo tanto no se pudo eliminar\n",
      "El archivo data/image/cropped/20_butterfly_normal_prc_convex_frame133.jpg no existe, por lo tanto no se pudo eliminar\n",
      "El archivo data/image/cropped/20_butterfly_normal_prc_convex_frame134.jpg no existe, por lo tanto no se pudo eliminar\n",
      "El archivo data/image/cropped/20_butterfly_normal_prc_convex_frame135.jpg no existe, por lo tanto no se pudo eliminar\n",
      "El archivo data/image/cropped/20_butterfly_normal_prc_convex_frame136.jpg no existe, por lo tanto no se pudo eliminar\n",
      "El archivo data/image/cropped/20_butterfly_normal_prc_convex_frame137.jpg no existe, por lo tanto no se pudo eliminar\n",
      "El archivo data/image/cropped/20_butterfly_normal_prc_convex_frame138.jpg no existe, por lo tanto no se pudo eliminar\n",
      "El archivo data/image/cropped/20_butterfly_normal_prc_convex_frame139.jpg no existe, por lo tanto no se pudo eliminar\n",
      "El archivo data/image/cropped/20_butterfly_normal_prc_convex_frame140.jpg no existe, por lo tanto no se pudo eliminar\n",
      "El archivo data/image/cropped/20_butterfly_normal_prc_convex_frame141.jpg no existe, por lo tanto no se pudo eliminar\n",
      "El archivo data/image/cropped/20_butterfly_normal_prc_convex_frame142.jpg no existe, por lo tanto no se pudo eliminar\n",
      "El archivo data/image/cropped/20_butterfly_normal_prc_convex_frame143.jpg no existe, por lo tanto no se pudo eliminar\n",
      "El archivo data/image/cropped/20_butterfly_normal_prc_convex_frame144.jpg no existe, por lo tanto no se pudo eliminar\n",
      "El archivo data/image/cropped/20_butterfly_normal_prc_convex_frame145.jpg no existe, por lo tanto no se pudo eliminar\n",
      "El archivo data/image/cropped/20_butterfly_normal_prc_convex_frame146.jpg no existe, por lo tanto no se pudo eliminar\n",
      "El archivo data/image/cropped/20_butterfly_normal_prc_convex_frame147.jpg no existe, por lo tanto no se pudo eliminar\n",
      "El archivo data/image/cropped/20_butterfly_normal_prc_convex_frame148.jpg no existe, por lo tanto no se pudo eliminar\n",
      "El archivo data/image/cropped/20_butterfly_normal_prc_convex_frame149.jpg no existe, por lo tanto no se pudo eliminar\n",
      "El archivo data/image/cropped/20_butterfly_normal_prc_convex_frame150.jpg no existe, por lo tanto no se pudo eliminar\n",
      "El archivo data/image/cropped/20_butterfly_normal_prc_convex_frame151.jpg no existe, por lo tanto no se pudo eliminar\n",
      "El archivo data/image/cropped/20_butterfly_normal_prc_convex_frame152.jpg no existe, por lo tanto no se pudo eliminar\n",
      "El archivo data/image/cropped/20_butterfly_normal_prc_convex_frame153.jpg no existe, por lo tanto no se pudo eliminar\n",
      "El archivo data/image/cropped/20_butterfly_normal_prc_convex_frame154.jpg no existe, por lo tanto no se pudo eliminar\n",
      "El archivo data/image/cropped/20_butterfly_normal_prc_convex_frame155.jpg no existe, por lo tanto no se pudo eliminar\n",
      "El archivo data/image/cropped/20_butterfly_normal_prc_convex_frame156.jpg no existe, por lo tanto no se pudo eliminar\n",
      "El archivo data/image/cropped/20_butterfly_normal_prc_convex_frame157.jpg no existe, por lo tanto no se pudo eliminar\n",
      "El archivo data/image/cropped/20_butterfly_normal_prc_convex_frame158.jpg no existe, por lo tanto no se pudo eliminar\n",
      "El archivo data/image/cropped/20_butterfly_normal_prc_convex_frame159.jpg no existe, por lo tanto no se pudo eliminar\n",
      "El archivo data/image/cropped/20_butterfly_normal_prc_convex_frame160.jpg no existe, por lo tanto no se pudo eliminar\n",
      "El archivo data/image/cropped/20_butterfly_normal_prc_convex_frame161.jpg no existe, por lo tanto no se pudo eliminar\n",
      "El archivo data/image/cropped/20_butterfly_normal_prc_convex_frame162.jpg no existe, por lo tanto no se pudo eliminar\n",
      "El archivo data/image/cropped/20_butterfly_normal_prc_convex_frame163.jpg no existe, por lo tanto no se pudo eliminar\n",
      "El archivo data/image/cropped/20_butterfly_normal_prc_convex_frame164.jpg no existe, por lo tanto no se pudo eliminar\n",
      "El archivo data/image/cropped/20_butterfly_normal_prc_convex_frame165.jpg no existe, por lo tanto no se pudo eliminar\n",
      "El archivo data/image/cropped/20_butterfly_normal_prc_convex_frame166.jpg no existe, por lo tanto no se pudo eliminar\n",
      "El archivo data/image/cropped/20_butterfly_normal_prc_convex_frame167.jpg no existe, por lo tanto no se pudo eliminar\n",
      "El archivo data/image/cropped/20_butterfly_normal_prc_convex_frame168.jpg no existe, por lo tanto no se pudo eliminar\n",
      "El archivo data/image/cropped/20_butterfly_normal_prc_convex_frame169.jpg no existe, por lo tanto no se pudo eliminar\n",
      "El archivo data/image/cropped/20_butterfly_normal_prc_convex_frame170.jpg no existe, por lo tanto no se pudo eliminar\n",
      "El archivo data/image/cropped/20_butterfly_normal_prc_convex_frame171.jpg no existe, por lo tanto no se pudo eliminar\n",
      "El archivo data/image/cropped/20_butterfly_normal_prc_convex_frame172.jpg no existe, por lo tanto no se pudo eliminar\n",
      "El archivo data/image/cropped/20_butterfly_normal_prc_convex_frame173.jpg no existe, por lo tanto no se pudo eliminar\n",
      "El archivo data/image/cropped/20_butterfly_normal_prc_convex_frame174.jpg no existe, por lo tanto no se pudo eliminar\n",
      "El archivo data/image/cropped/20_butterfly_normal_prc_convex_frame175.jpg no existe, por lo tanto no se pudo eliminar\n",
      "El archivo data/image/cropped/20_butterfly_normal_prc_convex_frame176.jpg no existe, por lo tanto no se pudo eliminar\n",
      "El archivo data/image/cropped/20_butterfly_normal_prc_convex_frame177.jpg no existe, por lo tanto no se pudo eliminar\n",
      "El archivo data/image/cropped/20_butterfly_normal_prc_convex_frame178.jpg no existe, por lo tanto no se pudo eliminar\n",
      "El archivo data/image/cropped/20_butterfly_normal_prc_convex_frame185.jpg no existe, por lo tanto no se pudo eliminar\n",
      "El archivo data/image/cropped/20_butterfly_normal_prc_convex_frame186.jpg no existe, por lo tanto no se pudo eliminar\n",
      "El archivo data/image/cropped/20_butterfly_normal_prc_convex_frame187.jpg no existe, por lo tanto no se pudo eliminar\n",
      "El archivo data/image/cropped/20_butterfly_normal_prc_convex_frame188.jpg no existe, por lo tanto no se pudo eliminar\n",
      "El archivo data/image/cropped/20_butterfly_normal_prc_convex_frame189.jpg no existe, por lo tanto no se pudo eliminar\n",
      "El archivo data/image/cropped/20_butterfly_normal_prc_convex_frame190.jpg no existe, por lo tanto no se pudo eliminar\n",
      "El archivo data/image/cropped/20_butterfly_normal_prc_convex_frame191.jpg no existe, por lo tanto no se pudo eliminar\n",
      "El archivo data/image/cropped/20_butterfly_normal_prc_convex_frame192.jpg no existe, por lo tanto no se pudo eliminar\n",
      "El archivo data/image/cropped/20_butterfly_normal_prc_convex_frame193.jpg no existe, por lo tanto no se pudo eliminar\n",
      "El archivo data/image/cropped/20_butterfly_normal_prc_convex_frame194.jpg no existe, por lo tanto no se pudo eliminar\n",
      "El archivo data/image/cropped/20_butterfly_normal_prc_convex_frame195.jpg no existe, por lo tanto no se pudo eliminar\n",
      "El archivo data/image/cropped/20_butterfly_normal_prc_convex_frame196.jpg no existe, por lo tanto no se pudo eliminar\n",
      "El archivo data/image/cropped/20_butterfly_normal_prc_convex_frame197.jpg no existe, por lo tanto no se pudo eliminar\n",
      "El archivo data/image/cropped/20_butterfly_normal_prc_convex_frame198.jpg no existe, por lo tanto no se pudo eliminar\n",
      "El archivo data/image/cropped/20_butterfly_normal_prc_convex_frame199.jpg no existe, por lo tanto no se pudo eliminar\n",
      "El archivo data/image/cropped/20_butterfly_normal_prc_convex_frame200.jpg no existe, por lo tanto no se pudo eliminar\n",
      "El archivo data/image/cropped/20_butterfly_normal_prc_convex_frame201.jpg no existe, por lo tanto no se pudo eliminar\n",
      "El archivo data/image/cropped/20_butterfly_normal_prc_convex_frame202.jpg no existe, por lo tanto no se pudo eliminar\n",
      "El archivo data/image/cropped/20_butterfly_normal_prc_convex_frame203.jpg no existe, por lo tanto no se pudo eliminar\n",
      "El archivo data/image/cropped/20_butterfly_normal_prc_convex_frame204.jpg no existe, por lo tanto no se pudo eliminar\n",
      "El archivo data/image/cropped/20_butterfly_normal_prc_convex_frame205.jpg no existe, por lo tanto no se pudo eliminar\n",
      "El archivo data/image/cropped/20_butterfly_normal_prc_convex_frame206.jpg no existe, por lo tanto no se pudo eliminar\n",
      "El archivo data/image/cropped/20_butterfly_normal_prc_convex_frame207.jpg no existe, por lo tanto no se pudo eliminar\n",
      "El archivo data/image/cropped/20_butterfly_normal_prc_convex_frame208.jpg no existe, por lo tanto no se pudo eliminar\n",
      "El archivo data/image/cropped/20_butterfly_normal_prc_convex_frame209.jpg no existe, por lo tanto no se pudo eliminar\n",
      "El archivo data/image/cropped/20_butterfly_normal_prc_convex_frame210.jpg no existe, por lo tanto no se pudo eliminar\n",
      "El archivo data/image/cropped/20_butterfly_normal_prc_convex_frame211.jpg no existe, por lo tanto no se pudo eliminar\n",
      "El archivo data/image/cropped/20_butterfly_normal_prc_convex_frame212.jpg no existe, por lo tanto no se pudo eliminar\n",
      "El archivo data/image/cropped/20_butterfly_normal_prc_convex_frame213.jpg no existe, por lo tanto no se pudo eliminar\n",
      "El archivo data/image/cropped/20_butterfly_normal_prc_convex_frame214.jpg no existe, por lo tanto no se pudo eliminar\n",
      "El archivo data/image/cropped/20_butterfly_normal_prc_convex_frame215.jpg no existe, por lo tanto no se pudo eliminar\n",
      "El archivo data/image/cropped/20_butterfly_normal_prc_convex_frame216.jpg no existe, por lo tanto no se pudo eliminar\n",
      "El archivo data/image/cropped/20_butterfly_normal_prc_convex_frame217.jpg no existe, por lo tanto no se pudo eliminar\n",
      "El archivo data/image/cropped/20_butterfly_normal_prc_convex_frame218.jpg no existe, por lo tanto no se pudo eliminar\n",
      "El archivo data/image/cropped/20_butterfly_normal_prc_convex_frame219.jpg no existe, por lo tanto no se pudo eliminar\n",
      "El archivo data/image/cropped/20_butterfly_normal_prc_convex_frame220.jpg no existe, por lo tanto no se pudo eliminar\n",
      "El archivo data/image/cropped/20_butterfly_normal_prc_convex_frame221.jpg no existe, por lo tanto no se pudo eliminar\n",
      "El archivo data/image/cropped/20_butterfly_normal_prc_convex_frame222.jpg no existe, por lo tanto no se pudo eliminar\n",
      "El archivo data/image/cropped/20_butterfly_normal_prc_convex_frame223.jpg no existe, por lo tanto no se pudo eliminar\n",
      "El archivo data/image/cropped/20_butterfly_normal_prc_convex_frame224.jpg no existe, por lo tanto no se pudo eliminar\n",
      "El archivo data/image/cropped/20_butterfly_normal_prc_convex_frame225.jpg no existe, por lo tanto no se pudo eliminar\n",
      "El archivo data/image/cropped/20_butterfly_normal_prc_convex_frame226.jpg no existe, por lo tanto no se pudo eliminar\n",
      "El archivo data/image/cropped/20_butterfly_normal_prc_convex_frame227.jpg no existe, por lo tanto no se pudo eliminar\n",
      "El archivo data/image/cropped/20_butterfly_normal_prc_convex_frame228.jpg no existe, por lo tanto no se pudo eliminar\n",
      "El archivo data/image/cropped/20_butterfly_normal_prc_convex_frame229.jpg no existe, por lo tanto no se pudo eliminar\n",
      "El archivo data/image/cropped/20_butterfly_normal_prc_convex_frame230.jpg no existe, por lo tanto no se pudo eliminar\n",
      "El archivo data/image/cropped/20_butterfly_normal_prc_convex_frame231.jpg no existe, por lo tanto no se pudo eliminar\n",
      "El archivo data/image/cropped/20_butterfly_normal_prc_convex_frame232.jpg no existe, por lo tanto no se pudo eliminar\n",
      "El archivo data/image/cropped/20_butterfly_normal_prc_convex_frame233.jpg no existe, por lo tanto no se pudo eliminar\n",
      "El archivo data/image/cropped/20_butterfly_normal_prc_convex_frame234.jpg no existe, por lo tanto no se pudo eliminar\n",
      "El archivo data/image/cropped/20_butterfly_normal_prc_convex_frame235.jpg no existe, por lo tanto no se pudo eliminar\n",
      "El archivo data/image/cropped/20_butterfly_normal_prc_convex_frame236.jpg no existe, por lo tanto no se pudo eliminar\n",
      "El archivo data/image/cropped/20_butterfly_normal_prc_convex_frame237.jpg no existe, por lo tanto no se pudo eliminar\n",
      "El archivo data/image/cropped/20_butterfly_normal_prc_convex_frame238.jpg no existe, por lo tanto no se pudo eliminar\n",
      "El archivo data/image/cropped/20_butterfly_normal_prc_convex_frame239.jpg no existe, por lo tanto no se pudo eliminar\n",
      "El archivo data/image/cropped/20_butterfly_normal_prc_convex_frame240.jpg no existe, por lo tanto no se pudo eliminar\n",
      "El archivo data/image/cropped/20_butterfly_normal_prc_convex_frame241.jpg no existe, por lo tanto no se pudo eliminar\n",
      "El archivo data/image/cropped/20_butterfly_normal_prc_convex_frame242.jpg no existe, por lo tanto no se pudo eliminar\n",
      "El archivo data/image/cropped/20_butterfly_normal_prc_convex_frame243.jpg no existe, por lo tanto no se pudo eliminar\n",
      "El archivo data/image/cropped/20_butterfly_normal_prc_convex_frame244.jpg no existe, por lo tanto no se pudo eliminar\n",
      "El archivo data/image/cropped/20_butterfly_normal_prc_convex_frame245.jpg no existe, por lo tanto no se pudo eliminar\n",
      "El archivo data/image/cropped/20_butterfly_normal_prc_convex_frame246.jpg no existe, por lo tanto no se pudo eliminar\n",
      "El archivo data/image/cropped/20_butterfly_normal_prc_convex_frame247.jpg no existe, por lo tanto no se pudo eliminar\n",
      "El archivo data/image/cropped/20_butterfly_normal_prc_convex_frame248.jpg no existe, por lo tanto no se pudo eliminar\n",
      "El archivo data/image/cropped/20_butterfly_normal_prc_convex_frame249.jpg no existe, por lo tanto no se pudo eliminar\n",
      "El archivo data/image/cropped/20_butterfly_normal_prc_convex_frame250.jpg no existe, por lo tanto no se pudo eliminar\n",
      "El archivo data/image/cropped/20_butterfly_normal_prc_convex_frame251.jpg no existe, por lo tanto no se pudo eliminar\n",
      "El archivo data/image/cropped/20_butterfly_normal_prc_convex_frame252.jpg no existe, por lo tanto no se pudo eliminar\n",
      "El archivo data/image/cropped/20_butterfly_normal_prc_convex_frame253.jpg no existe, por lo tanto no se pudo eliminar\n",
      "El archivo data/image/cropped/20_butterfly_normal_prc_convex_frame254.jpg no existe, por lo tanto no se pudo eliminar\n",
      "El archivo data/image/cropped/20_butterfly_normal_prc_convex_frame255.jpg no existe, por lo tanto no se pudo eliminar\n",
      "El archivo data/image/cropped/20_butterfly_normal_prc_convex_frame256.jpg no existe, por lo tanto no se pudo eliminar\n",
      "El archivo data/image/cropped/20_butterfly_normal_prc_convex_frame257.jpg no existe, por lo tanto no se pudo eliminar\n",
      "El archivo data/image/cropped/20_butterfly_normal_prc_convex_frame258.jpg no existe, por lo tanto no se pudo eliminar\n",
      "El archivo data/image/cropped/20_butterfly_normal_prc_convex_frame259.jpg no existe, por lo tanto no se pudo eliminar\n",
      "El archivo data/image/cropped/20_butterfly_normal_prc_convex_frame260.jpg no existe, por lo tanto no se pudo eliminar\n",
      "El archivo data/image/cropped/20_butterfly_normal_prc_convex_frame261.jpg no existe, por lo tanto no se pudo eliminar\n",
      "El archivo data/image/cropped/20_butterfly_normal_prc_convex_frame262.jpg no existe, por lo tanto no se pudo eliminar\n",
      "El archivo data/image/cropped/20_butterfly_normal_prc_convex_frame263.jpg no existe, por lo tanto no se pudo eliminar\n",
      "El archivo data/image/cropped/20_butterfly_normal_prc_convex_frame264.jpg no existe, por lo tanto no se pudo eliminar\n",
      "El archivo data/image/cropped/20_butterfly_normal_prc_convex_frame265.jpg no existe, por lo tanto no se pudo eliminar\n",
      "El archivo data/image/cropped/20_butterfly_normal_prc_convex_frame266.jpg no existe, por lo tanto no se pudo eliminar\n",
      "El archivo data/image/cropped/20_butterfly_normal_prc_convex_frame267.jpg no existe, por lo tanto no se pudo eliminar\n",
      "El archivo data/image/cropped/20_butterfly_normal_prc_convex_frame268.jpg no existe, por lo tanto no se pudo eliminar\n",
      "El archivo data/image/cropped/20_butterfly_normal_prc_convex_frame269.jpg no existe, por lo tanto no se pudo eliminar\n",
      "El archivo data/image/cropped/20_butterfly_normal_prc_convex_frame270.jpg no existe, por lo tanto no se pudo eliminar\n",
      "El archivo data/image/cropped/20_butterfly_normal_prc_convex_frame271.jpg no existe, por lo tanto no se pudo eliminar\n",
      "El archivo data/image/cropped/20_butterfly_normal_prc_convex_frame272.jpg no existe, por lo tanto no se pudo eliminar\n",
      "El archivo data/image/cropped/20_butterfly_normal_prc_convex_frame273.jpg no existe, por lo tanto no se pudo eliminar\n",
      "El archivo data/image/cropped/20_butterfly_normal_prc_convex_frame274.jpg no existe, por lo tanto no se pudo eliminar\n",
      "El archivo data/image/cropped/20_butterfly_normal_prc_convex_frame275.jpg no existe, por lo tanto no se pudo eliminar\n",
      "El archivo data/image/cropped/20_butterfly_normal_prc_convex_frame276.jpg no existe, por lo tanto no se pudo eliminar\n",
      "El archivo data/image/cropped/20_butterfly_normal_prc_convex_frame277.jpg no existe, por lo tanto no se pudo eliminar\n",
      "El archivo data/image/cropped/20_butterfly_normal_prc_convex_frame278.jpg no existe, por lo tanto no se pudo eliminar\n",
      "El archivo data/image/cropped/20_butterfly_normal_prc_convex_frame279.jpg no existe, por lo tanto no se pudo eliminar\n",
      "El archivo data/image/cropped/20_butterfly_normal_prc_convex_frame280.jpg no existe, por lo tanto no se pudo eliminar\n",
      "El archivo data/image/cropped/20_butterfly_normal_prc_convex_frame281.jpg no existe, por lo tanto no se pudo eliminar\n",
      "El archivo data/image/cropped/20_butterfly_normal_prc_convex_frame282.jpg no existe, por lo tanto no se pudo eliminar\n",
      "El archivo data/image/cropped/20_butterfly_normal_prc_convex_frame283.jpg no existe, por lo tanto no se pudo eliminar\n",
      "El archivo data/image/cropped/20_butterfly_normal_prc_convex_frame284.jpg no existe, por lo tanto no se pudo eliminar\n",
      "El archivo data/image/cropped/20_butterfly_normal_prc_convex_frame285.jpg no existe, por lo tanto no se pudo eliminar\n",
      "El archivo data/image/cropped/20_butterfly_normal_prc_convex_frame286.jpg no existe, por lo tanto no se pudo eliminar\n",
      "El archivo data/image/cropped/20_butterfly_normal_prc_convex_frame287.jpg no existe, por lo tanto no se pudo eliminar\n",
      "El archivo data/image/cropped/20_butterfly_normal_prc_convex_frame288.jpg no existe, por lo tanto no se pudo eliminar\n",
      "El archivo data/image/cropped/20_butterfly_normal_prc_convex_frame289.jpg no existe, por lo tanto no se pudo eliminar\n",
      "El archivo data/image/cropped/20_butterfly_normal_prc_convex_frame290.jpg no existe, por lo tanto no se pudo eliminar\n",
      "El archivo data/image/cropped/20_butterfly_normal_prc_convex_frame291.jpg no existe, por lo tanto no se pudo eliminar\n",
      "El archivo data/image/cropped/20_butterfly_normal_prc_convex_frame292.jpg no existe, por lo tanto no se pudo eliminar\n",
      "El archivo data/image/cropped/20_butterfly_normal_prc_convex_frame293.jpg no existe, por lo tanto no se pudo eliminar\n",
      "El archivo data/image/cropped/20_butterfly_normal_prc_convex_frame294.jpg no existe, por lo tanto no se pudo eliminar\n",
      "El archivo data/image/cropped/20_butterfly_normal_prc_convex_frame295.jpg no existe, por lo tanto no se pudo eliminar\n",
      "El archivo data/image/cropped/20_butterfly_normal_prc_convex_frame296.jpg no existe, por lo tanto no se pudo eliminar\n",
      "El archivo data/image/cropped/20_butterfly_normal_prc_convex_frame297.jpg no existe, por lo tanto no se pudo eliminar\n",
      "El archivo data/image/cropped/20_butterfly_normal_prc_convex_frame298.jpg no existe, por lo tanto no se pudo eliminar\n",
      "El archivo data/image/cropped/20_butterfly_normal_prc_convex_frame299.jpg no existe, por lo tanto no se pudo eliminar\n",
      "El archivo data/image/cropped/20_butterfly_normal_prc_convex_frame300.jpg no existe, por lo tanto no se pudo eliminar\n",
      "El archivo data/image/cropped/20_butterfly_normal_prc_convex_frame301.jpg no existe, por lo tanto no se pudo eliminar\n",
      "El archivo data/image/cropped/20_butterfly_normal_prc_convex_frame302.jpg no existe, por lo tanto no se pudo eliminar\n",
      "El archivo data/image/cropped/20_butterfly_normal_prc_convex_frame303.jpg no existe, por lo tanto no se pudo eliminar\n",
      "El archivo data/image/cropped/20_butterfly_normal_prc_convex_frame304.jpg no existe, por lo tanto no se pudo eliminar\n",
      "El archivo data/image/cropped/20_butterfly_normal_prc_convex_frame305.jpg no existe, por lo tanto no se pudo eliminar\n",
      "El archivo data/image/cropped/20_butterfly_normal_prc_convex_frame306.jpg no existe, por lo tanto no se pudo eliminar\n",
      "El archivo data/image/cropped/20_butterfly_normal_prc_convex_frame307.jpg no existe, por lo tanto no se pudo eliminar\n",
      "El archivo data/image/cropped/20_butterfly_normal_prc_convex_frame308.jpg no existe, por lo tanto no se pudo eliminar\n",
      "El archivo data/image/cropped/20_butterfly_normal_prc_convex_frame309.jpg no existe, por lo tanto no se pudo eliminar\n",
      "El archivo data/image/cropped/20_butterfly_normal_prc_convex_frame310.jpg no existe, por lo tanto no se pudo eliminar\n",
      "El archivo data/image/cropped/20_butterfly_normal_prc_convex_frame311.jpg no existe, por lo tanto no se pudo eliminar\n",
      "El archivo data/image/cropped/20_butterfly_normal_prc_convex_frame312.jpg no existe, por lo tanto no se pudo eliminar\n",
      "El archivo data/image/cropped/20_butterfly_normal_prc_convex_frame313.jpg no existe, por lo tanto no se pudo eliminar\n",
      "El archivo data/image/cropped/20_butterfly_normal_prc_convex_frame314.jpg no existe, por lo tanto no se pudo eliminar\n",
      "El archivo data/image/cropped/20_butterfly_normal_prc_convex_frame315.jpg no existe, por lo tanto no se pudo eliminar\n",
      "El archivo data/image/cropped/20_butterfly_normal_prc_convex_frame316.jpg no existe, por lo tanto no se pudo eliminar\n",
      "El archivo data/image/cropped/20_butterfly_normal_prc_convex_frame317.jpg no existe, por lo tanto no se pudo eliminar\n",
      "El archivo data/image/cropped/20_butterfly_normal_prc_convex_frame318.jpg no existe, por lo tanto no se pudo eliminar\n",
      "El archivo data/image/cropped/20_butterfly_normal_prc_convex_frame319.jpg no existe, por lo tanto no se pudo eliminar\n",
      "El archivo data/image/cropped/20_butterfly_normal_prc_convex_frame320.jpg no existe, por lo tanto no se pudo eliminar\n",
      "El archivo data/image/cropped/20_butterfly_normal_prc_convex_frame321.jpg no existe, por lo tanto no se pudo eliminar\n",
      "El archivo data/image/cropped/20_butterfly_normal_prc_convex_frame322.jpg no existe, por lo tanto no se pudo eliminar\n",
      "El archivo data/image/cropped/20_butterfly_normal_prc_convex_frame323.jpg no existe, por lo tanto no se pudo eliminar\n",
      "El archivo data/image/cropped/20_butterfly_normal_prc_convex_frame324.jpg no existe, por lo tanto no se pudo eliminar\n",
      "El archivo data/image/cropped/20_butterfly_normal_prc_convex_frame325.jpg no existe, por lo tanto no se pudo eliminar\n",
      "El archivo data/image/cropped/20_butterfly_normal_prc_convex_frame326.jpg no existe, por lo tanto no se pudo eliminar\n",
      "El archivo data/image/cropped/20_butterfly_normal_prc_convex_frame327.jpg no existe, por lo tanto no se pudo eliminar\n",
      "El archivo data/image/cropped/20_butterfly_normal_prc_convex_frame328.jpg no existe, por lo tanto no se pudo eliminar\n",
      "El archivo data/image/cropped/20_butterfly_normal_prc_convex_frame329.jpg no existe, por lo tanto no se pudo eliminar\n",
      "El archivo data/image/cropped/20_butterfly_normal_prc_convex_frame330.jpg no existe, por lo tanto no se pudo eliminar\n",
      "El archivo data/image/cropped/20_butterfly_normal_prc_convex_frame331.jpg no existe, por lo tanto no se pudo eliminar\n",
      "El archivo data/image/cropped/20_butterfly_normal_prc_convex_frame332.jpg no existe, por lo tanto no se pudo eliminar\n",
      "El archivo data/image/cropped/20_butterfly_normal_prc_convex_frame333.jpg no existe, por lo tanto no se pudo eliminar\n",
      "El archivo data/image/cropped/20_butterfly_normal_prc_convex_frame334.jpg no existe, por lo tanto no se pudo eliminar\n",
      "El archivo data/image/cropped/20_butterfly_normal_prc_convex_frame335.jpg no existe, por lo tanto no se pudo eliminar\n",
      "El archivo data/image/cropped/20_butterfly_normal_prc_convex_frame336.jpg no existe, por lo tanto no se pudo eliminar\n",
      "El archivo data/image/cropped/20_butterfly_normal_prc_convex_frame337.jpg no existe, por lo tanto no se pudo eliminar\n",
      "El archivo data/image/cropped/20_butterfly_normal_prc_convex_frame338.jpg no existe, por lo tanto no se pudo eliminar\n",
      "El archivo data/image/cropped/20_butterfly_normal_prc_convex_frame339.jpg no existe, por lo tanto no se pudo eliminar\n",
      "El archivo data/image/cropped/20_butterfly_normal_prc_convex_frame340.jpg no existe, por lo tanto no se pudo eliminar\n",
      "El archivo data/image/cropped/20_butterfly_normal_prc_convex_frame341.jpg no existe, por lo tanto no se pudo eliminar\n",
      "El archivo data/image/cropped/20_butterfly_normal_prc_convex_frame342.jpg no existe, por lo tanto no se pudo eliminar\n",
      "El archivo data/image/cropped/20_butterfly_normal_prc_convex_frame343.jpg no existe, por lo tanto no se pudo eliminar\n",
      "El archivo data/image/cropped/20_butterfly_normal_prc_convex_frame344.jpg no existe, por lo tanto no se pudo eliminar\n",
      "El archivo data/image/cropped/20_butterfly_normal_prc_convex_frame345.jpg no existe, por lo tanto no se pudo eliminar\n",
      "El archivo data/image/cropped/20_butterfly_normal_prc_convex_frame346.jpg no existe, por lo tanto no se pudo eliminar\n",
      "El archivo data/image/cropped/20_butterfly_normal_prc_convex_frame347.jpg no existe, por lo tanto no se pudo eliminar\n",
      "El archivo data/image/cropped/20_butterfly_normal_prc_convex_frame348.jpg no existe, por lo tanto no se pudo eliminar\n",
      "El archivo data/image/cropped/20_butterfly_normal_prc_convex_frame349.jpg no existe, por lo tanto no se pudo eliminar\n",
      "El archivo data/image/cropped/20_butterfly_normal_prc_convex_frame350.jpg no existe, por lo tanto no se pudo eliminar\n",
      "El archivo data/image/cropped/20_butterfly_normal_prc_convex_frame351.jpg no existe, por lo tanto no se pudo eliminar\n",
      "El archivo data/image/cropped/20_butterfly_normal_prc_convex_frame352.jpg no existe, por lo tanto no se pudo eliminar\n",
      "El archivo data/image/cropped/20_butterfly_normal_prc_convex_frame353.jpg no existe, por lo tanto no se pudo eliminar\n",
      "El archivo data/image/cropped/20_butterfly_normal_prc_convex_frame354.jpg no existe, por lo tanto no se pudo eliminar\n",
      "El archivo data/image/cropped/20_butterfly_normal_prc_convex_frame355.jpg no existe, por lo tanto no se pudo eliminar\n",
      "El archivo data/image/cropped/20_butterfly_normal_prc_convex_frame356.jpg no existe, por lo tanto no se pudo eliminar\n",
      "El archivo data/image/cropped/20_butterfly_normal_prc_convex_frame357.jpg no existe, por lo tanto no se pudo eliminar\n",
      "El archivo data/image/cropped/20_butterfly_normal_prc_convex_frame358.jpg no existe, por lo tanto no se pudo eliminar\n",
      "El archivo data/image/cropped/20_butterfly_normal_prc_convex_frame359.jpg no existe, por lo tanto no se pudo eliminar\n",
      "El archivo data/image/cropped/20_butterfly_normal_prc_convex_frame360.jpg no existe, por lo tanto no se pudo eliminar\n",
      "El archivo data/image/cropped/20_butterfly_normal_prc_convex_frame361.jpg no existe, por lo tanto no se pudo eliminar\n",
      "El archivo data/image/cropped/20_butterfly_normal_prc_convex_frame362.jpg no existe, por lo tanto no se pudo eliminar\n",
      "El archivo data/image/cropped/20_butterfly_normal_prc_convex_frame363.jpg no existe, por lo tanto no se pudo eliminar\n",
      "El archivo data/image/cropped/20_butterfly_normal_prc_convex_frame364.jpg no existe, por lo tanto no se pudo eliminar\n",
      "El archivo data/image/cropped/20_butterfly_normal_prc_convex_frame365.jpg no existe, por lo tanto no se pudo eliminar\n",
      "El archivo data/image/cropped/20_butterfly_normal_prc_convex_frame366.jpg no existe, por lo tanto no se pudo eliminar\n",
      "El archivo data/image/cropped/20_butterfly_normal_prc_convex_frame367.jpg no existe, por lo tanto no se pudo eliminar\n",
      "El archivo data/image/cropped/20_butterfly_normal_prc_convex_frame368.jpg no existe, por lo tanto no se pudo eliminar\n",
      "El archivo data/image/cropped/20_butterfly_normal_prc_convex_frame369.jpg no existe, por lo tanto no se pudo eliminar\n",
      "El archivo data/image/cropped/20_butterfly_normal_prc_convex_frame370.jpg no existe, por lo tanto no se pudo eliminar\n",
      "El archivo data/image/cropped/20_butterfly_normal_prc_convex_frame371.jpg no existe, por lo tanto no se pudo eliminar\n",
      "El archivo data/image/cropped/20_butterfly_normal_prc_convex_frame372.jpg no existe, por lo tanto no se pudo eliminar\n",
      "El archivo data/image/cropped/20_butterfly_normal_prc_convex_frame373.jpg no existe, por lo tanto no se pudo eliminar\n",
      "El archivo data/image/cropped/20_butterfly_normal_prc_convex_frame374.jpg no existe, por lo tanto no se pudo eliminar\n",
      "El archivo data/image/cropped/20_butterfly_normal_prc_convex_frame375.jpg no existe, por lo tanto no se pudo eliminar\n",
      "El archivo data/image/cropped/20_butterfly_normal_prc_convex_frame376.jpg no existe, por lo tanto no se pudo eliminar\n",
      "El archivo data/image/cropped/20_butterfly_normal_prc_convex_frame377.jpg no existe, por lo tanto no se pudo eliminar\n",
      "El archivo data/image/cropped/20_butterfly_normal_prc_convex_frame378.jpg no existe, por lo tanto no se pudo eliminar\n",
      "El archivo data/image/cropped/20_butterfly_normal_prc_convex_frame379.jpg no existe, por lo tanto no se pudo eliminar\n",
      "El archivo data/image/cropped/20_butterfly_normal_prc_convex_frame380.jpg no existe, por lo tanto no se pudo eliminar\n",
      "El archivo data/image/cropped/20_butterfly_normal_prc_convex_frame381.jpg no existe, por lo tanto no se pudo eliminar\n",
      "El archivo data/image/cropped/20_butterfly_normal_prc_convex_frame382.jpg no existe, por lo tanto no se pudo eliminar\n",
      "El archivo data/image/cropped/20_butterfly_normal_prc_convex_frame383.jpg no existe, por lo tanto no se pudo eliminar\n",
      "El archivo data/image/cropped/20_butterfly_normal_prc_convex_frame384.jpg no existe, por lo tanto no se pudo eliminar\n",
      "El archivo data/image/cropped/20_butterfly_normal_prc_convex_frame385.jpg no existe, por lo tanto no se pudo eliminar\n",
      "El archivo data/image/cropped/20_butterfly_normal_prc_convex_frame386.jpg no existe, por lo tanto no se pudo eliminar\n",
      "El archivo data/image/cropped/20_butterfly_normal_prc_convex_frame387.jpg no existe, por lo tanto no se pudo eliminar\n",
      "El archivo data/image/cropped/20_butterfly_normal_prc_convex_frame388.jpg no existe, por lo tanto no se pudo eliminar\n",
      "El archivo data/image/cropped/20_butterfly_normal_prc_convex_frame389.jpg no existe, por lo tanto no se pudo eliminar\n",
      "El archivo data/image/cropped/20_butterfly_normal_prc_convex_frame390.jpg no existe, por lo tanto no se pudo eliminar\n",
      "El archivo data/image/cropped/20_butterfly_normal_prc_convex_frame391.jpg no existe, por lo tanto no se pudo eliminar\n",
      "El archivo data/image/cropped/20_butterfly_normal_prc_convex_frame392.jpg no existe, por lo tanto no se pudo eliminar\n",
      "El archivo data/image/cropped/20_butterfly_normal_prc_convex_frame393.jpg no existe, por lo tanto no se pudo eliminar\n",
      "El archivo data/image/cropped/20_butterfly_normal_prc_convex_frame394.jpg no existe, por lo tanto no se pudo eliminar\n",
      "El archivo data/image/cropped/20_butterfly_normal_prc_convex_frame395.jpg no existe, por lo tanto no se pudo eliminar\n",
      "El archivo data/image/cropped/20_butterfly_normal_prc_convex_frame396.jpg no existe, por lo tanto no se pudo eliminar\n",
      "El archivo data/image/cropped/20_butterfly_normal_prc_convex_frame397.jpg no existe, por lo tanto no se pudo eliminar\n",
      "El archivo data/image/cropped/20_butterfly_normal_prc_convex_frame398.jpg no existe, por lo tanto no se pudo eliminar\n",
      "El archivo data/image/cropped/20_butterfly_normal_prc_convex_frame399.jpg no existe, por lo tanto no se pudo eliminar\n",
      "El archivo data/image/cropped/20_butterfly_normal_prc_convex_frame400.jpg no existe, por lo tanto no se pudo eliminar\n",
      "El archivo data/image/cropped/20_butterfly_normal_prc_convex_frame401.jpg no existe, por lo tanto no se pudo eliminar\n",
      "El archivo data/image/cropped/20_butterfly_normal_prc_convex_frame402.jpg no existe, por lo tanto no se pudo eliminar\n",
      "El archivo data/image/cropped/20_butterfly_normal_prc_convex_frame403.jpg no existe, por lo tanto no se pudo eliminar\n",
      "El archivo data/image/cropped/20_butterfly_normal_prc_convex_frame404.jpg no existe, por lo tanto no se pudo eliminar\n",
      "El archivo data/image/cropped/20_butterfly_normal_prc_convex_frame405.jpg no existe, por lo tanto no se pudo eliminar\n",
      "El archivo data/image/cropped/20_butterfly_normal_prc_convex_frame406.jpg no existe, por lo tanto no se pudo eliminar\n",
      "El archivo data/image/cropped/20_butterfly_normal_prc_convex_frame407.jpg no existe, por lo tanto no se pudo eliminar\n",
      "El archivo data/image/cropped/20_butterfly_normal_prc_convex_frame408.jpg no existe, por lo tanto no se pudo eliminar\n",
      "El archivo data/image/cropped/20_butterfly_normal_prc_convex_frame409.jpg no existe, por lo tanto no se pudo eliminar\n",
      "El archivo data/image/cropped/20_butterfly_normal_prc_convex_frame410.jpg no existe, por lo tanto no se pudo eliminar\n",
      "El archivo data/image/cropped/20_butterfly_normal_prc_convex_frame411.jpg no existe, por lo tanto no se pudo eliminar\n",
      "El archivo data/image/cropped/20_butterfly_normal_prc_convex_frame412.jpg no existe, por lo tanto no se pudo eliminar\n",
      "El archivo data/image/cropped/20_butterfly_normal_prc_convex_frame413.jpg no existe, por lo tanto no se pudo eliminar\n",
      "El archivo data/image/cropped/20_butterfly_normal_prc_convex_frame414.jpg no existe, por lo tanto no se pudo eliminar\n",
      "El archivo data/image/cropped/20_butterfly_normal_prc_convex_frame415.jpg no existe, por lo tanto no se pudo eliminar\n",
      "El archivo data/image/cropped/20_butterfly_normal_prc_convex_frame416.jpg no existe, por lo tanto no se pudo eliminar\n",
      "El archivo data/image/cropped/20_butterfly_normal_prc_convex_frame417.jpg no existe, por lo tanto no se pudo eliminar\n",
      "El archivo data/image/cropped/20_butterfly_normal_prc_convex_frame418.jpg no existe, por lo tanto no se pudo eliminar\n",
      "El archivo data/image/cropped/20_butterfly_normal_prc_convex_frame419.jpg no existe, por lo tanto no se pudo eliminar\n",
      "El archivo data/image/cropped/20_butterfly_normal_prc_convex_frame420.jpg no existe, por lo tanto no se pudo eliminar\n",
      "El archivo data/image/cropped/20_butterfly_normal_prc_convex_frame421.jpg no existe, por lo tanto no se pudo eliminar\n",
      "El archivo data/image/cropped/20_butterfly_normal_prc_convex_frame422.jpg no existe, por lo tanto no se pudo eliminar\n",
      "El archivo data/image/cropped/20_butterfly_normal_prc_convex_frame423.jpg no existe, por lo tanto no se pudo eliminar\n",
      "El archivo data/image/cropped/20_butterfly_normal_prc_convex_frame424.jpg no existe, por lo tanto no se pudo eliminar\n",
      "El archivo data/image/cropped/20_butterfly_normal_prc_convex_frame425.jpg no existe, por lo tanto no se pudo eliminar\n",
      "El archivo data/image/cropped/20_butterfly_normal_prc_convex_frame426.jpg no existe, por lo tanto no se pudo eliminar\n",
      "El archivo data/image/cropped/20_butterfly_normal_prc_convex_frame427.jpg no existe, por lo tanto no se pudo eliminar\n",
      "El archivo data/image/cropped/20_butterfly_normal_prc_convex_frame428.jpg no existe, por lo tanto no se pudo eliminar\n",
      "El archivo data/image/cropped/20_butterfly_normal_prc_convex_frame429.jpg no existe, por lo tanto no se pudo eliminar\n",
      "El archivo data/image/cropped/20_butterfly_normal_prc_convex_frame430.jpg no existe, por lo tanto no se pudo eliminar\n",
      "El archivo data/image/cropped/20_butterfly_normal_prc_convex_frame431.jpg no existe, por lo tanto no se pudo eliminar\n",
      "El archivo data/image/cropped/20_butterfly_normal_prc_convex_frame432.jpg no existe, por lo tanto no se pudo eliminar\n",
      "El archivo data/image/cropped/20_butterfly_normal_prc_convex_frame433.jpg no existe, por lo tanto no se pudo eliminar\n",
      "El archivo data/image/cropped/20_butterfly_normal_prc_convex_frame434.jpg no existe, por lo tanto no se pudo eliminar\n",
      "El archivo data/image/cropped/20_butterfly_normal_prc_convex_frame435.jpg no existe, por lo tanto no se pudo eliminar\n",
      "El archivo data/image/cropped/20_butterfly_normal_prc_convex_frame436.jpg no existe, por lo tanto no se pudo eliminar\n",
      "El archivo data/image/cropped/20_butterfly_normal_prc_convex_frame437.jpg no existe, por lo tanto no se pudo eliminar\n",
      "El archivo data/image/cropped/20_butterfly_normal_prc_convex_frame438.jpg no existe, por lo tanto no se pudo eliminar\n",
      "El archivo data/image/cropped/20_butterfly_normal_prc_convex_frame439.jpg no existe, por lo tanto no se pudo eliminar\n",
      "El archivo data/image/cropped/20_butterfly_normal_prc_convex_frame440.jpg no existe, por lo tanto no se pudo eliminar\n",
      "El archivo data/image/cropped/20_butterfly_normal_prc_convex_frame441.jpg no existe, por lo tanto no se pudo eliminar\n",
      "El archivo data/image/cropped/20_butterfly_normal_prc_convex_frame442.jpg no existe, por lo tanto no se pudo eliminar\n",
      "El archivo data/image/cropped/20_butterfly_normal_prc_convex_frame443.jpg no existe, por lo tanto no se pudo eliminar\n",
      "El archivo data/image/cropped/20_butterfly_normal_prc_convex_frame444.jpg no existe, por lo tanto no se pudo eliminar\n",
      "El archivo data/image/cropped/20_butterfly_normal_prc_convex_frame445.jpg no existe, por lo tanto no se pudo eliminar\n",
      "El archivo data/image/cropped/20_butterfly_normal_prc_convex_frame446.jpg no existe, por lo tanto no se pudo eliminar\n",
      "El archivo data/image/cropped/20_butterfly_normal_prc_convex_frame447.jpg no existe, por lo tanto no se pudo eliminar\n",
      "El archivo data/image/cropped/20_butterfly_normal_prc_convex_frame448.jpg no existe, por lo tanto no se pudo eliminar\n",
      "El archivo data/image/cropped/20_butterfly_normal_prc_convex_frame449.jpg no existe, por lo tanto no se pudo eliminar\n",
      "El archivo data/image/cropped/20_butterfly_normal_prc_convex_frame450.jpg no existe, por lo tanto no se pudo eliminar\n",
      "El archivo data/image/cropped/20_butterfly_normal_prc_convex_frame451.jpg no existe, por lo tanto no se pudo eliminar\n",
      "El archivo data/image/cropped/20_butterfly_normal_prc_convex_frame452.jpg no existe, por lo tanto no se pudo eliminar\n",
      "El archivo data/image/cropped/20_butterfly_normal_prc_convex_frame453.jpg no existe, por lo tanto no se pudo eliminar\n",
      "El archivo data/image/cropped/20_butterfly_normal_prc_convex_frame454.jpg no existe, por lo tanto no se pudo eliminar\n",
      "El archivo data/image/cropped/20_butterfly_normal_prc_convex_frame455.jpg no existe, por lo tanto no se pudo eliminar\n",
      "El archivo data/image/cropped/20_butterfly_normal_prc_convex_frame456.jpg no existe, por lo tanto no se pudo eliminar\n",
      "El archivo data/image/cropped/20_butterfly_normal_prc_convex_frame457.jpg no existe, por lo tanto no se pudo eliminar\n",
      "El archivo data/image/cropped/20_butterfly_normal_prc_convex_frame458.jpg no existe, por lo tanto no se pudo eliminar\n",
      "El archivo data/image/cropped/20_butterfly_normal_prc_convex_frame459.jpg no existe, por lo tanto no se pudo eliminar\n",
      "El archivo data/image/cropped/20_butterfly_normal_prc_convex_frame460.jpg no existe, por lo tanto no se pudo eliminar\n",
      "El archivo data/image/cropped/20_butterfly_normal_prc_convex_frame461.jpg no existe, por lo tanto no se pudo eliminar\n",
      "El archivo data/image/cropped/20_butterfly_normal_prc_convex_frame462.jpg no existe, por lo tanto no se pudo eliminar\n",
      "El archivo data/image/cropped/20_butterfly_normal_prc_convex_frame463.jpg no existe, por lo tanto no se pudo eliminar\n",
      "El archivo data/image/cropped/20_butterfly_normal_prc_convex_frame464.jpg no existe, por lo tanto no se pudo eliminar\n",
      "El archivo data/image/cropped/20_butterfly_normal_prc_convex_frame465.jpg no existe, por lo tanto no se pudo eliminar\n",
      "El archivo data/image/cropped/20_butterfly_normal_prc_convex_frame466.jpg no existe, por lo tanto no se pudo eliminar\n",
      "El archivo data/image/cropped/20_butterfly_normal_prc_convex_frame467.jpg no existe, por lo tanto no se pudo eliminar\n",
      "El archivo data/image/cropped/20_butterfly_normal_prc_convex_frame468.jpg no existe, por lo tanto no se pudo eliminar\n",
      "El archivo data/image/cropped/20_butterfly_normal_prc_convex_frame469.jpg no existe, por lo tanto no se pudo eliminar\n",
      "El archivo data/image/cropped/20_butterfly_normal_prc_convex_frame470.jpg no existe, por lo tanto no se pudo eliminar\n",
      "El archivo data/image/cropped/20_butterfly_normal_prc_convex_frame471.jpg no existe, por lo tanto no se pudo eliminar\n",
      "El archivo data/image/cropped/20_butterfly_normal_prc_convex_frame472.jpg no existe, por lo tanto no se pudo eliminar\n",
      "El archivo data/image/cropped/20_butterfly_normal_prc_convex_frame473.jpg no existe, por lo tanto no se pudo eliminar\n",
      "El archivo data/image/cropped/20_butterfly_normal_prc_convex_frame474.jpg no existe, por lo tanto no se pudo eliminar\n",
      "El archivo data/image/cropped/20_butterfly_normal_prc_convex_frame475.jpg no existe, por lo tanto no se pudo eliminar\n",
      "El archivo data/image/cropped/20_butterfly_normal_prc_convex_frame476.jpg no existe, por lo tanto no se pudo eliminar\n",
      "El archivo data/image/cropped/20_butterfly_normal_prc_convex_frame477.jpg no existe, por lo tanto no se pudo eliminar\n",
      "El archivo data/image/cropped/20_butterfly_normal_prc_convex_frame478.jpg no existe, por lo tanto no se pudo eliminar\n",
      "El archivo data/image/cropped/20_butterfly_normal_prc_convex_frame479.jpg no existe, por lo tanto no se pudo eliminar\n",
      "El archivo data/image/cropped/20_butterfly_normal_prc_convex_frame480.jpg no existe, por lo tanto no se pudo eliminar\n",
      "El archivo data/image/cropped/20_butterfly_normal_prc_convex_frame481.jpg no existe, por lo tanto no se pudo eliminar\n",
      "El archivo data/image/cropped/20_butterfly_normal_prc_convex_frame482.jpg no existe, por lo tanto no se pudo eliminar\n",
      "El archivo data/image/cropped/20_butterfly_normal_prc_convex_frame483.jpg no existe, por lo tanto no se pudo eliminar\n",
      "El archivo data/image/cropped/20_butterfly_normal_prc_convex_frame484.jpg no existe, por lo tanto no se pudo eliminar\n",
      "El archivo data/image/cropped/20_butterfly_normal_prc_convex_frame485.jpg no existe, por lo tanto no se pudo eliminar\n",
      "El archivo data/image/cropped/20_butterfly_normal_prc_convex_frame486.jpg no existe, por lo tanto no se pudo eliminar\n",
      "El archivo data/image/cropped/20_butterfly_normal_prc_convex_frame487.jpg no existe, por lo tanto no se pudo eliminar\n",
      "El archivo data/image/cropped/20_butterfly_normal_prc_convex_frame488.jpg no existe, por lo tanto no se pudo eliminar\n",
      "El archivo data/image/cropped/20_butterfly_normal_prc_convex_frame489.jpg no existe, por lo tanto no se pudo eliminar\n",
      "El archivo data/image/cropped/20_butterfly_normal_prc_convex_frame490.jpg no existe, por lo tanto no se pudo eliminar\n",
      "El archivo data/image/cropped/20_butterfly_normal_prc_convex_frame491.jpg no existe, por lo tanto no se pudo eliminar\n",
      "El archivo data/image/cropped/20_butterfly_normal_prc_convex_frame492.jpg no existe, por lo tanto no se pudo eliminar\n",
      "El archivo data/image/cropped/20_butterfly_normal_prc_convex_frame493.jpg no existe, por lo tanto no se pudo eliminar\n",
      "El archivo data/image/cropped/20_butterfly_normal_prc_convex_frame494.jpg no existe, por lo tanto no se pudo eliminar\n",
      "El archivo data/image/cropped/20_butterfly_normal_prc_convex_frame495.jpg no existe, por lo tanto no se pudo eliminar\n",
      "El archivo data/image/cropped/20_butterfly_normal_prc_convex_frame496.jpg no existe, por lo tanto no se pudo eliminar\n",
      "El archivo data/image/cropped/20_butterfly_normal_prc_convex_frame497.jpg no existe, por lo tanto no se pudo eliminar\n",
      "El archivo data/image/cropped/20_butterfly_normal_prc_convex_frame498.jpg no existe, por lo tanto no se pudo eliminar\n",
      "El archivo data/image/cropped/20_butterfly_normal_prc_convex_frame499.jpg no existe, por lo tanto no se pudo eliminar\n",
      "El archivo data/image/cropped/20_butterfly_normal_prc_convex_frame500.jpg no existe, por lo tanto no se pudo eliminar\n",
      "El archivo data/image/cropped/20_butterfly_normal_prc_convex_frame501.jpg no existe, por lo tanto no se pudo eliminar\n",
      "El archivo data/image/cropped/20_butterfly_normal_prc_convex_frame502.jpg no existe, por lo tanto no se pudo eliminar\n",
      "El archivo data/image/cropped/20_butterfly_normal_prc_convex_frame503.jpg no existe, por lo tanto no se pudo eliminar\n",
      "El archivo data/image/cropped/20_butterfly_normal_prc_convex_frame504.jpg no existe, por lo tanto no se pudo eliminar\n",
      "El archivo data/image/cropped/20_butterfly_normal_prc_convex_frame505.jpg no existe, por lo tanto no se pudo eliminar\n",
      "El archivo data/image/cropped/20_butterfly_normal_prc_convex_frame506.jpg no existe, por lo tanto no se pudo eliminar\n",
      "El archivo data/image/cropped/20_butterfly_normal_prc_convex_frame507.jpg no existe, por lo tanto no se pudo eliminar\n",
      "El archivo data/image/cropped/20_butterfly_normal_prc_convex_frame508.jpg no existe, por lo tanto no se pudo eliminar\n",
      "El archivo data/image/cropped/20_butterfly_normal_prc_convex_frame509.jpg no existe, por lo tanto no se pudo eliminar\n",
      "El archivo data/image/cropped/20_butterfly_normal_prc_convex_frame510.jpg no existe, por lo tanto no se pudo eliminar\n",
      "El archivo data/image/cropped/20_butterfly_normal_prc_convex_frame511.jpg no existe, por lo tanto no se pudo eliminar\n",
      "El archivo data/image/cropped/20_butterfly_normal_prc_convex_frame512.jpg no existe, por lo tanto no se pudo eliminar\n",
      "El archivo data/image/cropped/20_butterfly_normal_prc_convex_frame513.jpg no existe, por lo tanto no se pudo eliminar\n",
      "El archivo data/image/cropped/20_butterfly_normal_prc_convex_frame514.jpg no existe, por lo tanto no se pudo eliminar\n",
      "El archivo data/image/cropped/20_butterfly_normal_prc_convex_frame515.jpg no existe, por lo tanto no se pudo eliminar\n",
      "El archivo data/image/cropped/20_butterfly_normal_prc_convex_frame516.jpg no existe, por lo tanto no se pudo eliminar\n",
      "El archivo data/image/cropped/20_butterfly_normal_prc_convex_frame517.jpg no existe, por lo tanto no se pudo eliminar\n",
      "El archivo data/image/cropped/20_butterfly_normal_prc_convex_frame518.jpg no existe, por lo tanto no se pudo eliminar\n",
      "El archivo data/image/cropped/20_butterfly_normal_prc_convex_frame519.jpg no existe, por lo tanto no se pudo eliminar\n",
      "El archivo data/image/cropped/20_butterfly_normal_prc_convex_frame520.jpg no existe, por lo tanto no se pudo eliminar\n",
      "El archivo data/image/cropped/20_butterfly_normal_prc_convex_frame521.jpg no existe, por lo tanto no se pudo eliminar\n",
      "El archivo data/image/cropped/20_butterfly_normal_prc_convex_frame522.jpg no existe, por lo tanto no se pudo eliminar\n",
      "El archivo data/image/cropped/20_butterfly_normal_prc_convex_frame523.jpg no existe, por lo tanto no se pudo eliminar\n",
      "El archivo data/image/cropped/20_butterfly_normal_prc_convex_frame524.jpg no existe, por lo tanto no se pudo eliminar\n",
      "El archivo data/image/cropped/20_butterfly_normal_prc_convex_frame525.jpg no existe, por lo tanto no se pudo eliminar\n",
      "El archivo data/image/cropped/20_butterfly_normal_prc_convex_frame526.jpg no existe, por lo tanto no se pudo eliminar\n",
      "El archivo data/image/cropped/20_butterfly_normal_prc_convex_frame527.jpg no existe, por lo tanto no se pudo eliminar\n",
      "El archivo data/image/cropped/20_butterfly_normal_prc_convex_frame528.jpg no existe, por lo tanto no se pudo eliminar\n",
      "El archivo data/image/cropped/20_butterfly_normal_prc_convex_frame529.jpg no existe, por lo tanto no se pudo eliminar\n",
      "El archivo data/image/cropped/20_butterfly_normal_prc_convex_frame530.jpg no existe, por lo tanto no se pudo eliminar\n",
      "El archivo data/image/cropped/20_butterfly_normal_prc_convex_frame531.jpg no existe, por lo tanto no se pudo eliminar\n",
      "El archivo data/image/cropped/20_butterfly_normal_prc_convex_frame532.jpg no existe, por lo tanto no se pudo eliminar\n",
      "El archivo data/image/cropped/20_butterfly_normal_prc_convex_frame533.jpg no existe, por lo tanto no se pudo eliminar\n",
      "El archivo data/image/cropped/20_butterfly_normal_prc_convex_frame534.jpg no existe, por lo tanto no se pudo eliminar\n",
      "El archivo data/image/cropped/20_butterfly_normal_prc_convex_frame535.jpg no existe, por lo tanto no se pudo eliminar\n",
      "El archivo data/image/cropped/20_butterfly_normal_prc_convex_frame536.jpg no existe, por lo tanto no se pudo eliminar\n",
      "El archivo data/image/cropped/20_butterfly_normal_prc_convex_frame537.jpg no existe, por lo tanto no se pudo eliminar\n",
      "El archivo data/image/cropped/20_butterfly_normal_prc_convex_frame538.jpg no existe, por lo tanto no se pudo eliminar\n",
      "El archivo data/image/cropped/20_butterfly_normal_prc_convex_frame539.jpg no existe, por lo tanto no se pudo eliminar\n",
      "El archivo data/image/cropped/20_butterfly_normal_prc_convex_frame540.jpg no existe, por lo tanto no se pudo eliminar\n",
      "El archivo data/image/cropped/20_butterfly_normal_prc_convex_frame541.jpg no existe, por lo tanto no se pudo eliminar\n",
      "El archivo data/image/cropped/20_butterfly_normal_prc_convex_frame542.jpg no existe, por lo tanto no se pudo eliminar\n",
      "El archivo data/image/cropped/20_butterfly_normal_prc_convex_frame543.jpg no existe, por lo tanto no se pudo eliminar\n",
      "El archivo data/image/cropped/20_butterfly_normal_prc_convex_frame544.jpg no existe, por lo tanto no se pudo eliminar\n",
      "El archivo data/image/cropped/20_butterfly_normal_prc_convex_frame545.jpg no existe, por lo tanto no se pudo eliminar\n",
      "El archivo data/image/cropped/20_butterfly_normal_prc_convex_frame546.jpg no existe, por lo tanto no se pudo eliminar\n",
      "El archivo data/image/cropped/20_butterfly_normal_prc_convex_frame547.jpg no existe, por lo tanto no se pudo eliminar\n",
      "El archivo data/image/cropped/20_butterfly_normal_prc_convex_frame548.jpg no existe, por lo tanto no se pudo eliminar\n",
      "El archivo data/image/cropped/20_butterfly_normal_prc_convex_frame549.jpg no existe, por lo tanto no se pudo eliminar\n",
      "El archivo data/image/cropped/20_butterfly_normal_prc_convex_frame550.jpg no existe, por lo tanto no se pudo eliminar\n",
      "El archivo data/image/cropped/20_butterfly_normal_prc_convex_frame551.jpg no existe, por lo tanto no se pudo eliminar\n",
      "El archivo data/image/cropped/20_butterfly_normal_prc_convex_frame552.jpg no existe, por lo tanto no se pudo eliminar\n",
      "El archivo data/image/cropped/20_butterfly_normal_prc_convex_frame553.jpg no existe, por lo tanto no se pudo eliminar\n",
      "El archivo data/image/cropped/20_butterfly_normal_prc_convex_frame554.jpg no existe, por lo tanto no se pudo eliminar\n",
      "El archivo data/image/cropped/20_butterfly_normal_prc_convex_frame555.jpg no existe, por lo tanto no se pudo eliminar\n",
      "El archivo data/image/cropped/20_butterfly_normal_prc_convex_frame556.jpg no existe, por lo tanto no se pudo eliminar\n",
      "El archivo data/image/cropped/20_butterfly_normal_prc_convex_frame557.jpg no existe, por lo tanto no se pudo eliminar\n",
      "El archivo data/image/cropped/20_butterfly_normal_prc_convex_frame558.jpg no existe, por lo tanto no se pudo eliminar\n",
      "El archivo data/image/cropped/20_butterfly_normal_prc_convex_frame559.jpg no existe, por lo tanto no se pudo eliminar\n",
      "El archivo data/image/cropped/20_butterfly_normal_prc_convex_frame560.jpg no existe, por lo tanto no se pudo eliminar\n",
      "El archivo data/image/cropped/20_butterfly_normal_prc_convex_frame561.jpg no existe, por lo tanto no se pudo eliminar\n",
      "El archivo data/image/cropped/20_butterfly_normal_prc_convex_frame562.jpg no existe, por lo tanto no se pudo eliminar\n",
      "El archivo data/image/cropped/20_butterfly_normal_prc_convex_frame563.jpg no existe, por lo tanto no se pudo eliminar\n",
      "El archivo data/image/cropped/20_butterfly_normal_prc_convex_frame564.jpg no existe, por lo tanto no se pudo eliminar\n",
      "El archivo data/image/cropped/20_butterfly_normal_prc_convex_frame565.jpg no existe, por lo tanto no se pudo eliminar\n",
      "El archivo data/image/cropped/20_butterfly_normal_prc_convex_frame566.jpg no existe, por lo tanto no se pudo eliminar\n",
      "El archivo data/image/cropped/20_butterfly_normal_prc_convex_frame567.jpg no existe, por lo tanto no se pudo eliminar\n",
      "El archivo data/image/cropped/20_butterfly_normal_prc_convex_frame568.jpg no existe, por lo tanto no se pudo eliminar\n",
      "El archivo data/image/cropped/20_butterfly_normal_prc_convex_frame569.jpg no existe, por lo tanto no se pudo eliminar\n",
      "El archivo data/image/cropped/20_butterfly_normal_prc_convex_frame570.jpg no existe, por lo tanto no se pudo eliminar\n",
      "El archivo data/image/cropped/20_butterfly_normal_prc_convex_frame571.jpg no existe, por lo tanto no se pudo eliminar\n",
      "El archivo data/image/cropped/20_butterfly_normal_prc_convex_frame572.jpg no existe, por lo tanto no se pudo eliminar\n",
      "El archivo data/image/cropped/20_butterfly_normal_prc_convex_frame573.jpg no existe, por lo tanto no se pudo eliminar\n",
      "El archivo data/image/cropped/20_butterfly_normal_prc_convex_frame574.jpg no existe, por lo tanto no se pudo eliminar\n",
      "El archivo data/image/cropped/20_butterfly_normal_prc_convex_frame575.jpg no existe, por lo tanto no se pudo eliminar\n",
      "El archivo data/image/cropped/20_butterfly_normal_prc_convex_frame576.jpg no existe, por lo tanto no se pudo eliminar\n",
      "El archivo data/image/cropped/20_butterfly_normal_prc_convex_frame577.jpg no existe, por lo tanto no se pudo eliminar\n",
      "El archivo data/image/cropped/20_butterfly_normal_prc_convex_frame578.jpg no existe, por lo tanto no se pudo eliminar\n",
      "El archivo data/image/cropped/20_butterfly_normal_prc_convex_frame579.jpg no existe, por lo tanto no se pudo eliminar\n",
      "El archivo data/image/cropped/20_butterfly_normal_prc_convex_frame580.jpg no existe, por lo tanto no se pudo eliminar\n",
      "El archivo data/image/cropped/20_butterfly_normal_prc_convex_frame581.jpg no existe, por lo tanto no se pudo eliminar\n",
      "El archivo data/image/cropped/20_butterfly_normal_prc_convex_frame582.jpg no existe, por lo tanto no se pudo eliminar\n",
      "El archivo data/image/cropped/20_butterfly_normal_prc_convex_frame583.jpg no existe, por lo tanto no se pudo eliminar\n",
      "El archivo data/image/cropped/20_butterfly_normal_prc_convex_frame584.jpg no existe, por lo tanto no se pudo eliminar\n",
      "El archivo data/image/cropped/20_butterfly_normal_prc_convex_frame585.jpg no existe, por lo tanto no se pudo eliminar\n",
      "El archivo data/image/cropped/20_butterfly_normal_prc_convex_frame586.jpg no existe, por lo tanto no se pudo eliminar\n",
      "El archivo data/image/cropped/20_butterfly_normal_prc_convex_frame587.jpg no existe, por lo tanto no se pudo eliminar\n",
      "El archivo data/image/cropped/20_butterfly_normal_prc_convex_frame588.jpg no existe, por lo tanto no se pudo eliminar\n",
      "El archivo data/image/cropped/20_butterfly_normal_prc_convex_frame589.jpg no existe, por lo tanto no se pudo eliminar\n",
      "El archivo data/image/cropped/20_butterfly_normal_prc_convex_frame662.jpg no existe, por lo tanto no se pudo eliminar\n",
      "El archivo data/image/cropped/20_butterfly_normal_prc_convex_frame663.jpg no existe, por lo tanto no se pudo eliminar\n",
      "El archivo data/image/cropped/20_butterfly_normal_prc_convex_frame664.jpg no existe, por lo tanto no se pudo eliminar\n",
      "El archivo data/image/cropped/20_butterfly_normal_prc_convex_frame665.jpg no existe, por lo tanto no se pudo eliminar\n",
      "El archivo data/image/cropped/20_butterfly_normal_prc_convex_frame666.jpg no existe, por lo tanto no se pudo eliminar\n",
      "El archivo data/image/cropped/20_butterfly_normal_prc_convex_frame667.jpg no existe, por lo tanto no se pudo eliminar\n",
      "El archivo data/image/cropped/20_butterfly_normal_prc_convex_frame668.jpg no existe, por lo tanto no se pudo eliminar\n",
      "El archivo data/image/cropped/20_butterfly_normal_prc_convex_frame669.jpg no existe, por lo tanto no se pudo eliminar\n",
      "El archivo data/image/cropped/20_butterfly_normal_prc_convex_frame670.jpg no existe, por lo tanto no se pudo eliminar\n",
      "El archivo data/image/cropped/20_butterfly_normal_prc_convex_frame671.jpg no existe, por lo tanto no se pudo eliminar\n",
      "El archivo data/image/cropped/20_butterfly_normal_prc_convex_frame672.jpg no existe, por lo tanto no se pudo eliminar\n",
      "El archivo data/image/cropped/20_butterfly_normal_prc_convex_frame673.jpg no existe, por lo tanto no se pudo eliminar\n",
      "El archivo data/image/cropped/20_butterfly_normal_prc_convex_frame674.jpg no existe, por lo tanto no se pudo eliminar\n",
      "El archivo data/image/cropped/20_butterfly_normal_prc_convex_frame675.jpg no existe, por lo tanto no se pudo eliminar\n",
      "El archivo data/image/cropped/20_butterfly_normal_prc_convex_frame676.jpg no existe, por lo tanto no se pudo eliminar\n",
      "El archivo data/image/cropped/20_butterfly_normal_prc_convex_frame677.jpg no existe, por lo tanto no se pudo eliminar\n",
      "El archivo data/image/cropped/20_butterfly_normal_prc_convex_frame678.jpg no existe, por lo tanto no se pudo eliminar\n",
      "El archivo data/image/cropped/20_butterfly_normal_prc_convex_frame679.jpg no existe, por lo tanto no se pudo eliminar\n",
      "El archivo data/image/cropped/20_butterfly_normal_prc_convex_frame680.jpg no existe, por lo tanto no se pudo eliminar\n",
      "El archivo data/image/cropped/20_butterfly_normal_prc_convex_frame681.jpg no existe, por lo tanto no se pudo eliminar\n",
      "El archivo data/image/cropped/20_butterfly_normal_prc_convex_frame682.jpg no existe, por lo tanto no se pudo eliminar\n",
      "El archivo data/image/cropped/20_butterfly_normal_prc_convex_frame683.jpg no existe, por lo tanto no se pudo eliminar\n",
      "El archivo data/image/cropped/20_butterfly_normal_prc_convex_frame684.jpg no existe, por lo tanto no se pudo eliminar\n",
      "El archivo data/image/cropped/20_butterfly_normal_prc_convex_frame685.jpg no existe, por lo tanto no se pudo eliminar\n",
      "El archivo data/image/cropped/20_butterfly_normal_prc_convex_frame686.jpg no existe, por lo tanto no se pudo eliminar\n",
      "El archivo data/image/cropped/20_butterfly_normal_prc_convex_frame687.jpg no existe, por lo tanto no se pudo eliminar\n",
      "El archivo data/image/cropped/20_butterfly_normal_prc_convex_frame688.jpg no existe, por lo tanto no se pudo eliminar\n",
      "El archivo data/image/cropped/20_butterfly_normal_prc_convex_frame689.jpg no existe, por lo tanto no se pudo eliminar\n",
      "El archivo data/image/cropped/20_butterfly_normal_prc_convex_frame690.jpg no existe, por lo tanto no se pudo eliminar\n",
      "El archivo data/image/cropped/20_butterfly_normal_prc_convex_frame691.jpg no existe, por lo tanto no se pudo eliminar\n",
      "El archivo data/image/cropped/20_butterfly_normal_prc_convex_frame692.jpg no existe, por lo tanto no se pudo eliminar\n",
      "El archivo data/image/cropped/20_butterfly_normal_prc_convex_frame693.jpg no existe, por lo tanto no se pudo eliminar\n",
      "El archivo data/image/cropped/20_butterfly_normal_prc_convex_frame694.jpg no existe, por lo tanto no se pudo eliminar\n",
      "El archivo data/image/cropped/20_butterfly_normal_prc_convex_frame695.jpg no existe, por lo tanto no se pudo eliminar\n",
      "El archivo data/image/cropped/20_butterfly_normal_prc_convex_frame696.jpg no existe, por lo tanto no se pudo eliminar\n",
      "El archivo data/image/cropped/20_butterfly_normal_prc_convex_frame697.jpg no existe, por lo tanto no se pudo eliminar\n",
      "El archivo data/image/cropped/20_butterfly_normal_prc_convex_frame698.jpg no existe, por lo tanto no se pudo eliminar\n",
      "El archivo data/image/cropped/20_butterfly_normal_prc_convex_frame699.jpg no existe, por lo tanto no se pudo eliminar\n",
      "El archivo data/image/cropped/20_butterfly_normal_prc_convex_frame700.jpg no existe, por lo tanto no se pudo eliminar\n",
      "El archivo data/image/cropped/20_butterfly_normal_prc_convex_frame701.jpg no existe, por lo tanto no se pudo eliminar\n",
      "El archivo data/image/cropped/20_butterfly_normal_prc_convex_frame702.jpg no existe, por lo tanto no se pudo eliminar\n",
      "El archivo data/image/cropped/20_butterfly_normal_prc_convex_frame703.jpg no existe, por lo tanto no se pudo eliminar\n",
      "El archivo data/image/cropped/20_butterfly_normal_prc_convex_frame704.jpg no existe, por lo tanto no se pudo eliminar\n",
      "El archivo data/image/cropped/20_butterfly_normal_prc_convex_frame705.jpg no existe, por lo tanto no se pudo eliminar\n",
      "El archivo data/image/cropped/20_butterfly_normal_prc_convex_frame706.jpg no existe, por lo tanto no se pudo eliminar\n",
      "El archivo data/image/cropped/20_butterfly_normal_prc_convex_frame707.jpg no existe, por lo tanto no se pudo eliminar\n",
      "El archivo data/image/cropped/20_butterfly_normal_prc_convex_frame708.jpg no existe, por lo tanto no se pudo eliminar\n",
      "El archivo data/image/cropped/20_butterfly_normal_prc_convex_frame709.jpg no existe, por lo tanto no se pudo eliminar\n",
      "El archivo data/image/cropped/20_butterfly_normal_prc_convex_frame710.jpg no existe, por lo tanto no se pudo eliminar\n",
      "El archivo data/image/cropped/20_butterfly_normal_prc_convex_frame711.jpg no existe, por lo tanto no se pudo eliminar\n",
      "El archivo data/image/cropped/20_butterfly_normal_prc_convex_frame712.jpg no existe, por lo tanto no se pudo eliminar\n",
      "El archivo data/image/cropped/20_butterfly_normal_prc_convex_frame713.jpg no existe, por lo tanto no se pudo eliminar\n",
      "El archivo data/image/cropped/20_butterfly_normal_prc_convex_frame714.jpg no existe, por lo tanto no se pudo eliminar\n",
      "El archivo data/image/cropped/20_butterfly_normal_prc_convex_frame715.jpg no existe, por lo tanto no se pudo eliminar\n",
      "El archivo data/image/cropped/20_butterfly_normal_prc_convex_frame716.jpg no existe, por lo tanto no se pudo eliminar\n",
      "El archivo data/image/cropped/20_butterfly_normal_prc_convex_frame717.jpg no existe, por lo tanto no se pudo eliminar\n",
      "El archivo data/image/cropped/20_butterfly_normal_prc_convex_frame718.jpg no existe, por lo tanto no se pudo eliminar\n",
      "El archivo data/image/cropped/20_butterfly_normal_prc_convex_frame719.jpg no existe, por lo tanto no se pudo eliminar\n",
      "El archivo data/image/cropped/20_butterfly_normal_prc_convex_frame720.jpg no existe, por lo tanto no se pudo eliminar\n",
      "El archivo data/image/cropped/20_butterfly_normal_prc_convex_frame721.jpg no existe, por lo tanto no se pudo eliminar\n",
      "El archivo data/image/cropped/20_butterfly_normal_prc_convex_frame722.jpg no existe, por lo tanto no se pudo eliminar\n",
      "El archivo data/image/cropped/20_butterfly_normal_prc_convex_frame723.jpg no existe, por lo tanto no se pudo eliminar\n",
      "El archivo data/image/cropped/20_butterfly_normal_prc_convex_frame724.jpg no existe, por lo tanto no se pudo eliminar\n",
      "El archivo data/image/cropped/20_butterfly_normal_prc_convex_frame725.jpg no existe, por lo tanto no se pudo eliminar\n",
      "El archivo data/image/cropped/20_butterfly_normal_prc_convex_frame726.jpg no existe, por lo tanto no se pudo eliminar\n",
      "El archivo data/image/cropped/20_butterfly_normal_prc_convex_frame727.jpg no existe, por lo tanto no se pudo eliminar\n",
      "El archivo data/image/cropped/25_grepmed_pneumonia_prc_convex_frame300.jpg no existe, por lo tanto no se pudo eliminar\n",
      "El archivo data/image/cropped/25_grepmed_pneumonia_prc_convex_frame301.jpg no existe, por lo tanto no se pudo eliminar\n",
      "El archivo data/image/cropped/25_grepmed_pneumonia_prc_convex_frame302.jpg no existe, por lo tanto no se pudo eliminar\n",
      "El archivo data/image/cropped/25_grepmed_pneumonia_prc_convex_frame303.jpg no existe, por lo tanto no se pudo eliminar\n",
      "El archivo data/image/cropped/25_grepmed_pneumonia_prc_convex_frame304.jpg no existe, por lo tanto no se pudo eliminar\n",
      "El archivo data/image/cropped/25_grepmed_pneumonia_prc_convex_frame305.jpg no existe, por lo tanto no se pudo eliminar\n",
      "El archivo data/image/cropped/25_grepmed_pneumonia_prc_convex_frame306.jpg no existe, por lo tanto no se pudo eliminar\n",
      "El archivo data/image/cropped/25_grepmed_pneumonia_prc_convex_frame307.jpg no existe, por lo tanto no se pudo eliminar\n",
      "El archivo data/image/cropped/25_grepmed_pneumonia_prc_convex_frame308.jpg no existe, por lo tanto no se pudo eliminar\n",
      "El archivo data/image/cropped/25_grepmed_pneumonia_prc_convex_frame309.jpg no existe, por lo tanto no se pudo eliminar\n",
      "El archivo data/image/cropped/25_grepmed_pneumonia_prc_convex_frame310.jpg no existe, por lo tanto no se pudo eliminar\n",
      "El archivo data/image/cropped/25_grepmed_pneumonia_prc_convex_frame311.jpg no existe, por lo tanto no se pudo eliminar\n",
      "El archivo data/image/cropped/25_grepmed_pneumonia_prc_convex_frame312.jpg no existe, por lo tanto no se pudo eliminar\n",
      "El archivo data/image/cropped/25_grepmed_pneumonia_prc_convex_frame313.jpg no existe, por lo tanto no se pudo eliminar\n",
      "El archivo data/image/cropped/25_grepmed_pneumonia_prc_convex_frame314.jpg no existe, por lo tanto no se pudo eliminar\n",
      "El archivo data/image/cropped/25_grepmed_pneumonia_prc_convex_frame315.jpg no existe, por lo tanto no se pudo eliminar\n",
      "El archivo data/image/cropped/25_grepmed_pneumonia_prc_convex_frame316.jpg no existe, por lo tanto no se pudo eliminar\n",
      "El archivo data/image/cropped/25_grepmed_pneumonia_prc_convex_frame317.jpg no existe, por lo tanto no se pudo eliminar\n",
      "El archivo data/image/cropped/25_grepmed_pneumonia_prc_convex_frame318.jpg no existe, por lo tanto no se pudo eliminar\n",
      "El archivo data/image/cropped/25_grepmed_pneumonia_prc_convex_frame319.jpg no existe, por lo tanto no se pudo eliminar\n",
      "El archivo data/image/cropped/25_grepmed_pneumonia_prc_convex_frame320.jpg no existe, por lo tanto no se pudo eliminar\n",
      "El archivo data/image/cropped/25_grepmed_pneumonia_prc_convex_frame321.jpg no existe, por lo tanto no se pudo eliminar\n",
      "El archivo data/image/cropped/25_grepmed_pneumonia_prc_convex_frame322.jpg no existe, por lo tanto no se pudo eliminar\n",
      "El archivo data/image/cropped/25_grepmed_pneumonia_prc_convex_frame323.jpg no existe, por lo tanto no se pudo eliminar\n",
      "El archivo data/image/cropped/25_grepmed_pneumonia_prc_convex_frame324.jpg no existe, por lo tanto no se pudo eliminar\n",
      "El archivo data/image/cropped/25_grepmed_pneumonia_prc_convex_frame325.jpg no existe, por lo tanto no se pudo eliminar\n",
      "El archivo data/image/cropped/25_grepmed_pneumonia_prc_convex_frame326.jpg no existe, por lo tanto no se pudo eliminar\n",
      "El archivo data/image/cropped/25_grepmed_pneumonia_prc_convex_frame327.jpg no existe, por lo tanto no se pudo eliminar\n",
      "El archivo data/image/cropped/25_grepmed_pneumonia_prc_convex_frame328.jpg no existe, por lo tanto no se pudo eliminar\n",
      "El archivo data/image/cropped/25_grepmed_pneumonia_prc_convex_frame329.jpg no existe, por lo tanto no se pudo eliminar\n",
      "El archivo data/image/cropped/25_grepmed_pneumonia_prc_convex_frame330.jpg no existe, por lo tanto no se pudo eliminar\n",
      "El archivo data/image/cropped/25_grepmed_pneumonia_prc_convex_frame331.jpg no existe, por lo tanto no se pudo eliminar\n",
      "El archivo data/image/cropped/25_grepmed_pneumonia_prc_convex_frame332.jpg no existe, por lo tanto no se pudo eliminar\n",
      "El archivo data/image/cropped/25_grepmed_pneumonia_prc_convex_frame333.jpg no existe, por lo tanto no se pudo eliminar\n",
      "El archivo data/image/cropped/25_grepmed_pneumonia_prc_convex_frame334.jpg no existe, por lo tanto no se pudo eliminar\n",
      "El archivo data/image/cropped/25_grepmed_pneumonia_prc_convex_frame335.jpg no existe, por lo tanto no se pudo eliminar\n",
      "El archivo data/image/cropped/25_grepmed_pneumonia_prc_convex_frame336.jpg no existe, por lo tanto no se pudo eliminar\n",
      "El archivo data/image/cropped/25_grepmed_pneumonia_prc_convex_frame337.jpg no existe, por lo tanto no se pudo eliminar\n",
      "El archivo data/image/cropped/25_grepmed_pneumonia_prc_convex_frame338.jpg no existe, por lo tanto no se pudo eliminar\n",
      "El archivo data/image/cropped/25_grepmed_pneumonia_prc_convex_frame339.jpg no existe, por lo tanto no se pudo eliminar\n",
      "El archivo data/image/cropped/25_grepmed_pneumonia_prc_convex_frame340.jpg no existe, por lo tanto no se pudo eliminar\n",
      "El archivo data/image/cropped/25_grepmed_pneumonia_prc_convex_frame341.jpg no existe, por lo tanto no se pudo eliminar\n",
      "El archivo data/image/cropped/25_grepmed_pneumonia_prc_convex_frame342.jpg no existe, por lo tanto no se pudo eliminar\n",
      "El archivo data/image/cropped/25_grepmed_pneumonia_prc_convex_frame343.jpg no existe, por lo tanto no se pudo eliminar\n",
      "El archivo data/image/cropped/25_grepmed_pneumonia_prc_convex_frame344.jpg no existe, por lo tanto no se pudo eliminar\n",
      "El archivo data/image/cropped/25_grepmed_pneumonia_prc_convex_frame345.jpg no existe, por lo tanto no se pudo eliminar\n",
      "El archivo data/image/cropped/25_grepmed_pneumonia_prc_convex_frame346.jpg no existe, por lo tanto no se pudo eliminar\n",
      "El archivo data/image/cropped/25_grepmed_pneumonia_prc_convex_frame347.jpg no existe, por lo tanto no se pudo eliminar\n",
      "El archivo data/image/cropped/25_grepmed_pneumonia_prc_convex_frame348.jpg no existe, por lo tanto no se pudo eliminar\n",
      "El archivo data/image/cropped/25_grepmed_pneumonia_prc_convex_frame349.jpg no existe, por lo tanto no se pudo eliminar\n",
      "El archivo data/image/cropped/25_grepmed_pneumonia_prc_convex_frame350.jpg no existe, por lo tanto no se pudo eliminar\n",
      "El archivo data/image/cropped/25_grepmed_pneumonia_prc_convex_frame351.jpg no existe, por lo tanto no se pudo eliminar\n",
      "El archivo data/image/cropped/25_grepmed_pneumonia_prc_convex_frame352.jpg no existe, por lo tanto no se pudo eliminar\n",
      "El archivo data/image/cropped/25_grepmed_pneumonia_prc_convex_frame353.jpg no existe, por lo tanto no se pudo eliminar\n",
      "El archivo data/image/cropped/25_grepmed_pneumonia_prc_convex_frame354.jpg no existe, por lo tanto no se pudo eliminar\n",
      "El archivo data/image/cropped/25_grepmed_pneumonia_prc_convex_frame355.jpg no existe, por lo tanto no se pudo eliminar\n",
      "El archivo data/image/cropped/25_grepmed_pneumonia_prc_convex_frame356.jpg no existe, por lo tanto no se pudo eliminar\n",
      "El archivo data/image/cropped/25_grepmed_pneumonia_prc_convex_frame357.jpg no existe, por lo tanto no se pudo eliminar\n",
      "El archivo data/image/cropped/25_grepmed_pneumonia_prc_convex_frame358.jpg no existe, por lo tanto no se pudo eliminar\n",
      "El archivo data/image/cropped/25_grepmed_pneumonia_prc_convex_frame359.jpg no existe, por lo tanto no se pudo eliminar\n",
      "El archivo data/image/cropped/25_grepmed_pneumonia_prc_convex_frame360.jpg no existe, por lo tanto no se pudo eliminar\n",
      "El archivo data/image/cropped/25_grepmed_pneumonia_prc_convex_frame361.jpg no existe, por lo tanto no se pudo eliminar\n",
      "El archivo data/image/cropped/25_grepmed_pneumonia_prc_convex_frame362.jpg no existe, por lo tanto no se pudo eliminar\n",
      "El archivo data/image/cropped/25_grepmed_pneumonia_prc_convex_frame363.jpg no existe, por lo tanto no se pudo eliminar\n",
      "El archivo data/image/cropped/25_grepmed_pneumonia_prc_convex_frame364.jpg no existe, por lo tanto no se pudo eliminar\n",
      "El archivo data/image/cropped/25_grepmed_pneumonia_prc_convex_frame365.jpg no existe, por lo tanto no se pudo eliminar\n",
      "El archivo data/image/cropped/25_grepmed_pneumonia_prc_convex_frame366.jpg no existe, por lo tanto no se pudo eliminar\n",
      "El archivo data/image/cropped/25_grepmed_pneumonia_prc_convex_frame367.jpg no existe, por lo tanto no se pudo eliminar\n",
      "El archivo data/image/cropped/25_grepmed_pneumonia_prc_convex_frame368.jpg no existe, por lo tanto no se pudo eliminar\n",
      "El archivo data/image/cropped/25_grepmed_pneumonia_prc_convex_frame369.jpg no existe, por lo tanto no se pudo eliminar\n",
      "El archivo data/image/cropped/25_grepmed_pneumonia_prc_convex_frame370.jpg no existe, por lo tanto no se pudo eliminar\n",
      "El archivo data/image/cropped/25_grepmed_pneumonia_prc_convex_frame371.jpg no existe, por lo tanto no se pudo eliminar\n",
      "El archivo data/image/cropped/25_grepmed_pneumonia_prc_convex_frame372.jpg no existe, por lo tanto no se pudo eliminar\n",
      "El archivo data/image/cropped/25_grepmed_pneumonia_prc_convex_frame373.jpg no existe, por lo tanto no se pudo eliminar\n",
      "El archivo data/image/cropped/25_grepmed_pneumonia_prc_convex_frame374.jpg no existe, por lo tanto no se pudo eliminar\n",
      "El archivo data/image/cropped/25_grepmed_pneumonia_prc_convex_frame375.jpg no existe, por lo tanto no se pudo eliminar\n",
      "El archivo data/image/cropped/25_grepmed_pneumonia_prc_convex_frame376.jpg no existe, por lo tanto no se pudo eliminar\n",
      "El archivo data/image/cropped/25_grepmed_pneumonia_prc_convex_frame377.jpg no existe, por lo tanto no se pudo eliminar\n",
      "El archivo data/image/cropped/25_grepmed_pneumonia_prc_convex_frame378.jpg no existe, por lo tanto no se pudo eliminar\n",
      "El archivo data/image/cropped/25_grepmed_pneumonia_prc_convex_frame379.jpg no existe, por lo tanto no se pudo eliminar\n",
      "El archivo data/image/cropped/25_grepmed_pneumonia_prc_convex_frame380.jpg no existe, por lo tanto no se pudo eliminar\n",
      "El archivo data/image/cropped/25_grepmed_pneumonia_prc_convex_frame381.jpg no existe, por lo tanto no se pudo eliminar\n",
      "El archivo data/image/cropped/25_grepmed_pneumonia_prc_convex_frame382.jpg no existe, por lo tanto no se pudo eliminar\n",
      "El archivo data/image/cropped/25_grepmed_pneumonia_prc_convex_frame383.jpg no existe, por lo tanto no se pudo eliminar\n",
      "El archivo data/image/cropped/25_grepmed_pneumonia_prc_convex_frame384.jpg no existe, por lo tanto no se pudo eliminar\n",
      "El archivo data/image/cropped/25_grepmed_pneumonia_prc_convex_frame385.jpg no existe, por lo tanto no se pudo eliminar\n",
      "El archivo data/image/cropped/25_grepmed_pneumonia_prc_convex_frame386.jpg no existe, por lo tanto no se pudo eliminar\n",
      "El archivo data/image/cropped/25_grepmed_pneumonia_prc_convex_frame387.jpg no existe, por lo tanto no se pudo eliminar\n",
      "El archivo data/image/cropped/25_grepmed_pneumonia_prc_convex_frame388.jpg no existe, por lo tanto no se pudo eliminar\n",
      "El archivo data/image/cropped/25_grepmed_pneumonia_prc_convex_frame389.jpg no existe, por lo tanto no se pudo eliminar\n",
      "El archivo data/image/cropped/25_grepmed_pneumonia_prc_convex_frame390.jpg no existe, por lo tanto no se pudo eliminar\n",
      "El archivo data/image/cropped/25_grepmed_pneumonia_prc_convex_frame391.jpg no existe, por lo tanto no se pudo eliminar\n",
      "El archivo data/image/cropped/25_grepmed_pneumonia_prc_convex_frame392.jpg no existe, por lo tanto no se pudo eliminar\n",
      "El archivo data/image/cropped/25_grepmed_pneumonia_prc_convex_frame393.jpg no existe, por lo tanto no se pudo eliminar\n",
      "El archivo data/image/cropped/25_grepmed_pneumonia_prc_convex_frame394.jpg no existe, por lo tanto no se pudo eliminar\n",
      "El archivo data/image/cropped/25_grepmed_pneumonia_prc_convex_frame395.jpg no existe, por lo tanto no se pudo eliminar\n",
      "El archivo data/image/cropped/25_grepmed_pneumonia_prc_convex_frame396.jpg no existe, por lo tanto no se pudo eliminar\n",
      "El archivo data/image/cropped/25_grepmed_pneumonia_prc_convex_frame397.jpg no existe, por lo tanto no se pudo eliminar\n",
      "El archivo data/image/cropped/25_grepmed_pneumonia_prc_convex_frame398.jpg no existe, por lo tanto no se pudo eliminar\n",
      "El archivo data/image/cropped/25_grepmed_pneumonia_prc_convex_frame399.jpg no existe, por lo tanto no se pudo eliminar\n",
      "El archivo data/image/cropped/25_grepmed_pneumonia_prc_convex_frame400.jpg no existe, por lo tanto no se pudo eliminar\n",
      "El archivo data/image/cropped/25_grepmed_pneumonia_prc_convex_frame401.jpg no existe, por lo tanto no se pudo eliminar\n",
      "El archivo data/image/cropped/25_grepmed_pneumonia_prc_convex_frame402.jpg no existe, por lo tanto no se pudo eliminar\n",
      "El archivo data/image/cropped/25_grepmed_pneumonia_prc_convex_frame403.jpg no existe, por lo tanto no se pudo eliminar\n",
      "El archivo data/image/cropped/25_grepmed_pneumonia_prc_convex_frame404.jpg no existe, por lo tanto no se pudo eliminar\n",
      "El archivo data/image/cropped/25_grepmed_pneumonia_prc_convex_frame405.jpg no existe, por lo tanto no se pudo eliminar\n",
      "El archivo data/image/cropped/25_grepmed_pneumonia_prc_convex_frame406.jpg no existe, por lo tanto no se pudo eliminar\n",
      "El archivo data/image/cropped/25_grepmed_pneumonia_prc_convex_frame407.jpg no existe, por lo tanto no se pudo eliminar\n",
      "El archivo data/image/cropped/25_grepmed_pneumonia_prc_convex_frame408.jpg no existe, por lo tanto no se pudo eliminar\n",
      "El archivo data/image/cropped/25_grepmed_pneumonia_prc_convex_frame409.jpg no existe, por lo tanto no se pudo eliminar\n",
      "El archivo data/image/cropped/25_grepmed_pneumonia_prc_convex_frame410.jpg no existe, por lo tanto no se pudo eliminar\n",
      "El archivo data/image/cropped/25_grepmed_pneumonia_prc_convex_frame411.jpg no existe, por lo tanto no se pudo eliminar\n",
      "El archivo data/image/cropped/25_grepmed_pneumonia_prc_convex_frame412.jpg no existe, por lo tanto no se pudo eliminar\n",
      "El archivo data/image/cropped/25_grepmed_pneumonia_prc_convex_frame413.jpg no existe, por lo tanto no se pudo eliminar\n",
      "El archivo data/image/cropped/25_grepmed_pneumonia_prc_convex_frame414.jpg no existe, por lo tanto no se pudo eliminar\n",
      "El archivo data/image/cropped/25_grepmed_pneumonia_prc_convex_frame415.jpg no existe, por lo tanto no se pudo eliminar\n",
      "El archivo data/image/cropped/25_grepmed_pneumonia_prc_convex_frame416.jpg no existe, por lo tanto no se pudo eliminar\n",
      "El archivo data/image/cropped/25_grepmed_pneumonia_prc_convex_frame417.jpg no existe, por lo tanto no se pudo eliminar\n",
      "El archivo data/image/cropped/178_uf_other_prc_convex_frame0.jpg no existe, por lo tanto no se pudo eliminar\n",
      "El archivo data/image/cropped/178_uf_other_prc_convex_frame1.jpg no existe, por lo tanto no se pudo eliminar\n",
      "El archivo data/image/cropped/178_uf_other_prc_convex_frame2.jpg no existe, por lo tanto no se pudo eliminar\n",
      "El archivo data/image/cropped/178_uf_other_prc_convex_frame3.jpg no existe, por lo tanto no se pudo eliminar\n",
      "El archivo data/image/cropped/178_uf_other_prc_convex_frame4.jpg no existe, por lo tanto no se pudo eliminar\n",
      "El archivo data/image/cropped/178_uf_other_prc_convex_frame5.jpg no existe, por lo tanto no se pudo eliminar\n",
      "El archivo data/image/cropped/178_uf_other_prc_convex_frame6.jpg no existe, por lo tanto no se pudo eliminar\n",
      "El archivo data/image/cropped/178_uf_other_prc_convex_frame7.jpg no existe, por lo tanto no se pudo eliminar\n",
      "El archivo data/image/cropped/178_uf_other_prc_convex_frame8.jpg no existe, por lo tanto no se pudo eliminar\n",
      "El archivo data/image/cropped/178_uf_other_prc_convex_frame9.jpg no existe, por lo tanto no se pudo eliminar\n",
      "El archivo data/image/cropped/178_uf_other_prc_convex_frame10.jpg no existe, por lo tanto no se pudo eliminar\n",
      "El archivo data/image/cropped/178_uf_other_prc_convex_frame11.jpg no existe, por lo tanto no se pudo eliminar\n",
      "El archivo data/image/cropped/178_uf_other_prc_convex_frame12.jpg no existe, por lo tanto no se pudo eliminar\n",
      "El archivo data/image/cropped/178_uf_other_prc_convex_frame13.jpg no existe, por lo tanto no se pudo eliminar\n",
      "El archivo data/image/cropped/178_uf_other_prc_convex_frame14.jpg no existe, por lo tanto no se pudo eliminar\n",
      "El archivo data/image/cropped/178_uf_other_prc_convex_frame15.jpg no existe, por lo tanto no se pudo eliminar\n",
      "El archivo data/image/cropped/178_uf_other_prc_convex_frame16.jpg no existe, por lo tanto no se pudo eliminar\n",
      "El archivo data/image/cropped/178_uf_other_prc_convex_frame17.jpg no existe, por lo tanto no se pudo eliminar\n",
      "El archivo data/image/cropped/178_uf_other_prc_convex_frame18.jpg no existe, por lo tanto no se pudo eliminar\n",
      "El archivo data/image/cropped/178_uf_other_prc_convex_frame19.jpg no existe, por lo tanto no se pudo eliminar\n",
      "El archivo data/image/cropped/178_uf_other_prc_convex_frame20.jpg no existe, por lo tanto no se pudo eliminar\n",
      "El archivo data/image/cropped/178_uf_other_prc_convex_frame21.jpg no existe, por lo tanto no se pudo eliminar\n",
      "El archivo data/image/cropped/178_uf_other_prc_convex_frame22.jpg no existe, por lo tanto no se pudo eliminar\n",
      "El archivo data/image/cropped/178_uf_other_prc_convex_frame23.jpg no existe, por lo tanto no se pudo eliminar\n",
      "El archivo data/image/cropped/178_uf_other_prc_convex_frame24.jpg no existe, por lo tanto no se pudo eliminar\n",
      "El archivo data/image/cropped/178_uf_other_prc_convex_frame25.jpg no existe, por lo tanto no se pudo eliminar\n",
      "El archivo data/image/cropped/178_uf_other_prc_convex_frame26.jpg no existe, por lo tanto no se pudo eliminar\n",
      "El archivo data/image/cropped/178_uf_other_prc_convex_frame27.jpg no existe, por lo tanto no se pudo eliminar\n",
      "El archivo data/image/cropped/178_uf_other_prc_convex_frame28.jpg no existe, por lo tanto no se pudo eliminar\n",
      "El archivo data/image/cropped/178_uf_other_prc_convex_frame29.jpg no existe, por lo tanto no se pudo eliminar\n",
      "El archivo data/image/cropped/178_uf_other_prc_convex_frame30.jpg no existe, por lo tanto no se pudo eliminar\n",
      "El archivo data/image/cropped/184_uf_pneumonia_prc_convex_frame0.jpg no existe, por lo tanto no se pudo eliminar\n",
      "El archivo data/image/cropped/184_uf_pneumonia_prc_convex_frame1.jpg no existe, por lo tanto no se pudo eliminar\n",
      "El archivo data/image/cropped/184_uf_pneumonia_prc_convex_frame2.jpg no existe, por lo tanto no se pudo eliminar\n",
      "El archivo data/image/cropped/184_uf_pneumonia_prc_convex_frame3.jpg no existe, por lo tanto no se pudo eliminar\n",
      "El archivo data/image/cropped/184_uf_pneumonia_prc_convex_frame4.jpg no existe, por lo tanto no se pudo eliminar\n",
      "El archivo data/image/cropped/184_uf_pneumonia_prc_convex_frame5.jpg no existe, por lo tanto no se pudo eliminar\n",
      "El archivo data/image/cropped/184_uf_pneumonia_prc_convex_frame6.jpg no existe, por lo tanto no se pudo eliminar\n",
      "El archivo data/image/cropped/184_uf_pneumonia_prc_convex_frame7.jpg no existe, por lo tanto no se pudo eliminar\n",
      "El archivo data/image/cropped/184_uf_pneumonia_prc_convex_frame8.jpg no existe, por lo tanto no se pudo eliminar\n",
      "El archivo data/image/cropped/184_uf_pneumonia_prc_convex_frame9.jpg no existe, por lo tanto no se pudo eliminar\n",
      "El archivo data/image/cropped/184_uf_pneumonia_prc_convex_frame10.jpg no existe, por lo tanto no se pudo eliminar\n",
      "El archivo data/image/cropped/184_uf_pneumonia_prc_convex_frame11.jpg no existe, por lo tanto no se pudo eliminar\n",
      "El archivo data/image/cropped/184_uf_pneumonia_prc_convex_frame12.jpg no existe, por lo tanto no se pudo eliminar\n",
      "El archivo data/image/cropped/184_uf_pneumonia_prc_convex_frame13.jpg no existe, por lo tanto no se pudo eliminar\n",
      "El archivo data/image/cropped/184_uf_pneumonia_prc_convex_frame14.jpg no existe, por lo tanto no se pudo eliminar\n",
      "El archivo data/image/cropped/184_uf_pneumonia_prc_convex_frame15.jpg no existe, por lo tanto no se pudo eliminar\n",
      "El archivo data/image/cropped/184_uf_pneumonia_prc_convex_frame16.jpg no existe, por lo tanto no se pudo eliminar\n",
      "El archivo data/image/cropped/184_uf_pneumonia_prc_convex_frame17.jpg no existe, por lo tanto no se pudo eliminar\n",
      "El archivo data/image/cropped/184_uf_pneumonia_prc_convex_frame18.jpg no existe, por lo tanto no se pudo eliminar\n",
      "El archivo data/image/cropped/184_uf_pneumonia_prc_convex_frame19.jpg no existe, por lo tanto no se pudo eliminar\n",
      "El archivo data/image/cropped/184_uf_pneumonia_prc_convex_frame20.jpg no existe, por lo tanto no se pudo eliminar\n",
      "El archivo data/image/cropped/184_uf_pneumonia_prc_convex_frame21.jpg no existe, por lo tanto no se pudo eliminar\n",
      "El archivo data/image/cropped/184_uf_pneumonia_prc_convex_frame22.jpg no existe, por lo tanto no se pudo eliminar\n",
      "El archivo data/image/cropped/184_uf_pneumonia_prc_convex_frame23.jpg no existe, por lo tanto no se pudo eliminar\n",
      "El archivo data/image/cropped/184_uf_pneumonia_prc_convex_frame24.jpg no existe, por lo tanto no se pudo eliminar\n",
      "El archivo data/image/cropped/184_uf_pneumonia_prc_convex_frame25.jpg no existe, por lo tanto no se pudo eliminar\n",
      "El archivo data/image/cropped/184_uf_pneumonia_prc_convex_frame26.jpg no existe, por lo tanto no se pudo eliminar\n",
      "El archivo data/image/cropped/184_uf_pneumonia_prc_convex_frame27.jpg no existe, por lo tanto no se pudo eliminar\n",
      "El archivo data/image/cropped/184_uf_pneumonia_prc_convex_frame28.jpg no existe, por lo tanto no se pudo eliminar\n",
      "El archivo data/image/cropped/184_uf_pneumonia_prc_convex_frame29.jpg no existe, por lo tanto no se pudo eliminar\n",
      "El archivo data/image/cropped/184_uf_pneumonia_prc_convex_frame30.jpg no existe, por lo tanto no se pudo eliminar\n",
      "=== Archivos con artefactos en el ROI eliminados correctamente! ===\n"
     ]
    }
   ],
   "source": [
    "progress = ProgressBar(max_value=image_prc_df[~pd.isna(image_prc_df.delete_frames_from_to)].shape[0])\n",
    "\n",
    "for idx, row in progress(image_prc_df[~pd.isna(image_prc_df.delete_frames_from_to)].iterrows()):\n",
    "    frames_to_delete = row.delete_frames_from_to.strip().split(',')\n",
    "    frame_name_main = row.mask_main_filename.split('.')[0].split('_frame')[0]\n",
    "    \n",
    "    for frames in frames_to_delete:\n",
    "        from_frame = int(frames.split('-')[0])\n",
    "        to_frame = int(frames.split('-')[1]) + 1\n",
    "        \n",
    "        # Eliminar fotogramas con partes móviles en el ROI \n",
    "        for i in range(from_frame, to_frame):\n",
    "            file_to_remove = IMAGE_CROPPED_OUT + frame_name_main + '_frame' + str(i) + '.jpg'\n",
    "            #Verificar si el archivo existe\n",
    "            if os.path.exists(file_to_remove):\n",
    "                try:\n",
    "                    os.remove(file_to_remove)\n",
    "                except Exception as e:\n",
    "                    print(f\"Ocurrio un erro intentando eliminar {file_to_remove}: {e}\")\n",
    "            else:\n",
    "                print(f\"El archivo {file_to_remove} no existe, por lo tanto no se pudo eliminar\")\n",
    "                \n",
    "print(\"=== Archivos con artefactos en el ROI eliminados correctamente! ===\")"
   ]
  },
  {
   "cell_type": "markdown",
   "metadata": {},
   "source": [
    "### 3.2.2. Aplicación de mascaras"
   ]
  },
  {
   "cell_type": "code",
   "execution_count": 14,
   "metadata": {},
   "outputs": [],
   "source": [
    "CLEAN_IMAGE_OUT = 'data/image/clean/'\n",
    "CLEAN_VIDEO_OUT = 'data/video/clean/'\n",
    "\n",
    "# Si no existen, crea carpetas de imágenes y vídeos limpios (Clean)\n",
    "if not os.path.exists(CLEAN_IMAGE_OUT):\n",
    "    os.makedirs(CLEAN_IMAGE_OUT)\n",
    "if not os.path.exists(CLEAN_VIDEO_OUT):\n",
    "    os.makedirs(CLEAN_VIDEO_OUT)"
   ]
  },
  {
   "cell_type": "code",
   "execution_count": null,
   "metadata": {},
   "outputs": [],
   "source": [
    "def zero_pad_array(arr, pad=5):\n",
    "    '''\n",
    "    Agrega un marco de ceros alrededor de la matriz de entrada\n",
    "    \n",
    "    Parametros -> arr - matriz de entrada\n",
    "               -> pad - Cantidad de pixeles de relleno en cada lado \n",
    "    \n",
    "    Al final regresa la matriz con relleno aplicado \n",
    "    '''\n",
    "    if len(arr.shape) == 3: #Imagen con canales de color\n",
    "        padded_arr = np.zeros((arr.shape[0]+2*pad, arr.shape[1]+2*pad, arr.shape[2]), dtype=np.uint8)\n",
    "        padded_arr[pad:pad + arr.shape[0], pad:pad + arr.shape[1], :] = arr\n",
    "    else: #Matriz 2D - (Escala de grises)\n",
    "        padded_arr = np.zeros((arr.shape[0]+2*pad, arr.shape[1]+2*pad), dtype=np.uint8)\n",
    "        padded_arr[pad:pad + arr.shape[0], pad:pad + arr.shape[1]] = arr\n",
    "    return padded_arr\n",
    "        \n",
    "\n",
    "def frame_inpainting(frame_dict, mask, default_mask=0, kernel_size=(5,5), method='telea', pad=5):\n",
    "    '''\n",
    "    Realiza la restauración de los fotogramas mediante la creación de mascaras, para eliminar artefactos o reconstruir areas dañadas\n",
    "    \n",
    "    Parametros:\n",
    "        -> frame_dict: diccionario de fotogramas del vídeo, registrados segun el numero de fotograma\n",
    "    \n",
    "        -> mask: mascara para identificar areas a restaurar, arreglo (h, w, 1) si hay una sola mascara, \n",
    "            de lo contrario un diccionario de las matrices registradas por numero de fotograma \n",
    "    \n",
    "        -> default_mask: Indice de la mascara predeterminada, para fotogramas sin máscara específica\n",
    "    \n",
    "        -> kernel_size: tamaño del parche utilizado para dilatar la mascara y realizar la restauración\n",
    "    \n",
    "        -> method: Metodo de restauración 'ns' (navier-stokes) o 'telea' \n",
    "        \n",
    "        ->pad: Cantidad de pixeles para relleno en los bordes \n",
    "        \n",
    "    Al final regresa un diccionario con los fotogramas restaurados\n",
    "    '''\n",
    "    # Dilata la mascara y se asegura de que cubra lo suficiente el ROI para que quede enmascarada\n",
    "    #Crea el kernel \n",
    "    kernel = np.ones(kernel_size, np.uint8) \n",
    "    \n",
    "    #Convierte la mascara en un diccionario en caso de que no lo sea\n",
    "    if type(mask) is not dict: \n",
    "        mask = {default_mask: mask}\n",
    "    \n",
    "    #Dilatar y rellenar las máscaras\n",
    "    #masks_processed = {key:cv2.dilate(zero_pad_array(m, pad=pad), kernel, iterations=1) for key, m in mask.items()}\n",
    "    masks_processed = {}\n",
    "    for key, m in mask.items():\n",
    "        padded_mask = zero_pad_array(m, pad=pad)\n",
    "        #Redimensionar de ser necesario\n",
    "        frame_shape = next(iter(frame_dict.values())).shape[:2]\n",
    "        if padded_mask.shape[:2] != frame_shape:\n",
    "            #print(f\"Redimensionando la máscara {key} para que coincida con el fotograma.\")\n",
    "            padded_mask = cv2.resize(padded_mask, (frame_shape[1], frame_shape[0]), interpolation=cv2.INTER_NEAREST)\n",
    "        masks_processed[key] = cv2.dilate(padded_mask, kernel, iterations=1)\n",
    "    \n",
    "    \n",
    "    #Mapeo de métodos de restauración disponibles\n",
    "    method_dict = {'ns':cv2.INPAINT_NS, 'telea':cv2.INPAINT_TELEA}\n",
    "    \n",
    "    #Diccionario para almacenar los fotogramas restaurados\n",
    "    frames_inpainted = {}\n",
    "    \n",
    "    for key, frame in frame_dict.items():\n",
    "        padded_frame = zero_pad_array(frame, pad=pad)\n",
    "        if key in masks_processed: #Restaurar usando la mascara correspondiente\n",
    "            #print(frame.shape, masks_processed[key].shape)\n",
    "            #frames_inpainted[key] = cv2.inpaint(zero_pad_array(frame, pad=pad), masks_processed[key], 3, method_dict[method])[pad:-pad, pad:-pad, :]\n",
    "            mask_to_use = masks_processed[key]\n",
    "            mask_to_use = cv2.resize(mask_to_use, (padded_frame.shape[1], padded_frame.shape[0]), interpolation=cv2.INTER_NEAREST)\n",
    "        else: # Mascara predeterminada\n",
    "            #frames_inpainted[key] = cv2.inpaint(zero_pad_array(frame, pad=pad), masks_processed[default_mask], 3, method_dict[method])[pad:-pad, pad:-pad, :]\n",
    "            mask_to_use = masks_processed[default_mask]\n",
    "            mask_to_use = cv2.resize(mask_to_use, (padded_frame.shape[1], padded_frame.shape[0]), interpolation=cv2.INTER_NEAREST)\n",
    "            \n",
    "        #print(f\"Las dimensiones son: tamaño del fotograma: {padded_frame.shape}, tamaño de la mascara utilizada: {mask_to_use.shape}\")\n",
    "        #Restauracion del fotograma\n",
    "        frames_inpainted[key] = cv2.inpaint(padded_frame, mask_to_use, 3, method_dict[method])[pad:-pad, pad:-pad, :]\n",
    "    return frames_inpainted\n",
    "\n",
    "\n"
   ]
  },
  {
   "cell_type": "code",
   "execution_count": 17,
   "metadata": {},
   "outputs": [
    {
     "name": "stderr",
     "output_type": "stream",
     "text": [
      "  0% (0 of 242) |                        | Elapsed Time: 0:00:00 ETA:  --:--:--\n"
     ]
    },
    {
     "name": "stdout",
     "output_type": "stream",
     "text": [
      "Redimensionando la máscara 0 para que coincida con el fotograma.\n"
     ]
    },
    {
     "name": "stderr",
     "output_type": "stream",
     "text": [
      "  0% (1 of 242) |                        | Elapsed Time: 0:00:07 ETA:   0:31:22\n"
     ]
    },
    {
     "name": "stdout",
     "output_type": "stream",
     "text": [
      "Redimensionando la máscara 0 para que coincida con el fotograma.\n",
      "Redimensionando la máscara 118 para que coincida con el fotograma.\n",
      "Redimensionando la máscara 119 para que coincida con el fotograma.\n",
      "Redimensionando la máscara 120 para que coincida con el fotograma.\n",
      "Redimensionando la máscara 121 para que coincida con el fotograma.\n",
      "Redimensionando la máscara 122 para que coincida con el fotograma.\n",
      "Redimensionando la máscara 123 para que coincida con el fotograma.\n",
      "Redimensionando la máscara 124 para que coincida con el fotograma.\n",
      "Redimensionando la máscara 125 para que coincida con el fotograma.\n",
      "Redimensionando la máscara 126 para que coincida con el fotograma.\n",
      "Redimensionando la máscara 127 para que coincida con el fotograma.\n",
      "Redimensionando la máscara 128 para que coincida con el fotograma.\n",
      "Redimensionando la máscara 129 para que coincida con el fotograma.\n",
      "Redimensionando la máscara 130 para que coincida con el fotograma.\n",
      "Redimensionando la máscara 134 para que coincida con el fotograma.\n",
      "Redimensionando la máscara 135 para que coincida con el fotograma.\n",
      "Redimensionando la máscara 136 para que coincida con el fotograma.\n",
      "Redimensionando la máscara 137 para que coincida con el fotograma.\n",
      "Redimensionando la máscara 138 para que coincida con el fotograma.\n",
      "Redimensionando la máscara 139 para que coincida con el fotograma.\n",
      "Redimensionando la máscara 147 para que coincida con el fotograma.\n",
      "Redimensionando la máscara 148 para que coincida con el fotograma.\n",
      "Redimensionando la máscara 149 para que coincida con el fotograma.\n",
      "Redimensionando la máscara 150 para que coincida con el fotograma.\n"
     ]
    },
    {
     "name": "stderr",
     "output_type": "stream",
     "text": [
      "  0% (2 of 242) |                        | Elapsed Time: 0:00:16 ETA:   0:33:30\n"
     ]
    },
    {
     "name": "stdout",
     "output_type": "stream",
     "text": [
      "Redimensionando la máscara 0 para que coincida con el fotograma.\n"
     ]
    },
    {
     "name": "stderr",
     "output_type": "stream",
     "text": [
      "  1% (3 of 242) |                        | Elapsed Time: 0:00:29 ETA:   0:39:27\n"
     ]
    },
    {
     "name": "stdout",
     "output_type": "stream",
     "text": [
      "Redimensionando la máscara 0 para que coincida con el fotograma.\n"
     ]
    },
    {
     "name": "stderr",
     "output_type": "stream",
     "text": [
      "  1% (4 of 242) |                        | Elapsed Time: 0:00:38 ETA:   0:38:37\n"
     ]
    },
    {
     "name": "stdout",
     "output_type": "stream",
     "text": [
      "Redimensionando la máscara 0 para que coincida con el fotograma.\n"
     ]
    },
    {
     "name": "stderr",
     "output_type": "stream",
     "text": [
      "  2% (5 of 242) |                        | Elapsed Time: 0:00:59 ETA:   0:47:08\n"
     ]
    },
    {
     "name": "stdout",
     "output_type": "stream",
     "text": [
      "Redimensionando la máscara 0 para que coincida con el fotograma.\n",
      "Redimensionando la máscara 122 para que coincida con el fotograma.\n",
      "Redimensionando la máscara 123 para que coincida con el fotograma.\n",
      "Redimensionando la máscara 124 para que coincida con el fotograma.\n",
      "Redimensionando la máscara 125 para que coincida con el fotograma.\n",
      "Redimensionando la máscara 126 para que coincida con el fotograma.\n",
      "Redimensionando la máscara 127 para que coincida con el fotograma.\n",
      "Redimensionando la máscara 128 para que coincida con el fotograma.\n",
      "Redimensionando la máscara 129 para que coincida con el fotograma.\n",
      "Redimensionando la máscara 47 para que coincida con el fotograma.\n",
      "Redimensionando la máscara 48 para que coincida con el fotograma.\n",
      "Redimensionando la máscara 49 para que coincida con el fotograma.\n",
      "Redimensionando la máscara 50 para que coincida con el fotograma.\n",
      "Redimensionando la máscara 61 para que coincida con el fotograma.\n",
      "Redimensionando la máscara 66 para que coincida con el fotograma.\n",
      "Redimensionando la máscara 67 para que coincida con el fotograma.\n",
      "Redimensionando la máscara 68 para que coincida con el fotograma.\n",
      "Redimensionando la máscara 69 para que coincida con el fotograma.\n",
      "Redimensionando la máscara 73 para que coincida con el fotograma.\n",
      "Redimensionando la máscara 74 para que coincida con el fotograma.\n",
      "Redimensionando la máscara 75 para que coincida con el fotograma.\n",
      "Redimensionando la máscara 76 para que coincida con el fotograma.\n",
      "Redimensionando la máscara 77 para que coincida con el fotograma.\n",
      "Redimensionando la máscara 78 para que coincida con el fotograma.\n",
      "Redimensionando la máscara 79 para que coincida con el fotograma.\n",
      "Redimensionando la máscara 80 para que coincida con el fotograma.\n",
      "Redimensionando la máscara 81 para que coincida con el fotograma.\n",
      "Redimensionando la máscara 82 para que coincida con el fotograma.\n",
      "Redimensionando la máscara 83 para que coincida con el fotograma.\n",
      "Redimensionando la máscara 84 para que coincida con el fotograma.\n",
      "Redimensionando la máscara 85 para que coincida con el fotograma.\n",
      "Redimensionando la máscara 86 para que coincida con el fotograma.\n"
     ]
    },
    {
     "name": "stderr",
     "output_type": "stream",
     "text": [
      "  2% (6 of 242) |                        | Elapsed Time: 0:01:09 ETA:   0:45:30\n"
     ]
    },
    {
     "name": "stdout",
     "output_type": "stream",
     "text": [
      "Redimensionando la máscara 0 para que coincida con el fotograma.\n"
     ]
    },
    {
     "name": "stderr",
     "output_type": "stream",
     "text": [
      "  2% (7 of 242) |                        | Elapsed Time: 0:01:19 ETA:   0:44:15\n"
     ]
    },
    {
     "name": "stdout",
     "output_type": "stream",
     "text": [
      "Redimensionando la máscara 0 para que coincida con el fotograma.\n"
     ]
    },
    {
     "name": "stderr",
     "output_type": "stream",
     "text": [
      "  3% (8 of 242) |                        | Elapsed Time: 0:01:28 ETA:   0:43:00\n"
     ]
    },
    {
     "name": "stdout",
     "output_type": "stream",
     "text": [
      "Redimensionando la máscara 0 para que coincida con el fotograma.\n"
     ]
    },
    {
     "name": "stderr",
     "output_type": "stream",
     "text": [
      "  3% (9 of 242) |                        | Elapsed Time: 0:01:38 ETA:   0:42:31\n"
     ]
    },
    {
     "name": "stdout",
     "output_type": "stream",
     "text": [
      "Redimensionando la máscara 0 para que coincida con el fotograma.\n"
     ]
    },
    {
     "name": "stderr",
     "output_type": "stream",
     "text": [
      "  4% (10 of 242) |                       | Elapsed Time: 0:01:46 ETA:   0:41:07\n"
     ]
    },
    {
     "name": "stdout",
     "output_type": "stream",
     "text": [
      "Redimensionando la máscara 0 para que coincida con el fotograma.\n"
     ]
    },
    {
     "name": "stderr",
     "output_type": "stream",
     "text": [
      "  4% (11 of 242) |#                      | Elapsed Time: 0:01:51 ETA:   0:38:57\n"
     ]
    },
    {
     "ename": "KeyboardInterrupt",
     "evalue": "",
     "output_type": "error",
     "traceback": [
      "\u001b[1;31m---------------------------------------------------------------------------\u001b[0m",
      "\u001b[1;31mKeyboardInterrupt\u001b[0m                         Traceback (most recent call last)",
      "Cell \u001b[1;32mIn[17], line 104\u001b[0m\n\u001b[0;32m    102\u001b[0m \u001b[38;5;28;01mfor\u001b[39;00m f \u001b[38;5;129;01min\u001b[39;00m os\u001b[38;5;241m.\u001b[39mlistdir(IMAGE_CROPPED_OUT):\n\u001b[0;32m    103\u001b[0m     \u001b[38;5;28;01mif\u001b[39;00m f\u001b[38;5;241m.\u001b[39mstartswith(filename_main):\n\u001b[1;32m--> 104\u001b[0m         img \u001b[38;5;241m=\u001b[39m \u001b[43mcv2\u001b[49m\u001b[38;5;241;43m.\u001b[39;49m\u001b[43mimread\u001b[49m\u001b[43m(\u001b[49m\u001b[43mos\u001b[49m\u001b[38;5;241;43m.\u001b[39;49m\u001b[43mpath\u001b[49m\u001b[38;5;241;43m.\u001b[39;49m\u001b[43mjoin\u001b[49m\u001b[43m(\u001b[49m\u001b[43mIMAGE_CROPPED_OUT\u001b[49m\u001b[43m,\u001b[49m\u001b[43m \u001b[49m\u001b[43mf\u001b[49m\u001b[43m)\u001b[49m\u001b[43m)\u001b[49m\n\u001b[0;32m    105\u001b[0m         frame_num \u001b[38;5;241m=\u001b[39m \u001b[38;5;28mint\u001b[39m(re\u001b[38;5;241m.\u001b[39msearch(\u001b[38;5;124mr\u001b[39m\u001b[38;5;124m'\u001b[39m\u001b[38;5;124m\\\u001b[39m\u001b[38;5;124md+$\u001b[39m\u001b[38;5;124m'\u001b[39m, f[:\u001b[38;5;241m-\u001b[39m\u001b[38;5;241m4\u001b[39m])\u001b[38;5;241m.\u001b[39mgroup())\n\u001b[0;32m    106\u001b[0m         frames[frame_num] \u001b[38;5;241m=\u001b[39m img\n",
      "\u001b[1;31mKeyboardInterrupt\u001b[0m: "
     ]
    }
   ],
   "source": [
    "progress = ProgressBar(max_value=image_prc_df.shape[0])\n",
    "\n",
    "#Función para generar videos limpios\n",
    "def generate_clean_video(frames, output_path):\n",
    "    \"\"\"\n",
    "    Genera un video limpio a partir de los fotogramas\n",
    "    \n",
    "    Argumentos:\n",
    "        -> Frames (dict): Diccionario de fotogramas ordenados por numero de fotograma.\n",
    "        -> Output_path (str): Ruta de salida para el video generado\n",
    "    \n",
    "    \"\"\"\n",
    "    keys = sorted(frames.keys()) #Asegura el orden de los fotogramas\n",
    "    clean_vid_frames = [frames[k] for k in keys]\n",
    "    \n",
    "    #Obtener el tamaño del video basandose en el primer fotograma\n",
    "    h, w, layers = clean_vid_frames[0].shape\n",
    "    size = (w, h)\n",
    "    \n",
    "    #Escribe los fotogramas en el archivo de video...\n",
    "    out = cv2.VideoWriter(output_path, cv2.VideoWriter_fourcc(*'DIVX'), 15, size)\n",
    "    for frame in clean_vid_frames:\n",
    "        out.write(frame)\n",
    "    out.release()\n",
    "    \n",
    "\n",
    "#Realiza la iteracion en cada fila del Dataframe con los metadatos del procesamiento\n",
    "for idx, row in progress(image_prc_df.iterrows()):     \n",
    "    \n",
    "    #Omitir el video 160\n",
    "    if row.filename == '160_core_other.mp4' or row.filename == '161_core_other.mp4' or row.filename == '162_core_other.mp4':\n",
    "        print(\"Archivo no encontrado.... Continuando el proceso\")\n",
    "        continue #Salto al siguiente video\n",
    "    \n",
    "    # Obtener el token principal del nombre del archivo - basandose en el tipo de sonda\n",
    "    if row.probe == 'Convex':\n",
    "        filename_main = row.filename.split('.')[0] + '_prc_convex'\n",
    "    elif row.probe == 'Linear':\n",
    "        filename_main = row.filename.split('.')[0] + '_prc_linear'\n",
    "    \n",
    "    \n",
    "    #cropped_files = [f for f in os.listdir(IMAGE_CROPPED_OUT) if f.startswith(filename_main)]\n",
    "    #if not cropped_files:\n",
    "    #    print(f\"Advertencia- No se encontraron máscaras para {row.filename}. Omitiendo el archivo.....\")\n",
    "    #    continue\n",
    "    \n",
    "    '''\n",
    "    #Define el tamaño del parche de repintado - a partir de la proximidad de objetos al ROI\n",
    "    if row.tight_inpainting == 'yes':\n",
    "        # Objetos cercanos al ROI, evita el desbordamiento durante el repintado\n",
    "        inpainting_kernel_size = (1,1)\n",
    "    else:\n",
    "        # No hay objetos cerca del ROI, repintado mas efectivo\n",
    "        inpainting_kernel_size = (5,5)\n",
    "    '''\n",
    "    inpainting_kernel_size = (1, 1) if row.tight_inpainting == 'yes' else (5, 5)\n",
    "\n",
    "\n",
    "\n",
    "    # Verificar si los fotogramas recortados no necesitan limpieza \n",
    "    if row.need_mask_after_crop == 'no':    \n",
    "        frames = {}\n",
    "        # Caso 1. Los fotogramas no necesitan limpieza\n",
    "        # Copia las imagenes recortadas y renombrandolas en la carpeta limpia \n",
    "        for file in os.listdir(IMAGE_CROPPED_OUT):\n",
    "            if file.startswith(filename_main):\n",
    "                #last_part = file.split('_')[-1]\n",
    "                #last_part = last_part.replace('frame', '_clean_frame')\n",
    "                new_filename = file.replace('frame', 'clean_frame') #Renombrar el archivo\n",
    "                #print(file, new_filename) #, last_part)\n",
    "                shutil.copy(IMAGE_CROPPED_OUT + file, CLEAN_IMAGE_OUT + new_filename)\n",
    "\n",
    "                #Carga cada fotograma en un diccionario para crear el video\n",
    "                img = cv2.imread(os.path.join(CLEAN_IMAGE_OUT, new_filename))\n",
    "                frame_num = int(re.search(r'\\d+$', file[:-4]).group())\n",
    "                frames[frame_num] = img\n",
    "        \n",
    "        #Genera y escribe el video limpio a partir de los fotogramas\n",
    "        generate_clean_video(frames, os.path.join(CLEAN_VIDEO_OUT, filename_main + '_clean.avi'))\n",
    "        \n",
    "        '''\n",
    "        # Crea un video limpio a partir de los fotogramas\n",
    "        keys = list(frames.keys())S\n",
    "        keys.sort() #Asegura el orden correcto de los fotogramas\n",
    "        clean_vid_frames = [frames[k] for k in keys]\n",
    "\n",
    "        #Configura los parametros del video\n",
    "        h, w, layers = clean_vid_frames[0].shape\n",
    "        size = (w, h)\n",
    "\n",
    "        #Escribe los fotogramas en un archivo de video limpio\n",
    "        out = cv2.VideoWriter(os.path.join(CLEAN_VIDEO_OUT + filename_main + '_clean.avi'), cv2.VideoWriter_fourcc(*'DIVX'), 15, size)\n",
    "        for i in range(len(clean_vid_frames)):\n",
    "            out.write(clean_vid_frames[i])\n",
    "        out.release()    \n",
    "        '''\n",
    "        \n",
    "    # Caso 2. Fotogramas que necesitan limpieza\n",
    "    else: \n",
    "        # Crea un diccionario de fotogramas\n",
    "        frames = {}\n",
    "        for f in os.listdir(IMAGE_CROPPED_OUT):\n",
    "            if f.startswith(filename_main):\n",
    "                img = cv2.imread(os.path.join(IMAGE_CROPPED_OUT, f))\n",
    "                frame_num = int(re.search(r'\\d+$', f[:-4]).group())\n",
    "                frames[frame_num] = img\n",
    "\n",
    "        # Comprueba si el archivo de video requiere multiples mascaras\n",
    "        if row.need_multiple_masks == 'no':\n",
    "            #Carga una unica mascara principal\n",
    "            mask = cv2.imread(os.path.join(IMAGE_MASK_OUT, filename_main + '_frame0_mask.jpg'))[:,:,0]\n",
    "\n",
    "            # Realiza retoques en los fotogramas utilizando la mascara principal\n",
    "            frames_inpainted = frame_inpainting(frames, mask, kernel_size=inpainting_kernel_size)\n",
    "        else:\n",
    "            #Carga multiples mascaras y las asocia con sus respectivos fotogramas\n",
    "            masks = {}\n",
    "            for f in os.listdir(IMAGE_MASK_OUT):\n",
    "                if f.startswith(filename_main):\n",
    "                    img = cv2.imread(os.path.join(IMAGE_MASK_OUT, f))\n",
    "                    frame_num = int(re.search(r'\\d+$', f[:-9]).group())\n",
    "                    masks[frame_num] = img[:,:,0]\n",
    "\n",
    "            # Realiza retoques en fotogramas utilizando multiples mascaras\n",
    "            frames_inpainted = frame_inpainting(frames, masks, default_mask=0, kernel_size=inpainting_kernel_size)\n",
    "\n",
    "        # Escribe fotogramas limpios en el disco\n",
    "        for key, value in frames_inpainted.items():\n",
    "            cv2.imwrite(CLEAN_IMAGE_OUT + filename_main + \"_clean_frame\" + str(key) + \".jpg\", value)\n",
    "\n",
    "        #Escribe los videos limpios en el disco\n",
    "        generate_clean_video(frames_inpainted, os.path.join(CLEAN_VIDEO_OUT, filename_main + '_clean.avi'))\n",
    "        \n",
    "        '''    \n",
    "        # Escribe videos limpios en el disco\n",
    "        keys = list(frames_inpainted.keys())\n",
    "        keys.sort()\n",
    "        clean_vid_frames = [frames_inpainted[k] for k in keys]\n",
    "\n",
    "        h, w, layers = clean_vid_frames[0].shape\n",
    "        size = (w, h)\n",
    "\n",
    "        out = cv2.VideoWriter(os.path.join(CLEAN_VIDEO_OUT + filename_main + '_clean.avi'), cv2.VideoWriter_fourcc(*'DIVX'), 15, size)\n",
    "        for i in range(len(clean_vid_frames)):\n",
    "            out.write(clean_vid_frames[i])\n",
    "        out.release()  \n",
    "        '''  \n",
    "        \n",
    "print(\"..............Proceso terminado :3 .........\")"
   ]
  },
  {
   "cell_type": "markdown",
   "metadata": {},
   "source": []
  },
  {
   "cell_type": "code",
   "execution_count": null,
   "metadata": {},
   "outputs": [],
   "source": []
  }
 ],
 "metadata": {
  "kernelspec": {
   "display_name": "Python 3",
   "language": "python",
   "name": "python3"
  },
  "language_info": {
   "codemirror_mode": {
    "name": "ipython",
    "version": 3
   },
   "file_extension": ".py",
   "mimetype": "text/x-python",
   "name": "python",
   "nbconvert_exporter": "python",
   "pygments_lexer": "ipython3",
   "version": "3.12.7"
  }
 },
 "nbformat": 4,
 "nbformat_minor": 4
}
